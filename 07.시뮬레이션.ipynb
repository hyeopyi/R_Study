{
 "cells": [
  {
   "cell_type": "markdown",
   "id": "e6e55432",
   "metadata": {},
   "source": [
    "# 몬테카를로 시뮬레이션"
   ]
  },
  {
   "cell_type": "markdown",
   "id": "3fc02188",
   "metadata": {},
   "source": [
    "### 동전의 앞면과 뒷면 시뮬레이션"
   ]
  },
  {
   "cell_type": "code",
   "execution_count": 42,
   "id": "5f701188",
   "metadata": {},
   "outputs": [
    {
     "name": "stdout",
     "output_type": "stream",
     "text": [
      "[1] 0\n"
     ]
    }
   ],
   "source": [
    "x <- runif(1)\n",
    "if(x<=1/2) {\n",
    "    result = 0 # 앞면\n",
    "}else {\n",
    "    result = 1 # 뒷면\n",
    "}\n",
    "print(result)"
   ]
  },
  {
   "cell_type": "code",
   "execution_count": 115,
   "id": "0930b8a2",
   "metadata": {},
   "outputs": [],
   "source": [
    "coin <- function(n){\n",
    "    count1 = 0 # 앞면\n",
    "    count2 = 0 # 뒷면\n",
    "    for(i in 1:n) {\n",
    "        if(runif(1) <= 1/2) {   \n",
    "            count1 = count1 + 1 \n",
    "        }else {\n",
    "            count2 = count2 + 1\n",
    "        }\n",
    "   }\n",
    "   cat(\"앞면 :\", count1, \"\\n\")\n",
    "   cat(\"뒷면 :\", count2, \"\\n\")\n",
    "   cat(\"------------------\\n\")\n",
    "}"
   ]
  },
  {
   "cell_type": "code",
   "execution_count": 116,
   "id": "f8ad1313",
   "metadata": {},
   "outputs": [
    {
     "name": "stdout",
     "output_type": "stream",
     "text": [
      "앞면 : 5 \n",
      "뒷면 : 5 \n",
      "------------------\n",
      "앞면 : 44 \n",
      "뒷면 : 56 \n",
      "------------------\n",
      "앞면 : 493 \n",
      "뒷면 : 507 \n",
      "------------------\n",
      "앞면 : 5040 \n",
      "뒷면 : 4960 \n",
      "------------------\n",
      "앞면 : 50211 \n",
      "뒷면 : 49789 \n",
      "------------------\n",
      "앞면 : 499525 \n",
      "뒷면 : 500475 \n",
      "------------------\n"
     ]
    }
   ],
   "source": [
    "coin(10)\n",
    "coin(100)\n",
    "coin(1000)\n",
    "coin(10000)\n",
    "coin(100000)\n",
    "coin(1000000)"
   ]
  },
  {
   "cell_type": "markdown",
   "id": "db5740f9",
   "metadata": {},
   "source": [
    "### 가위, 바위, 보 시뮬레이션"
   ]
  },
  {
   "cell_type": "code",
   "execution_count": 158,
   "id": "3194a461",
   "metadata": {},
   "outputs": [],
   "source": [
    "rock_paper_scissors <- function(n) {\n",
    "    count1 = 0  # 가위\n",
    "    count2 = 0  # 바위\n",
    "    count3 = 0  # 보\n",
    "    \n",
    "    for(i in 1:n) {\n",
    "        x = trunc(runif(1) * 3) + 1   # count를 벡터로 사용하고 x를 인덱스로 사용하면 if문이 필요없다\n",
    "        if(x==1) count1 = count1 + 1\n",
    "        if(x==2) count2 = count2 + 1\n",
    "        if(x==3) count3 = count3 + 1\n",
    "    }    \n",
    "    cat(\"가위 :\", count1, \"\\n\")\n",
    "    cat(\"바위 :\", count2, \"\\n\")\n",
    "    cat(\"보 :\", count3, \"\\n\")\n",
    "    cat(\"------------\\n\")\n",
    "}"
   ]
  },
  {
   "cell_type": "code",
   "execution_count": 157,
   "id": "496a6a9f",
   "metadata": {},
   "outputs": [
    {
     "name": "stdout",
     "output_type": "stream",
     "text": [
      "가위 : 4 \n",
      "바위 : 4 \n",
      "보 : 2 \n",
      "------------\n",
      "가위 : 34 \n",
      "바위 : 37 \n",
      "보 : 29 \n",
      "------------\n",
      "가위 : 339 \n",
      "바위 : 330 \n",
      "보 : 331 \n",
      "------------\n",
      "가위 : 3346 \n",
      "바위 : 3312 \n",
      "보 : 3342 \n",
      "------------\n",
      "가위 : 33235 \n",
      "바위 : 33367 \n",
      "보 : 33398 \n",
      "------------\n",
      "가위 : 333772 \n",
      "바위 : 333249 \n",
      "보 : 332979 \n",
      "------------\n"
     ]
    }
   ],
   "source": [
    "rock_paper_scissors(10)\n",
    "rock_paper_scissors(100)\n",
    "rock_paper_scissors(1000)\n",
    "rock_paper_scissors(10000)\n",
    "rock_paper_scissors(100000)\n",
    "rock_paper_scissors(1000000)"
   ]
  },
  {
   "cell_type": "markdown",
   "id": "2c72b2e2",
   "metadata": {},
   "source": [
    "## 주사위 시뮬레이션"
   ]
  },
  {
   "cell_type": "code",
   "execution_count": 226,
   "id": "f657328c",
   "metadata": {},
   "outputs": [],
   "source": [
    "dice <- function(n){\n",
    "    count = rep(0,6)  # 출력이 벡터면 벡터전달\n",
    "    for(i in 1:n) {                      # for문 사용 시 for문의 갯수를 줄이는 방법고민\n",
    "        x = trunc(runif(1) * 6) + 1      # 인덱스가 될수있는것을 찾는다\n",
    "        count[x] = count[x] + 1\n",
    "    }\n",
    "    cat(\"Throw : \", n,\"\\n\")\n",
    "    for(i in 1:6) {\n",
    "        cat(\"No\", i, \"=>\", count[i], \"\\n\")\n",
    "    }\n",
    "    cat(\"-----------------\\n\")\n",
    "}"
   ]
  },
  {
   "cell_type": "code",
   "execution_count": 227,
   "id": "6c8c9e5e",
   "metadata": {},
   "outputs": [
    {
     "name": "stdout",
     "output_type": "stream",
     "text": [
      "Throw :  10 \n",
      "No 1 => 1 \n",
      "No 2 => 0 \n",
      "No 3 => 1 \n",
      "No 4 => 1 \n",
      "No 5 => 4 \n",
      "No 6 => 3 \n",
      "-----------------\n",
      "Throw :  100 \n",
      "No 1 => 14 \n",
      "No 2 => 16 \n",
      "No 3 => 15 \n",
      "No 4 => 15 \n",
      "No 5 => 15 \n",
      "No 6 => 25 \n",
      "-----------------\n",
      "Throw :  1000 \n",
      "No 1 => 172 \n",
      "No 2 => 180 \n",
      "No 3 => 178 \n",
      "No 4 => 173 \n",
      "No 5 => 160 \n",
      "No 6 => 137 \n",
      "-----------------\n",
      "Throw :  10000 \n",
      "No 1 => 1637 \n",
      "No 2 => 1680 \n",
      "No 3 => 1661 \n",
      "No 4 => 1651 \n",
      "No 5 => 1718 \n",
      "No 6 => 1653 \n",
      "-----------------\n",
      "Throw :  100000 \n",
      "No 1 => 16593 \n",
      "No 2 => 16661 \n",
      "No 3 => 16647 \n",
      "No 4 => 16739 \n",
      "No 5 => 16668 \n",
      "No 6 => 16692 \n",
      "-----------------\n",
      "Throw :  1000000 \n",
      "No 1 => 166692 \n",
      "No 2 => 166837 \n",
      "No 3 => 166879 \n",
      "No 4 => 166690 \n",
      "No 5 => 166630 \n",
      "No 6 => 166272 \n",
      "-----------------\n"
     ]
    }
   ],
   "source": [
    "options(scipen=100)\n",
    "dice(10)\n",
    "dice(100)\n",
    "dice(1000)\n",
    "dice(10000)\n",
    "dice(100000)\n",
    "dice(1000000)"
   ]
  },
  {
   "cell_type": "code",
   "execution_count": null,
   "id": "1f548c6a",
   "metadata": {},
   "outputs": [],
   "source": []
  },
  {
   "cell_type": "code",
   "execution_count": null,
   "id": "593541e7",
   "metadata": {},
   "outputs": [],
   "source": []
  },
  {
   "cell_type": "code",
   "execution_count": null,
   "id": "7f2aa925",
   "metadata": {},
   "outputs": [],
   "source": []
  }
 ],
 "metadata": {
  "kernelspec": {
   "display_name": "R",
   "language": "R",
   "name": "ir"
  },
  "language_info": {
   "codemirror_mode": "r",
   "file_extension": ".r",
   "mimetype": "text/x-r-source",
   "name": "R",
   "pygments_lexer": "r",
   "version": "3.6.1"
  }
 },
 "nbformat": 4,
 "nbformat_minor": 5
}
