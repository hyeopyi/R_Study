{
 "cells": [
  {
   "cell_type": "code",
   "execution_count": 1,
   "id": "87b09162",
   "metadata": {},
   "outputs": [
    {
     "data": {
      "text/html": [
       "<table>\n",
       "<thead><tr><th scope=col>V1</th><th scope=col>V2</th><th scope=col>V3</th><th scope=col>V4</th><th scope=col>V5</th><th scope=col>V6</th><th scope=col>V7</th><th scope=col>V8</th><th scope=col>V9</th><th scope=col>V10</th><th scope=col>V11</th><th scope=col>V12</th><th scope=col>V13</th><th scope=col>V14</th><th scope=col>V15</th><th scope=col>V16</th></tr></thead>\n",
       "<tbody>\n",
       "\t<tr><td>기간    </td><td>자치구별</td><td>구분    </td><td>합계    </td><td>1월     </td><td>2월     </td><td>3월     </td><td>4월     </td><td>5월     </td><td>6월     </td><td>7월     </td><td>8월     </td><td>9월     </td><td>10월    </td><td>11월    </td><td>12월    </td></tr>\n",
       "\t<tr><td>2011    </td><td>합계    </td><td>발생건수</td><td>40,451  </td><td>3,038   </td><td>2,573   </td><td>3,126   </td><td>3,450   </td><td>3,603   </td><td>3,390   </td><td>3,529   </td><td>3,360   </td><td>3,433   </td><td>3,734   </td><td>3,701   </td><td>3,514   </td></tr>\n",
       "\t<tr><td>2011    </td><td>합계    </td><td>사망자수</td><td>435     </td><td>36      </td><td>32      </td><td>20      </td><td>44      </td><td>36      </td><td>37      </td><td>36      </td><td>50      </td><td>37      </td><td>25      </td><td>40      </td><td>42      </td></tr>\n",
       "\t<tr><td>2011    </td><td>합계    </td><td>부상자수</td><td>57,625  </td><td>4,429   </td><td>3,734   </td><td>4,513   </td><td>4,905   </td><td>5,036   </td><td>4,831   </td><td>5,067   </td><td>4,823   </td><td>4,893   </td><td>5,244   </td><td>5,150   </td><td>5,000   </td></tr>\n",
       "\t<tr><td>2011    </td><td>종로구  </td><td>발생건수</td><td>1,421   </td><td>115     </td><td>99      </td><td>116     </td><td>110     </td><td>122     </td><td>116     </td><td>103     </td><td>122     </td><td>121     </td><td>135     </td><td>140     </td><td>122     </td></tr>\n",
       "\t<tr><td>2011    </td><td>종로구  </td><td>사망자수</td><td>14      </td><td>2       </td><td>-       </td><td>-       </td><td>1       </td><td>-       </td><td>3       </td><td>1       </td><td>1       </td><td>2       </td><td>2       </td><td>1       </td><td>1       </td></tr>\n",
       "</tbody>\n",
       "</table>\n"
      ],
      "text/latex": [
       "\\begin{tabular}{r|llllllllllllllll}\n",
       " V1 & V2 & V3 & V4 & V5 & V6 & V7 & V8 & V9 & V10 & V11 & V12 & V13 & V14 & V15 & V16\\\\\n",
       "\\hline\n",
       "\t 기간     & 자치구별 & 구분     & 합계     & 1월      & 2월      & 3월      & 4월      & 5월      & 6월      & 7월      & 8월      & 9월      & 10월     & 11월     & 12월    \\\\\n",
       "\t 2011     & 합계     & 발생건수 & 40,451   & 3,038    & 2,573    & 3,126    & 3,450    & 3,603    & 3,390    & 3,529    & 3,360    & 3,433    & 3,734    & 3,701    & 3,514   \\\\\n",
       "\t 2011     & 합계     & 사망자수 & 435      & 36       & 32       & 20       & 44       & 36       & 37       & 36       & 50       & 37       & 25       & 40       & 42      \\\\\n",
       "\t 2011     & 합계     & 부상자수 & 57,625   & 4,429    & 3,734    & 4,513    & 4,905    & 5,036    & 4,831    & 5,067    & 4,823    & 4,893    & 5,244    & 5,150    & 5,000   \\\\\n",
       "\t 2011     & 종로구   & 발생건수 & 1,421    & 115      & 99       & 116      & 110      & 122      & 116      & 103      & 122      & 121      & 135      & 140      & 122     \\\\\n",
       "\t 2011     & 종로구   & 사망자수 & 14       & 2        & -        & -        & 1        & -        & 3        & 1        & 1        & 2        & 2        & 1        & 1       \\\\\n",
       "\\end{tabular}\n"
      ],
      "text/markdown": [
       "\n",
       "| V1 | V2 | V3 | V4 | V5 | V6 | V7 | V8 | V9 | V10 | V11 | V12 | V13 | V14 | V15 | V16 |\n",
       "|---|---|---|---|---|---|---|---|---|---|---|---|---|---|---|---|\n",
       "| 기간     | 자치구별 | 구분     | 합계     | 1월      | 2월      | 3월      | 4월      | 5월      | 6월      | 7월      | 8월      | 9월      | 10월     | 11월     | 12월     |\n",
       "| 2011     | 합계     | 발생건수 | 40,451   | 3,038    | 2,573    | 3,126    | 3,450    | 3,603    | 3,390    | 3,529    | 3,360    | 3,433    | 3,734    | 3,701    | 3,514    |\n",
       "| 2011     | 합계     | 사망자수 | 435      | 36       | 32       | 20       | 44       | 36       | 37       | 36       | 50       | 37       | 25       | 40       | 42       |\n",
       "| 2011     | 합계     | 부상자수 | 57,625   | 4,429    | 3,734    | 4,513    | 4,905    | 5,036    | 4,831    | 5,067    | 4,823    | 4,893    | 5,244    | 5,150    | 5,000    |\n",
       "| 2011     | 종로구   | 발생건수 | 1,421    | 115      | 99       | 116      | 110      | 122      | 116      | 103      | 122      | 121      | 135      | 140      | 122      |\n",
       "| 2011     | 종로구   | 사망자수 | 14       | 2        | -        | -        | 1        | -        | 3        | 1        | 1        | 2        | 2        | 1        | 1        |\n",
       "\n"
      ],
      "text/plain": [
       "  V1   V2       V3       V4     V5    V6    V7    V8    V9    V10   V11   V12  \n",
       "1 기간 자치구별 구분     합계   1월   2월   3월   4월   5월   6월   7월   8월  \n",
       "2 2011 합계     발생건수 40,451 3,038 2,573 3,126 3,450 3,603 3,390 3,529 3,360\n",
       "3 2011 합계     사망자수 435    36    32    20    44    36    37    36    50   \n",
       "4 2011 합계     부상자수 57,625 4,429 3,734 4,513 4,905 5,036 4,831 5,067 4,823\n",
       "5 2011 종로구   발생건수 1,421  115   99    116   110   122   116   103   122  \n",
       "6 2011 종로구   사망자수 14     2     -     -     1     -     3     1     1    \n",
       "  V13   V14   V15   V16  \n",
       "1 9월   10월  11월  12월 \n",
       "2 3,433 3,734 3,701 3,514\n",
       "3 37    25    40    42   \n",
       "4 4,893 5,244 5,150 5,000\n",
       "5 121   135   140   122  \n",
       "6 2     2     1     1    "
      ]
     },
     "metadata": {},
     "output_type": "display_data"
    }
   ],
   "source": [
    "# Raw 데이터 읽기\n",
    "trafficAccident2011_2019 <- read.table(\"../Data/trafficAccident_2011_2019.txt\")\n",
    "head(trafficAccident2011_2019)"
   ]
  },
  {
   "cell_type": "code",
   "execution_count": 2,
   "id": "26a9cc2b",
   "metadata": {},
   "outputs": [
    {
     "data": {
      "text/html": [
       "<table>\n",
       "<thead><tr><th></th><th scope=col>V1</th><th scope=col>V2</th><th scope=col>V3</th><th scope=col>V4</th><th scope=col>V5</th><th scope=col>V6</th><th scope=col>V7</th><th scope=col>V8</th><th scope=col>V9</th><th scope=col>V10</th><th scope=col>V11</th><th scope=col>V12</th><th scope=col>V13</th><th scope=col>V14</th><th scope=col>V15</th><th scope=col>V16</th></tr></thead>\n",
       "<tbody>\n",
       "\t<tr><th scope=row>698</th><td>2019    </td><td>송파구  </td><td>발생건수</td><td>2,892   </td><td>212     </td><td>193     </td><td>243     </td><td>228     </td><td>277     </td><td>241     </td><td>227     </td><td>247     </td><td>245     </td><td>304     </td><td>260     </td><td>215     </td></tr>\n",
       "\t<tr><th scope=row>699</th><td>2019    </td><td>송파구  </td><td>사망자수</td><td>13      </td><td>-       </td><td>2       </td><td>-       </td><td>-       </td><td>3       </td><td>-       </td><td>1       </td><td>1       </td><td>-       </td><td>3       </td><td>3       </td><td>-       </td></tr>\n",
       "\t<tr><th scope=row>700</th><td>2019    </td><td>송파구  </td><td>부상자수</td><td>4,003   </td><td>319     </td><td>253     </td><td>336     </td><td>317     </td><td>398     </td><td>311     </td><td>312     </td><td>340     </td><td>341     </td><td>447     </td><td>330     </td><td>299     </td></tr>\n",
       "\t<tr><th scope=row>701</th><td>2019    </td><td>강동구  </td><td>발생건수</td><td>1,414   </td><td>98      </td><td>87      </td><td>122     </td><td>112     </td><td>139     </td><td>123     </td><td>146     </td><td>127     </td><td>98      </td><td>108     </td><td>146     </td><td>108     </td></tr>\n",
       "\t<tr><th scope=row>702</th><td>2019    </td><td>강동구  </td><td>사망자수</td><td>11      </td><td>1       </td><td>-       </td><td>-       </td><td>-       </td><td>1       </td><td>1       </td><td>2       </td><td>2       </td><td>2       </td><td>1       </td><td>-       </td><td>1       </td></tr>\n",
       "\t<tr><th scope=row>703</th><td>2019    </td><td>강동구  </td><td>부상자수</td><td>1,910   </td><td>115     </td><td>133     </td><td>163     </td><td>153     </td><td>192     </td><td>179     </td><td>189     </td><td>175     </td><td>137     </td><td>144     </td><td>199     </td><td>131     </td></tr>\n",
       "</tbody>\n",
       "</table>\n"
      ],
      "text/latex": [
       "\\begin{tabular}{r|llllllllllllllll}\n",
       "  & V1 & V2 & V3 & V4 & V5 & V6 & V7 & V8 & V9 & V10 & V11 & V12 & V13 & V14 & V15 & V16\\\\\n",
       "\\hline\n",
       "\t698 & 2019     & 송파구   & 발생건수 & 2,892    & 212      & 193      & 243      & 228      & 277      & 241      & 227      & 247      & 245      & 304      & 260      & 215     \\\\\n",
       "\t699 & 2019     & 송파구   & 사망자수 & 13       & -        & 2        & -        & -        & 3        & -        & 1        & 1        & -        & 3        & 3        & -       \\\\\n",
       "\t700 & 2019     & 송파구   & 부상자수 & 4,003    & 319      & 253      & 336      & 317      & 398      & 311      & 312      & 340      & 341      & 447      & 330      & 299     \\\\\n",
       "\t701 & 2019     & 강동구   & 발생건수 & 1,414    & 98       & 87       & 122      & 112      & 139      & 123      & 146      & 127      & 98       & 108      & 146      & 108     \\\\\n",
       "\t702 & 2019     & 강동구   & 사망자수 & 11       & 1        & -        & -        & -        & 1        & 1        & 2        & 2        & 2        & 1        & -        & 1       \\\\\n",
       "\t703 & 2019     & 강동구   & 부상자수 & 1,910    & 115      & 133      & 163      & 153      & 192      & 179      & 189      & 175      & 137      & 144      & 199      & 131     \\\\\n",
       "\\end{tabular}\n"
      ],
      "text/markdown": [
       "\n",
       "| <!--/--> | V1 | V2 | V3 | V4 | V5 | V6 | V7 | V8 | V9 | V10 | V11 | V12 | V13 | V14 | V15 | V16 |\n",
       "|---|---|---|---|---|---|---|---|---|---|---|---|---|---|---|---|---|\n",
       "| 698 | 2019     | 송파구   | 발생건수 | 2,892    | 212      | 193      | 243      | 228      | 277      | 241      | 227      | 247      | 245      | 304      | 260      | 215      |\n",
       "| 699 | 2019     | 송파구   | 사망자수 | 13       | -        | 2        | -        | -        | 3        | -        | 1        | 1        | -        | 3        | 3        | -        |\n",
       "| 700 | 2019     | 송파구   | 부상자수 | 4,003    | 319      | 253      | 336      | 317      | 398      | 311      | 312      | 340      | 341      | 447      | 330      | 299      |\n",
       "| 701 | 2019     | 강동구   | 발생건수 | 1,414    | 98       | 87       | 122      | 112      | 139      | 123      | 146      | 127      | 98       | 108      | 146      | 108      |\n",
       "| 702 | 2019     | 강동구   | 사망자수 | 11       | 1        | -        | -        | -        | 1        | 1        | 2        | 2        | 2        | 1        | -        | 1        |\n",
       "| 703 | 2019     | 강동구   | 부상자수 | 1,910    | 115      | 133      | 163      | 153      | 192      | 179      | 189      | 175      | 137      | 144      | 199      | 131      |\n",
       "\n"
      ],
      "text/plain": [
       "    V1   V2     V3       V4    V5  V6  V7  V8  V9  V10 V11 V12 V13 V14 V15 V16\n",
       "698 2019 송파구 발생건수 2,892 212 193 243 228 277 241 227 247 245 304 260 215\n",
       "699 2019 송파구 사망자수 13    -   2   -   -   3   -   1   1   -   3   3   -  \n",
       "700 2019 송파구 부상자수 4,003 319 253 336 317 398 311 312 340 341 447 330 299\n",
       "701 2019 강동구 발생건수 1,414 98  87  122 112 139 123 146 127 98  108 146 108\n",
       "702 2019 강동구 사망자수 11    1   -   -   -   1   1   2   2   2   1   -   1  \n",
       "703 2019 강동구 부상자수 1,910 115 133 163 153 192 179 189 175 137 144 199 131"
      ]
     },
     "metadata": {},
     "output_type": "display_data"
    }
   ],
   "source": [
    "tail(trafficAccident2011_2019)"
   ]
  },
  {
   "cell_type": "code",
   "execution_count": 3,
   "id": "f0c4bb82",
   "metadata": {},
   "outputs": [
    {
     "name": "stdout",
     "output_type": "stream",
     "text": [
      "'data.frame':\t703 obs. of  16 variables:\n",
      " $ V1 : Factor w/ 10 levels \"2011\",\"2012\",..: 10 1 1 1 1 1 1 1 1 1 ...\n",
      " $ V2 : Factor w/ 27 levels \"강남구\",\"강동구\",..: 23 27 27 27 24 24 24 25 25 25 ...\n",
      " $ V3 : Factor w/ 4 levels \"구분\",\"발생건수\",..: 1 2 4 3 2 4 3 2 4 3 ...\n",
      " $ V4 : Factor w/ 458 levels \"1,017\",\"1,029\",..: 458 415 421 436 93 240 235 116 239 253 ...\n",
      " $ V5 : Factor w/ 213 levels \"-\",\"1\",\"100\",..: 93 138 158 166 18 94 63 11 1 57 ...\n",
      " $ V6 : Factor w/ 209 levels \"-\",\"1\",\"100\",..: 138 96 149 143 209 1 38 196 1 15 ...\n",
      " $ V7 : Factor w/ 219 levels \"-\",\"1\",\"100\",..: 169 146 100 174 19 1 65 44 1 85 ...\n",
      " $ V8 : Factor w/ 221 levels \"-\",\"1\",\"100\",..: 194 150 189 182 12 2 56 30 144 77 ...\n",
      " $ V9 : Factor w/ 223 levels \"-\",\"1\",\"100\",..: 200 154 176 196 24 1 57 23 2 63 ...\n",
      " $ V10: Factor w/ 222 levels \"-\",\"1\",\"100\",..: 199 151 172 179 18 146 65 17 2 58 ...\n",
      " $ V11: Factor w/ 225 levels \"-\",\"1\",\"100\",..: 205 149 171 190 6 2 58 22 2 58 ...\n",
      " $ V12: Factor w/ 218 levels \"-\",\"1\",\"100\",..: 208 148 187 175 25 2 72 20 2 56 ...\n",
      " $ V13: Factor w/ 221 levels \"-\",\"1\",\"10\",\"100\",..: 221 154 175 186 25 99 69 43 2 82 ...\n",
      " $ V14: Factor w/ 223 levels \"-\",\"1\",\"100\",..: 12 154 129 198 33 90 85 45 90 94 ...\n",
      " $ V15: Factor w/ 234 levels \"-\",\"1\",\"100\",..: 21 158 191 203 43 2 101 34 150 74 ...\n",
      " $ V16: Factor w/ 230 levels \"-\",\"1\",\"100\",..: 33 152 189 195 25 2 72 46 1 107 ...\n"
     ]
    }
   ],
   "source": [
    "str(trafficAccident2011_2019)"
   ]
  },
  {
   "cell_type": "code",
   "execution_count": 4,
   "id": "b9fac5ad",
   "metadata": {},
   "outputs": [],
   "source": [
    "# 일부 제거하여 전달\n",
    "tracc <- trafficAccident2011_2019[5:nrow(trafficAccident2011_2019),-4]"
   ]
  },
  {
   "cell_type": "code",
   "execution_count": 5,
   "id": "978fc657",
   "metadata": {},
   "outputs": [
    {
     "data": {
      "text/html": [
       "<table>\n",
       "<thead><tr><th></th><th scope=col>V1</th><th scope=col>V2</th><th scope=col>V3</th><th scope=col>V5</th><th scope=col>V6</th><th scope=col>V7</th><th scope=col>V8</th><th scope=col>V9</th><th scope=col>V10</th><th scope=col>V11</th><th scope=col>V12</th><th scope=col>V13</th><th scope=col>V14</th><th scope=col>V15</th><th scope=col>V16</th></tr></thead>\n",
       "<tbody>\n",
       "\t<tr><th scope=row>5</th><td>2011    </td><td>종로구  </td><td>발생건수</td><td>115     </td><td>99      </td><td>116     </td><td>110     </td><td>122     </td><td>116     </td><td>103     </td><td>122     </td><td>121     </td><td>135     </td><td>140     </td><td>122     </td></tr>\n",
       "\t<tr><th scope=row>6</th><td>2011    </td><td>종로구  </td><td>사망자수</td><td>2       </td><td>-       </td><td>-       </td><td>1       </td><td>-       </td><td>3       </td><td>1       </td><td>1       </td><td>2       </td><td>2       </td><td>1       </td><td>1       </td></tr>\n",
       "\t<tr><th scope=row>7</th><td>2011    </td><td>종로구  </td><td>부상자수</td><td>165     </td><td>134     </td><td>162     </td><td>153     </td><td>157     </td><td>163     </td><td>154     </td><td>171     </td><td>166     </td><td>193     </td><td>204     </td><td>172     </td></tr>\n",
       "\t<tr><th scope=row>8</th><td>2011    </td><td>중구    </td><td>발생건수</td><td>108     </td><td>86      </td><td>141     </td><td>128     </td><td>121     </td><td>115     </td><td>119     </td><td>117     </td><td>140     </td><td>147     </td><td>132     </td><td>143     </td></tr>\n",
       "\t<tr><th scope=row>9</th><td>2011    </td><td>중구    </td><td>사망자수</td><td>-       </td><td>-       </td><td>-       </td><td>3       </td><td>1       </td><td>1       </td><td>1       </td><td>1       </td><td>1       </td><td>2       </td><td>3       </td><td>-       </td></tr>\n",
       "\t<tr><th scope=row>10</th><td>2011    </td><td>중구    </td><td>부상자수</td><td>159     </td><td>112     </td><td>183     </td><td>175     </td><td>165     </td><td>156     </td><td>154     </td><td>154     </td><td>181     </td><td>203     </td><td>172     </td><td>211     </td></tr>\n",
       "</tbody>\n",
       "</table>\n"
      ],
      "text/latex": [
       "\\begin{tabular}{r|lllllllllllllll}\n",
       "  & V1 & V2 & V3 & V5 & V6 & V7 & V8 & V9 & V10 & V11 & V12 & V13 & V14 & V15 & V16\\\\\n",
       "\\hline\n",
       "\t5 & 2011     & 종로구   & 발생건수 & 115      & 99       & 116      & 110      & 122      & 116      & 103      & 122      & 121      & 135      & 140      & 122     \\\\\n",
       "\t6 & 2011     & 종로구   & 사망자수 & 2        & -        & -        & 1        & -        & 3        & 1        & 1        & 2        & 2        & 1        & 1       \\\\\n",
       "\t7 & 2011     & 종로구   & 부상자수 & 165      & 134      & 162      & 153      & 157      & 163      & 154      & 171      & 166      & 193      & 204      & 172     \\\\\n",
       "\t8 & 2011     & 중구     & 발생건수 & 108      & 86       & 141      & 128      & 121      & 115      & 119      & 117      & 140      & 147      & 132      & 143     \\\\\n",
       "\t9 & 2011     & 중구     & 사망자수 & -        & -        & -        & 3        & 1        & 1        & 1        & 1        & 1        & 2        & 3        & -       \\\\\n",
       "\t10 & 2011     & 중구     & 부상자수 & 159      & 112      & 183      & 175      & 165      & 156      & 154      & 154      & 181      & 203      & 172      & 211     \\\\\n",
       "\\end{tabular}\n"
      ],
      "text/markdown": [
       "\n",
       "| <!--/--> | V1 | V2 | V3 | V5 | V6 | V7 | V8 | V9 | V10 | V11 | V12 | V13 | V14 | V15 | V16 |\n",
       "|---|---|---|---|---|---|---|---|---|---|---|---|---|---|---|---|\n",
       "| 5 | 2011     | 종로구   | 발생건수 | 115      | 99       | 116      | 110      | 122      | 116      | 103      | 122      | 121      | 135      | 140      | 122      |\n",
       "| 6 | 2011     | 종로구   | 사망자수 | 2        | -        | -        | 1        | -        | 3        | 1        | 1        | 2        | 2        | 1        | 1        |\n",
       "| 7 | 2011     | 종로구   | 부상자수 | 165      | 134      | 162      | 153      | 157      | 163      | 154      | 171      | 166      | 193      | 204      | 172      |\n",
       "| 8 | 2011     | 중구     | 발생건수 | 108      | 86       | 141      | 128      | 121      | 115      | 119      | 117      | 140      | 147      | 132      | 143      |\n",
       "| 9 | 2011     | 중구     | 사망자수 | -        | -        | -        | 3        | 1        | 1        | 1        | 1        | 1        | 2        | 3        | -        |\n",
       "| 10 | 2011     | 중구     | 부상자수 | 159      | 112      | 183      | 175      | 165      | 156      | 154      | 154      | 181      | 203      | 172      | 211      |\n",
       "\n"
      ],
      "text/plain": [
       "   V1   V2     V3       V5  V6  V7  V8  V9  V10 V11 V12 V13 V14 V15 V16\n",
       "5  2011 종로구 발생건수 115 99  116 110 122 116 103 122 121 135 140 122\n",
       "6  2011 종로구 사망자수 2   -   -   1   -   3   1   1   2   2   1   1  \n",
       "7  2011 종로구 부상자수 165 134 162 153 157 163 154 171 166 193 204 172\n",
       "8  2011 중구   발생건수 108 86  141 128 121 115 119 117 140 147 132 143\n",
       "9  2011 중구   사망자수 -   -   -   3   1   1   1   1   1   2   3   -  \n",
       "10 2011 중구   부상자수 159 112 183 175 165 156 154 154 181 203 172 211"
      ]
     },
     "metadata": {},
     "output_type": "display_data"
    }
   ],
   "source": [
    "head(tracc)"
   ]
  },
  {
   "cell_type": "code",
   "execution_count": 6,
   "id": "92742584",
   "metadata": {},
   "outputs": [],
   "source": [
    "# column name 정리\n",
    "colnames(tracc) <- c(\"년도\", \"자치구\", \"구분\", paste(\"v\", c(1:12), sep=\"\"))"
   ]
  },
  {
   "cell_type": "code",
   "execution_count": 7,
   "id": "4ed6e2f7",
   "metadata": {},
   "outputs": [],
   "source": [
    "# 합계 부분 제거\n",
    "idx <- c()\n",
    "for(i in 1:nrow(tracc)){\n",
    "    if(tracc$자치구[i]=='합계') {\n",
    "        idx <- append(idx, i)\n",
    "    }\n",
    "}\n",
    "tracc <- tracc[-idx,]\n",
    "rownames(tracc) <- c()"
   ]
  },
  {
   "cell_type": "code",
   "execution_count": 8,
   "id": "802fd162",
   "metadata": {},
   "outputs": [
    {
     "data": {
      "text/html": [
       "<table>\n",
       "<thead><tr><th scope=col>년도</th><th scope=col>자치구</th><th scope=col>구분</th><th scope=col>v1</th><th scope=col>v2</th><th scope=col>v3</th><th scope=col>v4</th><th scope=col>v5</th><th scope=col>v6</th><th scope=col>v7</th><th scope=col>v8</th><th scope=col>v9</th><th scope=col>v10</th><th scope=col>v11</th><th scope=col>v12</th></tr></thead>\n",
       "<tbody>\n",
       "\t<tr><td>2011    </td><td>종로구  </td><td>발생건수</td><td>115     </td><td>99      </td><td>116     </td><td>110     </td><td>122     </td><td>116     </td><td>103     </td><td>122     </td><td>121     </td><td>135     </td><td>140     </td><td>122     </td></tr>\n",
       "\t<tr><td>2011    </td><td>종로구  </td><td>사망자수</td><td>2       </td><td>-       </td><td>-       </td><td>1       </td><td>-       </td><td>3       </td><td>1       </td><td>1       </td><td>2       </td><td>2       </td><td>1       </td><td>1       </td></tr>\n",
       "\t<tr><td>2011    </td><td>종로구  </td><td>부상자수</td><td>165     </td><td>134     </td><td>162     </td><td>153     </td><td>157     </td><td>163     </td><td>154     </td><td>171     </td><td>166     </td><td>193     </td><td>204     </td><td>172     </td></tr>\n",
       "\t<tr><td>2011    </td><td>중구    </td><td>발생건수</td><td>108     </td><td>86      </td><td>141     </td><td>128     </td><td>121     </td><td>115     </td><td>119     </td><td>117     </td><td>140     </td><td>147     </td><td>132     </td><td>143     </td></tr>\n",
       "\t<tr><td>2011    </td><td>중구    </td><td>사망자수</td><td>-       </td><td>-       </td><td>-       </td><td>3       </td><td>1       </td><td>1       </td><td>1       </td><td>1       </td><td>1       </td><td>2       </td><td>3       </td><td>-       </td></tr>\n",
       "\t<tr><td>2011    </td><td>중구    </td><td>부상자수</td><td>159     </td><td>112     </td><td>183     </td><td>175     </td><td>165     </td><td>156     </td><td>154     </td><td>154     </td><td>181     </td><td>203     </td><td>172     </td><td>211     </td></tr>\n",
       "</tbody>\n",
       "</table>\n"
      ],
      "text/latex": [
       "\\begin{tabular}{r|lllllllllllllll}\n",
       " 년도 & 자치구 & 구분 & v1 & v2 & v3 & v4 & v5 & v6 & v7 & v8 & v9 & v10 & v11 & v12\\\\\n",
       "\\hline\n",
       "\t 2011     & 종로구   & 발생건수 & 115      & 99       & 116      & 110      & 122      & 116      & 103      & 122      & 121      & 135      & 140      & 122     \\\\\n",
       "\t 2011     & 종로구   & 사망자수 & 2        & -        & -        & 1        & -        & 3        & 1        & 1        & 2        & 2        & 1        & 1       \\\\\n",
       "\t 2011     & 종로구   & 부상자수 & 165      & 134      & 162      & 153      & 157      & 163      & 154      & 171      & 166      & 193      & 204      & 172     \\\\\n",
       "\t 2011     & 중구     & 발생건수 & 108      & 86       & 141      & 128      & 121      & 115      & 119      & 117      & 140      & 147      & 132      & 143     \\\\\n",
       "\t 2011     & 중구     & 사망자수 & -        & -        & -        & 3        & 1        & 1        & 1        & 1        & 1        & 2        & 3        & -       \\\\\n",
       "\t 2011     & 중구     & 부상자수 & 159      & 112      & 183      & 175      & 165      & 156      & 154      & 154      & 181      & 203      & 172      & 211     \\\\\n",
       "\\end{tabular}\n"
      ],
      "text/markdown": [
       "\n",
       "| 년도 | 자치구 | 구분 | v1 | v2 | v3 | v4 | v5 | v6 | v7 | v8 | v9 | v10 | v11 | v12 |\n",
       "|---|---|---|---|---|---|---|---|---|---|---|---|---|---|---|\n",
       "| 2011     | 종로구   | 발생건수 | 115      | 99       | 116      | 110      | 122      | 116      | 103      | 122      | 121      | 135      | 140      | 122      |\n",
       "| 2011     | 종로구   | 사망자수 | 2        | -        | -        | 1        | -        | 3        | 1        | 1        | 2        | 2        | 1        | 1        |\n",
       "| 2011     | 종로구   | 부상자수 | 165      | 134      | 162      | 153      | 157      | 163      | 154      | 171      | 166      | 193      | 204      | 172      |\n",
       "| 2011     | 중구     | 발생건수 | 108      | 86       | 141      | 128      | 121      | 115      | 119      | 117      | 140      | 147      | 132      | 143      |\n",
       "| 2011     | 중구     | 사망자수 | -        | -        | -        | 3        | 1        | 1        | 1        | 1        | 1        | 2        | 3        | -        |\n",
       "| 2011     | 중구     | 부상자수 | 159      | 112      | 183      | 175      | 165      | 156      | 154      | 154      | 181      | 203      | 172      | 211      |\n",
       "\n"
      ],
      "text/plain": [
       "  년도 자치구 구분     v1  v2  v3  v4  v5  v6  v7  v8  v9  v10 v11 v12\n",
       "1 2011 종로구 발생건수 115 99  116 110 122 116 103 122 121 135 140 122\n",
       "2 2011 종로구 사망자수 2   -   -   1   -   3   1   1   2   2   1   1  \n",
       "3 2011 종로구 부상자수 165 134 162 153 157 163 154 171 166 193 204 172\n",
       "4 2011 중구   발생건수 108 86  141 128 121 115 119 117 140 147 132 143\n",
       "5 2011 중구   사망자수 -   -   -   3   1   1   1   1   1   2   3   -  \n",
       "6 2011 중구   부상자수 159 112 183 175 165 156 154 154 181 203 172 211"
      ]
     },
     "metadata": {},
     "output_type": "display_data"
    }
   ],
   "source": [
    "head(tracc)"
   ]
  },
  {
   "cell_type": "code",
   "execution_count": 9,
   "id": "5a58176d",
   "metadata": {},
   "outputs": [],
   "source": [
    "# '-'을 0으로 변경\n",
    "\n",
    "for(i in 4:ncol(tracc)){\n",
    "    tracc[,i] <- as.character(tracc[,i])\n",
    "    for(j in 1: nrow(tracc)) {\n",
    "        if(tracc[j, i] == '-')\n",
    "            tracc[j,i] = '0'\n",
    "    }\n",
    "}"
   ]
  },
  {
   "cell_type": "code",
   "execution_count": 10,
   "id": "dfebf2e8",
   "metadata": {},
   "outputs": [
    {
     "data": {
      "text/html": [
       "<table>\n",
       "<thead><tr><th scope=col>년도</th><th scope=col>자치구</th><th scope=col>구분</th><th scope=col>v1</th><th scope=col>v2</th><th scope=col>v3</th><th scope=col>v4</th><th scope=col>v5</th><th scope=col>v6</th><th scope=col>v7</th><th scope=col>v8</th><th scope=col>v9</th><th scope=col>v10</th><th scope=col>v11</th><th scope=col>v12</th></tr></thead>\n",
       "<tbody>\n",
       "\t<tr><td>2011    </td><td>종로구  </td><td>발생건수</td><td>115     </td><td>99      </td><td>116     </td><td>110     </td><td>122     </td><td>116     </td><td>103     </td><td>122     </td><td>121     </td><td>135     </td><td>140     </td><td>122     </td></tr>\n",
       "\t<tr><td>2011    </td><td>종로구  </td><td>사망자수</td><td>2       </td><td>0       </td><td>0       </td><td>1       </td><td>0       </td><td>3       </td><td>1       </td><td>1       </td><td>2       </td><td>2       </td><td>1       </td><td>1       </td></tr>\n",
       "\t<tr><td>2011    </td><td>종로구  </td><td>부상자수</td><td>165     </td><td>134     </td><td>162     </td><td>153     </td><td>157     </td><td>163     </td><td>154     </td><td>171     </td><td>166     </td><td>193     </td><td>204     </td><td>172     </td></tr>\n",
       "\t<tr><td>2011    </td><td>중구    </td><td>발생건수</td><td>108     </td><td>86      </td><td>141     </td><td>128     </td><td>121     </td><td>115     </td><td>119     </td><td>117     </td><td>140     </td><td>147     </td><td>132     </td><td>143     </td></tr>\n",
       "\t<tr><td>2011    </td><td>중구    </td><td>사망자수</td><td>0       </td><td>0       </td><td>0       </td><td>3       </td><td>1       </td><td>1       </td><td>1       </td><td>1       </td><td>1       </td><td>2       </td><td>3       </td><td>0       </td></tr>\n",
       "\t<tr><td>2011    </td><td>중구    </td><td>부상자수</td><td>159     </td><td>112     </td><td>183     </td><td>175     </td><td>165     </td><td>156     </td><td>154     </td><td>154     </td><td>181     </td><td>203     </td><td>172     </td><td>211     </td></tr>\n",
       "</tbody>\n",
       "</table>\n"
      ],
      "text/latex": [
       "\\begin{tabular}{r|lllllllllllllll}\n",
       " 년도 & 자치구 & 구분 & v1 & v2 & v3 & v4 & v5 & v6 & v7 & v8 & v9 & v10 & v11 & v12\\\\\n",
       "\\hline\n",
       "\t 2011     & 종로구   & 발생건수 & 115      & 99       & 116      & 110      & 122      & 116      & 103      & 122      & 121      & 135      & 140      & 122     \\\\\n",
       "\t 2011     & 종로구   & 사망자수 & 2        & 0        & 0        & 1        & 0        & 3        & 1        & 1        & 2        & 2        & 1        & 1       \\\\\n",
       "\t 2011     & 종로구   & 부상자수 & 165      & 134      & 162      & 153      & 157      & 163      & 154      & 171      & 166      & 193      & 204      & 172     \\\\\n",
       "\t 2011     & 중구     & 발생건수 & 108      & 86       & 141      & 128      & 121      & 115      & 119      & 117      & 140      & 147      & 132      & 143     \\\\\n",
       "\t 2011     & 중구     & 사망자수 & 0        & 0        & 0        & 3        & 1        & 1        & 1        & 1        & 1        & 2        & 3        & 0       \\\\\n",
       "\t 2011     & 중구     & 부상자수 & 159      & 112      & 183      & 175      & 165      & 156      & 154      & 154      & 181      & 203      & 172      & 211     \\\\\n",
       "\\end{tabular}\n"
      ],
      "text/markdown": [
       "\n",
       "| 년도 | 자치구 | 구분 | v1 | v2 | v3 | v4 | v5 | v6 | v7 | v8 | v9 | v10 | v11 | v12 |\n",
       "|---|---|---|---|---|---|---|---|---|---|---|---|---|---|---|\n",
       "| 2011     | 종로구   | 발생건수 | 115      | 99       | 116      | 110      | 122      | 116      | 103      | 122      | 121      | 135      | 140      | 122      |\n",
       "| 2011     | 종로구   | 사망자수 | 2        | 0        | 0        | 1        | 0        | 3        | 1        | 1        | 2        | 2        | 1        | 1        |\n",
       "| 2011     | 종로구   | 부상자수 | 165      | 134      | 162      | 153      | 157      | 163      | 154      | 171      | 166      | 193      | 204      | 172      |\n",
       "| 2011     | 중구     | 발생건수 | 108      | 86       | 141      | 128      | 121      | 115      | 119      | 117      | 140      | 147      | 132      | 143      |\n",
       "| 2011     | 중구     | 사망자수 | 0        | 0        | 0        | 3        | 1        | 1        | 1        | 1        | 1        | 2        | 3        | 0        |\n",
       "| 2011     | 중구     | 부상자수 | 159      | 112      | 183      | 175      | 165      | 156      | 154      | 154      | 181      | 203      | 172      | 211      |\n",
       "\n"
      ],
      "text/plain": [
       "  년도 자치구 구분     v1  v2  v3  v4  v5  v6  v7  v8  v9  v10 v11 v12\n",
       "1 2011 종로구 발생건수 115 99  116 110 122 116 103 122 121 135 140 122\n",
       "2 2011 종로구 사망자수 2   0   0   1   0   3   1   1   2   2   1   1  \n",
       "3 2011 종로구 부상자수 165 134 162 153 157 163 154 171 166 193 204 172\n",
       "4 2011 중구   발생건수 108 86  141 128 121 115 119 117 140 147 132 143\n",
       "5 2011 중구   사망자수 0   0   0   3   1   1   1   1   1   2   3   0  \n",
       "6 2011 중구   부상자수 159 112 183 175 165 156 154 154 181 203 172 211"
      ]
     },
     "metadata": {},
     "output_type": "display_data"
    }
   ],
   "source": [
    "head(tracc)"
   ]
  },
  {
   "cell_type": "code",
   "execution_count": 11,
   "id": "22cf5ff2",
   "metadata": {},
   "outputs": [],
   "source": [
    "# 원하는 형태의 테이블로 데이터 정제\n",
    "\n",
    "tracc$년도 <- as.character(tracc$년도)\n",
    "tracc$자치구 <- as.character(tracc$자치구)\n",
    "\n",
    "n1 <- seq(1, nrow(tracc), 3)\n",
    "tb <- c()\n",
    "\n",
    "for(i in 1:floor(nrow(tracc)/3)){\n",
    "    x <- n1[i]   \n",
    "    for(j in 1:12) {\n",
    "        tb <- rbind(tb,c(tracc$년도[x], j, tracc[x, 2],tracc[x, j+3], tracc[x+2, j+3], tracc[x+1, j+3]))\n",
    "    }\n",
    "}\n",
    "\n"
   ]
  },
  {
   "cell_type": "code",
   "execution_count": 12,
   "id": "169b5607",
   "metadata": {},
   "outputs": [
    {
     "data": {
      "text/html": [
       "<table>\n",
       "<thead><tr><th scope=col>년도</th><th scope=col>월</th><th scope=col>자치구</th><th scope=col>발생건수</th><th scope=col>부상장수</th><th scope=col>사망자수</th></tr></thead>\n",
       "<tbody>\n",
       "\t<tr><td>2011  </td><td>1     </td><td>종로구</td><td>115   </td><td>165   </td><td>2     </td></tr>\n",
       "\t<tr><td>2011  </td><td>2     </td><td>종로구</td><td>99    </td><td>134   </td><td>0     </td></tr>\n",
       "\t<tr><td>2011  </td><td>3     </td><td>종로구</td><td>116   </td><td>162   </td><td>0     </td></tr>\n",
       "\t<tr><td>2011  </td><td>4     </td><td>종로구</td><td>110   </td><td>153   </td><td>1     </td></tr>\n",
       "\t<tr><td>2011  </td><td>5     </td><td>종로구</td><td>122   </td><td>157   </td><td>0     </td></tr>\n",
       "\t<tr><td>2011  </td><td>6     </td><td>종로구</td><td>116   </td><td>163   </td><td>3     </td></tr>\n",
       "</tbody>\n",
       "</table>\n"
      ],
      "text/latex": [
       "\\begin{tabular}{llllll}\n",
       " 년도 & 월 & 자치구 & 발생건수 & 부상장수 & 사망자수\\\\\n",
       "\\hline\n",
       "\t 2011   & 1      & 종로구 & 115    & 165    & 2     \\\\\n",
       "\t 2011   & 2      & 종로구 & 99     & 134    & 0     \\\\\n",
       "\t 2011   & 3      & 종로구 & 116    & 162    & 0     \\\\\n",
       "\t 2011   & 4      & 종로구 & 110    & 153    & 1     \\\\\n",
       "\t 2011   & 5      & 종로구 & 122    & 157    & 0     \\\\\n",
       "\t 2011   & 6      & 종로구 & 116    & 163    & 3     \\\\\n",
       "\\end{tabular}\n"
      ],
      "text/markdown": [
       "\n",
       "| 년도 | 월 | 자치구 | 발생건수 | 부상장수 | 사망자수 |\n",
       "|---|---|---|---|---|---|\n",
       "| 2011   | 1      | 종로구 | 115    | 165    | 2      |\n",
       "| 2011   | 2      | 종로구 | 99     | 134    | 0      |\n",
       "| 2011   | 3      | 종로구 | 116    | 162    | 0      |\n",
       "| 2011   | 4      | 종로구 | 110    | 153    | 1      |\n",
       "| 2011   | 5      | 종로구 | 122    | 157    | 0      |\n",
       "| 2011   | 6      | 종로구 | 116    | 163    | 3      |\n",
       "\n"
      ],
      "text/plain": [
       "     년도 월 자치구 발생건수 부상장수 사망자수\n",
       "[1,] 2011 1  종로구 115      165      2       \n",
       "[2,] 2011 2  종로구 99       134      0       \n",
       "[3,] 2011 3  종로구 116      162      0       \n",
       "[4,] 2011 4  종로구 110      153      1       \n",
       "[5,] 2011 5  종로구 122      157      0       \n",
       "[6,] 2011 6  종로구 116      163      3       "
      ]
     },
     "metadata": {},
     "output_type": "display_data"
    },
    {
     "name": "stdout",
     "output_type": "stream",
     "text": [
      " chr [1:2700, 1:6] \"2011\" \"2011\" \"2011\" \"2011\" \"2011\" \"2011\" \"2011\" \"2011\" ...\n",
      " - attr(*, \"dimnames\")=List of 2\n",
      "  ..$ : NULL\n",
      "  ..$ : chr [1:6] \"년도\" \"월\" \"자치구\" \"발생건수\" ...\n"
     ]
    }
   ],
   "source": [
    "colnames(tb) <- c(\"년도\",\"월\", \"자치구\", \"발생건수\", \"부상장수\", \"사망자수\")\n",
    "head(tb)\n",
    "str(tb)"
   ]
  },
  {
   "cell_type": "code",
   "execution_count": 13,
   "id": "f88a28b6",
   "metadata": {},
   "outputs": [
    {
     "data": {
      "text/html": [
       "<table>\n",
       "<thead><tr><th scope=col>년도</th><th scope=col>월</th><th scope=col>자치구</th><th scope=col>발생건수</th><th scope=col>부상자수</th><th scope=col>사상자수</th></tr></thead>\n",
       "<tbody>\n",
       "\t<tr><td>2011  </td><td>1     </td><td>종로구</td><td>115   </td><td>165   </td><td>2     </td></tr>\n",
       "\t<tr><td>2011  </td><td>2     </td><td>종로구</td><td> 99   </td><td>134   </td><td>0     </td></tr>\n",
       "\t<tr><td>2011  </td><td>3     </td><td>종로구</td><td>116   </td><td>162   </td><td>0     </td></tr>\n",
       "\t<tr><td>2011  </td><td>4     </td><td>종로구</td><td>110   </td><td>153   </td><td>1     </td></tr>\n",
       "\t<tr><td>2011  </td><td>5     </td><td>종로구</td><td>122   </td><td>157   </td><td>0     </td></tr>\n",
       "\t<tr><td>2011  </td><td>6     </td><td>종로구</td><td>116   </td><td>163   </td><td>3     </td></tr>\n",
       "</tbody>\n",
       "</table>\n"
      ],
      "text/latex": [
       "\\begin{tabular}{r|llllll}\n",
       " 년도 & 월 & 자치구 & 발생건수 & 부상자수 & 사상자수\\\\\n",
       "\\hline\n",
       "\t 2011   & 1      & 종로구 & 115    & 165    & 2     \\\\\n",
       "\t 2011   & 2      & 종로구 &  99    & 134    & 0     \\\\\n",
       "\t 2011   & 3      & 종로구 & 116    & 162    & 0     \\\\\n",
       "\t 2011   & 4      & 종로구 & 110    & 153    & 1     \\\\\n",
       "\t 2011   & 5      & 종로구 & 122    & 157    & 0     \\\\\n",
       "\t 2011   & 6      & 종로구 & 116    & 163    & 3     \\\\\n",
       "\\end{tabular}\n"
      ],
      "text/markdown": [
       "\n",
       "| 년도 | 월 | 자치구 | 발생건수 | 부상자수 | 사상자수 |\n",
       "|---|---|---|---|---|---|\n",
       "| 2011   | 1      | 종로구 | 115    | 165    | 2      |\n",
       "| 2011   | 2      | 종로구 |  99    | 134    | 0      |\n",
       "| 2011   | 3      | 종로구 | 116    | 162    | 0      |\n",
       "| 2011   | 4      | 종로구 | 110    | 153    | 1      |\n",
       "| 2011   | 5      | 종로구 | 122    | 157    | 0      |\n",
       "| 2011   | 6      | 종로구 | 116    | 163    | 3      |\n",
       "\n"
      ],
      "text/plain": [
       "  년도 월 자치구 발생건수 부상자수 사상자수\n",
       "1 2011 1  종로구 115      165      2       \n",
       "2 2011 2  종로구  99      134      0       \n",
       "3 2011 3  종로구 116      162      0       \n",
       "4 2011 4  종로구 110      153      1       \n",
       "5 2011 5  종로구 122      157      0       \n",
       "6 2011 6  종로구 116      163      3       "
      ]
     },
     "metadata": {},
     "output_type": "display_data"
    },
    {
     "name": "stdout",
     "output_type": "stream",
     "text": [
      "'data.frame':\t2700 obs. of  6 variables:\n",
      " $ 년도    : int  2011 2011 2011 2011 2011 2011 2011 2011 2011 2011 ...\n",
      " $ 월      : int  1 2 3 4 5 6 7 8 9 10 ...\n",
      " $ 자치구  : Factor w/ 25 levels \"강남구\",\"강동구\",..: 23 23 23 23 23 23 23 23 23 23 ...\n",
      " $ 발생건수: int  115 99 116 110 122 116 103 122 121 135 ...\n",
      " $ 부상자수: int  165 134 162 153 157 163 154 171 166 193 ...\n",
      " $ 사상자수: int  2 0 0 1 0 3 1 1 2 2 ...\n"
     ]
    }
   ],
   "source": [
    "tacc <- data.frame('년도' = as.integer(tb[,1]), '월'= as.integer(tb[,2]), '자치구'= as.factor(tb[,3]), \n",
    "               '발생건수'= as.integer(tb[,4]), '부상자수'=as.integer(tb[,5]), '사상자수'= as.integer(tb[,6]))\n",
    "head(tacc)\n",
    "str(tacc)"
   ]
  },
  {
   "cell_type": "code",
   "execution_count": null,
   "id": "8c8711cb",
   "metadata": {},
   "outputs": [],
   "source": []
  },
  {
   "cell_type": "code",
   "execution_count": null,
   "id": "218ad646",
   "metadata": {},
   "outputs": [],
   "source": []
  },
  {
   "cell_type": "code",
   "execution_count": null,
   "id": "d548dcd8",
   "metadata": {},
   "outputs": [],
   "source": []
  }
 ],
 "metadata": {
  "kernelspec": {
   "display_name": "R",
   "language": "R",
   "name": "ir"
  },
  "language_info": {
   "codemirror_mode": "r",
   "file_extension": ".r",
   "mimetype": "text/x-r-source",
   "name": "R",
   "pygments_lexer": "r",
   "version": "3.6.1"
  }
 },
 "nbformat": 4,
 "nbformat_minor": 5
}
