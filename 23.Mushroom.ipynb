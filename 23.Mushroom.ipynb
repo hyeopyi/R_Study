{
 "cells": [
  {
   "cell_type": "markdown",
   "id": "9ede186a",
   "metadata": {},
   "source": [
    "# Mushroom\n",
    "http://archive.ics.uci.edu/ml/datasets/Mushroom\n",
    "- 8124 종류의 버섯의 특징과 독의 유무를 정리해논 데이터셋\n",
    "- 버섯 모양의 특징을 기반으로 독의 유무를 판단\n",
    "\n",
    "한 줄(row)이 버섯 한 종류\n",
    "1번째 컬럼은 독의 유무 : 독(p), 식용(e)\n",
    "2번째 컬럼은 버섯의 머리모양 : b(벨형태), c(원뿔), x(볼록), f(평평), k(혹), s(오목)\n",
    "4번째 컬럼은 버벗의 머리 색 : n(갈색), b(황갈색), c(연한갈색), g(회색)\n",
    "\n",
    "* 자세한 내용은 위의 사이트에서 확인"
   ]
  },
  {
   "cell_type": "code",
   "execution_count": 1,
   "id": "ff9eb569",
   "metadata": {},
   "outputs": [],
   "source": [
    "# 인공신경망, 의사결정나무, RandomForest, SVM, 로지스틱 회귀분석"
   ]
  },
  {
   "cell_type": "code",
   "execution_count": 20,
   "id": "908a9116",
   "metadata": {},
   "outputs": [
    {
     "data": {
      "text/html": [
       "<table>\n",
       "<thead><tr><th scope=col>V1</th><th scope=col>V2</th><th scope=col>V3</th><th scope=col>V4</th><th scope=col>V5</th><th scope=col>V6</th><th scope=col>V7</th><th scope=col>V8</th><th scope=col>V9</th><th scope=col>V10</th><th scope=col>...</th><th scope=col>V14</th><th scope=col>V15</th><th scope=col>V16</th><th scope=col>V17</th><th scope=col>V18</th><th scope=col>V19</th><th scope=col>V20</th><th scope=col>V21</th><th scope=col>V22</th><th scope=col>V23</th></tr></thead>\n",
       "<tbody>\n",
       "\t<tr><td>p  </td><td>x  </td><td>s  </td><td>n  </td><td>t  </td><td>p  </td><td>f  </td><td>c  </td><td>n  </td><td>k  </td><td>...</td><td>s  </td><td>w  </td><td>w  </td><td>p  </td><td>w  </td><td>o  </td><td>p  </td><td>k  </td><td>s  </td><td>u  </td></tr>\n",
       "\t<tr><td>e  </td><td>x  </td><td>s  </td><td>y  </td><td>t  </td><td>a  </td><td>f  </td><td>c  </td><td>b  </td><td>k  </td><td>...</td><td>s  </td><td>w  </td><td>w  </td><td>p  </td><td>w  </td><td>o  </td><td>p  </td><td>n  </td><td>n  </td><td>g  </td></tr>\n",
       "\t<tr><td>e  </td><td>b  </td><td>s  </td><td>w  </td><td>t  </td><td>l  </td><td>f  </td><td>c  </td><td>b  </td><td>n  </td><td>...</td><td>s  </td><td>w  </td><td>w  </td><td>p  </td><td>w  </td><td>o  </td><td>p  </td><td>n  </td><td>n  </td><td>m  </td></tr>\n",
       "\t<tr><td>p  </td><td>x  </td><td>y  </td><td>w  </td><td>t  </td><td>p  </td><td>f  </td><td>c  </td><td>n  </td><td>n  </td><td>...</td><td>s  </td><td>w  </td><td>w  </td><td>p  </td><td>w  </td><td>o  </td><td>p  </td><td>k  </td><td>s  </td><td>u  </td></tr>\n",
       "\t<tr><td>e  </td><td>x  </td><td>s  </td><td>g  </td><td>f  </td><td>n  </td><td>f  </td><td>w  </td><td>b  </td><td>k  </td><td>...</td><td>s  </td><td>w  </td><td>w  </td><td>p  </td><td>w  </td><td>o  </td><td>e  </td><td>n  </td><td>a  </td><td>g  </td></tr>\n",
       "\t<tr><td>e  </td><td>x  </td><td>y  </td><td>y  </td><td>t  </td><td>a  </td><td>f  </td><td>c  </td><td>b  </td><td>n  </td><td>...</td><td>s  </td><td>w  </td><td>w  </td><td>p  </td><td>w  </td><td>o  </td><td>p  </td><td>k  </td><td>n  </td><td>g  </td></tr>\n",
       "</tbody>\n",
       "</table>\n"
      ],
      "text/latex": [
       "\\begin{tabular}{r|lllllllllllllllllllllll}\n",
       " V1 & V2 & V3 & V4 & V5 & V6 & V7 & V8 & V9 & V10 & ... & V14 & V15 & V16 & V17 & V18 & V19 & V20 & V21 & V22 & V23\\\\\n",
       "\\hline\n",
       "\t p   & x   & s   & n   & t   & p   & f   & c   & n   & k   & ... & s   & w   & w   & p   & w   & o   & p   & k   & s   & u  \\\\\n",
       "\t e   & x   & s   & y   & t   & a   & f   & c   & b   & k   & ... & s   & w   & w   & p   & w   & o   & p   & n   & n   & g  \\\\\n",
       "\t e   & b   & s   & w   & t   & l   & f   & c   & b   & n   & ... & s   & w   & w   & p   & w   & o   & p   & n   & n   & m  \\\\\n",
       "\t p   & x   & y   & w   & t   & p   & f   & c   & n   & n   & ... & s   & w   & w   & p   & w   & o   & p   & k   & s   & u  \\\\\n",
       "\t e   & x   & s   & g   & f   & n   & f   & w   & b   & k   & ... & s   & w   & w   & p   & w   & o   & e   & n   & a   & g  \\\\\n",
       "\t e   & x   & y   & y   & t   & a   & f   & c   & b   & n   & ... & s   & w   & w   & p   & w   & o   & p   & k   & n   & g  \\\\\n",
       "\\end{tabular}\n"
      ],
      "text/markdown": [
       "\n",
       "| V1 | V2 | V3 | V4 | V5 | V6 | V7 | V8 | V9 | V10 | ... | V14 | V15 | V16 | V17 | V18 | V19 | V20 | V21 | V22 | V23 |\n",
       "|---|---|---|---|---|---|---|---|---|---|---|---|---|---|---|---|---|---|---|---|---|\n",
       "| p   | x   | s   | n   | t   | p   | f   | c   | n   | k   | ... | s   | w   | w   | p   | w   | o   | p   | k   | s   | u   |\n",
       "| e   | x   | s   | y   | t   | a   | f   | c   | b   | k   | ... | s   | w   | w   | p   | w   | o   | p   | n   | n   | g   |\n",
       "| e   | b   | s   | w   | t   | l   | f   | c   | b   | n   | ... | s   | w   | w   | p   | w   | o   | p   | n   | n   | m   |\n",
       "| p   | x   | y   | w   | t   | p   | f   | c   | n   | n   | ... | s   | w   | w   | p   | w   | o   | p   | k   | s   | u   |\n",
       "| e   | x   | s   | g   | f   | n   | f   | w   | b   | k   | ... | s   | w   | w   | p   | w   | o   | e   | n   | a   | g   |\n",
       "| e   | x   | y   | y   | t   | a   | f   | c   | b   | n   | ... | s   | w   | w   | p   | w   | o   | p   | k   | n   | g   |\n",
       "\n"
      ],
      "text/plain": [
       "  V1 V2 V3 V4 V5 V6 V7 V8 V9 V10 ... V14 V15 V16 V17 V18 V19 V20 V21 V22 V23\n",
       "1 p  x  s  n  t  p  f  c  n  k   ... s   w   w   p   w   o   p   k   s   u  \n",
       "2 e  x  s  y  t  a  f  c  b  k   ... s   w   w   p   w   o   p   n   n   g  \n",
       "3 e  b  s  w  t  l  f  c  b  n   ... s   w   w   p   w   o   p   n   n   m  \n",
       "4 p  x  y  w  t  p  f  c  n  n   ... s   w   w   p   w   o   p   k   s   u  \n",
       "5 e  x  s  g  f  n  f  w  b  k   ... s   w   w   p   w   o   e   n   a   g  \n",
       "6 e  x  y  y  t  a  f  c  b  n   ... s   w   w   p   w   o   p   k   n   g  "
      ]
     },
     "metadata": {},
     "output_type": "display_data"
    },
    {
     "name": "stdout",
     "output_type": "stream",
     "text": [
      "'data.frame':\t8124 obs. of  23 variables:\n",
      " $ V1 : Factor w/ 2 levels \"e\",\"p\": 2 1 1 2 1 1 1 1 2 1 ...\n",
      " $ V2 : Factor w/ 6 levels \"b\",\"c\",\"f\",\"k\",..: 6 6 1 6 6 6 1 1 6 1 ...\n",
      " $ V3 : Factor w/ 4 levels \"f\",\"g\",\"s\",\"y\": 3 3 3 4 3 4 3 4 4 3 ...\n",
      " $ V4 : Factor w/ 10 levels \"b\",\"c\",\"e\",\"g\",..: 5 10 9 9 4 10 9 9 9 10 ...\n",
      " $ V5 : Factor w/ 2 levels \"f\",\"t\": 2 2 2 2 1 2 2 2 2 2 ...\n",
      " $ V6 : Factor w/ 9 levels \"a\",\"c\",\"f\",\"l\",..: 7 1 4 7 6 1 1 4 7 1 ...\n",
      " $ V7 : Factor w/ 2 levels \"a\",\"f\": 2 2 2 2 2 2 2 2 2 2 ...\n",
      " $ V8 : Factor w/ 2 levels \"c\",\"w\": 1 1 1 1 2 1 1 1 1 1 ...\n",
      " $ V9 : Factor w/ 2 levels \"b\",\"n\": 2 1 1 2 1 1 1 1 2 1 ...\n",
      " $ V10: Factor w/ 12 levels \"b\",\"e\",\"g\",\"h\",..: 5 5 6 6 5 6 3 6 8 3 ...\n",
      " $ V11: Factor w/ 2 levels \"e\",\"t\": 1 1 1 1 2 1 1 1 1 1 ...\n",
      " $ V12: Factor w/ 5 levels \"?\",\"b\",\"c\",\"e\",..: 4 3 3 4 4 3 3 3 4 3 ...\n",
      " $ V13: Factor w/ 4 levels \"f\",\"k\",\"s\",\"y\": 3 3 3 3 3 3 3 3 3 3 ...\n",
      " $ V14: Factor w/ 4 levels \"f\",\"k\",\"s\",\"y\": 3 3 3 3 3 3 3 3 3 3 ...\n",
      " $ V15: Factor w/ 9 levels \"b\",\"c\",\"e\",\"g\",..: 8 8 8 8 8 8 8 8 8 8 ...\n",
      " $ V16: Factor w/ 9 levels \"b\",\"c\",\"e\",\"g\",..: 8 8 8 8 8 8 8 8 8 8 ...\n",
      " $ V17: Factor w/ 1 level \"p\": 1 1 1 1 1 1 1 1 1 1 ...\n",
      " $ V18: Factor w/ 4 levels \"n\",\"o\",\"w\",\"y\": 3 3 3 3 3 3 3 3 3 3 ...\n",
      " $ V19: Factor w/ 3 levels \"n\",\"o\",\"t\": 2 2 2 2 2 2 2 2 2 2 ...\n",
      " $ V20: Factor w/ 5 levels \"e\",\"f\",\"l\",\"n\",..: 5 5 5 5 1 5 5 5 5 5 ...\n",
      " $ V21: Factor w/ 9 levels \"b\",\"h\",\"k\",\"n\",..: 3 4 4 3 4 3 3 4 3 3 ...\n",
      " $ V22: Factor w/ 6 levels \"a\",\"c\",\"n\",\"s\",..: 4 3 3 4 1 3 3 4 5 4 ...\n",
      " $ V23: Factor w/ 7 levels \"d\",\"g\",\"l\",\"m\",..: 6 2 4 6 2 2 4 4 2 4 ...\n"
     ]
    },
    {
     "data": {
      "text/plain": [
       " V1       V2       V3             V4       V5             V6       V7      \n",
       " e:4208   b: 452   f:2320   n      :2284   f:4748   n      :3528   a: 210  \n",
       " p:3916   c:   4   g:   4   g      :1840   t:3376   f      :2160   f:7914  \n",
       "          f:3152   s:2556   e      :1500            s      : 576           \n",
       "          k: 828   y:3244   y      :1072            y      : 576           \n",
       "          s:  32            w      :1040            a      : 400           \n",
       "          x:3656            b      : 168            l      : 400           \n",
       "                            (Other): 220            (Other): 484           \n",
       " V8       V9            V10       V11      V12      V13      V14     \n",
       " c:6812   b:5612   b      :1728   e:3516   ?:2480   f: 552   f: 600  \n",
       " w:1312   n:2512   p      :1492   t:4608   b:3776   k:2372   k:2304  \n",
       "                   w      :1202            c: 556   s:5176   s:4936  \n",
       "                   n      :1048            e:1120   y:  24   y: 284  \n",
       "                   g      : 752            r: 192                    \n",
       "                   h      : 732                                      \n",
       "                   (Other):1170                                      \n",
       "      V15            V16       V17      V18      V19      V20     \n",
       " w      :4464   w      :4384   p:8124   n:  96   n:  36   e:2776  \n",
       " p      :1872   p      :1872            o:  96   o:7488   f:  48  \n",
       " g      : 576   g      : 576            w:7924   t: 600   l:1296  \n",
       " n      : 448   n      : 512            y:   8            n:  36  \n",
       " b      : 432   b      : 432                              p:3968  \n",
       " o      : 192   o      : 192                                      \n",
       " (Other): 140   (Other): 156                                      \n",
       "      V21       V22      V23     \n",
       " w      :2388   a: 384   d:3148  \n",
       " n      :1968   c: 340   g:2148  \n",
       " k      :1872   n: 400   l: 832  \n",
       " h      :1632   s:1248   m: 292  \n",
       " r      :  72   v:4040   p:1144  \n",
       " b      :  48   y:1712   u: 368  \n",
       " (Other): 144            w: 192  "
      ]
     },
     "metadata": {},
     "output_type": "display_data"
    }
   ],
   "source": [
    "mushroom <- read.csv(\"../Data/mushroom.csv\", header = F)\n",
    "head(mushroom)\n",
    "str(mushroom)\n",
    "summary(mushroom)"
   ]
  },
  {
   "cell_type": "code",
   "execution_count": 18,
   "id": "1e53b874",
   "metadata": {},
   "outputs": [],
   "source": [
    "for(i in 1:ncol(mushroom)) {\n",
    "    mushroom[,i] <- as.integer(mushroom[,i])\n",
    "}"
   ]
  },
  {
   "cell_type": "code",
   "execution_count": 4,
   "id": "83f70353",
   "metadata": {},
   "outputs": [
    {
     "name": "stdout",
     "output_type": "stream",
     "text": [
      "'data.frame':\t8124 obs. of  23 variables:\n",
      " $ V1 : int  2 1 1 2 1 1 1 1 2 1 ...\n",
      " $ V2 : int  6 6 1 6 6 6 1 1 6 1 ...\n",
      " $ V3 : int  3 3 3 4 3 4 3 4 4 3 ...\n",
      " $ V4 : int  5 10 9 9 4 10 9 9 9 10 ...\n",
      " $ V5 : int  2 2 2 2 1 2 2 2 2 2 ...\n",
      " $ V6 : int  7 1 4 7 6 1 1 4 7 1 ...\n",
      " $ V7 : int  2 2 2 2 2 2 2 2 2 2 ...\n",
      " $ V8 : int  1 1 1 1 2 1 1 1 1 1 ...\n",
      " $ V9 : int  2 1 1 2 1 1 1 1 2 1 ...\n",
      " $ V10: int  5 5 6 6 5 6 3 6 8 3 ...\n",
      " $ V11: int  1 1 1 1 2 1 1 1 1 1 ...\n",
      " $ V12: int  4 3 3 4 4 3 3 3 4 3 ...\n",
      " $ V13: int  3 3 3 3 3 3 3 3 3 3 ...\n",
      " $ V14: int  3 3 3 3 3 3 3 3 3 3 ...\n",
      " $ V15: int  8 8 8 8 8 8 8 8 8 8 ...\n",
      " $ V16: int  8 8 8 8 8 8 8 8 8 8 ...\n",
      " $ V17: int  1 1 1 1 1 1 1 1 1 1 ...\n",
      " $ V18: int  3 3 3 3 3 3 3 3 3 3 ...\n",
      " $ V19: int  2 2 2 2 2 2 2 2 2 2 ...\n",
      " $ V20: int  5 5 5 5 1 5 5 5 5 5 ...\n",
      " $ V21: int  3 4 4 3 4 3 3 4 3 3 ...\n",
      " $ V22: int  4 3 3 4 1 3 3 4 5 4 ...\n",
      " $ V23: int  6 2 4 6 2 2 4 4 2 4 ...\n"
     ]
    }
   ],
   "source": [
    "str(mushroom)  # 타겟 정렬필요, iris와 비교시 데이터 정렬 안되어 있으므로 데이터 정렬 후 샘플링 진행"
   ]
  },
  {
   "cell_type": "code",
   "execution_count": 15,
   "id": "c074de52",
   "metadata": {},
   "outputs": [
    {
     "name": "stderr",
     "output_type": "stream",
     "text": [
      "\n",
      "Attaching package: ‘dplyr’\n",
      "\n",
      "The following object is masked from ‘package:randomForest’:\n",
      "\n",
      "    combine\n",
      "\n",
      "The following objects are masked from ‘package:stats’:\n",
      "\n",
      "    filter, lag\n",
      "\n",
      "The following objects are masked from ‘package:base’:\n",
      "\n",
      "    intersect, setdiff, setequal, union\n",
      "\n"
     ]
    }
   ],
   "source": [
    "# Sampling\n",
    "library(caret)\n",
    "library(dplyr)\n",
    "\n",
    "# 과대적합 - 의미없는 숫자를 다를 형태로 표현해야 한다, 주어진 데이터셋 안에서만 예측가능 실제 데이터 사용시 문제 발생\n",
    "# 데이터 비율이 6:4 까지는 그대로 사용\n",
    "# 타겟대로 정렬하여 학습필요\n",
    "\n",
    "samp <- createDataPartition(mushroom[,1], p=0.7, list=F)\n",
    "\n",
    "# 학습용 데이터 만들기\n",
    "data.tr <- mushroom[samp,]\n",
    "\n",
    "# 검증용 데이터 만들기\n",
    "data.test <- mushroom[-samp,]\n",
    "\n",
    "x <- subset(data.test, select = -V1)\n",
    "y <- data.test$V1"
   ]
  },
  {
   "cell_type": "code",
   "execution_count": 6,
   "id": "773051af",
   "metadata": {},
   "outputs": [
    {
     "name": "stdout",
     "output_type": "stream",
     "text": [
      "# weights:  73\n",
      "initial  value 6871.321565 \n",
      "final  value 2718.000000 \n",
      "converged\n"
     ]
    },
    {
     "data": {
      "text/html": [
       "0.508411981945014"
      ],
      "text/latex": [
       "0.508411981945014"
      ],
      "text/markdown": [
       "0.508411981945014"
      ],
      "text/plain": [
       "[1] 0.508412"
      ]
     },
     "metadata": {},
     "output_type": "display_data"
    }
   ],
   "source": [
    "# 인공신경망\n",
    "library(nnet)\n",
    "model.nnet <- nnet(V1 ~ ., data=data.tr, size = 3) \n",
    "pred <- predict(model.nnet, x) \n",
    "mean(pred==y)"
   ]
  },
  {
   "cell_type": "code",
   "execution_count": 11,
   "id": "9cdbe09f",
   "metadata": {
    "scrolled": true
   },
   "outputs": [
    {
     "data": {
      "text/html": [
       "1"
      ],
      "text/latex": [
       "1"
      ],
      "text/markdown": [
       "1"
      ],
      "text/plain": [
       "[1] 1"
      ]
     },
     "metadata": {},
     "output_type": "display_data"
    },
    {
     "data": {
      "text/plain": [
       "    y\n",
       "pred    1    2\n",
       "   1 1239    0\n",
       "   2    0 1198"
      ]
     },
     "metadata": {},
     "output_type": "display_data"
    }
   ],
   "source": [
    "# 의사결정나무\n",
    "library(party)\n",
    "model.ctree <- ctree(V1 ~., data=data.tr)\n",
    "pred <- predict(model.ctree, x)\n",
    "mean(pred == y)\n",
    "table(pred, y)"
   ]
  },
  {
   "cell_type": "code",
   "execution_count": 12,
   "id": "ff0c9bf8",
   "metadata": {},
   "outputs": [
    {
     "name": "stderr",
     "output_type": "stream",
     "text": [
      "Warning message in randomForest.default(m, y, ...):\n",
      "“The response has five or fewer unique values.  Are you sure you want to do regression?”"
     ]
    },
    {
     "data": {
      "text/html": [
       "1"
      ],
      "text/latex": [
       "1"
      ],
      "text/markdown": [
       "1"
      ],
      "text/plain": [
       "[1] 1"
      ]
     },
     "metadata": {},
     "output_type": "display_data"
    },
    {
     "data": {
      "text/plain": [
       "    y\n",
       "pred    1    2\n",
       "   1 1239    0\n",
       "   2    0 1198"
      ]
     },
     "metadata": {},
     "output_type": "display_data"
    }
   ],
   "source": [
    "# RandomForest\n",
    "library(randomForest)\n",
    "model.rf <- randomForest(V1 ~., data = data.tr, ntree=100)\n",
    "pred <- round(predict(model.rf, x))\n",
    "mean(pred == y)\n",
    "table(pred, y)\n"
   ]
  },
  {
   "cell_type": "code",
   "execution_count": 13,
   "id": "d6ef31c0",
   "metadata": {},
   "outputs": [
    {
     "name": "stderr",
     "output_type": "stream",
     "text": [
      "Warning message in svm.default(x, y, scale = scale, ..., na.action = na.action):\n",
      "“Variable(s) ‘V17’ constant. Cannot scale data.”"
     ]
    },
    {
     "data": {
      "text/html": [
       "1"
      ],
      "text/latex": [
       "1"
      ],
      "text/markdown": [
       "1"
      ],
      "text/plain": [
       "[1] 1"
      ]
     },
     "metadata": {},
     "output_type": "display_data"
    },
    {
     "data": {
      "text/plain": [
       "    y\n",
       "pred    1    2\n",
       "   1 1239    0\n",
       "   2    0 1198"
      ]
     },
     "metadata": {},
     "output_type": "display_data"
    }
   ],
   "source": [
    "# SVM\n",
    "library(e1071)\n",
    "\n",
    "model.svm <- svm(V1 ~., data=data.tr)\n",
    "pred <- round(predict(model.svm, x))\n",
    "mean(pred == y)\n",
    "table(pred, y)"
   ]
  },
  {
   "cell_type": "code",
   "execution_count": 14,
   "id": "80aa209b",
   "metadata": {},
   "outputs": [
    {
     "name": "stdout",
     "output_type": "stream",
     "text": [
      "# weights:  24 (23 variable)\n",
      "initial  value 3941.928016 \n",
      "iter  10 value 1566.381850\n",
      "iter  20 value 1222.616447\n",
      "iter  30 value 814.581171\n",
      "iter  40 value 756.607839\n",
      "iter  50 value 744.120487\n",
      "final  value 744.120038 \n",
      "converged\n"
     ]
    },
    {
     "data": {
      "text/html": [
       "0.964710709889208"
      ],
      "text/latex": [
       "0.964710709889208"
      ],
      "text/markdown": [
       "0.964710709889208"
      ],
      "text/plain": [
       "[1] 0.9647107"
      ]
     },
     "metadata": {},
     "output_type": "display_data"
    },
    {
     "data": {
      "text/plain": [
       "    y\n",
       "pred    1    2\n",
       "   1 1195   42\n",
       "   2   44 1156"
      ]
     },
     "metadata": {},
     "output_type": "display_data"
    }
   ],
   "source": [
    "# 로지스틱 회귀분석\n",
    "\n",
    "model <- multinom(V1 ~ ., data=data.tr)\n",
    "pred <- predict(model, data.test)\n",
    "\n",
    "mean(pred == y)\n",
    "table(pred, y)"
   ]
  },
  {
   "cell_type": "code",
   "execution_count": null,
   "id": "63ea18a6",
   "metadata": {},
   "outputs": [],
   "source": []
  },
  {
   "cell_type": "code",
   "execution_count": null,
   "id": "9e3ddd44",
   "metadata": {},
   "outputs": [],
   "source": []
  },
  {
   "cell_type": "code",
   "execution_count": null,
   "id": "ad65d3e2",
   "metadata": {},
   "outputs": [],
   "source": []
  }
 ],
 "metadata": {
  "kernelspec": {
   "display_name": "R",
   "language": "R",
   "name": "ir"
  },
  "language_info": {
   "codemirror_mode": "r",
   "file_extension": ".r",
   "mimetype": "text/x-r-source",
   "name": "R",
   "pygments_lexer": "r",
   "version": "3.6.1"
  }
 },
 "nbformat": 4,
 "nbformat_minor": 5
}
