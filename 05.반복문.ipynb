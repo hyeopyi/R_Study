{
 "cells": [
  {
   "cell_type": "markdown",
   "id": "d01db4c1",
   "metadata": {},
   "source": [
    "---\n",
    "# for문"
   ]
  },
  {
   "cell_type": "code",
   "execution_count": 1,
   "id": "de17f457",
   "metadata": {},
   "outputs": [
    {
     "name": "stdout",
     "output_type": "stream",
     "text": [
      "[1] 1\n",
      "[1] 2\n",
      "[1] 3\n",
      "[1] 4\n",
      "[1] 5\n",
      "[1] 6\n",
      "[1] 7\n",
      "[1] 8\n",
      "[1] 9\n",
      "[1] 10\n"
     ]
    }
   ],
   "source": [
    "# 1 - 10까지의 숫자 출력\n",
    "for(i in 1:10) {\n",
    "    print(i)\n",
    "}"
   ]
  },
  {
   "cell_type": "code",
   "execution_count": 2,
   "id": "66dc6458",
   "metadata": {},
   "outputs": [
    {
     "name": "stdout",
     "output_type": "stream",
     "text": [
      "[1] 1\n",
      "[1] 1.414214\n",
      "[1] 1.732051\n"
     ]
    }
   ],
   "source": [
    "for(i in 1:3) {\n",
    "    print(sqrt(i))\n",
    "}"
   ]
  },
  {
   "cell_type": "code",
   "execution_count": 3,
   "id": "86b06352",
   "metadata": {},
   "outputs": [
    {
     "name": "stdout",
     "output_type": "stream",
     "text": [
      "[1] 1\n",
      "[1] 1.732051\n",
      "[1] 2.236068\n"
     ]
    }
   ],
   "source": [
    "for(i in c(1,3,5)) {\n",
    "    print(sqrt(i))\n",
    "}"
   ]
  },
  {
   "cell_type": "code",
   "execution_count": 4,
   "id": "57a4d3ce",
   "metadata": {},
   "outputs": [
    {
     "name": "stdout",
     "output_type": "stream",
     "text": [
      "[1] 1\n",
      "[1] 1.414214\n",
      "[1] 1.732051\n",
      "[1] 2\n",
      "[1] 2.236068\n",
      "[1] 2.44949\n",
      "[1] 2.645751\n",
      "[1] 2.828427\n",
      "[1] 3\n",
      "[1] 3.162278\n"
     ]
    }
   ],
   "source": [
    "# 1-10까지의 제곱근 구하기\n",
    "for(i in 1:10) {\n",
    "    print(sqrt(i))\n",
    "}"
   ]
  },
  {
   "cell_type": "code",
   "execution_count": 5,
   "id": "0ac339de",
   "metadata": {},
   "outputs": [
    {
     "name": "stdout",
     "output_type": "stream",
     "text": [
      "1 => 1 \n",
      "2 => 1.414214 \n",
      "3 => 1.732051 \n",
      "4 => 2 \n",
      "5 => 2.236068 \n",
      "6 => 2.44949 \n",
      "7 => 2.645751 \n",
      "8 => 2.828427 \n",
      "9 => 3 \n",
      "10 => 3.162278 \n"
     ]
    }
   ],
   "source": [
    "for(i in 1:10) {\n",
    "    cat(i, '=>', sqrt(i), '\\n')\n",
    "}"
   ]
  },
  {
   "cell_type": "code",
   "execution_count": 6,
   "id": "6f1efd4d",
   "metadata": {},
   "outputs": [
    {
     "name": "stdout",
     "output_type": "stream",
     "text": [
      "홀수의 합은 604 이고 짝수의 합은 852"
     ]
    }
   ],
   "source": [
    "# excel에서 q3 컬럼 데이터의 홀수의 합과 짝수의 합 구하기\n",
    "excel <- read.csv(\"../Data/excel.csv\")\n",
    "\n",
    "sumEven <- 0\n",
    "sumOdd <- 0\n",
    "for(i in excel$q3) {\n",
    "    if(i %%2 == 0) {\n",
    "        sumEven = sumEven + i\n",
    "    }else {\n",
    "        sumOdd = sumOdd + i\n",
    "    }\n",
    "}\n",
    "\n",
    "cat('홀수의 합은', sumOdd, '이고 짝수의 합은', sumEven)\n"
   ]
  },
  {
   "cell_type": "code",
   "execution_count": 7,
   "id": "3c5f371f",
   "metadata": {},
   "outputs": [
    {
     "name": "stdout",
     "output_type": "stream",
     "text": [
      "q3 컬럼의 3의 배수 합게는 216"
     ]
    }
   ],
   "source": [
    "# excel에서 q3 컬럼 데이터중 3의 배수의 합계 구하기\n",
    "\n",
    "sum3 <- 0\n",
    "\n",
    "for(i in excel$q3) {\n",
    "    if(i %% 3 == 0){\n",
    "        sum3 = sum3 + i\n",
    "    }\n",
    "}\n",
    "\n",
    "\n",
    "cat('q3 컬럼의 3의 배수 합게는', sum3)"
   ]
  },
  {
   "cell_type": "code",
   "execution_count": 8,
   "id": "d0dfba88",
   "metadata": {},
   "outputs": [
    {
     "name": "stdout",
     "output_type": "stream",
     "text": [
      "q3 컬럼 데이터중 3의 배수도 되고 4의 배수도 되는 수의 합은 0"
     ]
    }
   ],
   "source": [
    "# excel에서 q3 컬럼 데이터중 3의 배수도 되고 4의 배수도 되는 수의 합계를 구하시오.\n",
    "sum <- 0\n",
    "for(i in excel$q3) {\n",
    "    if( i %% 3 == 0 & i %% 4 == 0)\n",
    "        sum = sum + i\n",
    "}\n",
    "\n",
    "cat('q3 컬럼 데이터중 3의 배수도 되고 4의 배수도 되는 수의 합은', sum)\n"
   ]
  },
  {
   "cell_type": "code",
   "execution_count": 9,
   "id": "3ea0936c",
   "metadata": {},
   "outputs": [
    {
     "name": "stdout",
     "output_type": "stream",
     "text": [
      "2 X 1 = 2 \n",
      "2 X 2 = 4 \n",
      "2 X 3 = 6 \n",
      "2 X 4 = 8 \n",
      "2 X 5 = 10 \n",
      "2 X 6 = 12 \n",
      "2 X 7 = 14 \n",
      "2 X 8 = 16 \n",
      "2 X 9 = 18 \n"
     ]
    }
   ],
   "source": [
    "for(i in 1:9) {\n",
    "    cat('2 X', i, '=', 2*i, '\\n')\n",
    "}"
   ]
  },
  {
   "cell_type": "code",
   "execution_count": 10,
   "id": "d6e063b8",
   "metadata": {},
   "outputs": [
    {
     "name": "stdout",
     "output_type": "stream",
     "text": [
      "단을 입력하세요!5\n",
      "5 X 1 = 5 \n",
      "5 X 2 = 10 \n",
      "5 X 3 = 15 \n",
      "5 X 4 = 20 \n",
      "5 X 5 = 25 \n",
      "5 X 6 = 30 \n",
      "5 X 7 = 35 \n",
      "5 X 8 = 40 \n",
      "5 X 9 = 45 \n"
     ]
    }
   ],
   "source": [
    "# 사용자로부터 몇단을 출력할지 단수를 입력받아 구구단 출력하기.\n",
    "dan <- as.integer(readline(\"단을 입력하세요!\"))\n",
    "for(i in 1:9) {\n",
    "    cat(dan, 'X', i, '=', dan*i, '\\n')  \n",
    "}"
   ]
  },
  {
   "cell_type": "code",
   "execution_count": 11,
   "id": "5560743b",
   "metadata": {},
   "outputs": [
    {
     "name": "stdout",
     "output_type": "stream",
     "text": [
      "단을 입력하세요!12\n",
      "12 X 1 = 12 \n",
      "12 X 2 = 24 \n",
      "12 X 3 = 36 \n",
      "12 X 4 = 48 \n",
      "12 X 5 = 60 \n",
      "12 X 6 = 72 \n",
      "12 X 7 = 84 \n",
      "12 X 8 = 96 \n",
      "12 X 9 = 108 \n"
     ]
    },
    {
     "data": {
      "text/html": [
       "<ol class=list-inline>\n",
       "\t<li>12</li>\n",
       "\t<li>24</li>\n",
       "\t<li>36</li>\n",
       "\t<li>48</li>\n",
       "\t<li>60</li>\n",
       "\t<li>72</li>\n",
       "\t<li>84</li>\n",
       "\t<li>96</li>\n",
       "\t<li>108</li>\n",
       "</ol>\n"
      ],
      "text/latex": [
       "\\begin{enumerate*}\n",
       "\\item 12\n",
       "\\item 24\n",
       "\\item 36\n",
       "\\item 48\n",
       "\\item 60\n",
       "\\item 72\n",
       "\\item 84\n",
       "\\item 96\n",
       "\\item 108\n",
       "\\end{enumerate*}\n"
      ],
      "text/markdown": [
       "1. 12\n",
       "2. 24\n",
       "3. 36\n",
       "4. 48\n",
       "5. 60\n",
       "6. 72\n",
       "7. 84\n",
       "8. 96\n",
       "9. 108\n",
       "\n",
       "\n"
      ],
      "text/plain": [
       "[1]  12  24  36  48  60  72  84  96 108"
      ]
     },
     "metadata": {},
     "output_type": "display_data"
    }
   ],
   "source": [
    "# 사용자로부터 몇단을 출력할지 단수를 입력받아 구구단 출력하기.\n",
    "# for문 결과 벡터저장\n",
    "num <- c()\n",
    "dan <- as.integer(readline(\"단을 입력하세요!\"))\n",
    "for(i in 1:9) {\n",
    "    cat(dan, 'X', i, '=', dan*i, '\\n')  \n",
    "    num = append(num, dan*i)\n",
    "}\n",
    "num"
   ]
  },
  {
   "cell_type": "code",
   "execution_count": 12,
   "id": "fc245288",
   "metadata": {},
   "outputs": [],
   "source": [
    "# 구구단 함수 만들기 - 1\n",
    "\n",
    "gugu <- function() {\n",
    "    dan <- as.integer(readline(\"단을 입력하세요!\"))\n",
    "    for(i in 1:9) {\n",
    "        cat(dan, 'X', i, '=', dan*i, '\\n')  \n",
    "        num = append(num, dan*i)\n",
    "    }\n",
    "}"
   ]
  },
  {
   "cell_type": "code",
   "execution_count": 13,
   "id": "650c11cb",
   "metadata": {},
   "outputs": [
    {
     "name": "stdout",
     "output_type": "stream",
     "text": [
      "단을 입력하세요!12\n",
      "12 X 1 = 12 \n",
      "12 X 2 = 24 \n",
      "12 X 3 = 36 \n",
      "12 X 4 = 48 \n",
      "12 X 5 = 60 \n",
      "12 X 6 = 72 \n",
      "12 X 7 = 84 \n",
      "12 X 8 = 96 \n",
      "12 X 9 = 108 \n"
     ]
    }
   ],
   "source": [
    "gugu()"
   ]
  },
  {
   "cell_type": "code",
   "execution_count": 14,
   "id": "ea29f700",
   "metadata": {},
   "outputs": [
    {
     "name": "stdout",
     "output_type": "stream",
     "text": [
      "단을 입력하세요!12\n",
      "12 X 1 = 12 \n",
      "12 X 2 = 24 \n",
      "12 X 3 = 36 \n",
      "12 X 4 = 48 \n",
      "12 X 5 = 60 \n",
      "12 X 6 = 72 \n",
      "12 X 7 = 84 \n",
      "12 X 8 = 96 \n",
      "12 X 9 = 108 \n"
     ]
    }
   ],
   "source": [
    "gugu()"
   ]
  },
  {
   "cell_type": "code",
   "execution_count": 15,
   "id": "5ba18430",
   "metadata": {},
   "outputs": [],
   "source": [
    " # 구구단 함수 만들기 - 2\n",
    "gugu <- function(x) {\n",
    "    for(i in 1:9){\n",
    "        cat(x, \"X\", i, \"=\", x*i, '\\n')\n",
    "    }\n",
    "}"
   ]
  },
  {
   "cell_type": "code",
   "execution_count": 16,
   "id": "2e117003",
   "metadata": {},
   "outputs": [
    {
     "name": "stdout",
     "output_type": "stream",
     "text": [
      "5 X 1 = 5 \n",
      "5 X 2 = 10 \n",
      "5 X 3 = 15 \n",
      "5 X 4 = 20 \n",
      "5 X 5 = 25 \n",
      "5 X 6 = 30 \n",
      "5 X 7 = 35 \n",
      "5 X 8 = 40 \n",
      "5 X 9 = 45 \n"
     ]
    }
   ],
   "source": [
    "gugu(5)"
   ]
  },
  {
   "cell_type": "code",
   "execution_count": 17,
   "id": "d7881191",
   "metadata": {},
   "outputs": [],
   "source": [
    "# 구구단 함수 만들기 - 3\n",
    "gugu <- function(x, y) {\n",
    "    for(i in 1:y){\n",
    "        cat(x, \"X\", i, \"=\", x*i, '\\n')\n",
    "    }\n",
    "} "
   ]
  },
  {
   "cell_type": "code",
   "execution_count": 18,
   "id": "cb9183aa",
   "metadata": {},
   "outputs": [
    {
     "name": "stdout",
     "output_type": "stream",
     "text": [
      "3 X 1 = 3 \n",
      "3 X 2 = 6 \n",
      "3 X 3 = 9 \n",
      "3 X 4 = 12 \n",
      "3 X 5 = 15 \n",
      "3 X 6 = 18 \n",
      "3 X 7 = 21 \n",
      "3 X 8 = 24 \n",
      "3 X 9 = 27 \n",
      "3 X 10 = 30 \n",
      "3 X 11 = 33 \n",
      "3 X 12 = 36 \n"
     ]
    }
   ],
   "source": [
    "gugu(3,12)"
   ]
  },
  {
   "cell_type": "code",
   "execution_count": 19,
   "id": "53049e49",
   "metadata": {},
   "outputs": [
    {
     "name": "stdout",
     "output_type": "stream",
     "text": [
      "2 X 1 = 2 \n",
      "2 X 2 = 4 \n",
      "2 X 3 = 6 \n",
      "2 X 4 = 8 \n",
      "2 X 5 = 10 \n",
      "2 X 6 = 12 \n",
      "2 X 7 = 14 \n",
      "2 X 8 = 16 \n",
      "2 X 9 = 18 \n",
      "--------------\n",
      "3 X 1 = 3 \n",
      "3 X 2 = 6 \n",
      "3 X 3 = 9 \n",
      "3 X 4 = 12 \n",
      "3 X 5 = 15 \n",
      "3 X 6 = 18 \n",
      "3 X 7 = 21 \n",
      "3 X 8 = 24 \n",
      "3 X 9 = 27 \n",
      "--------------\n",
      "4 X 1 = 4 \n",
      "4 X 2 = 8 \n",
      "4 X 3 = 12 \n",
      "4 X 4 = 16 \n",
      "4 X 5 = 20 \n",
      "4 X 6 = 24 \n",
      "4 X 7 = 28 \n",
      "4 X 8 = 32 \n",
      "4 X 9 = 36 \n",
      "--------------\n",
      "5 X 1 = 5 \n",
      "5 X 2 = 10 \n",
      "5 X 3 = 15 \n",
      "5 X 4 = 20 \n",
      "5 X 5 = 25 \n",
      "5 X 6 = 30 \n",
      "5 X 7 = 35 \n",
      "5 X 8 = 40 \n",
      "5 X 9 = 45 \n",
      "--------------\n",
      "6 X 1 = 6 \n",
      "6 X 2 = 12 \n",
      "6 X 3 = 18 \n",
      "6 X 4 = 24 \n",
      "6 X 5 = 30 \n",
      "6 X 6 = 36 \n",
      "6 X 7 = 42 \n",
      "6 X 8 = 48 \n",
      "6 X 9 = 54 \n",
      "--------------\n",
      "7 X 1 = 7 \n",
      "7 X 2 = 14 \n",
      "7 X 3 = 21 \n",
      "7 X 4 = 28 \n",
      "7 X 5 = 35 \n",
      "7 X 6 = 42 \n",
      "7 X 7 = 49 \n",
      "7 X 8 = 56 \n",
      "7 X 9 = 63 \n",
      "--------------\n",
      "8 X 1 = 8 \n",
      "8 X 2 = 16 \n",
      "8 X 3 = 24 \n",
      "8 X 4 = 32 \n",
      "8 X 5 = 40 \n",
      "8 X 6 = 48 \n",
      "8 X 7 = 56 \n",
      "8 X 8 = 64 \n",
      "8 X 9 = 72 \n",
      "--------------\n",
      "9 X 1 = 9 \n",
      "9 X 2 = 18 \n",
      "9 X 3 = 27 \n",
      "9 X 4 = 36 \n",
      "9 X 5 = 45 \n",
      "9 X 6 = 54 \n",
      "9 X 7 = 63 \n",
      "9 X 8 = 72 \n",
      "9 X 9 = 81 \n",
      "--------------\n"
     ]
    }
   ],
   "source": [
    "# 구구단 전체 출력하기\n",
    "for(i in 2:9) {\n",
    "    for(j in 1: 9) {\n",
    "        cat(i, 'X', j, '=', i*j,'\\n')\n",
    "    }\n",
    "    cat('--------------\\n')\n",
    "}"
   ]
  },
  {
   "cell_type": "code",
   "execution_count": 20,
   "id": "197d98b5",
   "metadata": {},
   "outputs": [
    {
     "name": "stdout",
     "output_type": "stream",
     "text": [
      "2 X 2 = 4 \n",
      "2 X 4 = 8 \n",
      "2 X 6 = 12 \n",
      "2 X 8 = 16 \n",
      "--------------\n",
      "4 X 2 = 8 \n",
      "4 X 4 = 16 \n",
      "4 X 6 = 24 \n",
      "4 X 8 = 32 \n",
      "--------------\n",
      "6 X 2 = 12 \n",
      "6 X 4 = 24 \n",
      "6 X 6 = 36 \n",
      "6 X 8 = 48 \n",
      "--------------\n",
      "8 X 2 = 16 \n",
      "8 X 4 = 32 \n",
      "8 X 6 = 48 \n",
      "8 X 8 = 64 \n",
      "--------------\n"
     ]
    }
   ],
   "source": [
    "for(i in seq(2, 8, 2)) {\n",
    "    for(j in seq(2, 8, 2)) {\n",
    "        cat(i, 'X', j, '=', i*j,'\\n')\n",
    "    }\n",
    "    cat('--------------\\n')\n",
    "}"
   ]
  },
  {
   "cell_type": "code",
   "execution_count": 21,
   "id": "21b0c7ed",
   "metadata": {},
   "outputs": [],
   "source": [
    "gugu2 <- function(x, y) {\n",
    "    for(i in seq(x, y, 2)) {\n",
    "        for(j in seq(x, y, 2)) {\n",
    "            cat(i, 'X', j, '=', i*j,'\\n')\n",
    "        }\n",
    "        cat('--------------\\n')\n",
    "    }\n",
    "}"
   ]
  },
  {
   "cell_type": "code",
   "execution_count": 22,
   "id": "800c966a",
   "metadata": {},
   "outputs": [
    {
     "name": "stdout",
     "output_type": "stream",
     "text": [
      "2 X 2 = 4 \n",
      "2 X 4 = 8 \n",
      "2 X 6 = 12 \n",
      "2 X 8 = 16 \n",
      "--------------\n",
      "4 X 2 = 8 \n",
      "4 X 4 = 16 \n",
      "4 X 6 = 24 \n",
      "4 X 8 = 32 \n",
      "--------------\n",
      "6 X 2 = 12 \n",
      "6 X 4 = 24 \n",
      "6 X 6 = 36 \n",
      "6 X 8 = 48 \n",
      "--------------\n",
      "8 X 2 = 16 \n",
      "8 X 4 = 32 \n",
      "8 X 6 = 48 \n",
      "8 X 8 = 64 \n",
      "--------------\n"
     ]
    }
   ],
   "source": [
    "gugu2(2, 8)"
   ]
  },
  {
   "cell_type": "code",
   "execution_count": 23,
   "id": "1748b141",
   "metadata": {},
   "outputs": [
    {
     "name": "stdout",
     "output_type": "stream",
     "text": [
      "2 x 2 = 4 \n",
      "2 x 4 = 8 \n",
      "2 x 6 = 12 \n",
      "2 x 8 = 16 \n",
      "----------\n",
      "4 x 2 = 8 \n",
      "4 x 4 = 16 \n",
      "4 x 6 = 24 \n",
      "4 x 8 = 32 \n",
      "----------\n",
      "6 x 2 = 12 \n",
      "6 x 4 = 24 \n",
      "6 x 6 = 36 \n",
      "6 x 8 = 48 \n",
      "----------\n",
      "8 x 2 = 16 \n",
      "8 x 4 = 32 \n",
      "8 x 6 = 48 \n",
      "8 x 8 = 64 \n",
      "----------\n"
     ]
    }
   ],
   "source": [
    "# 구구단 for문 하나로 가능??\n",
    "\n",
    "for(i in seq(2,8,2)) {\n",
    "    cat(paste(i, 'x', seq(2,8,2), \"=\", i*seq(2,8,2) ,'\\n'), sep=\"\", '----------\\n')\n",
    "}"
   ]
  },
  {
   "cell_type": "code",
   "execution_count": 24,
   "id": "255cce33",
   "metadata": {},
   "outputs": [
    {
     "name": "stdout",
     "output_type": "stream",
     "text": [
      "2 x 1 = 2 \n",
      "2 x 2 = 4 \n",
      "2 x 3 = 6 \n",
      "2 x 4 = 8 \n",
      "2 x 5 = 10 \n",
      "2 x 6 = 12 \n",
      "2 x 7 = 14 \n",
      "2 x 8 = 16 \n",
      "2 x 9 = 18 \n",
      "----------\n",
      "3 x 1 = 3 \n",
      "3 x 2 = 6 \n",
      "3 x 3 = 9 \n",
      "3 x 4 = 12 \n",
      "3 x 5 = 15 \n",
      "3 x 6 = 18 \n",
      "3 x 7 = 21 \n",
      "3 x 8 = 24 \n",
      "3 x 9 = 27 \n",
      "----------\n",
      "4 x 1 = 4 \n",
      "4 x 2 = 8 \n",
      "4 x 3 = 12 \n",
      "4 x 4 = 16 \n",
      "4 x 5 = 20 \n",
      "4 x 6 = 24 \n",
      "4 x 7 = 28 \n",
      "4 x 8 = 32 \n",
      "4 x 9 = 36 \n",
      "----------\n",
      "5 x 1 = 5 \n",
      "5 x 2 = 10 \n",
      "5 x 3 = 15 \n",
      "5 x 4 = 20 \n",
      "5 x 5 = 25 \n",
      "5 x 6 = 30 \n",
      "5 x 7 = 35 \n",
      "5 x 8 = 40 \n",
      "5 x 9 = 45 \n",
      "----------\n",
      "6 x 1 = 6 \n",
      "6 x 2 = 12 \n",
      "6 x 3 = 18 \n",
      "6 x 4 = 24 \n",
      "6 x 5 = 30 \n",
      "6 x 6 = 36 \n",
      "6 x 7 = 42 \n",
      "6 x 8 = 48 \n",
      "6 x 9 = 54 \n",
      "----------\n",
      "7 x 1 = 7 \n",
      "7 x 2 = 14 \n",
      "7 x 3 = 21 \n",
      "7 x 4 = 28 \n",
      "7 x 5 = 35 \n",
      "7 x 6 = 42 \n",
      "7 x 7 = 49 \n",
      "7 x 8 = 56 \n",
      "7 x 9 = 63 \n",
      "----------\n",
      "8 x 1 = 8 \n",
      "8 x 2 = 16 \n",
      "8 x 3 = 24 \n",
      "8 x 4 = 32 \n",
      "8 x 5 = 40 \n",
      "8 x 6 = 48 \n",
      "8 x 7 = 56 \n",
      "8 x 8 = 64 \n",
      "8 x 9 = 72 \n",
      "----------\n",
      "9 x 1 = 9 \n",
      "9 x 2 = 18 \n",
      "9 x 3 = 27 \n",
      "9 x 4 = 36 \n",
      "9 x 5 = 45 \n",
      "9 x 6 = 54 \n",
      "9 x 7 = 63 \n",
      "9 x 8 = 72 \n",
      "9 x 9 = 81 \n",
      "----------\n"
     ]
    }
   ],
   "source": [
    "for(i in 2:9) {\n",
    "    cat(paste(i, 'x', 1:9, \"=\", i*1:9,'\\n'), sep=\"\", '----------\\n')\n",
    "}"
   ]
  },
  {
   "cell_type": "code",
   "execution_count": 25,
   "id": "eea732bf",
   "metadata": {},
   "outputs": [
    {
     "name": "stdout",
     "output_type": "stream",
     "text": [
      "유비 : 85 \n",
      "관우 : 95 \n",
      "장비 : 89 \n",
      "유비 : 85 \n",
      "관우 : 95 \n",
      "장비 : 89 \n",
      "유비 : 85 \n",
      "관우 : 95 \n",
      "장비 : 89 \n"
     ]
    }
   ],
   "source": [
    "# 2개의 벡터 자료를 함계 출력하기\n",
    "score <- c(85, 95, 89)\n",
    "name <- c(\"유비\",\"관우\",\"장비\")\n",
    "\n",
    "for(i in 1:length(score)) {\n",
    "    cat(name[i], \":\", score[i], \"\\n\")\n",
    "}\n",
    "\n",
    "for(i in score) {\n",
    "    cat(name[grep(i, score)], \":\", i, '\\n')\n",
    "}\n",
    "\n",
    "j <- 1\n",
    "for(i in score) {\n",
    "    cat(name[j], \":\", i, '\\n')\n",
    "    j = j + 1\n",
    "}"
   ]
  },
  {
   "cell_type": "code",
   "execution_count": null,
   "id": "d87b0584",
   "metadata": {},
   "outputs": [],
   "source": []
  },
  {
   "cell_type": "code",
   "execution_count": 26,
   "id": "a7168849",
   "metadata": {},
   "outputs": [
    {
     "name": "stdout",
     "output_type": "stream",
     "text": [
      "유비 : 85 \n",
      "관우 : 95 \n",
      "장비 : 89 \n"
     ]
    }
   ],
   "source": [
    "cat(paste(name, \":\", score, \"\\n\"), sep=\"\")  # 줄바꿈 문자를 포함시켜야 cat에서 반영됨, sep=\"\" 옵션으로 공백제거"
   ]
  },
  {
   "cell_type": "code",
   "execution_count": 27,
   "id": "66760cff",
   "metadata": {},
   "outputs": [
    {
     "data": {
      "text/html": [
       "'유비 : 85 \\n'"
      ],
      "text/latex": [
       "'유비 : 85 \\textbackslash{}n'"
      ],
      "text/markdown": [
       "'유비 : 85 \\n'"
      ],
      "text/plain": [
       "[1] \"유비 : 85 \\n\""
      ]
     },
     "metadata": {},
     "output_type": "display_data"
    }
   ],
   "source": [
    "paste(name, \":\", score, \"\\n\")[1]"
   ]
  },
  {
   "cell_type": "markdown",
   "id": "ae8ee3b5",
   "metadata": {},
   "source": [
    "### while"
   ]
  },
  {
   "cell_type": "code",
   "execution_count": 28,
   "id": "885cbf13",
   "metadata": {},
   "outputs": [
    {
     "name": "stdout",
     "output_type": "stream",
     "text": [
      "[1] 1\n",
      "[1] 2\n",
      "[1] 3\n",
      "[1] 4\n",
      "[1] 5\n",
      "[1] 6\n",
      "[1] 7\n",
      "[1] 8\n",
      "[1] 9\n",
      "[1] 10\n"
     ]
    }
   ],
   "source": [
    "i <- 0\n",
    "while(i<10){\n",
    "    i = i + 1\n",
    "    print(i)\n",
    "}"
   ]
  },
  {
   "cell_type": "markdown",
   "id": "4a1d4a2b",
   "metadata": {},
   "source": [
    "### repeat"
   ]
  },
  {
   "cell_type": "code",
   "execution_count": 29,
   "id": "781d0a14",
   "metadata": {},
   "outputs": [
    {
     "name": "stdout",
     "output_type": "stream",
     "text": [
      "[1] 1\n",
      "[1] 2\n",
      "[1] 3\n",
      "[1] 4\n",
      "[1] 5\n",
      "[1] 6\n",
      "[1] 7\n",
      "[1] 8\n",
      "[1] 9\n",
      "[1] 10\n"
     ]
    }
   ],
   "source": [
    "i <- 0\n",
    "repeat{\n",
    "    i = i + 1\n",
    "    if(i > 10) {\n",
    "        break\n",
    "    }\n",
    "    print(i)\n",
    "}"
   ]
  },
  {
   "cell_type": "code",
   "execution_count": null,
   "id": "e2990ee7",
   "metadata": {},
   "outputs": [],
   "source": []
  }
 ],
 "metadata": {
  "kernelspec": {
   "display_name": "R",
   "language": "R",
   "name": "ir"
  },
  "language_info": {
   "codemirror_mode": "r",
   "file_extension": ".r",
   "mimetype": "text/x-r-source",
   "name": "R",
   "pygments_lexer": "r",
   "version": "3.6.1"
  }
 },
 "nbformat": 4,
 "nbformat_minor": 5
}
