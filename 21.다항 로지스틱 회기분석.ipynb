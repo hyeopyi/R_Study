{
 "cells": [
  {
   "cell_type": "code",
   "execution_count": 2,
   "id": "23c750ab",
   "metadata": {},
   "outputs": [],
   "source": [
    "library(nnet)"
   ]
  },
  {
   "cell_type": "code",
   "execution_count": 15,
   "id": "2c30b900",
   "metadata": {},
   "outputs": [
    {
     "data": {
      "text/html": [
       "<table>\n",
       "<thead><tr><th scope=col>Sepal.Length</th><th scope=col>Sepal.Width</th><th scope=col>Petal.Length</th><th scope=col>Petal.Width</th><th scope=col>Species</th></tr></thead>\n",
       "<tbody>\n",
       "\t<tr><td>-0.8976739 </td><td> 1.01560199</td><td>-1.335752  </td><td>-1.311052  </td><td>setosa     </td></tr>\n",
       "\t<tr><td>-1.1392005 </td><td>-0.13153881</td><td>-1.335752  </td><td>-1.311052  </td><td>setosa     </td></tr>\n",
       "\t<tr><td>-1.3807271 </td><td> 0.32731751</td><td>-1.392399  </td><td>-1.311052  </td><td>setosa     </td></tr>\n",
       "\t<tr><td>-1.5014904 </td><td> 0.09788935</td><td>-1.279104  </td><td>-1.311052  </td><td>setosa     </td></tr>\n",
       "\t<tr><td>-1.0184372 </td><td> 1.24503015</td><td>-1.335752  </td><td>-1.311052  </td><td>setosa     </td></tr>\n",
       "\t<tr><td>-0.5353840 </td><td> 1.93331463</td><td>-1.165809  </td><td>-1.048667  </td><td>setosa     </td></tr>\n",
       "</tbody>\n",
       "</table>\n"
      ],
      "text/latex": [
       "\\begin{tabular}{r|lllll}\n",
       " Sepal.Length & Sepal.Width & Petal.Length & Petal.Width & Species\\\\\n",
       "\\hline\n",
       "\t -0.8976739  &  1.01560199 & -1.335752   & -1.311052   & setosa     \\\\\n",
       "\t -1.1392005  & -0.13153881 & -1.335752   & -1.311052   & setosa     \\\\\n",
       "\t -1.3807271  &  0.32731751 & -1.392399   & -1.311052   & setosa     \\\\\n",
       "\t -1.5014904  &  0.09788935 & -1.279104   & -1.311052   & setosa     \\\\\n",
       "\t -1.0184372  &  1.24503015 & -1.335752   & -1.311052   & setosa     \\\\\n",
       "\t -0.5353840  &  1.93331463 & -1.165809   & -1.048667   & setosa     \\\\\n",
       "\\end{tabular}\n"
      ],
      "text/markdown": [
       "\n",
       "| Sepal.Length | Sepal.Width | Petal.Length | Petal.Width | Species |\n",
       "|---|---|---|---|---|\n",
       "| -0.8976739  |  1.01560199 | -1.335752   | -1.311052   | setosa      |\n",
       "| -1.1392005  | -0.13153881 | -1.335752   | -1.311052   | setosa      |\n",
       "| -1.3807271  |  0.32731751 | -1.392399   | -1.311052   | setosa      |\n",
       "| -1.5014904  |  0.09788935 | -1.279104   | -1.311052   | setosa      |\n",
       "| -1.0184372  |  1.24503015 | -1.335752   | -1.311052   | setosa      |\n",
       "| -0.5353840  |  1.93331463 | -1.165809   | -1.048667   | setosa      |\n",
       "\n"
      ],
      "text/plain": [
       "  Sepal.Length Sepal.Width Petal.Length Petal.Width Species\n",
       "1 -0.8976739    1.01560199 -1.335752    -1.311052   setosa \n",
       "2 -1.1392005   -0.13153881 -1.335752    -1.311052   setosa \n",
       "3 -1.3807271    0.32731751 -1.392399    -1.311052   setosa \n",
       "4 -1.5014904    0.09788935 -1.279104    -1.311052   setosa \n",
       "5 -1.0184372    1.24503015 -1.335752    -1.311052   setosa \n",
       "6 -0.5353840    1.93331463 -1.165809    -1.048667   setosa "
      ]
     },
     "metadata": {},
     "output_type": "display_data"
    }
   ],
   "source": [
    "# Sampling\n",
    "library(caret)\n",
    "set.seed(1234)\n",
    "iris2 <- scale(iris[, -5])\n",
    "iris2 <- as.data.frame(iris2)\n",
    "iris2$Species <- iris$Species\n",
    "\n",
    "samp <- createDataPartition(iris2$Species, p=0.7, list=F)\n",
    "\n",
    "# 학습용\n",
    "data.tr <- iris2[samp,]\n",
    "\n",
    "# 검증용\n",
    "data.test <- iris2[-samp,]\n",
    "\n",
    "# 문제 및 정답\n",
    "x <- subset(data.test, select = -Species)\n",
    "y <- data.test$Species\n",
    "\n",
    "head(iris2)"
   ]
  },
  {
   "cell_type": "code",
   "execution_count": 16,
   "id": "e93afdaf",
   "metadata": {},
   "outputs": [
    {
     "name": "stdout",
     "output_type": "stream",
     "text": [
      "# weights:  18 (10 variable)\n",
      "initial  value 115.354290 \n",
      "iter  10 value 7.556637\n",
      "iter  20 value 0.042347\n",
      "iter  30 value 0.009210\n",
      "iter  40 value 0.006761\n",
      "iter  50 value 0.003904\n",
      "iter  60 value 0.003512\n",
      "iter  70 value 0.003095\n",
      "iter  80 value 0.002826\n",
      "iter  90 value 0.002781\n",
      "iter 100 value 0.002705\n",
      "final  value 0.002705 \n",
      "stopped after 100 iterations\n"
     ]
    }
   ],
   "source": [
    "# 모델\n",
    "model <- multinom(Species ~ ., data=data.tr)"
   ]
  },
  {
   "cell_type": "code",
   "execution_count": 20,
   "id": "a09887c0",
   "metadata": {},
   "outputs": [
    {
     "data": {
      "text/html": [
       "0.933333333333333"
      ],
      "text/latex": [
       "0.933333333333333"
      ],
      "text/markdown": [
       "0.933333333333333"
      ],
      "text/plain": [
       "[1] 0.9333333"
      ]
     },
     "metadata": {},
     "output_type": "display_data"
    },
    {
     "data": {
      "text/plain": [
       "            y\n",
       "pred         setosa versicolor virginica\n",
       "  setosa         15          0         0\n",
       "  versicolor      0         13         1\n",
       "  virginica       0          2        14"
      ]
     },
     "metadata": {},
     "output_type": "display_data"
    }
   ],
   "source": [
    "# 검증\n",
    "pred <- predict(model, data.test)\n",
    "\n",
    "mean(pred == y)\n",
    "table(pred, y)"
   ]
  },
  {
   "cell_type": "code",
   "execution_count": null,
   "id": "995d7333",
   "metadata": {},
   "outputs": [],
   "source": []
  },
  {
   "cell_type": "code",
   "execution_count": null,
   "id": "ebb4cbbb",
   "metadata": {},
   "outputs": [],
   "source": []
  }
 ],
 "metadata": {
  "kernelspec": {
   "display_name": "R",
   "language": "R",
   "name": "ir"
  },
  "language_info": {
   "codemirror_mode": "r",
   "file_extension": ".r",
   "mimetype": "text/x-r-source",
   "name": "R",
   "pygments_lexer": "r",
   "version": "3.6.1"
  }
 },
 "nbformat": 4,
 "nbformat_minor": 5
}
