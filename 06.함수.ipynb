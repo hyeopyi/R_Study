{
 "cells": [
  {
   "cell_type": "markdown",
   "id": "3c1b9c60",
   "metadata": {},
   "source": [
    "# 기술 통계량을 계샨하는 함수 정의"
   ]
  },
  {
   "cell_type": "code",
   "execution_count": 1,
   "id": "862f6c98",
   "metadata": {},
   "outputs": [
    {
     "data": {
      "text/html": [
       "<table>\n",
       "<thead><tr><th scope=col>A</th><th scope=col>B</th><th scope=col>C</th><th scope=col>D</th><th scope=col>E</th></tr></thead>\n",
       "<tbody>\n",
       "\t<tr><td>2</td><td>4</td><td>4</td><td>2</td><td>2</td></tr>\n",
       "\t<tr><td>1</td><td>2</td><td>2</td><td>2</td><td>2</td></tr>\n",
       "\t<tr><td>2</td><td>3</td><td>4</td><td>3</td><td>3</td></tr>\n",
       "\t<tr><td>3</td><td>5</td><td>5</td><td>3</td><td>3</td></tr>\n",
       "\t<tr><td>3</td><td>2</td><td>4</td><td>4</td><td>4</td></tr>\n",
       "\t<tr><td>4</td><td>3</td><td>3</td><td>4</td><td>2</td></tr>\n",
       "</tbody>\n",
       "</table>\n"
      ],
      "text/latex": [
       "\\begin{tabular}{r|lllll}\n",
       " A & B & C & D & E\\\\\n",
       "\\hline\n",
       "\t 2 & 4 & 4 & 2 & 2\\\\\n",
       "\t 1 & 2 & 2 & 2 & 2\\\\\n",
       "\t 2 & 3 & 4 & 3 & 3\\\\\n",
       "\t 3 & 5 & 5 & 3 & 3\\\\\n",
       "\t 3 & 2 & 4 & 4 & 4\\\\\n",
       "\t 4 & 3 & 3 & 4 & 2\\\\\n",
       "\\end{tabular}\n"
      ],
      "text/markdown": [
       "\n",
       "| A | B | C | D | E |\n",
       "|---|---|---|---|---|\n",
       "| 2 | 4 | 4 | 2 | 2 |\n",
       "| 1 | 2 | 2 | 2 | 2 |\n",
       "| 2 | 3 | 4 | 3 | 3 |\n",
       "| 3 | 5 | 5 | 3 | 3 |\n",
       "| 3 | 2 | 4 | 4 | 4 |\n",
       "| 4 | 3 | 3 | 4 | 2 |\n",
       "\n"
      ],
      "text/plain": [
       "  A B C D E\n",
       "1 2 4 4 2 2\n",
       "2 1 2 2 2 2\n",
       "3 2 3 4 3 3\n",
       "4 3 5 5 3 3\n",
       "5 3 2 4 4 4\n",
       "6 4 3 3 4 2"
      ]
     },
     "metadata": {},
     "output_type": "display_data"
    }
   ],
   "source": [
    "test <- read.csv(\"../Data/test.csv\")\n",
    "head(test)"
   ]
  },
  {
   "cell_type": "code",
   "execution_count": 2,
   "id": "b7df4cfa",
   "metadata": {},
   "outputs": [
    {
     "data": {
      "text/html": [
       "<table>\n",
       "<thead><tr><th></th><th scope=col>A</th><th scope=col>B</th><th scope=col>C</th><th scope=col>D</th><th scope=col>E</th></tr></thead>\n",
       "<tbody>\n",
       "\t<tr><th scope=row>397</th><td>2</td><td>3</td><td>5</td><td>2</td><td>4</td></tr>\n",
       "\t<tr><th scope=row>398</th><td>4</td><td>3</td><td>3</td><td>2</td><td>4</td></tr>\n",
       "\t<tr><th scope=row>399</th><td>2</td><td>4</td><td>4</td><td>2</td><td>3</td></tr>\n",
       "\t<tr><th scope=row>400</th><td>2</td><td>2</td><td>5</td><td>2</td><td>4</td></tr>\n",
       "\t<tr><th scope=row>401</th><td>2</td><td>3</td><td>4</td><td>2</td><td>4</td></tr>\n",
       "\t<tr><th scope=row>402</th><td>2</td><td>2</td><td>4</td><td>2</td><td>4</td></tr>\n",
       "</tbody>\n",
       "</table>\n"
      ],
      "text/latex": [
       "\\begin{tabular}{r|lllll}\n",
       "  & A & B & C & D & E\\\\\n",
       "\\hline\n",
       "\t397 & 2 & 3 & 5 & 2 & 4\\\\\n",
       "\t398 & 4 & 3 & 3 & 2 & 4\\\\\n",
       "\t399 & 2 & 4 & 4 & 2 & 3\\\\\n",
       "\t400 & 2 & 2 & 5 & 2 & 4\\\\\n",
       "\t401 & 2 & 3 & 4 & 2 & 4\\\\\n",
       "\t402 & 2 & 2 & 4 & 2 & 4\\\\\n",
       "\\end{tabular}\n"
      ],
      "text/markdown": [
       "\n",
       "| <!--/--> | A | B | C | D | E |\n",
       "|---|---|---|---|---|---|\n",
       "| 397 | 2 | 3 | 5 | 2 | 4 |\n",
       "| 398 | 4 | 3 | 3 | 2 | 4 |\n",
       "| 399 | 2 | 4 | 4 | 2 | 3 |\n",
       "| 400 | 2 | 2 | 5 | 2 | 4 |\n",
       "| 401 | 2 | 3 | 4 | 2 | 4 |\n",
       "| 402 | 2 | 2 | 4 | 2 | 4 |\n",
       "\n"
      ],
      "text/plain": [
       "    A B C D E\n",
       "397 2 3 5 2 4\n",
       "398 4 3 3 2 4\n",
       "399 2 4 4 2 3\n",
       "400 2 2 5 2 4\n",
       "401 2 3 4 2 4\n",
       "402 2 2 4 2 4"
      ]
     },
     "metadata": {},
     "output_type": "display_data"
    }
   ],
   "source": [
    "tail(test)"
   ]
  },
  {
   "cell_type": "code",
   "execution_count": 3,
   "id": "940ccb23",
   "metadata": {},
   "outputs": [
    {
     "name": "stdout",
     "output_type": "stream",
     "text": [
      "'data.frame':\t402 obs. of  5 variables:\n",
      " $ A: int  2 1 2 3 3 4 3 4 4 4 ...\n",
      " $ B: int  4 2 3 5 2 3 4 2 4 2 ...\n",
      " $ C: int  4 2 4 5 4 3 4 4 5 4 ...\n",
      " $ D: int  2 2 3 3 4 4 2 4 3 2 ...\n",
      " $ E: int  2 2 3 3 4 2 2 4 4 3 ...\n"
     ]
    }
   ],
   "source": [
    "str(test)"
   ]
  },
  {
   "cell_type": "code",
   "execution_count": 4,
   "id": "9c50f024",
   "metadata": {},
   "outputs": [
    {
     "data": {
      "text/plain": [
       "       A               B               C               D              E        \n",
       " Min.   :1.000   Min.   :1.000   Min.   :1.000   Min.   :1.00   Min.   :1.000  \n",
       " 1st Qu.:2.000   1st Qu.:2.000   1st Qu.:3.000   1st Qu.:2.00   1st Qu.:3.000  \n",
       " Median :3.000   Median :3.000   Median :4.000   Median :2.00   Median :4.000  \n",
       " Mean   :2.734   Mean   :2.908   Mean   :3.622   Mean   :2.51   Mean   :3.386  \n",
       " 3rd Qu.:3.000   3rd Qu.:4.000   3rd Qu.:4.000   3rd Qu.:3.00   3rd Qu.:4.000  \n",
       " Max.   :5.000   Max.   :5.000   Max.   :5.000   Max.   :4.00   Max.   :5.000  "
      ]
     },
     "metadata": {},
     "output_type": "display_data"
    }
   ],
   "source": [
    "summary(test)"
   ]
  },
  {
   "cell_type": "code",
   "execution_count": 5,
   "id": "e03d6aa6",
   "metadata": {},
   "outputs": [
    {
     "data": {
      "text/html": [
       "5"
      ],
      "text/latex": [
       "5"
      ],
      "text/markdown": [
       "5"
      ],
      "text/plain": [
       "[1] 5"
      ]
     },
     "metadata": {},
     "output_type": "display_data"
    },
    {
     "data": {
      "text/html": [
       "1"
      ],
      "text/latex": [
       "1"
      ],
      "text/markdown": [
       "1"
      ],
      "text/plain": [
       "[1] 1"
      ]
     },
     "metadata": {},
     "output_type": "display_data"
    },
    {
     "data": {
      "text/plain": [
       "\n",
       "  1   2   3   4   5 \n",
       " 30 133 156  80   3 "
      ]
     },
     "metadata": {},
     "output_type": "display_data"
    }
   ],
   "source": [
    "# A 컬럼의 최대값, 최소값, 빈도수 구하기\n",
    "max(test$A)\n",
    "min(test$A)\n",
    "table(test$A)"
   ]
  },
  {
   "cell_type": "code",
   "execution_count": 6,
   "id": "5768b621",
   "metadata": {},
   "outputs": [
    {
     "name": "stdout",
     "output_type": "stream",
     "text": [
      "A 번째 컬럼의 빈도 분석 결과\n",
      "  1   2   3   4   5 \n",
      " 30 133 156  80   3 \n",
      "-----------------------\n",
      "B 번째 컬럼의 빈도 분석 결과\n",
      "  1   2   3   4   5 \n",
      " 16 150  98 131   7 \n",
      "-----------------------\n",
      "C 번째 컬럼의 빈도 분석 결과\n",
      "  1   2   3   4   5 \n",
      "  3  74  72 176  77 \n",
      "-----------------------\n",
      "D 번째 컬럼의 빈도 분석 결과\n",
      "  1   2   3   4 \n",
      " 30 178 153  41 \n",
      "-----------------------\n",
      "E 번째 컬럼의 빈도 분석 결과\n",
      "  1   2   3   4   5 \n",
      "  8  81 107 160  46 \n",
      "-----------------------\n"
     ]
    }
   ],
   "source": [
    "# 각 컬럼의 빈도수 구하기\n",
    "# test[,i]\n",
    "# ncol(test)\n",
    "\n",
    "for(i in 1:ncol(test)) {\n",
    "    cat(colnames(test)[i], \"번째 컬럼의 빈도 분석 결과\")\n",
    "    print(table(test[,i]))\n",
    "    cat('-----------------------\\n')\n",
    "}"
   ]
  },
  {
   "cell_type": "code",
   "execution_count": 7,
   "id": "7fb3e66d",
   "metadata": {},
   "outputs": [
    {
     "name": "stdout",
     "output_type": "stream",
     "text": [
      "1 번째 컬럼 빈도수의 최대값과 최소값 \n",
      "최대값 156 , 최소값 3 \n",
      "----------------------------\n",
      "2 번째 컬럼 빈도수의 최대값과 최소값 \n",
      "최대값 150 , 최소값 7 \n",
      "----------------------------\n",
      "3 번째 컬럼 빈도수의 최대값과 최소값 \n",
      "최대값 176 , 최소값 3 \n",
      "----------------------------\n",
      "4 번째 컬럼 빈도수의 최대값과 최소값 \n",
      "최대값 178 , 최소값 30 \n",
      "----------------------------\n",
      "5 번째 컬럼 빈도수의 최대값과 최소값 \n",
      "최대값 160 , 최소값 8 \n",
      "----------------------------\n"
     ]
    }
   ],
   "source": [
    "# 각 컬럼 빈도수의 최대값, 최소값 구하기\n",
    "\n",
    "for(i in 1:ncol(test)) {\n",
    "    result = table(test[, i])\n",
    "    cat(i, \"번째 컬럼 빈도수의 최대값과 최소값\", \"\\n\")\n",
    "    cat(\"최대값\", max(result), \",\", \"최소값\", min(result), \"\\n\")\n",
    "    cat('----------------------------\\n')\n",
    "}"
   ]
  },
  {
   "cell_type": "code",
   "execution_count": 8,
   "id": "9468b02e",
   "metadata": {},
   "outputs": [],
   "source": [
    "# 각 컬럼의 빈도수 구하기와 각 컬럼의 빈도수의 최대값, 최소값 구하는 함수 만들기\n",
    "\n",
    "tableMinMax <- function(x) {\n",
    "    for(i in 1:ncol(x)) {\n",
    "        result = table(x[, i])\n",
    "        cat(colnames(x)[i], \"번째 컬럼 빈도수의 최대값과 최소값\", \"\\n\")\n",
    "        cat(\"최대값\", max(result), \",\", \"최소값\", min(result), \"\\n\")\n",
    "        cat('----------------------------\\n')\n",
    "        \n",
    "        cat(colnames(test)[i], \"번째 컬럼의 빈도 분석 결과\")\n",
    "        print(table(test[,i]))\n",
    "        cat('============================\\n')\n",
    "    }\n",
    "}\n"
   ]
  },
  {
   "cell_type": "code",
   "execution_count": 9,
   "id": "15f5bab0",
   "metadata": {},
   "outputs": [
    {
     "name": "stdout",
     "output_type": "stream",
     "text": [
      "A 번째 컬럼 빈도수의 최대값과 최소값 \n",
      "최대값 156 , 최소값 3 \n",
      "----------------------------\n",
      "A 번째 컬럼의 빈도 분석 결과\n",
      "  1   2   3   4   5 \n",
      " 30 133 156  80   3 \n",
      "============================\n",
      "B 번째 컬럼 빈도수의 최대값과 최소값 \n",
      "최대값 150 , 최소값 7 \n",
      "----------------------------\n",
      "B 번째 컬럼의 빈도 분석 결과\n",
      "  1   2   3   4   5 \n",
      " 16 150  98 131   7 \n",
      "============================\n",
      "C 번째 컬럼 빈도수의 최대값과 최소값 \n",
      "최대값 176 , 최소값 3 \n",
      "----------------------------\n",
      "C 번째 컬럼의 빈도 분석 결과\n",
      "  1   2   3   4   5 \n",
      "  3  74  72 176  77 \n",
      "============================\n",
      "D 번째 컬럼 빈도수의 최대값과 최소값 \n",
      "최대값 178 , 최소값 30 \n",
      "----------------------------\n",
      "D 번째 컬럼의 빈도 분석 결과\n",
      "  1   2   3   4 \n",
      " 30 178 153  41 \n",
      "============================\n",
      "E 번째 컬럼 빈도수의 최대값과 최소값 \n",
      "최대값 160 , 최소값 8 \n",
      "----------------------------\n",
      "E 번째 컬럼의 빈도 분석 결과\n",
      "  1   2   3   4   5 \n",
      "  8  81 107 160  46 \n",
      "============================\n"
     ]
    }
   ],
   "source": [
    "tableMinMax(test)"
   ]
  },
  {
   "cell_type": "markdown",
   "id": "605a7f94",
   "metadata": {},
   "source": [
    "---\n",
    "# 결측치(missing value) 자료 평균 계산"
   ]
  },
  {
   "cell_type": "code",
   "execution_count": 83,
   "id": "ba5f714b",
   "metadata": {},
   "outputs": [
    {
     "data": {
      "text/html": [
       "<ol class=list-inline>\n",
       "\t<li>10</li>\n",
       "\t<li>20</li>\n",
       "\t<li>5</li>\n",
       "\t<li>4</li>\n",
       "\t<li>40</li>\n",
       "\t<li>7</li>\n",
       "\t<li>&lt;NA&gt;</li>\n",
       "\t<li>6</li>\n",
       "\t<li>3</li>\n",
       "\t<li>&lt;NA&gt;</li>\n",
       "\t<li>2</li>\n",
       "\t<li>&lt;NA&gt;</li>\n",
       "</ol>\n"
      ],
      "text/latex": [
       "\\begin{enumerate*}\n",
       "\\item 10\n",
       "\\item 20\n",
       "\\item 5\n",
       "\\item 4\n",
       "\\item 40\n",
       "\\item 7\n",
       "\\item <NA>\n",
       "\\item 6\n",
       "\\item 3\n",
       "\\item <NA>\n",
       "\\item 2\n",
       "\\item <NA>\n",
       "\\end{enumerate*}\n"
      ],
      "text/markdown": [
       "1. 10\n",
       "2. 20\n",
       "3. 5\n",
       "4. 4\n",
       "5. 40\n",
       "6. 7\n",
       "7. &lt;NA&gt;\n",
       "8. 6\n",
       "9. 3\n",
       "10. &lt;NA&gt;\n",
       "11. 2\n",
       "12. &lt;NA&gt;\n",
       "\n",
       "\n"
      ],
      "text/plain": [
       " [1] 10 20  5  4 40  7 NA  6  3 NA  2 NA"
      ]
     },
     "metadata": {},
     "output_type": "display_data"
    }
   ],
   "source": [
    "data <- c(10, 20, 5, 4, 40, 7, NA, 6, 3, NA, 2, NA)\n",
    "data"
   ]
  },
  {
   "cell_type": "code",
   "execution_count": 11,
   "id": "8aa3ec69",
   "metadata": {},
   "outputs": [
    {
     "data": {
      "text/html": [
       "&lt;NA&gt;"
      ],
      "text/latex": [
       "<NA>"
      ],
      "text/markdown": [
       "&lt;NA&gt;"
      ],
      "text/plain": [
       "[1] NA"
      ]
     },
     "metadata": {},
     "output_type": "display_data"
    }
   ],
   "source": [
    "mean(data)"
   ]
  },
  {
   "cell_type": "code",
   "execution_count": 17,
   "id": "d4a9c780",
   "metadata": {},
   "outputs": [
    {
     "data": {
      "text/html": [
       "3"
      ],
      "text/latex": [
       "3"
      ],
      "text/markdown": [
       "3"
      ],
      "text/plain": [
       "[1] 3"
      ]
     },
     "metadata": {},
     "output_type": "display_data"
    },
    {
     "data": {
      "text/plain": [
       "\n",
       "FALSE  TRUE \n",
       "    9     3 "
      ]
     },
     "metadata": {},
     "output_type": "display_data"
    }
   ],
   "source": [
    "# NA 갯수 구하기\n",
    "# 결측치를 무조건 제거하면 통계량을 얻을 수 없으며, 데이터의 손실로 문제 발생\n",
    "sum(is.na(data))\n",
    "table(is.na(data))"
   ]
  },
  {
   "cell_type": "code",
   "execution_count": 26,
   "id": "35c66a7c",
   "metadata": {},
   "outputs": [
    {
     "data": {
      "text/html": [
       "10.7777777777778"
      ],
      "text/latex": [
       "10.7777777777778"
      ],
      "text/markdown": [
       "10.7777777777778"
      ],
      "text/plain": [
       "[1] 10.77778"
      ]
     },
     "metadata": {},
     "output_type": "display_data"
    }
   ],
   "source": [
    "# NA를 제외하고 평균 구하자\n",
    "mean(data, na.rm = T)"
   ]
  },
  {
   "cell_type": "code",
   "execution_count": 52,
   "id": "e0cf26a2",
   "metadata": {},
   "outputs": [
    {
     "data": {
      "text/html": [
       "8.08333333333333"
      ],
      "text/latex": [
       "8.08333333333333"
      ],
      "text/markdown": [
       "8.08333333333333"
      ],
      "text/plain": [
       "[1] 8.083333"
      ]
     },
     "metadata": {},
     "output_type": "display_data"
    },
    {
     "data": {
      "text/html": [
       "<ol class=list-inline>\n",
       "\t<li>10</li>\n",
       "\t<li>20</li>\n",
       "\t<li>5</li>\n",
       "\t<li>4</li>\n",
       "\t<li>40</li>\n",
       "\t<li>7</li>\n",
       "\t<li>0</li>\n",
       "\t<li>6</li>\n",
       "\t<li>3</li>\n",
       "\t<li>0</li>\n",
       "\t<li>2</li>\n",
       "\t<li>0</li>\n",
       "</ol>\n"
      ],
      "text/latex": [
       "\\begin{enumerate*}\n",
       "\\item 10\n",
       "\\item 20\n",
       "\\item 5\n",
       "\\item 4\n",
       "\\item 40\n",
       "\\item 7\n",
       "\\item 0\n",
       "\\item 6\n",
       "\\item 3\n",
       "\\item 0\n",
       "\\item 2\n",
       "\\item 0\n",
       "\\end{enumerate*}\n"
      ],
      "text/markdown": [
       "1. 10\n",
       "2. 20\n",
       "3. 5\n",
       "4. 4\n",
       "5. 40\n",
       "6. 7\n",
       "7. 0\n",
       "8. 6\n",
       "9. 3\n",
       "10. 0\n",
       "11. 2\n",
       "12. 0\n",
       "\n",
       "\n"
      ],
      "text/plain": [
       " [1] 10 20  5  4 40  7  0  6  3  0  2  0"
      ]
     },
     "metadata": {},
     "output_type": "display_data"
    },
    {
     "data": {
      "text/html": [
       "8.08333333333333"
      ],
      "text/latex": [
       "8.08333333333333"
      ],
      "text/markdown": [
       "8.08333333333333"
      ],
      "text/plain": [
       "[1] 8.083333"
      ]
     },
     "metadata": {},
     "output_type": "display_data"
    }
   ],
   "source": [
    "# 1) NA를 0으로 대체해서 평균값 구하기\n",
    "mean(ifelse(is.na(data), 0, data)) # 결과값을 변수처럼 사용가능"
   ]
  },
  {
   "cell_type": "code",
   "execution_count": 93,
   "id": "23791f42",
   "metadata": {},
   "outputs": [
    {
     "data": {
      "text/html": [
       "10.7777777777778"
      ],
      "text/latex": [
       "10.7777777777778"
      ],
      "text/markdown": [
       "10.7777777777778"
      ],
      "text/plain": [
       "[1] 10.77778"
      ]
     },
     "metadata": {},
     "output_type": "display_data"
    }
   ],
   "source": [
    "# 2) NA를 평균으로 대체해서 평균값 구하기\n",
    "mean(ifelse(is.na(data), mean(data, na.rm=T), data))  # 아무 의미 없음"
   ]
  },
  {
   "cell_type": "code",
   "execution_count": 90,
   "id": "41026461",
   "metadata": {},
   "outputs": [
    {
     "data": {
      "text/html": [
       "9.58333333333333"
      ],
      "text/latex": [
       "9.58333333333333"
      ],
      "text/markdown": [
       "9.58333333333333"
      ],
      "text/plain": [
       "[1] 9.583333"
      ]
     },
     "metadata": {},
     "output_type": "display_data"
    }
   ],
   "source": [
    "# 3) NA를 중압값으로 대체해서 평균값 구하기\n",
    "mean(ifelse(is.na(data), median(data, na.rm=T), data))"
   ]
  },
  {
   "cell_type": "code",
   "execution_count": 89,
   "id": "9f9980a0",
   "metadata": {},
   "outputs": [
    {
     "data": {
      "text/html": [
       "18.0833333333333"
      ],
      "text/latex": [
       "18.0833333333333"
      ],
      "text/markdown": [
       "18.0833333333333"
      ],
      "text/plain": [
       "[1] 18.08333"
      ]
     },
     "metadata": {},
     "output_type": "display_data"
    }
   ],
   "source": [
    "# 4) NA를 최대값으로 대체해서 평균값 구하기\n",
    "mean(ifelse(is.na(data), max(data, na.rm=T), data))"
   ]
  },
  {
   "cell_type": "code",
   "execution_count": 87,
   "id": "5aeb2960",
   "metadata": {},
   "outputs": [
    {
     "data": {
      "text/html": [
       "8.58333333333333"
      ],
      "text/latex": [
       "8.58333333333333"
      ],
      "text/markdown": [
       "8.58333333333333"
      ],
      "text/plain": [
       "[1] 8.583333"
      ]
     },
     "metadata": {},
     "output_type": "display_data"
    }
   ],
   "source": [
    "# 5) NA를 최소값으로 대체해서 평균값 구하기\n",
    "mean(ifelse(is.na(data), min(data, na.rm=T), data)) "
   ]
  },
  {
   "cell_type": "markdown",
   "id": "1916a83d",
   "metadata": {},
   "source": [
    "> 결측치를 제외한 평균 : 10.7777777777778\n",
    "> 0으로 대체 : 8.08333333333333\n",
    "> 평균으로 대체 : 10.7777777777778\n",
    "> 중앙값으로 대체 : 9.58333333333333\n",
    "> 최대값으로 대체 : 18.0833333333333\n",
    "> 최소값으로 대체 : 8.58333333333333\n",
    "> 중앙값이 결측치를 제외한 평균과 가장가까워 NA를 중앙값으로 대체결정"
   ]
  },
  {
   "cell_type": "code",
   "execution_count": null,
   "id": "0f93a931",
   "metadata": {},
   "outputs": [],
   "source": []
  },
  {
   "cell_type": "code",
   "execution_count": null,
   "id": "a53c6f72",
   "metadata": {},
   "outputs": [],
   "source": []
  },
  {
   "cell_type": "code",
   "execution_count": null,
   "id": "7ef636be",
   "metadata": {},
   "outputs": [],
   "source": []
  },
  {
   "cell_type": "code",
   "execution_count": null,
   "id": "61a0ba28",
   "metadata": {},
   "outputs": [],
   "source": []
  }
 ],
 "metadata": {
  "kernelspec": {
   "display_name": "R",
   "language": "R",
   "name": "ir"
  },
  "language_info": {
   "codemirror_mode": "r",
   "file_extension": ".r",
   "mimetype": "text/x-r-source",
   "name": "R",
   "pygments_lexer": "r",
   "version": "3.6.1"
  }
 },
 "nbformat": 4,
 "nbformat_minor": 5
}
