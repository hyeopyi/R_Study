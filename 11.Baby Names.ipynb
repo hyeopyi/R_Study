{
 "cells": [
  {
   "cell_type": "markdown",
   "id": "c273264b",
   "metadata": {},
   "source": [
    "### 1880년 부터 2014년까지의 미국의 아기 이름을 정리해놓은 데이터셋"
   ]
  },
  {
   "cell_type": "code",
   "execution_count": 1,
   "id": "4034c0b9",
   "metadata": {},
   "outputs": [
    {
     "data": {
      "text/html": [
       "<table>\n",
       "<thead><tr><th scope=col>Name</th><th scope=col>Gender</th><th scope=col>Count</th><th scope=col>Year</th><th scope=col>Year.Rank</th></tr></thead>\n",
       "<tbody>\n",
       "\t<tr><td>Mary                  </td><td>F                     </td><td>7065                  </td><td>01/01/1880 12:00:00 AM</td><td>1                     </td></tr>\n",
       "\t<tr><td>Anna                  </td><td>F                     </td><td>2604                  </td><td>01/01/1880 12:00:00 AM</td><td>2                     </td></tr>\n",
       "\t<tr><td>Emma                  </td><td>F                     </td><td>2003                  </td><td>01/01/1880 12:00:00 AM</td><td>3                     </td></tr>\n",
       "\t<tr><td>Elizabeth             </td><td>F                     </td><td>1939                  </td><td>01/01/1880 12:00:00 AM</td><td>4                     </td></tr>\n",
       "\t<tr><td>Minnie                </td><td>F                     </td><td>1746                  </td><td>01/01/1880 12:00:00 AM</td><td>5                     </td></tr>\n",
       "\t<tr><td>Margaret              </td><td>F                     </td><td>1578                  </td><td>01/01/1880 12:00:00 AM</td><td>6                     </td></tr>\n",
       "</tbody>\n",
       "</table>\n"
      ],
      "text/latex": [
       "\\begin{tabular}{r|lllll}\n",
       " Name & Gender & Count & Year & Year.Rank\\\\\n",
       "\\hline\n",
       "\t Mary                   & F                      & 7065                   & 01/01/1880 12:00:00 AM & 1                     \\\\\n",
       "\t Anna                   & F                      & 2604                   & 01/01/1880 12:00:00 AM & 2                     \\\\\n",
       "\t Emma                   & F                      & 2003                   & 01/01/1880 12:00:00 AM & 3                     \\\\\n",
       "\t Elizabeth              & F                      & 1939                   & 01/01/1880 12:00:00 AM & 4                     \\\\\n",
       "\t Minnie                 & F                      & 1746                   & 01/01/1880 12:00:00 AM & 5                     \\\\\n",
       "\t Margaret               & F                      & 1578                   & 01/01/1880 12:00:00 AM & 6                     \\\\\n",
       "\\end{tabular}\n"
      ],
      "text/markdown": [
       "\n",
       "| Name | Gender | Count | Year | Year.Rank |\n",
       "|---|---|---|---|---|\n",
       "| Mary                   | F                      | 7065                   | 01/01/1880 12:00:00 AM | 1                      |\n",
       "| Anna                   | F                      | 2604                   | 01/01/1880 12:00:00 AM | 2                      |\n",
       "| Emma                   | F                      | 2003                   | 01/01/1880 12:00:00 AM | 3                      |\n",
       "| Elizabeth              | F                      | 1939                   | 01/01/1880 12:00:00 AM | 4                      |\n",
       "| Minnie                 | F                      | 1746                   | 01/01/1880 12:00:00 AM | 5                      |\n",
       "| Margaret               | F                      | 1578                   | 01/01/1880 12:00:00 AM | 6                      |\n",
       "\n"
      ],
      "text/plain": [
       "  Name      Gender Count Year                   Year.Rank\n",
       "1 Mary      F      7065  01/01/1880 12:00:00 AM 1        \n",
       "2 Anna      F      2604  01/01/1880 12:00:00 AM 2        \n",
       "3 Emma      F      2003  01/01/1880 12:00:00 AM 3        \n",
       "4 Elizabeth F      1939  01/01/1880 12:00:00 AM 4        \n",
       "5 Minnie    F      1746  01/01/1880 12:00:00 AM 5        \n",
       "6 Margaret  F      1578  01/01/1880 12:00:00 AM 6        "
      ]
     },
     "metadata": {},
     "output_type": "display_data"
    }
   ],
   "source": [
    "# 원래 name, gender, year가 factor로 되어있었는데 name, year는 factor로 있을 필요가 없어서 \n",
    "# stringsAsFactors = F를 써준다\n",
    "baby <- read.csv(\"../Data/R_Baby_Names_1880-2014.csv\", stringsAsFactors = F)\n",
    "head(baby)"
   ]
  },
  {
   "cell_type": "code",
   "execution_count": 2,
   "id": "dedaf9da",
   "metadata": {
    "scrolled": true
   },
   "outputs": [
    {
     "data": {
      "text/html": [
       "<table>\n",
       "<thead><tr><th></th><th scope=col>Name</th><th scope=col>Gender</th><th scope=col>Count</th><th scope=col>Year</th><th scope=col>Year.Rank</th></tr></thead>\n",
       "<tbody>\n",
       "\t<tr><th scope=row>1825383</th><td>Zyel                  </td><td>M                     </td><td>5                     </td><td>01/01/2014 12:00:00 AM</td><td>13972                 </td></tr>\n",
       "\t<tr><th scope=row>1825384</th><td>Zykeem                </td><td>M                     </td><td>5                     </td><td>01/01/2014 12:00:00 AM</td><td>13973                 </td></tr>\n",
       "\t<tr><th scope=row>1825385</th><td>Zymeer                </td><td>M                     </td><td>5                     </td><td>01/01/2014 12:00:00 AM</td><td>13974                 </td></tr>\n",
       "\t<tr><th scope=row>1825386</th><td>Zymiere               </td><td>M                     </td><td>5                     </td><td>01/01/2014 12:00:00 AM</td><td>13975                 </td></tr>\n",
       "\t<tr><th scope=row>1825387</th><td>Zyran                 </td><td>M                     </td><td>5                     </td><td>01/01/2014 12:00:00 AM</td><td>13976                 </td></tr>\n",
       "\t<tr><th scope=row>1825388</th><td>Zyrin                 </td><td>M                     </td><td>5                     </td><td>01/01/2014 12:00:00 AM</td><td>13977                 </td></tr>\n",
       "</tbody>\n",
       "</table>\n"
      ],
      "text/latex": [
       "\\begin{tabular}{r|lllll}\n",
       "  & Name & Gender & Count & Year & Year.Rank\\\\\n",
       "\\hline\n",
       "\t1825383 & Zyel                   & M                      & 5                      & 01/01/2014 12:00:00 AM & 13972                 \\\\\n",
       "\t1825384 & Zykeem                 & M                      & 5                      & 01/01/2014 12:00:00 AM & 13973                 \\\\\n",
       "\t1825385 & Zymeer                 & M                      & 5                      & 01/01/2014 12:00:00 AM & 13974                 \\\\\n",
       "\t1825386 & Zymiere                & M                      & 5                      & 01/01/2014 12:00:00 AM & 13975                 \\\\\n",
       "\t1825387 & Zyran                  & M                      & 5                      & 01/01/2014 12:00:00 AM & 13976                 \\\\\n",
       "\t1825388 & Zyrin                  & M                      & 5                      & 01/01/2014 12:00:00 AM & 13977                 \\\\\n",
       "\\end{tabular}\n"
      ],
      "text/markdown": [
       "\n",
       "| <!--/--> | Name | Gender | Count | Year | Year.Rank |\n",
       "|---|---|---|---|---|---|\n",
       "| 1825383 | Zyel                   | M                      | 5                      | 01/01/2014 12:00:00 AM | 13972                  |\n",
       "| 1825384 | Zykeem                 | M                      | 5                      | 01/01/2014 12:00:00 AM | 13973                  |\n",
       "| 1825385 | Zymeer                 | M                      | 5                      | 01/01/2014 12:00:00 AM | 13974                  |\n",
       "| 1825386 | Zymiere                | M                      | 5                      | 01/01/2014 12:00:00 AM | 13975                  |\n",
       "| 1825387 | Zyran                  | M                      | 5                      | 01/01/2014 12:00:00 AM | 13976                  |\n",
       "| 1825388 | Zyrin                  | M                      | 5                      | 01/01/2014 12:00:00 AM | 13977                  |\n",
       "\n"
      ],
      "text/plain": [
       "        Name    Gender Count Year                   Year.Rank\n",
       "1825383 Zyel    M      5     01/01/2014 12:00:00 AM 13972    \n",
       "1825384 Zykeem  M      5     01/01/2014 12:00:00 AM 13973    \n",
       "1825385 Zymeer  M      5     01/01/2014 12:00:00 AM 13974    \n",
       "1825386 Zymiere M      5     01/01/2014 12:00:00 AM 13975    \n",
       "1825387 Zyran   M      5     01/01/2014 12:00:00 AM 13976    \n",
       "1825388 Zyrin   M      5     01/01/2014 12:00:00 AM 13977    "
      ]
     },
     "metadata": {},
     "output_type": "display_data"
    }
   ],
   "source": [
    "tail(baby)"
   ]
  },
  {
   "cell_type": "code",
   "execution_count": 3,
   "id": "1a70c234",
   "metadata": {},
   "outputs": [
    {
     "name": "stdout",
     "output_type": "stream",
     "text": [
      "'data.frame':\t1825388 obs. of  5 variables:\n",
      " $ Name     : chr  \"Mary\" \"Anna\" \"Emma\" \"Elizabeth\" ...\n",
      " $ Gender   : chr  \"F\" \"F\" \"F\" \"F\" ...\n",
      " $ Count    : int  7065 2604 2003 1939 1746 1578 1472 1414 1320 1288 ...\n",
      " $ Year     : chr  \"01/01/1880 12:00:00 AM\" \"01/01/1880 12:00:00 AM\" \"01/01/1880 12:00:00 AM\" \"01/01/1880 12:00:00 AM\" ...\n",
      " $ Year.Rank: int  1 2 3 4 5 6 7 8 9 10 ...\n"
     ]
    }
   ],
   "source": [
    "str(baby)"
   ]
  },
  {
   "cell_type": "code",
   "execution_count": 4,
   "id": "ea076e10",
   "metadata": {},
   "outputs": [],
   "source": [
    "# Gender는 factor이어야 하니까 바꿔준다\n",
    "baby$Gender <- as.factor(baby$Gender)"
   ]
  },
  {
   "cell_type": "code",
   "execution_count": 5,
   "id": "bc1ccdb4",
   "metadata": {},
   "outputs": [
    {
     "name": "stdout",
     "output_type": "stream",
     "text": [
      "'data.frame':\t1825388 obs. of  5 variables:\n",
      " $ Name     : chr  \"Mary\" \"Anna\" \"Emma\" \"Elizabeth\" ...\n",
      " $ Gender   : Factor w/ 2 levels \"F\",\"M\": 1 1 1 1 1 1 1 1 1 1 ...\n",
      " $ Count    : int  7065 2604 2003 1939 1746 1578 1472 1414 1320 1288 ...\n",
      " $ Year     : chr  \"01/01/1880 12:00:00 AM\" \"01/01/1880 12:00:00 AM\" \"01/01/1880 12:00:00 AM\" \"01/01/1880 12:00:00 AM\" ...\n",
      " $ Year.Rank: int  1 2 3 4 5 6 7 8 9 10 ...\n"
     ]
    }
   ],
   "source": [
    "str(baby)"
   ]
  },
  {
   "cell_type": "code",
   "execution_count": 6,
   "id": "b9d18150",
   "metadata": {},
   "outputs": [],
   "source": [
    "# baby의 year부분 정리하기(년도만 추출하기)\n",
    "baby[,4] <- substring(baby[,4],7,10)"
   ]
  },
  {
   "cell_type": "code",
   "execution_count": 7,
   "id": "c068d11d",
   "metadata": {},
   "outputs": [
    {
     "data": {
      "text/html": [
       "<table>\n",
       "<thead><tr><th scope=col>Name</th><th scope=col>Gender</th><th scope=col>Count</th><th scope=col>Year</th><th scope=col>Year.Rank</th></tr></thead>\n",
       "<tbody>\n",
       "\t<tr><td>Mary     </td><td>F        </td><td>7065     </td><td>1880     </td><td>1        </td></tr>\n",
       "\t<tr><td>Anna     </td><td>F        </td><td>2604     </td><td>1880     </td><td>2        </td></tr>\n",
       "\t<tr><td>Emma     </td><td>F        </td><td>2003     </td><td>1880     </td><td>3        </td></tr>\n",
       "\t<tr><td>Elizabeth</td><td>F        </td><td>1939     </td><td>1880     </td><td>4        </td></tr>\n",
       "\t<tr><td>Minnie   </td><td>F        </td><td>1746     </td><td>1880     </td><td>5        </td></tr>\n",
       "\t<tr><td>Margaret </td><td>F        </td><td>1578     </td><td>1880     </td><td>6        </td></tr>\n",
       "</tbody>\n",
       "</table>\n"
      ],
      "text/latex": [
       "\\begin{tabular}{r|lllll}\n",
       " Name & Gender & Count & Year & Year.Rank\\\\\n",
       "\\hline\n",
       "\t Mary      & F         & 7065      & 1880      & 1        \\\\\n",
       "\t Anna      & F         & 2604      & 1880      & 2        \\\\\n",
       "\t Emma      & F         & 2003      & 1880      & 3        \\\\\n",
       "\t Elizabeth & F         & 1939      & 1880      & 4        \\\\\n",
       "\t Minnie    & F         & 1746      & 1880      & 5        \\\\\n",
       "\t Margaret  & F         & 1578      & 1880      & 6        \\\\\n",
       "\\end{tabular}\n"
      ],
      "text/markdown": [
       "\n",
       "| Name | Gender | Count | Year | Year.Rank |\n",
       "|---|---|---|---|---|\n",
       "| Mary      | F         | 7065      | 1880      | 1         |\n",
       "| Anna      | F         | 2604      | 1880      | 2         |\n",
       "| Emma      | F         | 2003      | 1880      | 3         |\n",
       "| Elizabeth | F         | 1939      | 1880      | 4         |\n",
       "| Minnie    | F         | 1746      | 1880      | 5         |\n",
       "| Margaret  | F         | 1578      | 1880      | 6         |\n",
       "\n"
      ],
      "text/plain": [
       "  Name      Gender Count Year Year.Rank\n",
       "1 Mary      F      7065  1880 1        \n",
       "2 Anna      F      2604  1880 2        \n",
       "3 Emma      F      2003  1880 3        \n",
       "4 Elizabeth F      1939  1880 4        \n",
       "5 Minnie    F      1746  1880 5        \n",
       "6 Margaret  F      1578  1880 6        "
      ]
     },
     "metadata": {},
     "output_type": "display_data"
    }
   ],
   "source": [
    "head(baby)"
   ]
  },
  {
   "cell_type": "code",
   "execution_count": 9,
   "id": "21a26caa",
   "metadata": {},
   "outputs": [],
   "source": [
    "# 저장하기\n",
    "write.csv(baby, \"../Data/baby.csv\", row.names=F)"
   ]
  },
  {
   "cell_type": "code",
   "execution_count": 10,
   "id": "6303fee1",
   "metadata": {},
   "outputs": [
    {
     "data": {
      "text/plain": [
       "     Name           Gender          Count             Year          \n",
       " Length:1825388     F:1081660   Min.   :    5.0   Length:1825388    \n",
       " Class :character   M: 743728   1st Qu.:    7.0   Class :character  \n",
       " Mode  :character               Median :   12.0   Mode  :character  \n",
       "                                Mean   :  184.7                     \n",
       "                                3rd Qu.:   32.0                     \n",
       "                                Max.   :99680.0                     \n",
       "   Year.Rank    \n",
       " Min.   :    1  \n",
       " 1st Qu.: 1790  \n",
       " Median : 4009  \n",
       " Mean   : 5301  \n",
       " 3rd Qu.: 7820  \n",
       " Max.   :20548  "
      ]
     },
     "metadata": {},
     "output_type": "display_data"
    }
   ],
   "source": [
    "summary(baby) # 별로 볼건 없음"
   ]
  },
  {
   "cell_type": "code",
   "execution_count": 15,
   "id": "69e8f432",
   "metadata": {},
   "outputs": [
    {
     "data": {
      "text/html": [
       "1081660"
      ],
      "text/latex": [
       "1081660"
      ],
      "text/markdown": [
       "1081660"
      ],
      "text/plain": [
       "[1] 1081660"
      ]
     },
     "metadata": {},
     "output_type": "display_data"
    }
   ],
   "source": [
    "# baby에서 여자 아이만 Female 이라는 dataset를 만들고 row수 구하기\n",
    "Female <- subset(baby,Gender == \"F\")\n",
    "nrow(Female)"
   ]
  },
  {
   "cell_type": "code",
   "execution_count": 17,
   "id": "20ecabca",
   "metadata": {},
   "outputs": [
    {
     "data": {
      "text/html": [
       "64911"
      ],
      "text/latex": [
       "64911"
      ],
      "text/markdown": [
       "64911"
      ],
      "text/plain": [
       "[1] 64911"
      ]
     },
     "metadata": {},
     "output_type": "display_data"
    }
   ],
   "source": [
    "# 여자 아이 이름 중 중복 제거 하고 갯수 구하기\n",
    "length(unique(Female$Name))"
   ]
  },
  {
   "cell_type": "code",
   "execution_count": 19,
   "id": "c3cdc2a9",
   "metadata": {},
   "outputs": [
    {
     "data": {
      "text/html": [
       "<ol class=list-inline>\n",
       "\t<li>'Antanea'</li>\n",
       "\t<li>'Tansha'</li>\n",
       "\t<li>'Elithia'</li>\n",
       "\t<li>'Crissey'</li>\n",
       "\t<li>'Dinasia'</li>\n",
       "\t<li>'Zory'</li>\n",
       "\t<li>'Chantee'</li>\n",
       "\t<li>'Marlane'</li>\n",
       "\t<li>'Juaria'</li>\n",
       "\t<li>'Timmi'</li>\n",
       "\t<li>'Jhosselyn'</li>\n",
       "\t<li>'Joshanae'</li>\n",
       "\t<li>'Vaelyn'</li>\n",
       "\t<li>'Lolisa'</li>\n",
       "\t<li>'Kylise'</li>\n",
       "\t<li>'Jaydenn'</li>\n",
       "\t<li>'Ryder'</li>\n",
       "\t<li>'Amareya'</li>\n",
       "\t<li>'Neeti'</li>\n",
       "\t<li>'Kiele'</li>\n",
       "</ol>\n"
      ],
      "text/latex": [
       "\\begin{enumerate*}\n",
       "\\item 'Antanea'\n",
       "\\item 'Tansha'\n",
       "\\item 'Elithia'\n",
       "\\item 'Crissey'\n",
       "\\item 'Dinasia'\n",
       "\\item 'Zory'\n",
       "\\item 'Chantee'\n",
       "\\item 'Marlane'\n",
       "\\item 'Juaria'\n",
       "\\item 'Timmi'\n",
       "\\item 'Jhosselyn'\n",
       "\\item 'Joshanae'\n",
       "\\item 'Vaelyn'\n",
       "\\item 'Lolisa'\n",
       "\\item 'Kylise'\n",
       "\\item 'Jaydenn'\n",
       "\\item 'Ryder'\n",
       "\\item 'Amareya'\n",
       "\\item 'Neeti'\n",
       "\\item 'Kiele'\n",
       "\\end{enumerate*}\n"
      ],
      "text/markdown": [
       "1. 'Antanea'\n",
       "2. 'Tansha'\n",
       "3. 'Elithia'\n",
       "4. 'Crissey'\n",
       "5. 'Dinasia'\n",
       "6. 'Zory'\n",
       "7. 'Chantee'\n",
       "8. 'Marlane'\n",
       "9. 'Juaria'\n",
       "10. 'Timmi'\n",
       "11. 'Jhosselyn'\n",
       "12. 'Joshanae'\n",
       "13. 'Vaelyn'\n",
       "14. 'Lolisa'\n",
       "15. 'Kylise'\n",
       "16. 'Jaydenn'\n",
       "17. 'Ryder'\n",
       "18. 'Amareya'\n",
       "19. 'Neeti'\n",
       "20. 'Kiele'\n",
       "\n",
       "\n"
      ],
      "text/plain": [
       " [1] \"Antanea\"   \"Tansha\"    \"Elithia\"   \"Crissey\"   \"Dinasia\"   \"Zory\"     \n",
       " [7] \"Chantee\"   \"Marlane\"   \"Juaria\"    \"Timmi\"     \"Jhosselyn\" \"Joshanae\" \n",
       "[13] \"Vaelyn\"    \"Lolisa\"    \"Kylise\"    \"Jaydenn\"   \"Ryder\"     \"Amareya\"  \n",
       "[19] \"Neeti\"     \"Kiele\"    "
      ]
     },
     "metadata": {},
     "output_type": "display_data"
    }
   ],
   "source": [
    "# 유일한 여자 아이 이름 20개만 출력하기\n",
    "sample(unique(Female$Name),20)"
   ]
  },
  {
   "cell_type": "markdown",
   "id": "e72b47df",
   "metadata": {},
   "source": [
    "---\n",
    "### 가장 많이 사용된 여자 아이 이름 10개 보여주기"
   ]
  },
  {
   "cell_type": "code",
   "execution_count": 21,
   "id": "504d81aa",
   "metadata": {},
   "outputs": [
    {
     "name": "stderr",
     "output_type": "stream",
     "text": [
      "\n",
      "Attaching package: ‘dplyr’\n",
      "\n",
      "The following objects are masked from ‘package:stats’:\n",
      "\n",
      "    filter, lag\n",
      "\n",
      "The following objects are masked from ‘package:base’:\n",
      "\n",
      "    intersect, setdiff, setequal, union\n",
      "\n"
     ]
    }
   ],
   "source": [
    "library(dplyr)"
   ]
  },
  {
   "cell_type": "code",
   "execution_count": 30,
   "id": "df18a959",
   "metadata": {},
   "outputs": [],
   "source": [
    "femaleName <- arrange(aggregate(Count~Name, Female, sum), desc(Count))"
   ]
  },
  {
   "cell_type": "code",
   "execution_count": 31,
   "id": "68e3d013",
   "metadata": {},
   "outputs": [
    {
     "data": {
      "text/html": [
       "<table>\n",
       "<thead><tr><th scope=col>Name</th><th scope=col>Count</th></tr></thead>\n",
       "<tbody>\n",
       "\t<tr><td>Mary     </td><td>4115282  </td></tr>\n",
       "\t<tr><td>Elizabeth</td><td>1601128  </td></tr>\n",
       "\t<tr><td>Patricia </td><td>1570567  </td></tr>\n",
       "\t<tr><td>Jennifer </td><td>1462742  </td></tr>\n",
       "\t<tr><td>Linda    </td><td>1450843  </td></tr>\n",
       "\t<tr><td>Barbara  </td><td>1432944  </td></tr>\n",
       "\t<tr><td>Margaret </td><td>1240006  </td></tr>\n",
       "\t<tr><td>Susan    </td><td>1120469  </td></tr>\n",
       "\t<tr><td>Dorothy  </td><td>1105680  </td></tr>\n",
       "\t<tr><td>Sarah    </td><td>1060643  </td></tr>\n",
       "</tbody>\n",
       "</table>\n"
      ],
      "text/latex": [
       "\\begin{tabular}{r|ll}\n",
       " Name & Count\\\\\n",
       "\\hline\n",
       "\t Mary      & 4115282  \\\\\n",
       "\t Elizabeth & 1601128  \\\\\n",
       "\t Patricia  & 1570567  \\\\\n",
       "\t Jennifer  & 1462742  \\\\\n",
       "\t Linda     & 1450843  \\\\\n",
       "\t Barbara   & 1432944  \\\\\n",
       "\t Margaret  & 1240006  \\\\\n",
       "\t Susan     & 1120469  \\\\\n",
       "\t Dorothy   & 1105680  \\\\\n",
       "\t Sarah     & 1060643  \\\\\n",
       "\\end{tabular}\n"
      ],
      "text/markdown": [
       "\n",
       "| Name | Count |\n",
       "|---|---|\n",
       "| Mary      | 4115282   |\n",
       "| Elizabeth | 1601128   |\n",
       "| Patricia  | 1570567   |\n",
       "| Jennifer  | 1462742   |\n",
       "| Linda     | 1450843   |\n",
       "| Barbara   | 1432944   |\n",
       "| Margaret  | 1240006   |\n",
       "| Susan     | 1120469   |\n",
       "| Dorothy   | 1105680   |\n",
       "| Sarah     | 1060643   |\n",
       "\n"
      ],
      "text/plain": [
       "   Name      Count  \n",
       "1  Mary      4115282\n",
       "2  Elizabeth 1601128\n",
       "3  Patricia  1570567\n",
       "4  Jennifer  1462742\n",
       "5  Linda     1450843\n",
       "6  Barbara   1432944\n",
       "7  Margaret  1240006\n",
       "8  Susan     1120469\n",
       "9  Dorothy   1105680\n",
       "10 Sarah     1060643"
      ]
     },
     "metadata": {},
     "output_type": "display_data"
    }
   ],
   "source": [
    "femaleName[1:10,]"
   ]
  },
  {
   "cell_type": "code",
   "execution_count": 32,
   "id": "540b0eab",
   "metadata": {},
   "outputs": [
    {
     "data": {
      "text/html": [
       "743728"
      ],
      "text/latex": [
       "743728"
      ],
      "text/markdown": [
       "743728"
      ],
      "text/plain": [
       "[1] 743728"
      ]
     },
     "metadata": {},
     "output_type": "display_data"
    }
   ],
   "source": [
    "# baby에서 남자아이만 Male이라는 데이터셋을 만들고 row수 구하기\n",
    "Male <- subset(baby, Gender == \"M\")\n",
    "nrow(Male)"
   ]
  },
  {
   "cell_type": "code",
   "execution_count": 35,
   "id": "e0d2d6b7",
   "metadata": {},
   "outputs": [
    {
     "data": {
      "text/html": [
       "39199"
      ],
      "text/latex": [
       "39199"
      ],
      "text/markdown": [
       "39199"
      ],
      "text/plain": [
       "[1] 39199"
      ]
     },
     "metadata": {},
     "output_type": "display_data"
    }
   ],
   "source": [
    "length(unique(Male$Name))"
   ]
  },
  {
   "cell_type": "code",
   "execution_count": 59,
   "id": "68b1597c",
   "metadata": {},
   "outputs": [],
   "source": [
    "Female_population <- aggregate(Count ~ Year, Female, sum)\n",
    "Male_population <- aggregate(Count ~ Year, Male, sum)"
   ]
  },
  {
   "cell_type": "code",
   "execution_count": 60,
   "id": "effc1116",
   "metadata": {},
   "outputs": [
    {
     "data": {
      "image/png": "[encoded data removed]",
      "text/plain": [
       "Plot with title “1880~2014년 인구 분표 현황”"
      ]
     },
     "metadata": {},
     "output_type": "display_data"
    }
   ],
   "source": [
    "# Female, male의 연도별 합계를 구해서 그래프를 그려라\n",
    "par(family = \"AppleGothic\")\n",
    "options(warn = -1)\n",
    "plot(Female_population,\n",
    "     type=\"l\",\n",
    "     ylim=c(0,2500000),\n",
    "     col=\"orange\",\n",
    "     main = \"1880~2014년 인구 분표 현황\"\n",
    "    )\n",
    "lines(Male_population,\n",
    "      col=\"blue\"\n",
    "     )\n",
    "legend(\"topright\",# 1980, 1000000\n",
    "       c(\"Female\", \"Male\"),\n",
    "       col=c(\"orange\",\"blue\"),\n",
    "       lty=c(1,1)\n",
    "      )"
   ]
  },
  {
   "cell_type": "markdown",
   "id": "07a8523c",
   "metadata": {},
   "source": [
    "# 여기는 그냥 내가 해본 거"
   ]
  },
  {
   "cell_type": "code",
   "execution_count": 65,
   "id": "1177b1ef",
   "metadata": {},
   "outputs": [],
   "source": [
    "test <- merge(x=Female_population, y=Male_population, by.x=\"Year\", by.y=\"Year\")"
   ]
  },
  {
   "cell_type": "code",
   "execution_count": 70,
   "id": "721a517c",
   "metadata": {},
   "outputs": [],
   "source": [
    "test$차이 <- (test$Count.x - test$Count.y)"
   ]
  },
  {
   "cell_type": "code",
   "execution_count": null,
   "id": "3767ceb1",
   "metadata": {},
   "outputs": [],
   "source": []
  },
  {
   "cell_type": "code",
   "execution_count": null,
   "id": "92f2944b",
   "metadata": {},
   "outputs": [],
   "source": []
  },
  {
   "cell_type": "code",
   "execution_count": null,
   "id": "e8d6eeb5",
   "metadata": {},
   "outputs": [],
   "source": []
  }
 ],
 "metadata": {
  "kernelspec": {
   "display_name": "R",
   "language": "R",
   "name": "ir"
  },
  "language_info": {
   "codemirror_mode": "r",
   "file_extension": ".r",
   "mimetype": "text/x-r-source",
   "name": "R",
   "pygments_lexer": "r",
   "version": "3.6.1"
  }
 },
 "nbformat": 4,
 "nbformat_minor": 5
}
