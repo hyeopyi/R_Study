{
 "cells": [
  {
   "cell_type": "markdown",
   "id": "ed84080a",
   "metadata": {},
   "source": [
    "# 1880년부터  2014년까의 미국의 아기 이름을 정리해논 데이터셋"
   ]
  },
  {
   "cell_type": "code",
   "execution_count": 1,
   "id": "a8a5f709",
   "metadata": {},
   "outputs": [
    {
     "data": {
      "text/html": [
       "<table>\n",
       "<thead><tr><th scope=col>Name</th><th scope=col>Gender</th><th scope=col>Count</th><th scope=col>Year</th><th scope=col>Year.Rank</th></tr></thead>\n",
       "<tbody>\n",
       "\t<tr><td>Mary                  </td><td>F                     </td><td>7065                  </td><td>01/01/1880 12:00:00 AM</td><td>1                     </td></tr>\n",
       "\t<tr><td>Anna                  </td><td>F                     </td><td>2604                  </td><td>01/01/1880 12:00:00 AM</td><td>2                     </td></tr>\n",
       "\t<tr><td>Emma                  </td><td>F                     </td><td>2003                  </td><td>01/01/1880 12:00:00 AM</td><td>3                     </td></tr>\n",
       "\t<tr><td>Elizabeth             </td><td>F                     </td><td>1939                  </td><td>01/01/1880 12:00:00 AM</td><td>4                     </td></tr>\n",
       "\t<tr><td>Minnie                </td><td>F                     </td><td>1746                  </td><td>01/01/1880 12:00:00 AM</td><td>5                     </td></tr>\n",
       "\t<tr><td>Margaret              </td><td>F                     </td><td>1578                  </td><td>01/01/1880 12:00:00 AM</td><td>6                     </td></tr>\n",
       "</tbody>\n",
       "</table>\n"
      ],
      "text/latex": [
       "\\begin{tabular}{r|lllll}\n",
       " Name & Gender & Count & Year & Year.Rank\\\\\n",
       "\\hline\n",
       "\t Mary                   & F                      & 7065                   & 01/01/1880 12:00:00 AM & 1                     \\\\\n",
       "\t Anna                   & F                      & 2604                   & 01/01/1880 12:00:00 AM & 2                     \\\\\n",
       "\t Emma                   & F                      & 2003                   & 01/01/1880 12:00:00 AM & 3                     \\\\\n",
       "\t Elizabeth              & F                      & 1939                   & 01/01/1880 12:00:00 AM & 4                     \\\\\n",
       "\t Minnie                 & F                      & 1746                   & 01/01/1880 12:00:00 AM & 5                     \\\\\n",
       "\t Margaret               & F                      & 1578                   & 01/01/1880 12:00:00 AM & 6                     \\\\\n",
       "\\end{tabular}\n"
      ],
      "text/markdown": [
       "\n",
       "| Name | Gender | Count | Year | Year.Rank |\n",
       "|---|---|---|---|---|\n",
       "| Mary                   | F                      | 7065                   | 01/01/1880 12:00:00 AM | 1                      |\n",
       "| Anna                   | F                      | 2604                   | 01/01/1880 12:00:00 AM | 2                      |\n",
       "| Emma                   | F                      | 2003                   | 01/01/1880 12:00:00 AM | 3                      |\n",
       "| Elizabeth              | F                      | 1939                   | 01/01/1880 12:00:00 AM | 4                      |\n",
       "| Minnie                 | F                      | 1746                   | 01/01/1880 12:00:00 AM | 5                      |\n",
       "| Margaret               | F                      | 1578                   | 01/01/1880 12:00:00 AM | 6                      |\n",
       "\n"
      ],
      "text/plain": [
       "  Name      Gender Count Year                   Year.Rank\n",
       "1 Mary      F      7065  01/01/1880 12:00:00 AM 1        \n",
       "2 Anna      F      2604  01/01/1880 12:00:00 AM 2        \n",
       "3 Emma      F      2003  01/01/1880 12:00:00 AM 3        \n",
       "4 Elizabeth F      1939  01/01/1880 12:00:00 AM 4        \n",
       "5 Minnie    F      1746  01/01/1880 12:00:00 AM 5        \n",
       "6 Margaret  F      1578  01/01/1880 12:00:00 AM 6        "
      ]
     },
     "metadata": {},
     "output_type": "display_data"
    }
   ],
   "source": [
    "baby <- read.csv(\"../Data/R_Baby_Names_1880-2014.csv\", stringsAsFactors = F) # 문자열을 factor로 받지않는다\n",
    "head(baby)"
   ]
  },
  {
   "cell_type": "code",
   "execution_count": 2,
   "id": "3eed4d65",
   "metadata": {},
   "outputs": [
    {
     "data": {
      "text/html": [
       "<table>\n",
       "<thead><tr><th></th><th scope=col>Name</th><th scope=col>Gender</th><th scope=col>Count</th><th scope=col>Year</th><th scope=col>Year.Rank</th></tr></thead>\n",
       "<tbody>\n",
       "\t<tr><th scope=row>1825383</th><td>Zyel                  </td><td>M                     </td><td>5                     </td><td>01/01/2014 12:00:00 AM</td><td>13972                 </td></tr>\n",
       "\t<tr><th scope=row>1825384</th><td>Zykeem                </td><td>M                     </td><td>5                     </td><td>01/01/2014 12:00:00 AM</td><td>13973                 </td></tr>\n",
       "\t<tr><th scope=row>1825385</th><td>Zymeer                </td><td>M                     </td><td>5                     </td><td>01/01/2014 12:00:00 AM</td><td>13974                 </td></tr>\n",
       "\t<tr><th scope=row>1825386</th><td>Zymiere               </td><td>M                     </td><td>5                     </td><td>01/01/2014 12:00:00 AM</td><td>13975                 </td></tr>\n",
       "\t<tr><th scope=row>1825387</th><td>Zyran                 </td><td>M                     </td><td>5                     </td><td>01/01/2014 12:00:00 AM</td><td>13976                 </td></tr>\n",
       "\t<tr><th scope=row>1825388</th><td>Zyrin                 </td><td>M                     </td><td>5                     </td><td>01/01/2014 12:00:00 AM</td><td>13977                 </td></tr>\n",
       "</tbody>\n",
       "</table>\n"
      ],
      "text/latex": [
       "\\begin{tabular}{r|lllll}\n",
       "  & Name & Gender & Count & Year & Year.Rank\\\\\n",
       "\\hline\n",
       "\t1825383 & Zyel                   & M                      & 5                      & 01/01/2014 12:00:00 AM & 13972                 \\\\\n",
       "\t1825384 & Zykeem                 & M                      & 5                      & 01/01/2014 12:00:00 AM & 13973                 \\\\\n",
       "\t1825385 & Zymeer                 & M                      & 5                      & 01/01/2014 12:00:00 AM & 13974                 \\\\\n",
       "\t1825386 & Zymiere                & M                      & 5                      & 01/01/2014 12:00:00 AM & 13975                 \\\\\n",
       "\t1825387 & Zyran                  & M                      & 5                      & 01/01/2014 12:00:00 AM & 13976                 \\\\\n",
       "\t1825388 & Zyrin                  & M                      & 5                      & 01/01/2014 12:00:00 AM & 13977                 \\\\\n",
       "\\end{tabular}\n"
      ],
      "text/markdown": [
       "\n",
       "| <!--/--> | Name | Gender | Count | Year | Year.Rank |\n",
       "|---|---|---|---|---|---|\n",
       "| 1825383 | Zyel                   | M                      | 5                      | 01/01/2014 12:00:00 AM | 13972                  |\n",
       "| 1825384 | Zykeem                 | M                      | 5                      | 01/01/2014 12:00:00 AM | 13973                  |\n",
       "| 1825385 | Zymeer                 | M                      | 5                      | 01/01/2014 12:00:00 AM | 13974                  |\n",
       "| 1825386 | Zymiere                | M                      | 5                      | 01/01/2014 12:00:00 AM | 13975                  |\n",
       "| 1825387 | Zyran                  | M                      | 5                      | 01/01/2014 12:00:00 AM | 13976                  |\n",
       "| 1825388 | Zyrin                  | M                      | 5                      | 01/01/2014 12:00:00 AM | 13977                  |\n",
       "\n"
      ],
      "text/plain": [
       "        Name    Gender Count Year                   Year.Rank\n",
       "1825383 Zyel    M      5     01/01/2014 12:00:00 AM 13972    \n",
       "1825384 Zykeem  M      5     01/01/2014 12:00:00 AM 13973    \n",
       "1825385 Zymeer  M      5     01/01/2014 12:00:00 AM 13974    \n",
       "1825386 Zymiere M      5     01/01/2014 12:00:00 AM 13975    \n",
       "1825387 Zyran   M      5     01/01/2014 12:00:00 AM 13976    \n",
       "1825388 Zyrin   M      5     01/01/2014 12:00:00 AM 13977    "
      ]
     },
     "metadata": {},
     "output_type": "display_data"
    }
   ],
   "source": [
    "tail(baby)"
   ]
  },
  {
   "cell_type": "code",
   "execution_count": 3,
   "id": "95c6c774",
   "metadata": {},
   "outputs": [
    {
     "name": "stdout",
     "output_type": "stream",
     "text": [
      "'data.frame':\t1825388 obs. of  5 variables:\n",
      " $ Name     : chr  \"Mary\" \"Anna\" \"Emma\" \"Elizabeth\" ...\n",
      " $ Gender   : chr  \"F\" \"F\" \"F\" \"F\" ...\n",
      " $ Count    : int  7065 2604 2003 1939 1746 1578 1472 1414 1320 1288 ...\n",
      " $ Year     : chr  \"01/01/1880 12:00:00 AM\" \"01/01/1880 12:00:00 AM\" \"01/01/1880 12:00:00 AM\" \"01/01/1880 12:00:00 AM\" ...\n",
      " $ Year.Rank: int  1 2 3 4 5 6 7 8 9 10 ...\n"
     ]
    }
   ],
   "source": [
    "str(baby)"
   ]
  },
  {
   "cell_type": "code",
   "execution_count": 4,
   "id": "95913048",
   "metadata": {},
   "outputs": [
    {
     "name": "stdout",
     "output_type": "stream",
     "text": [
      "'data.frame':\t1825388 obs. of  5 variables:\n",
      " $ Name     : chr  \"Mary\" \"Anna\" \"Emma\" \"Elizabeth\" ...\n",
      " $ Gender   : Factor w/ 2 levels \"F\",\"M\": 1 1 1 1 1 1 1 1 1 1 ...\n",
      " $ Count    : int  7065 2604 2003 1939 1746 1578 1472 1414 1320 1288 ...\n",
      " $ Year     : chr  \"01/01/1880 12:00:00 AM\" \"01/01/1880 12:00:00 AM\" \"01/01/1880 12:00:00 AM\" \"01/01/1880 12:00:00 AM\" ...\n",
      " $ Year.Rank: int  1 2 3 4 5 6 7 8 9 10 ...\n"
     ]
    }
   ],
   "source": [
    "baby$Gender <- as.factor(baby$Gender) # 범위값\n",
    "str(baby)"
   ]
  },
  {
   "cell_type": "code",
   "execution_count": 5,
   "id": "29c50d0a",
   "metadata": {},
   "outputs": [
    {
     "data": {
      "text/html": [
       "<table>\n",
       "<thead><tr><th scope=col>Name</th><th scope=col>Gender</th><th scope=col>Count</th><th scope=col>Year</th><th scope=col>Year.Rank</th></tr></thead>\n",
       "<tbody>\n",
       "\t<tr><td>Mary     </td><td>F        </td><td>7065     </td><td>1880     </td><td>1        </td></tr>\n",
       "\t<tr><td>Anna     </td><td>F        </td><td>2604     </td><td>1880     </td><td>2        </td></tr>\n",
       "\t<tr><td>Emma     </td><td>F        </td><td>2003     </td><td>1880     </td><td>3        </td></tr>\n",
       "\t<tr><td>Elizabeth</td><td>F        </td><td>1939     </td><td>1880     </td><td>4        </td></tr>\n",
       "\t<tr><td>Minnie   </td><td>F        </td><td>1746     </td><td>1880     </td><td>5        </td></tr>\n",
       "\t<tr><td>Margaret </td><td>F        </td><td>1578     </td><td>1880     </td><td>6        </td></tr>\n",
       "</tbody>\n",
       "</table>\n"
      ],
      "text/latex": [
       "\\begin{tabular}{r|lllll}\n",
       " Name & Gender & Count & Year & Year.Rank\\\\\n",
       "\\hline\n",
       "\t Mary      & F         & 7065      & 1880      & 1        \\\\\n",
       "\t Anna      & F         & 2604      & 1880      & 2        \\\\\n",
       "\t Emma      & F         & 2003      & 1880      & 3        \\\\\n",
       "\t Elizabeth & F         & 1939      & 1880      & 4        \\\\\n",
       "\t Minnie    & F         & 1746      & 1880      & 5        \\\\\n",
       "\t Margaret  & F         & 1578      & 1880      & 6        \\\\\n",
       "\\end{tabular}\n"
      ],
      "text/markdown": [
       "\n",
       "| Name | Gender | Count | Year | Year.Rank |\n",
       "|---|---|---|---|---|\n",
       "| Mary      | F         | 7065      | 1880      | 1         |\n",
       "| Anna      | F         | 2604      | 1880      | 2         |\n",
       "| Emma      | F         | 2003      | 1880      | 3         |\n",
       "| Elizabeth | F         | 1939      | 1880      | 4         |\n",
       "| Minnie    | F         | 1746      | 1880      | 5         |\n",
       "| Margaret  | F         | 1578      | 1880      | 6         |\n",
       "\n"
      ],
      "text/plain": [
       "  Name      Gender Count Year Year.Rank\n",
       "1 Mary      F      7065  1880 1        \n",
       "2 Anna      F      2604  1880 2        \n",
       "3 Emma      F      2003  1880 3        \n",
       "4 Elizabeth F      1939  1880 4        \n",
       "5 Minnie    F      1746  1880 5        \n",
       "6 Margaret  F      1578  1880 6        "
      ]
     },
     "metadata": {},
     "output_type": "display_data"
    }
   ],
   "source": [
    "# baby의 Year부분 정리하기\n",
    "baby$Year <- substr(baby$Year, 7, 10)  # remove보다 substr이 빠르다, 대용량 파일에서 불필요한 부분만 제거해도 용량이 대폭 감소한다\n",
    "head(baby)"
   ]
  },
  {
   "cell_type": "code",
   "execution_count": 6,
   "id": "5ebb60f5",
   "metadata": {},
   "outputs": [],
   "source": [
    "# 저장하기\n",
    "write.csv(baby, \"../Data/baby.csv\", row.names=F)"
   ]
  },
  {
   "cell_type": "code",
   "execution_count": 7,
   "id": "a694f172",
   "metadata": {},
   "outputs": [
    {
     "data": {
      "text/plain": [
       "     Name           Gender          Count             Year          \n",
       " Length:1825388     F:1081660   Min.   :    5.0   Length:1825388    \n",
       " Class :character   M: 743728   1st Qu.:    7.0   Class :character  \n",
       " Mode  :character               Median :   12.0   Mode  :character  \n",
       "                                Mean   :  184.7                     \n",
       "                                3rd Qu.:   32.0                     \n",
       "                                Max.   :99680.0                     \n",
       "   Year.Rank    \n",
       " Min.   :    1  \n",
       " 1st Qu.: 1790  \n",
       " Median : 4009  \n",
       " Mean   : 5301  \n",
       " 3rd Qu.: 7820  \n",
       " Max.   :20548  "
      ]
     },
     "metadata": {},
     "output_type": "display_data"
    }
   ],
   "source": [
    "summary(baby)"
   ]
  },
  {
   "cell_type": "code",
   "execution_count": 19,
   "id": "f40e6781",
   "metadata": {},
   "outputs": [
    {
     "data": {
      "text/html": [
       "1081660"
      ],
      "text/latex": [
       "1081660"
      ],
      "text/markdown": [
       "1081660"
      ],
      "text/plain": [
       "[1] 1081660"
      ]
     },
     "metadata": {},
     "output_type": "display_data"
    }
   ],
   "source": [
    "# babay에서 여자 아이만 Female 이라는 dataset를 만들고 row수 구하기\n",
    "Female <- subset(baby, Gender == \"F\") # \"\"잊지말고 사용\n",
    "nrow(Female)"
   ]
  },
  {
   "cell_type": "code",
   "execution_count": 21,
   "id": "42c1cb38",
   "metadata": {},
   "outputs": [
    {
     "data": {
      "text/html": [
       "64911"
      ],
      "text/latex": [
       "64911"
      ],
      "text/markdown": [
       "64911"
      ],
      "text/plain": [
       "[1] 64911"
      ]
     },
     "metadata": {},
     "output_type": "display_data"
    }
   ],
   "source": [
    "# 여자 아이 이름중 중복 제거하고 갯수 구하기\n",
    "length(unique(Female$Name))"
   ]
  },
  {
   "cell_type": "code",
   "execution_count": 56,
   "id": "60745a9b",
   "metadata": {},
   "outputs": [
    {
     "data": {
      "text/html": [
       "<ol class=list-inline>\n",
       "\t<li>'Tyrielle'</li>\n",
       "\t<li>'Yonika'</li>\n",
       "\t<li>'Beckah'</li>\n",
       "\t<li>'Andreca'</li>\n",
       "\t<li>'Myphuong'</li>\n",
       "\t<li>'Saily'</li>\n",
       "\t<li>'Andelynn'</li>\n",
       "\t<li>'Araeya'</li>\n",
       "\t<li>'Kornelia'</li>\n",
       "\t<li>'Matlyn'</li>\n",
       "\t<li>'Lakesa'</li>\n",
       "\t<li>'Simayah'</li>\n",
       "\t<li>'Silvya'</li>\n",
       "\t<li>'Nyosha'</li>\n",
       "\t<li>'Geargia'</li>\n",
       "\t<li>'Kearstin'</li>\n",
       "\t<li>'Ranylah'</li>\n",
       "\t<li>'Asiya'</li>\n",
       "\t<li>'Brizeyda'</li>\n",
       "\t<li>'Desarey'</li>\n",
       "</ol>\n"
      ],
      "text/latex": [
       "\\begin{enumerate*}\n",
       "\\item 'Tyrielle'\n",
       "\\item 'Yonika'\n",
       "\\item 'Beckah'\n",
       "\\item 'Andreca'\n",
       "\\item 'Myphuong'\n",
       "\\item 'Saily'\n",
       "\\item 'Andelynn'\n",
       "\\item 'Araeya'\n",
       "\\item 'Kornelia'\n",
       "\\item 'Matlyn'\n",
       "\\item 'Lakesa'\n",
       "\\item 'Simayah'\n",
       "\\item 'Silvya'\n",
       "\\item 'Nyosha'\n",
       "\\item 'Geargia'\n",
       "\\item 'Kearstin'\n",
       "\\item 'Ranylah'\n",
       "\\item 'Asiya'\n",
       "\\item 'Brizeyda'\n",
       "\\item 'Desarey'\n",
       "\\end{enumerate*}\n"
      ],
      "text/markdown": [
       "1. 'Tyrielle'\n",
       "2. 'Yonika'\n",
       "3. 'Beckah'\n",
       "4. 'Andreca'\n",
       "5. 'Myphuong'\n",
       "6. 'Saily'\n",
       "7. 'Andelynn'\n",
       "8. 'Araeya'\n",
       "9. 'Kornelia'\n",
       "10. 'Matlyn'\n",
       "11. 'Lakesa'\n",
       "12. 'Simayah'\n",
       "13. 'Silvya'\n",
       "14. 'Nyosha'\n",
       "15. 'Geargia'\n",
       "16. 'Kearstin'\n",
       "17. 'Ranylah'\n",
       "18. 'Asiya'\n",
       "19. 'Brizeyda'\n",
       "20. 'Desarey'\n",
       "\n",
       "\n"
      ],
      "text/plain": [
       " [1] \"Tyrielle\" \"Yonika\"   \"Beckah\"   \"Andreca\"  \"Myphuong\" \"Saily\"   \n",
       " [7] \"Andelynn\" \"Araeya\"   \"Kornelia\" \"Matlyn\"   \"Lakesa\"   \"Simayah\" \n",
       "[13] \"Silvya\"   \"Nyosha\"   \"Geargia\"  \"Kearstin\" \"Ranylah\"  \"Asiya\"   \n",
       "[19] \"Brizeyda\" \"Desarey\" "
      ]
     },
     "metadata": {},
     "output_type": "display_data"
    }
   ],
   "source": [
    "# 유일한 여자 아이 이름 20개만 출력하기\n",
    "sample(unique(Female$Name), 20)"
   ]
  },
  {
   "cell_type": "markdown",
   "id": "e302068f",
   "metadata": {},
   "source": [
    "---\n",
    "### 가장많이 사용된 여자 아이 이름 10개 보여주기"
   ]
  },
  {
   "cell_type": "code",
   "execution_count": 116,
   "id": "c1e494e8",
   "metadata": {},
   "outputs": [
    {
     "data": {
      "text/html": [
       "<table>\n",
       "<thead><tr><th scope=col>Name</th><th scope=col>Gender</th><th scope=col>Count</th><th scope=col>Year</th><th scope=col>Year.Rank</th></tr></thead>\n",
       "<tbody>\n",
       "\t<tr><td>Mary     </td><td>F        </td><td>7065     </td><td>1880     </td><td>1        </td></tr>\n",
       "\t<tr><td>Anna     </td><td>F        </td><td>2604     </td><td>1880     </td><td>2        </td></tr>\n",
       "\t<tr><td>Emma     </td><td>F        </td><td>2003     </td><td>1880     </td><td>3        </td></tr>\n",
       "\t<tr><td>Elizabeth</td><td>F        </td><td>1939     </td><td>1880     </td><td>4        </td></tr>\n",
       "\t<tr><td>Minnie   </td><td>F        </td><td>1746     </td><td>1880     </td><td>5        </td></tr>\n",
       "\t<tr><td>Margaret </td><td>F        </td><td>1578     </td><td>1880     </td><td>6        </td></tr>\n",
       "</tbody>\n",
       "</table>\n"
      ],
      "text/latex": [
       "\\begin{tabular}{r|lllll}\n",
       " Name & Gender & Count & Year & Year.Rank\\\\\n",
       "\\hline\n",
       "\t Mary      & F         & 7065      & 1880      & 1        \\\\\n",
       "\t Anna      & F         & 2604      & 1880      & 2        \\\\\n",
       "\t Emma      & F         & 2003      & 1880      & 3        \\\\\n",
       "\t Elizabeth & F         & 1939      & 1880      & 4        \\\\\n",
       "\t Minnie    & F         & 1746      & 1880      & 5        \\\\\n",
       "\t Margaret  & F         & 1578      & 1880      & 6        \\\\\n",
       "\\end{tabular}\n"
      ],
      "text/markdown": [
       "\n",
       "| Name | Gender | Count | Year | Year.Rank |\n",
       "|---|---|---|---|---|\n",
       "| Mary      | F         | 7065      | 1880      | 1         |\n",
       "| Anna      | F         | 2604      | 1880      | 2         |\n",
       "| Emma      | F         | 2003      | 1880      | 3         |\n",
       "| Elizabeth | F         | 1939      | 1880      | 4         |\n",
       "| Minnie    | F         | 1746      | 1880      | 5         |\n",
       "| Margaret  | F         | 1578      | 1880      | 6         |\n",
       "\n"
      ],
      "text/plain": [
       "  Name      Gender Count Year Year.Rank\n",
       "1 Mary      F      7065  1880 1        \n",
       "2 Anna      F      2604  1880 2        \n",
       "3 Emma      F      2003  1880 3        \n",
       "4 Elizabeth F      1939  1880 4        \n",
       "5 Minnie    F      1746  1880 5        \n",
       "6 Margaret  F      1578  1880 6        "
      ]
     },
     "metadata": {},
     "output_type": "display_data"
    }
   ],
   "source": [
    "library(dplyr)\n",
    "head(Female)"
   ]
  },
  {
   "cell_type": "code",
   "execution_count": 117,
   "id": "a2963fc9",
   "metadata": {},
   "outputs": [
    {
     "data": {
      "text/html": [
       "<table>\n",
       "<thead><tr><th scope=col>Name</th><th scope=col>Count</th></tr></thead>\n",
       "<tbody>\n",
       "\t<tr><td>Mary     </td><td>4115282  </td></tr>\n",
       "\t<tr><td>Elizabeth</td><td>1601128  </td></tr>\n",
       "\t<tr><td>Patricia </td><td>1570567  </td></tr>\n",
       "\t<tr><td>Jennifer </td><td>1462742  </td></tr>\n",
       "\t<tr><td>Linda    </td><td>1450843  </td></tr>\n",
       "\t<tr><td>Barbara  </td><td>1432944  </td></tr>\n",
       "\t<tr><td>Margaret </td><td>1240006  </td></tr>\n",
       "\t<tr><td>Susan    </td><td>1120469  </td></tr>\n",
       "\t<tr><td>Dorothy  </td><td>1105680  </td></tr>\n",
       "\t<tr><td>Sarah    </td><td>1060643  </td></tr>\n",
       "</tbody>\n",
       "</table>\n"
      ],
      "text/latex": [
       "\\begin{tabular}{r|ll}\n",
       " Name & Count\\\\\n",
       "\\hline\n",
       "\t Mary      & 4115282  \\\\\n",
       "\t Elizabeth & 1601128  \\\\\n",
       "\t Patricia  & 1570567  \\\\\n",
       "\t Jennifer  & 1462742  \\\\\n",
       "\t Linda     & 1450843  \\\\\n",
       "\t Barbara   & 1432944  \\\\\n",
       "\t Margaret  & 1240006  \\\\\n",
       "\t Susan     & 1120469  \\\\\n",
       "\t Dorothy   & 1105680  \\\\\n",
       "\t Sarah     & 1060643  \\\\\n",
       "\\end{tabular}\n"
      ],
      "text/markdown": [
       "\n",
       "| Name | Count |\n",
       "|---|---|\n",
       "| Mary      | 4115282   |\n",
       "| Elizabeth | 1601128   |\n",
       "| Patricia  | 1570567   |\n",
       "| Jennifer  | 1462742   |\n",
       "| Linda     | 1450843   |\n",
       "| Barbara   | 1432944   |\n",
       "| Margaret  | 1240006   |\n",
       "| Susan     | 1120469   |\n",
       "| Dorothy   | 1105680   |\n",
       "| Sarah     | 1060643   |\n",
       "\n"
      ],
      "text/plain": [
       "   Name      Count  \n",
       "1  Mary      4115282\n",
       "2  Elizabeth 1601128\n",
       "3  Patricia  1570567\n",
       "4  Jennifer  1462742\n",
       "5  Linda     1450843\n",
       "6  Barbara   1432944\n",
       "7  Margaret  1240006\n",
       "8  Susan     1120469\n",
       "9  Dorothy   1105680\n",
       "10 Sarah     1060643"
      ]
     },
     "metadata": {},
     "output_type": "display_data"
    }
   ],
   "source": [
    "femaleName <- aggregate(Count ~ Name, Female, sum)\n",
    "head(arrange(femaleName, desc(Count)) , 10)"
   ]
  },
  {
   "cell_type": "code",
   "execution_count": 118,
   "id": "f33d0b29",
   "metadata": {},
   "outputs": [
    {
     "data": {
      "text/html": [
       "743728"
      ],
      "text/latex": [
       "743728"
      ],
      "text/markdown": [
       "743728"
      ],
      "text/plain": [
       "[1] 743728"
      ]
     },
     "metadata": {},
     "output_type": "display_data"
    }
   ],
   "source": [
    "# baby에서 남자 아이만 Male이라는 데이터넷을 만들고 row수 구하기\n",
    "\n",
    "Male <- subset(baby, Gender == \"M\")\n",
    "nrow(Male)"
   ]
  },
  {
   "cell_type": "code",
   "execution_count": 167,
   "id": "f244514e",
   "metadata": {},
   "outputs": [],
   "source": [
    "# 남여 연도별 합계\n",
    "\n",
    "FemaleSum <- aggregate(Count ~ Year, Female, sum)\n",
    "MaleSum <- aggregate(Count ~ Year, Male, sum)"
   ]
  },
  {
   "cell_type": "code",
   "execution_count": 159,
   "id": "cd1e995c",
   "metadata": {},
   "outputs": [
    {
     "data": {
      "image/png": "[encoded data removed]",
      "text/plain": [
       "Plot with title “1880~2014년 인구분포 현황”"
      ]
     },
     "metadata": {},
     "output_type": "display_data"
    }
   ],
   "source": [
    "options(warn = -1)\n",
    "par(family = \"AppleGothic\")\n",
    "+\n",
    "\n",
    "plot(FemaleSum, # 데이터프레임 가능\n",
    "     type = \"l\",\n",
    "     col = \"orange\",\n",
    "     ylim = c(0, 2500000),\n",
    "     main = '1880~2014년 인구분포 현황',\n",
    "     ylab = \"Count\",\n",
    "     xlab = \"Year\"\n",
    "    )\n",
    "\n",
    "lines(MaleSum, # MaleSum[,1]로 할경우 X축 인덱스가 1부터 시작하므로 1880년도부터 나오는 그래프에 출력되지 않음\n",
    "      col = 'blue',\n",
    "    )\n",
    "\n",
    "legend(1980,1000000,\n",
    "      c(\"Female\", \"Male\"),\n",
    "      fill=c(\"orange\", \"blue\") \n",
    "      )"
   ]
  },
  {
   "cell_type": "code",
   "execution_count": null,
   "id": "4fb736e4",
   "metadata": {},
   "outputs": [],
   "source": []
  },
  {
   "cell_type": "code",
   "execution_count": null,
   "id": "e9c532bb",
   "metadata": {},
   "outputs": [],
   "source": []
  }
 ],
 "metadata": {
  "kernelspec": {
   "display_name": "R",
   "language": "R",
   "name": "ir"
  },
  "language_info": {
   "codemirror_mode": "r",
   "file_extension": ".r",
   "mimetype": "text/x-r-source",
   "name": "R",
   "pygments_lexer": "r",
   "version": "3.6.1"
  }
 },
 "nbformat": 4,
 "nbformat_minor": 5
}
