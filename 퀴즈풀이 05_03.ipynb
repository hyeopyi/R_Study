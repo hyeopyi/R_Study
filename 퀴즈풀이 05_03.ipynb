{
 "cells": [
  {
   "cell_type": "markdown",
   "id": "76772a23",
   "metadata": {},
   "source": [
    "---\n",
    "# 1조\n",
    "## 각 시군구별 실제 투표율과 가장 유사한 지역 Top 5를 뽑아서 오차의 합을 막대 그래프로 그려라\n",
    "### 조건1 : 각 후보별 순위 변동 없음,\n",
    "### 조건 2 : 각 후보별 오차 1프로 이내,\n",
    "### 조건 3 : 오차의 합이 최소인 지역 순서대로 정렬\n",
    "### 실제 득표율 : 이재명 47.83, 윤석열 48.56, 심상정 2.37"
   ]
  },
  {
   "cell_type": "code",
   "execution_count": 1,
   "id": "5228fed6",
   "metadata": {},
   "outputs": [
    {
     "name": "stderr",
     "output_type": "stream",
     "text": [
      "\n",
      "Attaching package: 'dplyr'\n",
      "\n",
      "The following objects are masked from 'package:stats':\n",
      "\n",
      "    filter, lag\n",
      "\n",
      "The following objects are masked from 'package:base':\n",
      "\n",
      "    intersect, setdiff, setequal, union\n",
      "\n"
     ]
    },
    {
     "data": {
      "text/html": [
       "<table>\n",
       "<thead><tr><th scope=col>광역시도</th><th scope=col>시군구</th><th scope=col>선거인수</th><th scope=col>투표수</th><th scope=col>이재명</th><th scope=col>윤석열</th><th scope=col>심상정</th></tr></thead>\n",
       "<tbody>\n",
       "\t<tr><td>서울특별시</td><td>종로구    </td><td>129968    </td><td>100629    </td><td> 46130    </td><td> 49172    </td><td>3115      </td></tr>\n",
       "\t<tr><td>서울특별시</td><td>중구      </td><td>111448    </td><td> 84998    </td><td> 38244    </td><td> 42906    </td><td>2310      </td></tr>\n",
       "\t<tr><td>서울특별시</td><td>용산구    </td><td>199077    </td><td>152068    </td><td> 60063    </td><td> 85047    </td><td>4374      </td></tr>\n",
       "\t<tr><td>서울특별시</td><td>성동구    </td><td>252087    </td><td>197240    </td><td> 84411    </td><td>103880    </td><td>5365      </td></tr>\n",
       "\t<tr><td>서울특별시</td><td>광진구    </td><td>303582    </td><td>235471    </td><td>109922    </td><td>113733    </td><td>7072      </td></tr>\n",
       "\t<tr><td>서울특별시</td><td>동대문구  </td><td>300928    </td><td>232106    </td><td>108171    </td><td>112890    </td><td>6416      </td></tr>\n",
       "</tbody>\n",
       "</table>\n"
      ],
      "text/latex": [
       "\\begin{tabular}{r|lllllll}\n",
       " 광역시도 & 시군구 & 선거인수 & 투표수 & 이재명 & 윤석열 & 심상정\\\\\n",
       "\\hline\n",
       "\t 서울특별시 & 종로구     & 129968     & 100629     &  46130     &  49172     & 3115      \\\\\n",
       "\t 서울특별시 & 중구       & 111448     &  84998     &  38244     &  42906     & 2310      \\\\\n",
       "\t 서울특별시 & 용산구     & 199077     & 152068     &  60063     &  85047     & 4374      \\\\\n",
       "\t 서울특별시 & 성동구     & 252087     & 197240     &  84411     & 103880     & 5365      \\\\\n",
       "\t 서울특별시 & 광진구     & 303582     & 235471     & 109922     & 113733     & 7072      \\\\\n",
       "\t 서울특별시 & 동대문구   & 300928     & 232106     & 108171     & 112890     & 6416      \\\\\n",
       "\\end{tabular}\n"
      ],
      "text/markdown": [
       "\n",
       "| 광역시도 | 시군구 | 선거인수 | 투표수 | 이재명 | 윤석열 | 심상정 |\n",
       "|---|---|---|---|---|---|---|\n",
       "| 서울특별시 | 종로구     | 129968     | 100629     |  46130     |  49172     | 3115       |\n",
       "| 서울특별시 | 중구       | 111448     |  84998     |  38244     |  42906     | 2310       |\n",
       "| 서울특별시 | 용산구     | 199077     | 152068     |  60063     |  85047     | 4374       |\n",
       "| 서울특별시 | 성동구     | 252087     | 197240     |  84411     | 103880     | 5365       |\n",
       "| 서울특별시 | 광진구     | 303582     | 235471     | 109922     | 113733     | 7072       |\n",
       "| 서울특별시 | 동대문구   | 300928     | 232106     | 108171     | 112890     | 6416       |\n",
       "\n"
      ],
      "text/plain": [
       "  광역시도   시군구   선거인수 투표수 이재명 윤석열 심상정\n",
       "1 서울특별시 종로구   129968   100629  46130  49172 3115  \n",
       "2 서울특별시 중구     111448    84998  38244  42906 2310  \n",
       "3 서울특별시 용산구   199077   152068  60063  85047 4374  \n",
       "4 서울특별시 성동구   252087   197240  84411 103880 5365  \n",
       "5 서울특별시 광진구   303582   235471 109922 113733 7072  \n",
       "6 서울특별시 동대문구 300928   232106 108171 112890 6416  "
      ]
     },
     "metadata": {},
     "output_type": "display_data"
    }
   ],
   "source": [
    "election <- read.csv(\"../RBase/Data/election_2022.csv\")\n",
    "library(dplyr)\n",
    "library(plotrix)\n",
    "\n",
    "head(election)"
   ]
  },
  {
   "cell_type": "code",
   "execution_count": 2,
   "id": "c22e377b",
   "metadata": {},
   "outputs": [],
   "source": [
    "vote <- cbind(광역시도 = election$광역시도, 시군구 = election$시군구,round(election[, 5:7] / election$투표수 * 100 ,2))"
   ]
  },
  {
   "cell_type": "code",
   "execution_count": 3,
   "id": "d8759b14",
   "metadata": {},
   "outputs": [
    {
     "data": {
      "text/html": [
       "<table>\n",
       "<thead><tr><th scope=col>광역시도</th><th scope=col>시군구</th><th scope=col>이재명</th><th scope=col>윤석열</th><th scope=col>심상정</th><th scope=col>오차</th></tr></thead>\n",
       "<tbody>\n",
       "\t<tr><td>대전광역시  </td><td>유성구      </td><td>47.05       </td><td>48.19       </td><td>2.81        </td><td>1.56        </td></tr>\n",
       "\t<tr><td>인천광역시  </td><td>미추홀구    </td><td>47.08       </td><td>47.81       </td><td>2.74        </td><td>1.84        </td></tr>\n",
       "\t<tr><td>인천광역시  </td><td>동구        </td><td>46.91       </td><td>48.05       </td><td>2.92        </td><td>1.95        </td></tr>\n",
       "\t<tr><td>대전광역시  </td><td>대덕구      </td><td>46.90       </td><td>47.80       </td><td>2.72        </td><td>2.01        </td></tr>\n",
       "\t<tr><td>충청북도    </td><td>청주시흥덕구</td><td>47.01       </td><td>47.62       </td><td>2.91        </td><td>2.27        </td></tr>\n",
       "</tbody>\n",
       "</table>\n"
      ],
      "text/latex": [
       "\\begin{tabular}{r|llllll}\n",
       " 광역시도 & 시군구 & 이재명 & 윤석열 & 심상정 & 오차\\\\\n",
       "\\hline\n",
       "\t 대전광역시   & 유성구       & 47.05        & 48.19        & 2.81         & 1.56        \\\\\n",
       "\t 인천광역시   & 미추홀구     & 47.08        & 47.81        & 2.74         & 1.84        \\\\\n",
       "\t 인천광역시   & 동구         & 46.91        & 48.05        & 2.92         & 1.95        \\\\\n",
       "\t 대전광역시   & 대덕구       & 46.90        & 47.80        & 2.72         & 2.01        \\\\\n",
       "\t 충청북도     & 청주시흥덕구 & 47.01        & 47.62        & 2.91         & 2.27        \\\\\n",
       "\\end{tabular}\n"
      ],
      "text/markdown": [
       "\n",
       "| 광역시도 | 시군구 | 이재명 | 윤석열 | 심상정 | 오차 |\n",
       "|---|---|---|---|---|---|\n",
       "| 대전광역시   | 유성구       | 47.05        | 48.19        | 2.81         | 1.56         |\n",
       "| 인천광역시   | 미추홀구     | 47.08        | 47.81        | 2.74         | 1.84         |\n",
       "| 인천광역시   | 동구         | 46.91        | 48.05        | 2.92         | 1.95         |\n",
       "| 대전광역시   | 대덕구       | 46.90        | 47.80        | 2.72         | 2.01         |\n",
       "| 충청북도     | 청주시흥덕구 | 47.01        | 47.62        | 2.91         | 2.27         |\n",
       "\n"
      ],
      "text/plain": [
       "  광역시도   시군구       이재명 윤석열 심상정 오차\n",
       "1 대전광역시 유성구       47.05  48.19  2.81   1.56\n",
       "2 인천광역시 미추홀구     47.08  47.81  2.74   1.84\n",
       "3 인천광역시 동구         46.91  48.05  2.92   1.95\n",
       "4 대전광역시 대덕구       46.90  47.80  2.72   2.01\n",
       "5 충청북도   청주시흥덕구 47.01  47.62  2.91   2.27"
      ]
     },
     "metadata": {},
     "output_type": "display_data"
    }
   ],
   "source": [
    "vote2 <- subset(vote, abs(이재명-47.83)<=1 & abs(윤석열-48.53)<=1 & abs(심상정-2.37)<=1 & 이재명<윤석열 )\n",
    "vote2$오차 <- round(abs(vote2$이재명-47.83)+ abs(vote2$윤석열-48.53) + abs(vote2$심상정-2.37) , 2)\n",
    "vote2 <- arrange(vote2, vote2$오차)\n",
    "vote2"
   ]
  },
  {
   "cell_type": "code",
   "execution_count": 4,
   "id": "7dc2f1ee",
   "metadata": {},
   "outputs": [
    {
     "data": {
      "image/png": "[encoded data removed]",
      "text/plain": [
       "plot without title"
      ]
     },
     "metadata": {},
     "output_type": "display_data"
    }
   ],
   "source": [
    "par(family = \"AppleGothic\")\n",
    "options(warn = -1)\n",
    "barplot(vote2$오차,\n",
    "        ylim = c(0, 2.5),\n",
    "        names = paste(vote2$광역시도,\"\\n\", vote2$시군구),\n",
    "        col = rainbow(5),\n",
    "        cex.names = 0.8\n",
    "       )"
   ]
  },
  {
   "cell_type": "markdown",
   "id": "84464bb8",
   "metadata": {},
   "source": [
    "---\n",
    "# 2조\n",
    "## 투표율 75%가 넘는 지역에서 후보별 투표율 50%가 넘는 광역시별 합을 그래프로 그리기\n",
    "## 투표율 : 전체투표수 / 선거인수\n",
    "## 후보별 투표율 : 후보투표수/전체투표수"
   ]
  },
  {
   "cell_type": "code",
   "execution_count": 9,
   "id": "849febd6",
   "metadata": {},
   "outputs": [
    {
     "data": {
      "text/html": [
       "<table>\n",
       "<thead><tr><th scope=col>광역시도</th><th scope=col>시군구</th><th scope=col>선거인수</th><th scope=col>투표수</th><th scope=col>이재명</th><th scope=col>윤석열</th><th scope=col>심상정</th></tr></thead>\n",
       "<tbody>\n",
       "\t<tr><td>서울특별시</td><td>종로구    </td><td>129968    </td><td>100629    </td><td> 46130    </td><td> 49172    </td><td>3115      </td></tr>\n",
       "\t<tr><td>서울특별시</td><td>중구      </td><td>111448    </td><td> 84998    </td><td> 38244    </td><td> 42906    </td><td>2310      </td></tr>\n",
       "\t<tr><td>서울특별시</td><td>용산구    </td><td>199077    </td><td>152068    </td><td> 60063    </td><td> 85047    </td><td>4374      </td></tr>\n",
       "\t<tr><td>서울특별시</td><td>성동구    </td><td>252087    </td><td>197240    </td><td> 84411    </td><td>103880    </td><td>5365      </td></tr>\n",
       "\t<tr><td>서울특별시</td><td>광진구    </td><td>303582    </td><td>235471    </td><td>109922    </td><td>113733    </td><td>7072      </td></tr>\n",
       "\t<tr><td>서울특별시</td><td>동대문구  </td><td>300928    </td><td>232106    </td><td>108171    </td><td>112890    </td><td>6416      </td></tr>\n",
       "</tbody>\n",
       "</table>\n"
      ],
      "text/latex": [
       "\\begin{tabular}{r|lllllll}\n",
       " 광역시도 & 시군구 & 선거인수 & 투표수 & 이재명 & 윤석열 & 심상정\\\\\n",
       "\\hline\n",
       "\t 서울특별시 & 종로구     & 129968     & 100629     &  46130     &  49172     & 3115      \\\\\n",
       "\t 서울특별시 & 중구       & 111448     &  84998     &  38244     &  42906     & 2310      \\\\\n",
       "\t 서울특별시 & 용산구     & 199077     & 152068     &  60063     &  85047     & 4374      \\\\\n",
       "\t 서울특별시 & 성동구     & 252087     & 197240     &  84411     & 103880     & 5365      \\\\\n",
       "\t 서울특별시 & 광진구     & 303582     & 235471     & 109922     & 113733     & 7072      \\\\\n",
       "\t 서울특별시 & 동대문구   & 300928     & 232106     & 108171     & 112890     & 6416      \\\\\n",
       "\\end{tabular}\n"
      ],
      "text/markdown": [
       "\n",
       "| 광역시도 | 시군구 | 선거인수 | 투표수 | 이재명 | 윤석열 | 심상정 |\n",
       "|---|---|---|---|---|---|---|\n",
       "| 서울특별시 | 종로구     | 129968     | 100629     |  46130     |  49172     | 3115       |\n",
       "| 서울특별시 | 중구       | 111448     |  84998     |  38244     |  42906     | 2310       |\n",
       "| 서울특별시 | 용산구     | 199077     | 152068     |  60063     |  85047     | 4374       |\n",
       "| 서울특별시 | 성동구     | 252087     | 197240     |  84411     | 103880     | 5365       |\n",
       "| 서울특별시 | 광진구     | 303582     | 235471     | 109922     | 113733     | 7072       |\n",
       "| 서울특별시 | 동대문구   | 300928     | 232106     | 108171     | 112890     | 6416       |\n",
       "\n"
      ],
      "text/plain": [
       "  광역시도   시군구   선거인수 투표수 이재명 윤석열 심상정\n",
       "1 서울특별시 종로구   129968   100629  46130  49172 3115  \n",
       "2 서울특별시 중구     111448    84998  38244  42906 2310  \n",
       "3 서울특별시 용산구   199077   152068  60063  85047 4374  \n",
       "4 서울특별시 성동구   252087   197240  84411 103880 5365  \n",
       "5 서울특별시 광진구   303582   235471 109922 113733 7072  \n",
       "6 서울특별시 동대문구 300928   232106 108171 112890 6416  "
      ]
     },
     "metadata": {},
     "output_type": "display_data"
    }
   ],
   "source": [
    "head(election)"
   ]
  },
  {
   "cell_type": "code",
   "execution_count": 10,
   "id": "e90d651d",
   "metadata": {},
   "outputs": [],
   "source": [
    "ratio <- election[, 1:2]\n",
    "ratio$지역75 <- ifelse(round(election$투표수/election$선거인수 * 100, 2) >= 75, 1, 0)\n",
    "ratio$이재명50 <- ifelse(round(election$이재명/election$투표수 * 100, 2) >= 50 & ratio$지역75 > 0, 1, 0)\n",
    "ratio$윤석열50 <- ifelse(round(election$윤석열/election$투표수 * 100, 2) >= 50 & ratio$지역75 > 0, 1, 0)"
   ]
  },
  {
   "cell_type": "code",
   "execution_count": 13,
   "id": "ba9b7398",
   "metadata": {},
   "outputs": [],
   "source": [
    "r2 <- t(aggregate(cbind(지역75, 이재명50, 윤석열50) ~ 광역시도, ratio, sum))"
   ]
  },
  {
   "cell_type": "code",
   "execution_count": 14,
   "id": "88145e7c",
   "metadata": {},
   "outputs": [
    {
     "data": {
      "image/png": "[encoded data removed]",
      "text/plain": [
       "plot without title"
      ]
     },
     "metadata": {},
     "output_type": "display_data"
    }
   ],
   "source": [
    "plot(r2[2,],\n",
    "     main='광역시도 별 과반수 득표가 나온 시군구 갯수',\n",
    "    type='l',\n",
    "    ylab='시군구수',\n",
    "    xlab='광역시도',\n",
    "    cex.axis = 0.1,\n",
    "    ylim=c(0,30),\n",
    "    lty = 2,\n",
    "    axes =F, #x,y 좌표 frame 제거\n",
    "    ann=F, #x,y label 제거\n",
    "    )\n",
    "\n",
    "axis(1,at=1:17, lab=r2[1,], cex.axis=0.3)\n",
    "axis(2, cex.axis=0.5)\n",
    "\n",
    "lines(\n",
    "    r2[3,],\n",
    "    col='blue',\n",
    "    type='o',\n",
    "    pch=18,\n",
    "    lty=1,\n",
    ")\n",
    "lines(\n",
    "    r2[4,],\n",
    "    col='red',\n",
    "    type='o',\n",
    "    pch=18,\n",
    "    lty=1,\n",
    ")\n",
    "legend(12,30, \n",
    "      c(\"투표율75%이상\",\"이재명\",\"윤석열\"),\n",
    "      col=c(\"black\",\"blue\",\"red\"),\n",
    "      pch=c(NA,18,18),\n",
    "      lty=c(2,1,1),\n",
    "      cex=0.8 \n",
    "    )\n",
    "\n"
   ]
  },
  {
   "cell_type": "markdown",
   "id": "312757bb",
   "metadata": {},
   "source": [
    "---\n",
    "# 3조 권역별 후보 득표율"
   ]
  },
  {
   "cell_type": "code",
   "execution_count": 16,
   "id": "81efaacb",
   "metadata": {},
   "outputs": [],
   "source": [
    "수도권 <-c('서울특별시','인천광역시','경기도')\n",
    "강원권 <-'강원도'\n",
    "영남권 <- c('경상북도','경상남도','대구광역시','부산광역시','울산광역시')\n",
    "충청권 <- c('충청북도','충청남도','세종특별자치시','대전광역시')\n",
    "호남권 <- c('전라남도','전라북도','제주특별자치도','광주광역시')"
   ]
  },
  {
   "cell_type": "code",
   "execution_count": 17,
   "id": "565f2ffc",
   "metadata": {},
   "outputs": [
    {
     "data": {
      "text/html": [
       "<table>\n",
       "<thead><tr><th scope=col>광역시도</th><th scope=col>시군구</th><th scope=col>선거인수</th><th scope=col>투표수</th><th scope=col>이재명</th><th scope=col>윤석열</th><th scope=col>심상정</th></tr></thead>\n",
       "<tbody>\n",
       "\t<tr><td>서울특별시</td><td>종로구    </td><td>129968    </td><td>100629    </td><td> 46130    </td><td> 49172    </td><td>3115      </td></tr>\n",
       "\t<tr><td>서울특별시</td><td>중구      </td><td>111448    </td><td> 84998    </td><td> 38244    </td><td> 42906    </td><td>2310      </td></tr>\n",
       "\t<tr><td>서울특별시</td><td>용산구    </td><td>199077    </td><td>152068    </td><td> 60063    </td><td> 85047    </td><td>4374      </td></tr>\n",
       "\t<tr><td>서울특별시</td><td>성동구    </td><td>252087    </td><td>197240    </td><td> 84411    </td><td>103880    </td><td>5365      </td></tr>\n",
       "\t<tr><td>서울특별시</td><td>광진구    </td><td>303582    </td><td>235471    </td><td>109922    </td><td>113733    </td><td>7072      </td></tr>\n",
       "\t<tr><td>서울특별시</td><td>동대문구  </td><td>300928    </td><td>232106    </td><td>108171    </td><td>112890    </td><td>6416      </td></tr>\n",
       "</tbody>\n",
       "</table>\n"
      ],
      "text/latex": [
       "\\begin{tabular}{r|lllllll}\n",
       " 광역시도 & 시군구 & 선거인수 & 투표수 & 이재명 & 윤석열 & 심상정\\\\\n",
       "\\hline\n",
       "\t 서울특별시 & 종로구     & 129968     & 100629     &  46130     &  49172     & 3115      \\\\\n",
       "\t 서울특별시 & 중구       & 111448     &  84998     &  38244     &  42906     & 2310      \\\\\n",
       "\t 서울특별시 & 용산구     & 199077     & 152068     &  60063     &  85047     & 4374      \\\\\n",
       "\t 서울특별시 & 성동구     & 252087     & 197240     &  84411     & 103880     & 5365      \\\\\n",
       "\t 서울특별시 & 광진구     & 303582     & 235471     & 109922     & 113733     & 7072      \\\\\n",
       "\t 서울특별시 & 동대문구   & 300928     & 232106     & 108171     & 112890     & 6416      \\\\\n",
       "\\end{tabular}\n"
      ],
      "text/markdown": [
       "\n",
       "| 광역시도 | 시군구 | 선거인수 | 투표수 | 이재명 | 윤석열 | 심상정 |\n",
       "|---|---|---|---|---|---|---|\n",
       "| 서울특별시 | 종로구     | 129968     | 100629     |  46130     |  49172     | 3115       |\n",
       "| 서울특별시 | 중구       | 111448     |  84998     |  38244     |  42906     | 2310       |\n",
       "| 서울특별시 | 용산구     | 199077     | 152068     |  60063     |  85047     | 4374       |\n",
       "| 서울특별시 | 성동구     | 252087     | 197240     |  84411     | 103880     | 5365       |\n",
       "| 서울특별시 | 광진구     | 303582     | 235471     | 109922     | 113733     | 7072       |\n",
       "| 서울특별시 | 동대문구   | 300928     | 232106     | 108171     | 112890     | 6416       |\n",
       "\n"
      ],
      "text/plain": [
       "  광역시도   시군구   선거인수 투표수 이재명 윤석열 심상정\n",
       "1 서울특별시 종로구   129968   100629  46130  49172 3115  \n",
       "2 서울특별시 중구     111448    84998  38244  42906 2310  \n",
       "3 서울특별시 용산구   199077   152068  60063  85047 4374  \n",
       "4 서울특별시 성동구   252087   197240  84411 103880 5365  \n",
       "5 서울특별시 광진구   303582   235471 109922 113733 7072  \n",
       "6 서울특별시 동대문구 300928   232106 108171 112890 6416  "
      ]
     },
     "metadata": {},
     "output_type": "display_data"
    }
   ],
   "source": [
    "head(election)"
   ]
  },
  {
   "cell_type": "code",
   "execution_count": 18,
   "id": "3a7f67c8",
   "metadata": {},
   "outputs": [],
   "source": [
    "election$지역 <- ifelse(election$광역시도 %in% 수도권, '수도권', \n",
    "                  ifelse(election$광역시도 %in% 영남권, '영남권', \n",
    "                    ifelse(election$광역시도 %in% 충청권, '충청권', \n",
    "                      ifelse(election$광역시도 %in% 호남권, '호남권', '강원도'))))"
   ]
  },
  {
   "cell_type": "code",
   "execution_count": 23,
   "id": "444f6fb2",
   "metadata": {},
   "outputs": [],
   "source": [
    "elc2 <- aggregate(cbind(투표수, 이재명, 윤석열, 심상정) ~ 지역, election, sum)"
   ]
  },
  {
   "cell_type": "code",
   "execution_count": 25,
   "id": "9c124d7b",
   "metadata": {},
   "outputs": [],
   "source": [
    "elc2$이재명투표율 <- round(elc2$이재명/elc2$투표수 * 100, 2)\n",
    "elc2$윤석열투표율 <- round(elc2$윤석열/elc2$투표수 * 100, 2)\n",
    "elc2$심상정투표율 <- round(elc2$심상정/elc2$투표수 * 100, 2)"
   ]
  },
  {
   "cell_type": "code",
   "execution_count": 45,
   "id": "74a4fa62",
   "metadata": {},
   "outputs": [
    {
     "data": {
      "text/html": [
       "<table>\n",
       "<thead><tr><th scope=col>지역</th><th scope=col>투표수</th><th scope=col>이재명</th><th scope=col>윤석열</th><th scope=col>심상정</th><th scope=col>이재명투표율</th><th scope=col>윤석열투표율</th><th scope=col>심상정투표율</th></tr></thead>\n",
       "<tbody>\n",
       "\t<tr><td>강원도  </td><td> 1015458</td><td> 419644 </td><td> 544980 </td><td> 25031  </td><td>41.33   </td><td>53.67   </td><td>2.46    </td></tr>\n",
       "\t<tr><td>수도권  </td><td>16904189</td><td>8156232 </td><td>7993973 </td><td>433289  </td><td>48.25   </td><td>47.29   </td><td>2.56    </td></tr>\n",
       "\t<tr><td>영남권  </td><td> 8468363</td><td>2686576 </td><td>5382549 </td><td>185678  </td><td>31.72   </td><td>63.56   </td><td>2.19    </td></tr>\n",
       "\t<tr><td>충청권  </td><td> 3464133</td><td>1573443 </td><td>1719055 </td><td> 89261  </td><td>45.42   </td><td>49.62   </td><td>2.58    </td></tr>\n",
       "\t<tr><td>호남권  </td><td> 3912521</td><td>3154923 </td><td> 619883 </td><td> 64193  </td><td>80.64   </td><td>15.84   </td><td>1.64    </td></tr>\n",
       "</tbody>\n",
       "</table>\n"
      ],
      "text/latex": [
       "\\begin{tabular}{r|llllllll}\n",
       " 지역 & 투표수 & 이재명 & 윤석열 & 심상정 & 이재명투표율 & 윤석열투표율 & 심상정투표율\\\\\n",
       "\\hline\n",
       "\t 강원도   &  1015458 &  419644  &  544980  &  25031   & 41.33    & 53.67    & 2.46    \\\\\n",
       "\t 수도권   & 16904189 & 8156232  & 7993973  & 433289   & 48.25    & 47.29    & 2.56    \\\\\n",
       "\t 영남권   &  8468363 & 2686576  & 5382549  & 185678   & 31.72    & 63.56    & 2.19    \\\\\n",
       "\t 충청권   &  3464133 & 1573443  & 1719055  &  89261   & 45.42    & 49.62    & 2.58    \\\\\n",
       "\t 호남권   &  3912521 & 3154923  &  619883  &  64193   & 80.64    & 15.84    & 1.64    \\\\\n",
       "\\end{tabular}\n"
      ],
      "text/markdown": [
       "\n",
       "| 지역 | 투표수 | 이재명 | 윤석열 | 심상정 | 이재명투표율 | 윤석열투표율 | 심상정투표율 |\n",
       "|---|---|---|---|---|---|---|---|\n",
       "| 강원도   |  1015458 |  419644  |  544980  |  25031   | 41.33    | 53.67    | 2.46     |\n",
       "| 수도권   | 16904189 | 8156232  | 7993973  | 433289   | 48.25    | 47.29    | 2.56     |\n",
       "| 영남권   |  8468363 | 2686576  | 5382549  | 185678   | 31.72    | 63.56    | 2.19     |\n",
       "| 충청권   |  3464133 | 1573443  | 1719055  |  89261   | 45.42    | 49.62    | 2.58     |\n",
       "| 호남권   |  3912521 | 3154923  |  619883  |  64193   | 80.64    | 15.84    | 1.64     |\n",
       "\n"
      ],
      "text/plain": [
       "  지역   투표수   이재명  윤석열  심상정 이재명투표율 윤석열투표율 심상정투표율\n",
       "1 강원도  1015458  419644  544980  25031 41.33        53.67        2.46        \n",
       "2 수도권 16904189 8156232 7993973 433289 48.25        47.29        2.56        \n",
       "3 영남권  8468363 2686576 5382549 185678 31.72        63.56        2.19        \n",
       "4 충청권  3464133 1573443 1719055  89261 45.42        49.62        2.58        \n",
       "5 호남권  3912521 3154923  619883  64193 80.64        15.84        1.64        "
      ]
     },
     "metadata": {},
     "output_type": "display_data"
    }
   ],
   "source": [
    "elc2"
   ]
  },
  {
   "cell_type": "code",
   "execution_count": 44,
   "id": "007a7d29",
   "metadata": {},
   "outputs": [
    {
     "data": {
      "image/png": "[encoded data removed]",
      "text/plain": [
       "Plot with title \"20대 대선 권역별 후보 득표율\""
      ]
     },
     "metadata": {},
     "output_type": "display_data"
    }
   ],
   "source": [
    "options(scipen = 100)\n",
    "plot(elc2$이재명투표율,\n",
    "     type =\"b\",\n",
    "     ylim=c(0,100),\n",
    "     axes=F,\n",
    "     ann=F,\n",
    "     col=\"sky blue\",\n",
    "     lty=3\n",
    "    )\n",
    "legend(3,100,\n",
    "      c(\"이재명후보\",\"윤석열후보\",\"심상정후보\"),\n",
    "      col=c(\"sky blue\",\"red\",\"yellow\"),\n",
    "      pch=c(21,3,4),\n",
    "      lty=c(3,5,1)\n",
    "      )\n",
    "title(main=\"20대 대선 권역별 후보 득표율\", col.main=\"blue\")\n",
    "title(xlab=\"권역\", col.lab=\"blue\")\n",
    "title(ylab=\"투표율\", col.lab=\"blue\")\n",
    "axis(1,at=1:5,lab=elc2[,1])\n",
    "axis(2,ylim=c(0,100))\n",
    "lines(elc2$윤석열투표율,\n",
    "      type=\"o\",\n",
    "      pch=3,\n",
    "      col=\"red\",\n",
    "      lty=5\n",
    "     )\n",
    "lines(elc2$심상정투표율,\n",
    "      type=\"o\",\n",
    "      pch=4,\n",
    "      col=\"yellow\",\n",
    "      lty=1\n",
    "     )"
   ]
  },
  {
   "cell_type": "markdown",
   "id": "f441e316",
   "metadata": {},
   "source": [
    "---\n",
    "# 4조 투표율 최고, 최저 지역의 득표율"
   ]
  },
  {
   "cell_type": "code",
   "execution_count": 69,
   "id": "1bf419f2",
   "metadata": {},
   "outputs": [
    {
     "data": {
      "text/html": [
       "<table>\n",
       "<thead><tr><th scope=col>광역시도</th><th scope=col>시군구</th><th scope=col>선거인수</th><th scope=col>투표수</th><th scope=col>이재명</th><th scope=col>윤석열</th><th scope=col>심상정</th></tr></thead>\n",
       "<tbody>\n",
       "\t<tr><td>서울특별시</td><td>종로구    </td><td>129968    </td><td>100629    </td><td> 46130    </td><td> 49172    </td><td>3115      </td></tr>\n",
       "\t<tr><td>서울특별시</td><td>중구      </td><td>111448    </td><td> 84998    </td><td> 38244    </td><td> 42906    </td><td>2310      </td></tr>\n",
       "\t<tr><td>서울특별시</td><td>용산구    </td><td>199077    </td><td>152068    </td><td> 60063    </td><td> 85047    </td><td>4374      </td></tr>\n",
       "\t<tr><td>서울특별시</td><td>성동구    </td><td>252087    </td><td>197240    </td><td> 84411    </td><td>103880    </td><td>5365      </td></tr>\n",
       "\t<tr><td>서울특별시</td><td>광진구    </td><td>303582    </td><td>235471    </td><td>109922    </td><td>113733    </td><td>7072      </td></tr>\n",
       "\t<tr><td>서울특별시</td><td>동대문구  </td><td>300928    </td><td>232106    </td><td>108171    </td><td>112890    </td><td>6416      </td></tr>\n",
       "</tbody>\n",
       "</table>\n"
      ],
      "text/latex": [
       "\\begin{tabular}{r|lllllll}\n",
       " 광역시도 & 시군구 & 선거인수 & 투표수 & 이재명 & 윤석열 & 심상정\\\\\n",
       "\\hline\n",
       "\t 서울특별시 & 종로구     & 129968     & 100629     &  46130     &  49172     & 3115      \\\\\n",
       "\t 서울특별시 & 중구       & 111448     &  84998     &  38244     &  42906     & 2310      \\\\\n",
       "\t 서울특별시 & 용산구     & 199077     & 152068     &  60063     &  85047     & 4374      \\\\\n",
       "\t 서울특별시 & 성동구     & 252087     & 197240     &  84411     & 103880     & 5365      \\\\\n",
       "\t 서울특별시 & 광진구     & 303582     & 235471     & 109922     & 113733     & 7072      \\\\\n",
       "\t 서울특별시 & 동대문구   & 300928     & 232106     & 108171     & 112890     & 6416      \\\\\n",
       "\\end{tabular}\n"
      ],
      "text/markdown": [
       "\n",
       "| 광역시도 | 시군구 | 선거인수 | 투표수 | 이재명 | 윤석열 | 심상정 |\n",
       "|---|---|---|---|---|---|---|\n",
       "| 서울특별시 | 종로구     | 129968     | 100629     |  46130     |  49172     | 3115       |\n",
       "| 서울특별시 | 중구       | 111448     |  84998     |  38244     |  42906     | 2310       |\n",
       "| 서울특별시 | 용산구     | 199077     | 152068     |  60063     |  85047     | 4374       |\n",
       "| 서울특별시 | 성동구     | 252087     | 197240     |  84411     | 103880     | 5365       |\n",
       "| 서울특별시 | 광진구     | 303582     | 235471     | 109922     | 113733     | 7072       |\n",
       "| 서울특별시 | 동대문구   | 300928     | 232106     | 108171     | 112890     | 6416       |\n",
       "\n"
      ],
      "text/plain": [
       "  광역시도   시군구   선거인수 투표수 이재명 윤석열 심상정\n",
       "1 서울특별시 종로구   129968   100629  46130  49172 3115  \n",
       "2 서울특별시 중구     111448    84998  38244  42906 2310  \n",
       "3 서울특별시 용산구   199077   152068  60063  85047 4374  \n",
       "4 서울특별시 성동구   252087   197240  84411 103880 5365  \n",
       "5 서울특별시 광진구   303582   235471 109922 113733 7072  \n",
       "6 서울특별시 동대문구 300928   232106 108171 112890 6416  "
      ]
     },
     "metadata": {},
     "output_type": "display_data"
    }
   ],
   "source": [
    "election <- read.csv(\"../RBase/Data/election_2022.csv\")\n",
    "head(election)"
   ]
  },
  {
   "cell_type": "code",
   "execution_count": 131,
   "id": "6616eee8",
   "metadata": {},
   "outputs": [],
   "source": [
    "t4 <- aggregate(cbind(선거인수, 투표수, 이재명, 윤석열, 심상정) ~ 광역시도, election, sum)\n",
    "t4$기타 <- t4$투표수 - apply(t4[,4:6], 1, sum)\n",
    "t4$투표율 <- round(t4$투표수/t4$선거인수 * 100, 2)\n",
    "t4 <- arrange(t4, desc(t4$투표율))\n",
    "result <- t4[c(1, nrow(t4)),]\n",
    "r2 <- round(result[,4:7]/result$투표수 * 100, 2)\n",
    "rownames(r2) <- paste(c(\"최고\", \"최저\"), \":\", result[,1])"
   ]
  },
  {
   "cell_type": "code",
   "execution_count": 132,
   "id": "e087b381",
   "metadata": {},
   "outputs": [
    {
     "data": {
      "image/png": "[encoded data removed]",
      "text/plain": [
       "Plot with title \"투표율 최고,최저 지역의 득표율\""
      ]
     },
     "metadata": {},
     "output_type": "display_data"
    }
   ],
   "source": [
    "barplot(t(r2),\n",
    "         beside=T,\n",
    "         xlab=\"후보별 득표율(%)\",\n",
    "         xlim=c(0,100),\n",
    "         col=c('skyblue','red','yellow','gray'),\n",
    "         main = \"투표율 최고,최저 지역의 득표율\",\n",
    "         ylab = \"투표율 = 지역별 투표수/선거인수\",\n",
    "         legend.text=T,\n",
    "         horiz=T\n",
    "        )"
   ]
  },
  {
   "cell_type": "code",
   "execution_count": null,
   "id": "3691d91c",
   "metadata": {},
   "outputs": [],
   "source": []
  },
  {
   "cell_type": "code",
   "execution_count": null,
   "id": "8c759c8e",
   "metadata": {},
   "outputs": [],
   "source": []
  }
 ],
 "metadata": {
  "kernelspec": {
   "display_name": "R",
   "language": "R",
   "name": "ir"
  },
  "language_info": {
   "codemirror_mode": "r",
   "file_extension": ".r",
   "mimetype": "text/x-r-source",
   "name": "R",
   "pygments_lexer": "r",
   "version": "3.6.1"
  }
 },
 "nbformat": 4,
 "nbformat_minor": 5
}
