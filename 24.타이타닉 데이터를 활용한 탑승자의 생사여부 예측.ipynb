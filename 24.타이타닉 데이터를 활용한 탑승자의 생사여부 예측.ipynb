{
 "cells": [
  {
   "cell_type": "code",
   "execution_count": 52,
   "id": "8c19d7a3",
   "metadata": {},
   "outputs": [
    {
     "data": {
      "text/html": [
       "<table>\n",
       "<thead><tr><th scope=col>X.U.FEFF.PassengerId</th><th scope=col>Survived</th><th scope=col>Pclass</th><th scope=col>Name</th><th scope=col>Sex</th><th scope=col>Age</th><th scope=col>SibSp</th><th scope=col>Parch</th><th scope=col>Ticket</th><th scope=col>Fare</th><th scope=col>Cabin</th><th scope=col>Embarked</th></tr></thead>\n",
       "<tbody>\n",
       "\t<tr><td>1                                                  </td><td>0                                                  </td><td>3                                                  </td><td>Braund, Mr. Owen Harris                            </td><td>male                                               </td><td>22                                                 </td><td>1                                                  </td><td>0                                                  </td><td>A/5 21171                                          </td><td> 7.2500                                            </td><td>                                                   </td><td>S                                                  </td></tr>\n",
       "\t<tr><td>2                                                  </td><td>1                                                  </td><td>1                                                  </td><td>Cumings, Mrs. John Bradley (Florence Briggs Thayer)</td><td>female                                             </td><td>38                                                 </td><td>1                                                  </td><td>0                                                  </td><td>PC 17599                                           </td><td>71.2833                                            </td><td>C85                                                </td><td>C                                                  </td></tr>\n",
       "\t<tr><td>3                                                  </td><td>1                                                  </td><td>3                                                  </td><td>Heikkinen, Miss. Laina                             </td><td>female                                             </td><td>26                                                 </td><td>0                                                  </td><td>0                                                  </td><td>STON/O2. 3101282                                   </td><td> 7.9250                                            </td><td>                                                   </td><td>S                                                  </td></tr>\n",
       "\t<tr><td>4                                                  </td><td>1                                                  </td><td>1                                                  </td><td>Futrelle, Mrs. Jacques Heath (Lily May Peel)       </td><td>female                                             </td><td>35                                                 </td><td>1                                                  </td><td>0                                                  </td><td>113803                                             </td><td>53.1000                                            </td><td>C123                                               </td><td>S                                                  </td></tr>\n",
       "\t<tr><td>5                                                  </td><td>0                                                  </td><td>3                                                  </td><td>Allen, Mr. William Henry                           </td><td>male                                               </td><td>35                                                 </td><td>0                                                  </td><td>0                                                  </td><td>373450                                             </td><td> 8.0500                                            </td><td>                                                   </td><td>S                                                  </td></tr>\n",
       "\t<tr><td>6                                                  </td><td>0                                                  </td><td>3                                                  </td><td>Moran, Mr. James                                   </td><td>male                                               </td><td>NA                                                 </td><td>0                                                  </td><td>0                                                  </td><td>330877                                             </td><td> 8.4583                                            </td><td>                                                   </td><td>Q                                                  </td></tr>\n",
       "</tbody>\n",
       "</table>\n"
      ],
      "text/latex": [
       "\\begin{tabular}{r|llllllllllll}\n",
       " X.U.FEFF.PassengerId & Survived & Pclass & Name & Sex & Age & SibSp & Parch & Ticket & Fare & Cabin & Embarked\\\\\n",
       "\\hline\n",
       "\t 1                                                   & 0                                                   & 3                                                   & Braund, Mr. Owen Harris                             & male                                                & 22                                                  & 1                                                   & 0                                                   & A/5 21171                                           &  7.2500                                             &                                                     & S                                                  \\\\\n",
       "\t 2                                                   & 1                                                   & 1                                                   & Cumings, Mrs. John Bradley (Florence Briggs Thayer) & female                                              & 38                                                  & 1                                                   & 0                                                   & PC 17599                                            & 71.2833                                             & C85                                                 & C                                                  \\\\\n",
       "\t 3                                                   & 1                                                   & 3                                                   & Heikkinen, Miss. Laina                              & female                                              & 26                                                  & 0                                                   & 0                                                   & STON/O2. 3101282                                    &  7.9250                                             &                                                     & S                                                  \\\\\n",
       "\t 4                                                   & 1                                                   & 1                                                   & Futrelle, Mrs. Jacques Heath (Lily May Peel)        & female                                              & 35                                                  & 1                                                   & 0                                                   & 113803                                              & 53.1000                                             & C123                                                & S                                                  \\\\\n",
       "\t 5                                                   & 0                                                   & 3                                                   & Allen, Mr. William Henry                            & male                                                & 35                                                  & 0                                                   & 0                                                   & 373450                                              &  8.0500                                             &                                                     & S                                                  \\\\\n",
       "\t 6                                                   & 0                                                   & 3                                                   & Moran, Mr. James                                    & male                                                & NA                                                  & 0                                                   & 0                                                   & 330877                                              &  8.4583                                             &                                                     & Q                                                  \\\\\n",
       "\\end{tabular}\n"
      ],
      "text/markdown": [
       "\n",
       "| X.U.FEFF.PassengerId | Survived | Pclass | Name | Sex | Age | SibSp | Parch | Ticket | Fare | Cabin | Embarked |\n",
       "|---|---|---|---|---|---|---|---|---|---|---|---|\n",
       "| 1                                                   | 0                                                   | 3                                                   | Braund, Mr. Owen Harris                             | male                                                | 22                                                  | 1                                                   | 0                                                   | A/5 21171                                           |  7.2500                                             |                                                     | S                                                   |\n",
       "| 2                                                   | 1                                                   | 1                                                   | Cumings, Mrs. John Bradley (Florence Briggs Thayer) | female                                              | 38                                                  | 1                                                   | 0                                                   | PC 17599                                            | 71.2833                                             | C85                                                 | C                                                   |\n",
       "| 3                                                   | 1                                                   | 3                                                   | Heikkinen, Miss. Laina                              | female                                              | 26                                                  | 0                                                   | 0                                                   | STON/O2. 3101282                                    |  7.9250                                             |                                                     | S                                                   |\n",
       "| 4                                                   | 1                                                   | 1                                                   | Futrelle, Mrs. Jacques Heath (Lily May Peel)        | female                                              | 35                                                  | 1                                                   | 0                                                   | 113803                                              | 53.1000                                             | C123                                                | S                                                   |\n",
       "| 5                                                   | 0                                                   | 3                                                   | Allen, Mr. William Henry                            | male                                                | 35                                                  | 0                                                   | 0                                                   | 373450                                              |  8.0500                                             |                                                     | S                                                   |\n",
       "| 6                                                   | 0                                                   | 3                                                   | Moran, Mr. James                                    | male                                                | NA                                                  | 0                                                   | 0                                                   | 330877                                              |  8.4583                                             |                                                     | Q                                                   |\n",
       "\n"
      ],
      "text/plain": [
       "  X.U.FEFF.PassengerId Survived Pclass\n",
       "1 1                    0        3     \n",
       "2 2                    1        1     \n",
       "3 3                    1        3     \n",
       "4 4                    1        1     \n",
       "5 5                    0        3     \n",
       "6 6                    0        3     \n",
       "  Name                                                Sex    Age SibSp Parch\n",
       "1 Braund, Mr. Owen Harris                             male   22  1     0    \n",
       "2 Cumings, Mrs. John Bradley (Florence Briggs Thayer) female 38  1     0    \n",
       "3 Heikkinen, Miss. Laina                              female 26  0     0    \n",
       "4 Futrelle, Mrs. Jacques Heath (Lily May Peel)        female 35  1     0    \n",
       "5 Allen, Mr. William Henry                            male   35  0     0    \n",
       "6 Moran, Mr. James                                    male   NA  0     0    \n",
       "  Ticket           Fare    Cabin Embarked\n",
       "1 A/5 21171         7.2500       S       \n",
       "2 PC 17599         71.2833 C85   C       \n",
       "3 STON/O2. 3101282  7.9250       S       \n",
       "4 113803           53.1000 C123  S       \n",
       "5 373450            8.0500       S       \n",
       "6 330877            8.4583       Q       "
      ]
     },
     "metadata": {},
     "output_type": "display_data"
    }
   ],
   "source": [
    "train_df <- read.csv(\"../Data/Titanic_train.csv\", encoding = \"UTF-8\")\n",
    "head(train_df)"
   ]
  },
  {
   "cell_type": "code",
   "execution_count": 53,
   "id": "890f7b2e",
   "metadata": {},
   "outputs": [
    {
     "data": {
      "text/html": [
       "<table>\n",
       "<thead><tr><th></th><th scope=col>X.U.FEFF.PassengerId</th><th scope=col>Survived</th><th scope=col>Pclass</th><th scope=col>Name</th><th scope=col>Sex</th><th scope=col>Age</th><th scope=col>SibSp</th><th scope=col>Parch</th><th scope=col>Ticket</th><th scope=col>Fare</th><th scope=col>Cabin</th><th scope=col>Embarked</th></tr></thead>\n",
       "<tbody>\n",
       "\t<tr><th scope=row>886</th><td>886                                     </td><td>0                                       </td><td>3                                       </td><td>Rice, Mrs. William (Margaret Norton)    </td><td>female                                  </td><td>39                                      </td><td>0                                       </td><td>5                                       </td><td>382652                                  </td><td>29.125                                  </td><td>                                        </td><td>Q                                       </td></tr>\n",
       "\t<tr><th scope=row>887</th><td>887                                     </td><td>0                                       </td><td>2                                       </td><td>Montvila, Rev. Juozas                   </td><td>male                                    </td><td>27                                      </td><td>0                                       </td><td>0                                       </td><td>211536                                  </td><td>13.000                                  </td><td>                                        </td><td>S                                       </td></tr>\n",
       "\t<tr><th scope=row>888</th><td>888                                     </td><td>1                                       </td><td>1                                       </td><td>Graham, Miss. Margaret Edith            </td><td>female                                  </td><td>19                                      </td><td>0                                       </td><td>0                                       </td><td>112053                                  </td><td>30.000                                  </td><td>B42                                     </td><td>S                                       </td></tr>\n",
       "\t<tr><th scope=row>889</th><td>889                                     </td><td>0                                       </td><td>3                                       </td><td>Johnston, Miss. Catherine Helen \"Carrie\"</td><td>female                                  </td><td>NA                                      </td><td>1                                       </td><td>2                                       </td><td>W./C. 6607                              </td><td>23.450                                  </td><td>                                        </td><td>S                                       </td></tr>\n",
       "\t<tr><th scope=row>890</th><td>890                                     </td><td>1                                       </td><td>1                                       </td><td>Behr, Mr. Karl Howell                   </td><td>male                                    </td><td>26                                      </td><td>0                                       </td><td>0                                       </td><td>111369                                  </td><td>30.000                                  </td><td>C148                                    </td><td>C                                       </td></tr>\n",
       "\t<tr><th scope=row>891</th><td>891                                     </td><td>0                                       </td><td>3                                       </td><td>Dooley, Mr. Patrick                     </td><td>male                                    </td><td>32                                      </td><td>0                                       </td><td>0                                       </td><td>370376                                  </td><td> 7.750                                  </td><td>                                        </td><td>Q                                       </td></tr>\n",
       "</tbody>\n",
       "</table>\n"
      ],
      "text/latex": [
       "\\begin{tabular}{r|llllllllllll}\n",
       "  & X.U.FEFF.PassengerId & Survived & Pclass & Name & Sex & Age & SibSp & Parch & Ticket & Fare & Cabin & Embarked\\\\\n",
       "\\hline\n",
       "\t886 & 886                                      & 0                                        & 3                                        & Rice, Mrs. William (Margaret Norton)     & female                                   & 39                                       & 0                                        & 5                                        & 382652                                   & 29.125                                   &                                          & Q                                       \\\\\n",
       "\t887 & 887                                      & 0                                        & 2                                        & Montvila, Rev. Juozas                    & male                                     & 27                                       & 0                                        & 0                                        & 211536                                   & 13.000                                   &                                          & S                                       \\\\\n",
       "\t888 & 888                                      & 1                                        & 1                                        & Graham, Miss. Margaret Edith             & female                                   & 19                                       & 0                                        & 0                                        & 112053                                   & 30.000                                   & B42                                      & S                                       \\\\\n",
       "\t889 & 889                                      & 0                                        & 3                                        & Johnston, Miss. Catherine Helen \"Carrie\" & female                                   & NA                                       & 1                                        & 2                                        & W./C. 6607                               & 23.450                                   &                                          & S                                       \\\\\n",
       "\t890 & 890                                      & 1                                        & 1                                        & Behr, Mr. Karl Howell                    & male                                     & 26                                       & 0                                        & 0                                        & 111369                                   & 30.000                                   & C148                                     & C                                       \\\\\n",
       "\t891 & 891                                      & 0                                        & 3                                        & Dooley, Mr. Patrick                      & male                                     & 32                                       & 0                                        & 0                                        & 370376                                   &  7.750                                   &                                          & Q                                       \\\\\n",
       "\\end{tabular}\n"
      ],
      "text/markdown": [
       "\n",
       "| <!--/--> | X.U.FEFF.PassengerId | Survived | Pclass | Name | Sex | Age | SibSp | Parch | Ticket | Fare | Cabin | Embarked |\n",
       "|---|---|---|---|---|---|---|---|---|---|---|---|---|\n",
       "| 886 | 886                                      | 0                                        | 3                                        | Rice, Mrs. William (Margaret Norton)     | female                                   | 39                                       | 0                                        | 5                                        | 382652                                   | 29.125                                   |                                          | Q                                        |\n",
       "| 887 | 887                                      | 0                                        | 2                                        | Montvila, Rev. Juozas                    | male                                     | 27                                       | 0                                        | 0                                        | 211536                                   | 13.000                                   |                                          | S                                        |\n",
       "| 888 | 888                                      | 1                                        | 1                                        | Graham, Miss. Margaret Edith             | female                                   | 19                                       | 0                                        | 0                                        | 112053                                   | 30.000                                   | B42                                      | S                                        |\n",
       "| 889 | 889                                      | 0                                        | 3                                        | Johnston, Miss. Catherine Helen \"Carrie\" | female                                   | NA                                       | 1                                        | 2                                        | W./C. 6607                               | 23.450                                   |                                          | S                                        |\n",
       "| 890 | 890                                      | 1                                        | 1                                        | Behr, Mr. Karl Howell                    | male                                     | 26                                       | 0                                        | 0                                        | 111369                                   | 30.000                                   | C148                                     | C                                        |\n",
       "| 891 | 891                                      | 0                                        | 3                                        | Dooley, Mr. Patrick                      | male                                     | 32                                       | 0                                        | 0                                        | 370376                                   |  7.750                                   |                                          | Q                                        |\n",
       "\n"
      ],
      "text/plain": [
       "    X.U.FEFF.PassengerId Survived Pclass\n",
       "886 886                  0        3     \n",
       "887 887                  0        2     \n",
       "888 888                  1        1     \n",
       "889 889                  0        3     \n",
       "890 890                  1        1     \n",
       "891 891                  0        3     \n",
       "    Name                                     Sex    Age SibSp Parch Ticket    \n",
       "886 Rice, Mrs. William (Margaret Norton)     female 39  0     5     382652    \n",
       "887 Montvila, Rev. Juozas                    male   27  0     0     211536    \n",
       "888 Graham, Miss. Margaret Edith             female 19  0     0     112053    \n",
       "889 Johnston, Miss. Catherine Helen \"Carrie\" female NA  1     2     W./C. 6607\n",
       "890 Behr, Mr. Karl Howell                    male   26  0     0     111369    \n",
       "891 Dooley, Mr. Patrick                      male   32  0     0     370376    \n",
       "    Fare   Cabin Embarked\n",
       "886 29.125       Q       \n",
       "887 13.000       S       \n",
       "888 30.000 B42   S       \n",
       "889 23.450       S       \n",
       "890 30.000 C148  C       \n",
       "891  7.750       Q       "
      ]
     },
     "metadata": {},
     "output_type": "display_data"
    }
   ],
   "source": [
    "tail(train_df)"
   ]
  },
  {
   "cell_type": "code",
   "execution_count": 54,
   "id": "65fd9b22",
   "metadata": {},
   "outputs": [
    {
     "name": "stdout",
     "output_type": "stream",
     "text": [
      "'data.frame':\t891 obs. of  12 variables:\n",
      " $ X.U.FEFF.PassengerId: int  1 2 3 4 5 6 7 8 9 10 ...\n",
      " $ Survived            : int  0 1 1 1 0 0 0 0 1 1 ...\n",
      " $ Pclass              : int  3 1 3 1 3 3 1 3 3 2 ...\n",
      " $ Name                : Factor w/ 891 levels \"Abbing, Mr. Anthony\",..: 109 191 358 277 16 559 520 629 417 581 ...\n",
      " $ Sex                 : Factor w/ 2 levels \"female\",\"male\": 2 1 1 1 2 2 2 2 1 1 ...\n",
      " $ Age                 : num  22 38 26 35 35 NA 54 2 27 14 ...\n",
      " $ SibSp               : int  1 1 0 1 0 0 0 3 0 1 ...\n",
      " $ Parch               : int  0 0 0 0 0 0 0 1 2 0 ...\n",
      " $ Ticket              : Factor w/ 681 levels \"110152\",\"110413\",..: 524 597 670 50 473 276 86 396 345 133 ...\n",
      " $ Fare                : num  7.25 71.28 7.92 53.1 8.05 ...\n",
      " $ Cabin               : Factor w/ 148 levels \"\",\"A10\",\"A14\",..: 1 83 1 57 1 1 131 1 1 1 ...\n",
      " $ Embarked            : Factor w/ 4 levels \"\",\"C\",\"Q\",\"S\": 4 2 4 4 4 3 4 4 4 2 ...\n"
     ]
    }
   ],
   "source": [
    "str(train_df)"
   ]
  },
  {
   "cell_type": "markdown",
   "id": "7880d02e",
   "metadata": {},
   "source": [
    "### 컬럼 내용 확인\n",
    "- Survived : 생존여부, 0=사망, 1=생존\n",
    "- Pclass : 티켓등급, 1=1등급, 2=2등급, 3=3등급\n",
    "- Sibsp : 함께 탑승한 형제, 자매, 배우자의 수\n",
    "- Parch : 함께 탑승한 부모, 자식의 수\n",
    "- Fare : 운임\n",
    "- Cabin : 객실 번호\n",
    "- Embarked : 탑승항구, C=Chersbourg, Q=Queenstown, S=Southampton\n",
    "\n"
   ]
  },
  {
   "cell_type": "code",
   "execution_count": 55,
   "id": "08b00876",
   "metadata": {},
   "outputs": [
    {
     "name": "stderr",
     "output_type": "stream",
     "text": [
      "Your code contains a unicode char which cannot be displayed in your\n",
      "current locale and R will silently convert it to an escaped form when the\n",
      "R kernel executes this code. This can lead to subtle errors if you use\n",
      "such chars to do comparisons. For more information, please see\n",
      "https://github.com/IRkernel/repr/wiki/Problems-with-unicode-on-windows"
     ]
    },
    {
     "data": {
      "text/html": [
       "177"
      ],
      "text/latex": [
       "177"
      ],
      "text/markdown": [
       "177"
      ],
      "text/plain": [
       "[1] 177"
      ]
     },
     "metadata": {},
     "output_type": "display_data"
    },
    {
     "data": {
      "text/html": [
       "<dl class=dl-horizontal>\n",
       "\t<dt>X.U.FEFF.PassengerId</dt>\n",
       "\t\t<dd>0</dd>\n",
       "\t<dt>Survived</dt>\n",
       "\t\t<dd>0</dd>\n",
       "\t<dt>Pclass</dt>\n",
       "\t\t<dd>0</dd>\n",
       "\t<dt>Name</dt>\n",
       "\t\t<dd>0</dd>\n",
       "\t<dt>Sex</dt>\n",
       "\t\t<dd>0</dd>\n",
       "\t<dt>Age</dt>\n",
       "\t\t<dd>177</dd>\n",
       "\t<dt>SibSp</dt>\n",
       "\t\t<dd>0</dd>\n",
       "\t<dt>Parch</dt>\n",
       "\t\t<dd>0</dd>\n",
       "\t<dt>Ticket</dt>\n",
       "\t\t<dd>0</dd>\n",
       "\t<dt>Fare</dt>\n",
       "\t\t<dd>0</dd>\n",
       "\t<dt>Cabin</dt>\n",
       "\t\t<dd>0</dd>\n",
       "\t<dt>Embarked</dt>\n",
       "\t\t<dd>0</dd>\n",
       "</dl>\n"
      ],
      "text/latex": [
       "\\begin{description*}\n",
       "\\item[X.U.FEFF.PassengerId] 0\n",
       "\\item[Survived] 0\n",
       "\\item[Pclass] 0\n",
       "\\item[Name] 0\n",
       "\\item[Sex] 0\n",
       "\\item[Age] 177\n",
       "\\item[SibSp] 0\n",
       "\\item[Parch] 0\n",
       "\\item[Ticket] 0\n",
       "\\item[Fare] 0\n",
       "\\item[Cabin] 0\n",
       "\\item[Embarked] 0\n",
       "\\end{description*}\n"
      ],
      "text/markdown": [
       "X.U.FEFF.PassengerId\n",
       ":   0Survived\n",
       ":   0Pclass\n",
       ":   0Name\n",
       ":   0Sex\n",
       ":   0Age\n",
       ":   177SibSp\n",
       ":   0Parch\n",
       ":   0Ticket\n",
       ":   0Fare\n",
       ":   0Cabin\n",
       ":   0Embarked\n",
       ":   0\n",
       "\n"
      ],
      "text/plain": [
       "X.U.FEFF.PassengerId             Survived               Pclass \n",
       "                   0                    0                    0 \n",
       "                Name                  Sex                  Age \n",
       "                   0                    0                  177 \n",
       "               SibSp                Parch               Ticket \n",
       "                   0                    0                    0 \n",
       "                Fare                Cabin             Embarked \n",
       "                   0                    0                    0 "
      ]
     },
     "metadata": {},
     "output_type": "display_data"
    }
   ],
   "source": [
    "# 각 컬럼별 NA 확인\n",
    "sum(is.na(train_df))\n",
    "colSums(is.na(train_df)) # 컬럼별 합계"
   ]
  },
  {
   "cell_type": "code",
   "execution_count": 56,
   "id": "4640f433",
   "metadata": {},
   "outputs": [
    {
     "data": {
      "text/html": [
       "0.198653198653199"
      ],
      "text/latex": [
       "0.198653198653199"
      ],
      "text/markdown": [
       "0.198653198653199"
      ],
      "text/plain": [
       "[1] 0.1986532"
      ]
     },
     "metadata": {},
     "output_type": "display_data"
    }
   ],
   "source": [
    "177/891"
   ]
  },
  {
   "cell_type": "code",
   "execution_count": 57,
   "id": "c3dac925",
   "metadata": {},
   "outputs": [
    {
     "data": {
      "text/html": [
       "<table>\n",
       "<thead><tr><th></th><th scope=col>X.U.FEFF.PassengerId</th><th scope=col>Survived</th><th scope=col>Pclass</th><th scope=col>Name</th><th scope=col>Sex</th><th scope=col>Age</th><th scope=col>SibSp</th><th scope=col>Parch</th><th scope=col>Ticket</th><th scope=col>Fare</th><th scope=col>Cabin</th><th scope=col>Embarked</th></tr></thead>\n",
       "<tbody>\n",
       "\t<tr><th scope=row>1</th><td>1                                                  </td><td>0                                                  </td><td>3                                                  </td><td>Braund, Mr. Owen Harris                            </td><td>male                                               </td><td>22                                                 </td><td>1                                                  </td><td>0                                                  </td><td>A/5 21171                                          </td><td> 7.2500                                            </td><td>                                                   </td><td>S                                                  </td></tr>\n",
       "\t<tr><th scope=row>2</th><td>2                                                  </td><td>1                                                  </td><td>1                                                  </td><td>Cumings, Mrs. John Bradley (Florence Briggs Thayer)</td><td>female                                             </td><td>38                                                 </td><td>1                                                  </td><td>0                                                  </td><td>PC 17599                                           </td><td>71.2833                                            </td><td>C85                                                </td><td>C                                                  </td></tr>\n",
       "\t<tr><th scope=row>3</th><td>3                                                  </td><td>1                                                  </td><td>3                                                  </td><td>Heikkinen, Miss. Laina                             </td><td>female                                             </td><td>26                                                 </td><td>0                                                  </td><td>0                                                  </td><td>STON/O2. 3101282                                   </td><td> 7.9250                                            </td><td>                                                   </td><td>S                                                  </td></tr>\n",
       "\t<tr><th scope=row>4</th><td>4                                                  </td><td>1                                                  </td><td>1                                                  </td><td>Futrelle, Mrs. Jacques Heath (Lily May Peel)       </td><td>female                                             </td><td>35                                                 </td><td>1                                                  </td><td>0                                                  </td><td>113803                                             </td><td>53.1000                                            </td><td>C123                                               </td><td>S                                                  </td></tr>\n",
       "\t<tr><th scope=row>5</th><td>5                                                  </td><td>0                                                  </td><td>3                                                  </td><td>Allen, Mr. William Henry                           </td><td>male                                               </td><td>35                                                 </td><td>0                                                  </td><td>0                                                  </td><td>373450                                             </td><td> 8.0500                                            </td><td>                                                   </td><td>S                                                  </td></tr>\n",
       "\t<tr><th scope=row>7</th><td>7                                                  </td><td>0                                                  </td><td>1                                                  </td><td>McCarthy, Mr. Timothy J                            </td><td>male                                               </td><td>54                                                 </td><td>0                                                  </td><td>0                                                  </td><td>17463                                              </td><td>51.8625                                            </td><td>E46                                                </td><td>S                                                  </td></tr>\n",
       "</tbody>\n",
       "</table>\n"
      ],
      "text/latex": [
       "\\begin{tabular}{r|llllllllllll}\n",
       "  & X.U.FEFF.PassengerId & Survived & Pclass & Name & Sex & Age & SibSp & Parch & Ticket & Fare & Cabin & Embarked\\\\\n",
       "\\hline\n",
       "\t1 & 1                                                   & 0                                                   & 3                                                   & Braund, Mr. Owen Harris                             & male                                                & 22                                                  & 1                                                   & 0                                                   & A/5 21171                                           &  7.2500                                             &                                                     & S                                                  \\\\\n",
       "\t2 & 2                                                   & 1                                                   & 1                                                   & Cumings, Mrs. John Bradley (Florence Briggs Thayer) & female                                              & 38                                                  & 1                                                   & 0                                                   & PC 17599                                            & 71.2833                                             & C85                                                 & C                                                  \\\\\n",
       "\t3 & 3                                                   & 1                                                   & 3                                                   & Heikkinen, Miss. Laina                              & female                                              & 26                                                  & 0                                                   & 0                                                   & STON/O2. 3101282                                    &  7.9250                                             &                                                     & S                                                  \\\\\n",
       "\t4 & 4                                                   & 1                                                   & 1                                                   & Futrelle, Mrs. Jacques Heath (Lily May Peel)        & female                                              & 35                                                  & 1                                                   & 0                                                   & 113803                                              & 53.1000                                             & C123                                                & S                                                  \\\\\n",
       "\t5 & 5                                                   & 0                                                   & 3                                                   & Allen, Mr. William Henry                            & male                                                & 35                                                  & 0                                                   & 0                                                   & 373450                                              &  8.0500                                             &                                                     & S                                                  \\\\\n",
       "\t7 & 7                                                   & 0                                                   & 1                                                   & McCarthy, Mr. Timothy J                             & male                                                & 54                                                  & 0                                                   & 0                                                   & 17463                                               & 51.8625                                             & E46                                                 & S                                                  \\\\\n",
       "\\end{tabular}\n"
      ],
      "text/markdown": [
       "\n",
       "| <!--/--> | X.U.FEFF.PassengerId | Survived | Pclass | Name | Sex | Age | SibSp | Parch | Ticket | Fare | Cabin | Embarked |\n",
       "|---|---|---|---|---|---|---|---|---|---|---|---|---|\n",
       "| 1 | 1                                                   | 0                                                   | 3                                                   | Braund, Mr. Owen Harris                             | male                                                | 22                                                  | 1                                                   | 0                                                   | A/5 21171                                           |  7.2500                                             |                                                     | S                                                   |\n",
       "| 2 | 2                                                   | 1                                                   | 1                                                   | Cumings, Mrs. John Bradley (Florence Briggs Thayer) | female                                              | 38                                                  | 1                                                   | 0                                                   | PC 17599                                            | 71.2833                                             | C85                                                 | C                                                   |\n",
       "| 3 | 3                                                   | 1                                                   | 3                                                   | Heikkinen, Miss. Laina                              | female                                              | 26                                                  | 0                                                   | 0                                                   | STON/O2. 3101282                                    |  7.9250                                             |                                                     | S                                                   |\n",
       "| 4 | 4                                                   | 1                                                   | 1                                                   | Futrelle, Mrs. Jacques Heath (Lily May Peel)        | female                                              | 35                                                  | 1                                                   | 0                                                   | 113803                                              | 53.1000                                             | C123                                                | S                                                   |\n",
       "| 5 | 5                                                   | 0                                                   | 3                                                   | Allen, Mr. William Henry                            | male                                                | 35                                                  | 0                                                   | 0                                                   | 373450                                              |  8.0500                                             |                                                     | S                                                   |\n",
       "| 7 | 7                                                   | 0                                                   | 1                                                   | McCarthy, Mr. Timothy J                             | male                                                | 54                                                  | 0                                                   | 0                                                   | 17463                                               | 51.8625                                             | E46                                                 | S                                                   |\n",
       "\n"
      ],
      "text/plain": [
       "  X.U.FEFF.PassengerId Survived Pclass\n",
       "1 1                    0        3     \n",
       "2 2                    1        1     \n",
       "3 3                    1        3     \n",
       "4 4                    1        1     \n",
       "5 5                    0        3     \n",
       "7 7                    0        1     \n",
       "  Name                                                Sex    Age SibSp Parch\n",
       "1 Braund, Mr. Owen Harris                             male   22  1     0    \n",
       "2 Cumings, Mrs. John Bradley (Florence Briggs Thayer) female 38  1     0    \n",
       "3 Heikkinen, Miss. Laina                              female 26  0     0    \n",
       "4 Futrelle, Mrs. Jacques Heath (Lily May Peel)        female 35  1     0    \n",
       "5 Allen, Mr. William Henry                            male   35  0     0    \n",
       "7 McCarthy, Mr. Timothy J                             male   54  0     0    \n",
       "  Ticket           Fare    Cabin Embarked\n",
       "1 A/5 21171         7.2500       S       \n",
       "2 PC 17599         71.2833 C85   C       \n",
       "3 STON/O2. 3101282  7.9250       S       \n",
       "4 113803           53.1000 C123  S       \n",
       "5 373450            8.0500       S       \n",
       "7 17463            51.8625 E46   S       "
      ]
     },
     "metadata": {},
     "output_type": "display_data"
    },
    {
     "data": {
      "text/html": [
       "714"
      ],
      "text/latex": [
       "714"
      ],
      "text/markdown": [
       "714"
      ],
      "text/plain": [
       "[1] 714"
      ]
     },
     "metadata": {},
     "output_type": "display_data"
    }
   ],
   "source": [
    "# train_df$Age가 NA인 것 빼고 데이터셋 만들기\n",
    "\n",
    "head(subset(train_df, !is.na(train_df$Age)))  # is.na() subset 조건으로 활용가능, ==NA 등이 방식 사용불가\n",
    "nrow(subset(train_df, !is.na(train_df$Age)))"
   ]
  },
  {
   "cell_type": "code",
   "execution_count": 58,
   "id": "fc859923",
   "metadata": {},
   "outputs": [
    {
     "name": "stdout",
     "output_type": "stream",
     "text": [
      "  X.U.FEFF.PassengerId Survived Pclass                           Name  Sex Age\n",
      "1                    1        0      3        Braund, Mr. Owen Harris male  22\n",
      "2                    5        0      3       Allen, Mr. William Henry male  35\n",
      "3                    6        0      3               Moran, Mr. James male  NA\n",
      "4                    7        0      1        McCarthy, Mr. Timothy J male  54\n",
      "5                    8        0      3 Palsson, Master. Gosta Leonard male   2\n",
      "6                   13        0      3 Saundercock, Mr. William Henry male  20\n",
      "  SibSp Parch    Ticket    Fare Cabin Embarked\n",
      "1     1     0 A/5 21171  7.2500              S\n",
      "2     0     0    373450  8.0500              S\n",
      "3     0     0    330877  8.4583              Q\n",
      "4     0     0     17463 51.8625   E46        S\n",
      "5     3     1    349909 21.0750              S\n",
      "6     0     0 A/5. 2151  8.0500              S\n"
     ]
    }
   ],
   "source": [
    "# Survived 기준으로 Dataset 정렬\n",
    "library(dplyr)\n",
    "\n",
    "train_df <- arrange(train_df, Survived)\n",
    "print(head(train_df))"
   ]
  },
  {
   "cell_type": "code",
   "execution_count": 59,
   "id": "ee727d27",
   "metadata": {},
   "outputs": [
    {
     "data": {
      "text/html": [
       "<table>\n",
       "<thead><tr><th></th><th scope=col>X.U.FEFF.PassengerId</th><th scope=col>Survived</th><th scope=col>Pclass</th><th scope=col>Name</th><th scope=col>Sex</th><th scope=col>Age</th><th scope=col>SibSp</th><th scope=col>Parch</th><th scope=col>Ticket</th><th scope=col>Fare</th><th scope=col>Cabin</th><th scope=col>Embarked</th></tr></thead>\n",
       "<tbody>\n",
       "\t<tr><th scope=row>886</th><td>875                                          </td><td>1                                            </td><td>2                                            </td><td>Abelson, Mrs. Samuel (Hannah Wizosky)        </td><td>female                                       </td><td>28                                           </td><td>1                                            </td><td>0                                            </td><td>P/PP 3381                                    </td><td>24.0000                                      </td><td>                                             </td><td>C                                            </td></tr>\n",
       "\t<tr><th scope=row>887</th><td>876                                          </td><td>1                                            </td><td>3                                            </td><td>Najib, Miss. Adele Kiamie \"Jane\"             </td><td>female                                       </td><td>15                                           </td><td>0                                            </td><td>0                                            </td><td>2667                                         </td><td> 7.2250                                      </td><td>                                             </td><td>C                                            </td></tr>\n",
       "\t<tr><th scope=row>888</th><td>880                                          </td><td>1                                            </td><td>1                                            </td><td>Potter, Mrs. Thomas Jr (Lily Alexenia Wilson)</td><td>female                                       </td><td>56                                           </td><td>0                                            </td><td>1                                            </td><td>11767                                        </td><td>83.1583                                      </td><td>C50                                          </td><td>C                                            </td></tr>\n",
       "\t<tr><th scope=row>889</th><td>881                                          </td><td>1                                            </td><td>2                                            </td><td>Shelley, Mrs. William (Imanita Parrish Hall) </td><td>female                                       </td><td>25                                           </td><td>0                                            </td><td>1                                            </td><td>230433                                       </td><td>26.0000                                      </td><td>                                             </td><td>S                                            </td></tr>\n",
       "\t<tr><th scope=row>890</th><td>888                                          </td><td>1                                            </td><td>1                                            </td><td>Graham, Miss. Margaret Edith                 </td><td>female                                       </td><td>19                                           </td><td>0                                            </td><td>0                                            </td><td>112053                                       </td><td>30.0000                                      </td><td>B42                                          </td><td>S                                            </td></tr>\n",
       "\t<tr><th scope=row>891</th><td>890                                          </td><td>1                                            </td><td>1                                            </td><td>Behr, Mr. Karl Howell                        </td><td>male                                         </td><td>26                                           </td><td>0                                            </td><td>0                                            </td><td>111369                                       </td><td>30.0000                                      </td><td>C148                                         </td><td>C                                            </td></tr>\n",
       "</tbody>\n",
       "</table>\n"
      ],
      "text/latex": [
       "\\begin{tabular}{r|llllllllllll}\n",
       "  & X.U.FEFF.PassengerId & Survived & Pclass & Name & Sex & Age & SibSp & Parch & Ticket & Fare & Cabin & Embarked\\\\\n",
       "\\hline\n",
       "\t886 & 875                                           & 1                                             & 2                                             & Abelson, Mrs. Samuel (Hannah Wizosky)         & female                                        & 28                                            & 1                                             & 0                                             & P/PP 3381                                     & 24.0000                                       &                                               & C                                            \\\\\n",
       "\t887 & 876                                           & 1                                             & 3                                             & Najib, Miss. Adele Kiamie \"Jane\"              & female                                        & 15                                            & 0                                             & 0                                             & 2667                                          &  7.2250                                       &                                               & C                                            \\\\\n",
       "\t888 & 880                                           & 1                                             & 1                                             & Potter, Mrs. Thomas Jr (Lily Alexenia Wilson) & female                                        & 56                                            & 0                                             & 1                                             & 11767                                         & 83.1583                                       & C50                                           & C                                            \\\\\n",
       "\t889 & 881                                           & 1                                             & 2                                             & Shelley, Mrs. William (Imanita Parrish Hall)  & female                                        & 25                                            & 0                                             & 1                                             & 230433                                        & 26.0000                                       &                                               & S                                            \\\\\n",
       "\t890 & 888                                           & 1                                             & 1                                             & Graham, Miss. Margaret Edith                  & female                                        & 19                                            & 0                                             & 0                                             & 112053                                        & 30.0000                                       & B42                                           & S                                            \\\\\n",
       "\t891 & 890                                           & 1                                             & 1                                             & Behr, Mr. Karl Howell                         & male                                          & 26                                            & 0                                             & 0                                             & 111369                                        & 30.0000                                       & C148                                          & C                                            \\\\\n",
       "\\end{tabular}\n"
      ],
      "text/markdown": [
       "\n",
       "| <!--/--> | X.U.FEFF.PassengerId | Survived | Pclass | Name | Sex | Age | SibSp | Parch | Ticket | Fare | Cabin | Embarked |\n",
       "|---|---|---|---|---|---|---|---|---|---|---|---|---|\n",
       "| 886 | 875                                           | 1                                             | 2                                             | Abelson, Mrs. Samuel (Hannah Wizosky)         | female                                        | 28                                            | 1                                             | 0                                             | P/PP 3381                                     | 24.0000                                       |                                               | C                                             |\n",
       "| 887 | 876                                           | 1                                             | 3                                             | Najib, Miss. Adele Kiamie \"Jane\"              | female                                        | 15                                            | 0                                             | 0                                             | 2667                                          |  7.2250                                       |                                               | C                                             |\n",
       "| 888 | 880                                           | 1                                             | 1                                             | Potter, Mrs. Thomas Jr (Lily Alexenia Wilson) | female                                        | 56                                            | 0                                             | 1                                             | 11767                                         | 83.1583                                       | C50                                           | C                                             |\n",
       "| 889 | 881                                           | 1                                             | 2                                             | Shelley, Mrs. William (Imanita Parrish Hall)  | female                                        | 25                                            | 0                                             | 1                                             | 230433                                        | 26.0000                                       |                                               | S                                             |\n",
       "| 890 | 888                                           | 1                                             | 1                                             | Graham, Miss. Margaret Edith                  | female                                        | 19                                            | 0                                             | 0                                             | 112053                                        | 30.0000                                       | B42                                           | S                                             |\n",
       "| 891 | 890                                           | 1                                             | 1                                             | Behr, Mr. Karl Howell                         | male                                          | 26                                            | 0                                             | 0                                             | 111369                                        | 30.0000                                       | C148                                          | C                                             |\n",
       "\n"
      ],
      "text/plain": [
       "    X.U.FEFF.PassengerId Survived Pclass\n",
       "886 875                  1        2     \n",
       "887 876                  1        3     \n",
       "888 880                  1        1     \n",
       "889 881                  1        2     \n",
       "890 888                  1        1     \n",
       "891 890                  1        1     \n",
       "    Name                                          Sex    Age SibSp Parch\n",
       "886 Abelson, Mrs. Samuel (Hannah Wizosky)         female 28  1     0    \n",
       "887 Najib, Miss. Adele Kiamie \"Jane\"              female 15  0     0    \n",
       "888 Potter, Mrs. Thomas Jr (Lily Alexenia Wilson) female 56  0     1    \n",
       "889 Shelley, Mrs. William (Imanita Parrish Hall)  female 25  0     1    \n",
       "890 Graham, Miss. Margaret Edith                  female 19  0     0    \n",
       "891 Behr, Mr. Karl Howell                         male   26  0     0    \n",
       "    Ticket    Fare    Cabin Embarked\n",
       "886 P/PP 3381 24.0000       C       \n",
       "887 2667       7.2250       C       \n",
       "888 11767     83.1583 C50   C       \n",
       "889 230433    26.0000       S       \n",
       "890 112053    30.0000 B42   S       \n",
       "891 111369    30.0000 C148  C       "
      ]
     },
     "metadata": {},
     "output_type": "display_data"
    }
   ],
   "source": [
    "tail(train_df)"
   ]
  },
  {
   "cell_type": "code",
   "execution_count": 60,
   "id": "6c63cb08",
   "metadata": {},
   "outputs": [
    {
     "data": {
      "text/html": [
       "<ol class=list-inline>\n",
       "\t<li>891</li>\n",
       "\t<li>12</li>\n",
       "</ol>\n"
      ],
      "text/latex": [
       "\\begin{enumerate*}\n",
       "\\item 891\n",
       "\\item 12\n",
       "\\end{enumerate*}\n"
      ],
      "text/markdown": [
       "1. 891\n",
       "2. 12\n",
       "\n",
       "\n"
      ],
      "text/plain": [
       "[1] 891  12"
      ]
     },
     "metadata": {},
     "output_type": "display_data"
    }
   ],
   "source": [
    "# 정렬된 크기 확인\n",
    "dim(train_df)"
   ]
  },
  {
   "cell_type": "markdown",
   "id": "a6de5076",
   "metadata": {},
   "source": [
    "# Target Column : Survived 분석 및 확인"
   ]
  },
  {
   "cell_type": "code",
   "execution_count": 61,
   "id": "3e3154ea",
   "metadata": {},
   "outputs": [
    {
     "data": {
      "text/plain": [
       "\n",
       "  0   1 \n",
       "549 342 "
      ]
     },
     "metadata": {},
     "output_type": "display_data"
    }
   ],
   "source": [
    "table(train_df$Survived)"
   ]
  },
  {
   "cell_type": "code",
   "execution_count": 62,
   "id": "db513364",
   "metadata": {},
   "outputs": [
    {
     "data": {
      "text/html": [
       "549"
      ],
      "text/latex": [
       "549"
      ],
      "text/markdown": [
       "549"
      ],
      "text/plain": [
       "[1] 549"
      ]
     },
     "metadata": {},
     "output_type": "display_data"
    },
    {
     "data": {
      "text/html": [
       "342"
      ],
      "text/latex": [
       "342"
      ],
      "text/markdown": [
       "342"
      ],
      "text/plain": [
       "[1] 342"
      ]
     },
     "metadata": {},
     "output_type": "display_data"
    },
    {
     "data": {
      "text/html": [
       "0.383838383838384"
      ],
      "text/latex": [
       "0.383838383838384"
      ],
      "text/markdown": [
       "0.383838383838384"
      ],
      "text/plain": [
       "[1] 0.3838384"
      ]
     },
     "metadata": {},
     "output_type": "display_data"
    }
   ],
   "source": [
    "# Survived의 생존과 사망 Count 확인 및 비율\n",
    "\n",
    "# 사망자수\n",
    "nrow(subset(train_df, Survived==0))\n",
    "# 생존사주\n",
    "nrow(subset(train_df, Survived==1))\n",
    "# 생존자수의 비율\n",
    "nrow(subset(train_df, Survived==1)) / nrow(train_df)"
   ]
  },
  {
   "cell_type": "code",
   "execution_count": 63,
   "id": "7626709a",
   "metadata": {},
   "outputs": [
    {
     "data": {
      "image/png": "[encoded data removed]",
      "text/plain": [
       "Plot with title \"타이타닉호 생존율\""
      ]
     },
     "metadata": {},
     "output_type": "display_data"
    }
   ],
   "source": [
    "# 생존과 사망 비율을 Pie Chart로 생성\n",
    "library(plotrix)\n",
    "\n",
    "par(family = \"AppleGothic\")\n",
    "options(warn = -1)\n",
    "\n",
    "survived <- c(\"사망\", \"생존\")\n",
    "ratio <- c(round(nrow(subset(train_df, Survived==0)) / nrow(train_df) * 100 ,2), \n",
    "           round(nrow(subset(train_df, Survived==1)) / nrow(train_df) * 100 ,2))\n",
    "label <- paste(survived, '\\n', ratio, \"%\")\n",
    "\n",
    "pie3D(ratio,\n",
    "    main = \"타이타닉호 생존율\",\n",
    "    labels = label,  \n",
    "    explode = 0.05,\n",
    "    labelcex = 1\n",
    "   )"
   ]
  },
  {
   "cell_type": "code",
   "execution_count": 64,
   "id": "e9fcbf88",
   "metadata": {},
   "outputs": [],
   "source": [
    "# 생존자와 사망자수\n",
    "deathCount <- sum(train_df$Survived == 0)\n",
    "liveCount <- sum(train_df$Survived == 1)"
   ]
  },
  {
   "cell_type": "code",
   "execution_count": 65,
   "id": "3a0c0694",
   "metadata": {},
   "outputs": [
    {
     "data": {
      "text/html": [
       "<ol class=list-inline>\n",
       "\t<li>549</li>\n",
       "\t<li>342</li>\n",
       "</ol>\n"
      ],
      "text/latex": [
       "\\begin{enumerate*}\n",
       "\\item 549\n",
       "\\item 342\n",
       "\\end{enumerate*}\n"
      ],
      "text/markdown": [
       "1. 549\n",
       "2. 342\n",
       "\n",
       "\n"
      ],
      "text/plain": [
       "[1] 549 342"
      ]
     },
     "metadata": {},
     "output_type": "display_data"
    }
   ],
   "source": [
    "SurviedVector <- c(deathCount, liveCount)\n",
    "SurviedVector"
   ]
  },
  {
   "cell_type": "code",
   "execution_count": 66,
   "id": "37424e9c",
   "metadata": {},
   "outputs": [
    {
     "data": {
      "text/html": [
       "<ol class=list-inline>\n",
       "\t<li>'사망 \\n 61.62 %'</li>\n",
       "\t<li>'생존 \\n 38.38 %'</li>\n",
       "</ol>\n"
      ],
      "text/latex": [
       "\\begin{enumerate*}\n",
       "\\item '사망 \\textbackslash{}n 61.62 \\%'\n",
       "\\item '생존 \\textbackslash{}n 38.38 \\%'\n",
       "\\end{enumerate*}\n"
      ],
      "text/markdown": [
       "1. '사망 \\n 61.62 %'\n",
       "2. '생존 \\n 38.38 %'\n",
       "\n",
       "\n"
      ],
      "text/plain": [
       "[1] \"사망 \\n 61.62 %\" \"생존 \\n 38.38 %\""
      ]
     },
     "metadata": {},
     "output_type": "display_data"
    }
   ],
   "source": [
    "ratio <- round(SurviedVector / sum(SurviedVector) * 100, 2)\n",
    "label <- paste(c(\"사망\", \"생존\"), \"\\n\", ratio, \"%\")\n",
    "label"
   ]
  },
  {
   "cell_type": "code",
   "execution_count": 67,
   "id": "1a1a2027",
   "metadata": {},
   "outputs": [
    {
     "data": {
      "image/png": "[encoded data removed]",
      "text/plain": [
       "Plot with title \"타이타닉호 생존율\""
      ]
     },
     "metadata": {},
     "output_type": "display_data"
    }
   ],
   "source": [
    "par(family = \"AppleGothic\")\n",
    "options(warn = -1)\n",
    "\n",
    "pie3D(ratio,\n",
    "    main = \"타이타닉호 생존율\",\n",
    "    labels = label,  \n",
    "    explode = 0.05,\n",
    "    labelcex = 1\n",
    "   )"
   ]
  },
  {
   "cell_type": "code",
   "execution_count": 68,
   "id": "f959fb5f",
   "metadata": {},
   "outputs": [
    {
     "data": {
      "text/html": [
       "<ol class=list-inline>\n",
       "\t<li>61.62</li>\n",
       "\t<li>38.38</li>\n",
       "</ol>\n"
      ],
      "text/latex": [
       "\\begin{enumerate*}\n",
       "\\item 61.62\n",
       "\\item 38.38\n",
       "\\end{enumerate*}\n"
      ],
      "text/markdown": [
       "1. 61.62\n",
       "2. 38.38\n",
       "\n",
       "\n"
      ],
      "text/plain": [
       "[1] 61.62 38.38"
      ]
     },
     "metadata": {},
     "output_type": "display_data"
    }
   ],
   "source": [
    "ratio"
   ]
  },
  {
   "cell_type": "code",
   "execution_count": 69,
   "id": "75cbf0f1",
   "metadata": {},
   "outputs": [
    {
     "data": {
      "image/png": "[encoded data removed]",
      "text/plain": [
       "Plot with title \"타이타닉호 생존수와 사망수\""
      ]
     },
     "metadata": {},
     "output_type": "display_data"
    }
   ],
   "source": [
    "names(SurviedVector) <- c(\"사망\", \"생존\")\n",
    "\n",
    "par(family = \"AppleGothic\")\n",
    "\n",
    "barplot(SurviedVector,\n",
    "       ylim = c(0, 600),\n",
    "       col = c(\"red\", \"blue\"),\n",
    "       main = \"타이타닉호 생존수와 사망수\",\n",
    "       ylab = \"인원수\",\n",
    "       xlab = \"생존여부\"\n",
    "       ) "
   ]
  },
  {
   "cell_type": "code",
   "execution_count": 70,
   "id": "d89d68ae",
   "metadata": {},
   "outputs": [
    {
     "data": {
      "image/png": "[encoded data removed]",
      "text/plain": [
       "Plot with title \"타이타닉호 생존수와 사망자수\""
      ]
     },
     "metadata": {},
     "output_type": "display_data"
    }
   ],
   "source": [
    "par(family = \"AppleGothic\")\n",
    "barplot(table(train_df$Survived),\n",
    "       main = \"타이타닉호 생존수와 사망자수\",\n",
    "       ylab = \"인원수\",\n",
    "       xlab = \"생존여부\",\n",
    "       names = c(\"사망\", \"생존\"), \n",
    "       ylim = c(0, 600),\n",
    "       col = c(\"red\", \"blue\")\n",
    "       )"
   ]
  },
  {
   "cell_type": "markdown",
   "id": "966a9cec",
   "metadata": {},
   "source": [
    "> Target Coulmn으로 Survived를 선정"
   ]
  },
  {
   "cell_type": "markdown",
   "id": "9ed462fd",
   "metadata": {},
   "source": [
    "---\n",
    "# Feature column 찾기"
   ]
  },
  {
   "cell_type": "code",
   "execution_count": 71,
   "id": "56a85210",
   "metadata": {},
   "outputs": [
    {
     "data": {
      "text/html": [
       "<table>\n",
       "<thead><tr><th scope=col>X.U.FEFF.PassengerId</th><th scope=col>Survived</th><th scope=col>Pclass</th><th scope=col>Name</th><th scope=col>Sex</th><th scope=col>Age</th><th scope=col>SibSp</th><th scope=col>Parch</th><th scope=col>Ticket</th><th scope=col>Fare</th><th scope=col>Cabin</th><th scope=col>Embarked</th></tr></thead>\n",
       "<tbody>\n",
       "\t<tr><td> 1                            </td><td>0                             </td><td>3                             </td><td>Braund, Mr. Owen Harris       </td><td>male                          </td><td>22                            </td><td>1                             </td><td>0                             </td><td>A/5 21171                     </td><td> 7.2500                       </td><td>                              </td><td>S                             </td></tr>\n",
       "\t<tr><td> 5                            </td><td>0                             </td><td>3                             </td><td>Allen, Mr. William Henry      </td><td>male                          </td><td>35                            </td><td>0                             </td><td>0                             </td><td>373450                        </td><td> 8.0500                       </td><td>                              </td><td>S                             </td></tr>\n",
       "\t<tr><td> 6                            </td><td>0                             </td><td>3                             </td><td>Moran, Mr. James              </td><td>male                          </td><td>NA                            </td><td>0                             </td><td>0                             </td><td>330877                        </td><td> 8.4583                       </td><td>                              </td><td>Q                             </td></tr>\n",
       "\t<tr><td> 7                            </td><td>0                             </td><td>1                             </td><td>McCarthy, Mr. Timothy J       </td><td>male                          </td><td>54                            </td><td>0                             </td><td>0                             </td><td>17463                         </td><td>51.8625                       </td><td>E46                           </td><td>S                             </td></tr>\n",
       "\t<tr><td> 8                            </td><td>0                             </td><td>3                             </td><td>Palsson, Master. Gosta Leonard</td><td>male                          </td><td> 2                            </td><td>3                             </td><td>1                             </td><td>349909                        </td><td>21.0750                       </td><td>                              </td><td>S                             </td></tr>\n",
       "\t<tr><td>13                            </td><td>0                             </td><td>3                             </td><td>Saundercock, Mr. William Henry</td><td>male                          </td><td>20                            </td><td>0                             </td><td>0                             </td><td>A/5. 2151                     </td><td> 8.0500                       </td><td>                              </td><td>S                             </td></tr>\n",
       "</tbody>\n",
       "</table>\n"
      ],
      "text/latex": [
       "\\begin{tabular}{r|llllllllllll}\n",
       " X.U.FEFF.PassengerId & Survived & Pclass & Name & Sex & Age & SibSp & Parch & Ticket & Fare & Cabin & Embarked\\\\\n",
       "\\hline\n",
       "\t  1                             & 0                              & 3                              & Braund, Mr. Owen Harris        & male                           & 22                             & 1                              & 0                              & A/5 21171                      &  7.2500                        &                                & S                             \\\\\n",
       "\t  5                             & 0                              & 3                              & Allen, Mr. William Henry       & male                           & 35                             & 0                              & 0                              & 373450                         &  8.0500                        &                                & S                             \\\\\n",
       "\t  6                             & 0                              & 3                              & Moran, Mr. James               & male                           & NA                             & 0                              & 0                              & 330877                         &  8.4583                        &                                & Q                             \\\\\n",
       "\t  7                             & 0                              & 1                              & McCarthy, Mr. Timothy J        & male                           & 54                             & 0                              & 0                              & 17463                          & 51.8625                        & E46                            & S                             \\\\\n",
       "\t  8                             & 0                              & 3                              & Palsson, Master. Gosta Leonard & male                           &  2                             & 3                              & 1                              & 349909                         & 21.0750                        &                                & S                             \\\\\n",
       "\t 13                             & 0                              & 3                              & Saundercock, Mr. William Henry & male                           & 20                             & 0                              & 0                              & A/5. 2151                      &  8.0500                        &                                & S                             \\\\\n",
       "\\end{tabular}\n"
      ],
      "text/markdown": [
       "\n",
       "| X.U.FEFF.PassengerId | Survived | Pclass | Name | Sex | Age | SibSp | Parch | Ticket | Fare | Cabin | Embarked |\n",
       "|---|---|---|---|---|---|---|---|---|---|---|---|\n",
       "|  1                             | 0                              | 3                              | Braund, Mr. Owen Harris        | male                           | 22                             | 1                              | 0                              | A/5 21171                      |  7.2500                        |                                | S                              |\n",
       "|  5                             | 0                              | 3                              | Allen, Mr. William Henry       | male                           | 35                             | 0                              | 0                              | 373450                         |  8.0500                        |                                | S                              |\n",
       "|  6                             | 0                              | 3                              | Moran, Mr. James               | male                           | NA                             | 0                              | 0                              | 330877                         |  8.4583                        |                                | Q                              |\n",
       "|  7                             | 0                              | 1                              | McCarthy, Mr. Timothy J        | male                           | 54                             | 0                              | 0                              | 17463                          | 51.8625                        | E46                            | S                              |\n",
       "|  8                             | 0                              | 3                              | Palsson, Master. Gosta Leonard | male                           |  2                             | 3                              | 1                              | 349909                         | 21.0750                        |                                | S                              |\n",
       "| 13                             | 0                              | 3                              | Saundercock, Mr. William Henry | male                           | 20                             | 0                              | 0                              | A/5. 2151                      |  8.0500                        |                                | S                              |\n",
       "\n"
      ],
      "text/plain": [
       "  X.U.FEFF.PassengerId Survived Pclass Name                           Sex  Age\n",
       "1  1                   0        3      Braund, Mr. Owen Harris        male 22 \n",
       "2  5                   0        3      Allen, Mr. William Henry       male 35 \n",
       "3  6                   0        3      Moran, Mr. James               male NA \n",
       "4  7                   0        1      McCarthy, Mr. Timothy J        male 54 \n",
       "5  8                   0        3      Palsson, Master. Gosta Leonard male  2 \n",
       "6 13                   0        3      Saundercock, Mr. William Henry male 20 \n",
       "  SibSp Parch Ticket    Fare    Cabin Embarked\n",
       "1 1     0     A/5 21171  7.2500       S       \n",
       "2 0     0     373450     8.0500       S       \n",
       "3 0     0     330877     8.4583       Q       \n",
       "4 0     0     17463     51.8625 E46   S       \n",
       "5 3     1     349909    21.0750       S       \n",
       "6 0     0     A/5. 2151  8.0500       S       "
      ]
     },
     "metadata": {},
     "output_type": "display_data"
    }
   ],
   "source": [
    "head(train_df)"
   ]
  },
  {
   "cell_type": "markdown",
   "id": "1b943f9e",
   "metadata": {},
   "source": [
    "### Sex 컬럼확인"
   ]
  },
  {
   "cell_type": "code",
   "execution_count": 72,
   "id": "4f11b802",
   "metadata": {},
   "outputs": [
    {
     "data": {
      "text/html": [
       "<ol class=list-inline>\n",
       "\t<li>male</li>\n",
       "\t<li>female</li>\n",
       "</ol>\n",
       "\n",
       "<details>\n",
       "\t<summary style=display:list-item;cursor:pointer>\n",
       "\t\t<strong>Levels</strong>:\n",
       "\t</summary>\n",
       "\t<ol class=list-inline>\n",
       "\t\t<li>'female'</li>\n",
       "\t\t<li>'male'</li>\n",
       "\t</ol>\n",
       "</details>"
      ],
      "text/latex": [
       "\\begin{enumerate*}\n",
       "\\item male\n",
       "\\item female\n",
       "\\end{enumerate*}\n",
       "\n",
       "\\emph{Levels}: \\begin{enumerate*}\n",
       "\\item 'female'\n",
       "\\item 'male'\n",
       "\\end{enumerate*}\n"
      ],
      "text/markdown": [
       "1. male\n",
       "2. female\n",
       "\n",
       "\n",
       "\n",
       "**Levels**: 1. 'female'\n",
       "2. 'male'\n",
       "\n",
       "\n"
      ],
      "text/plain": [
       "[1] male   female\n",
       "Levels: female male"
      ]
     },
     "metadata": {},
     "output_type": "display_data"
    }
   ],
   "source": [
    "# Sex 컬럼 분류 확인\n",
    "unique(train_df$Sex)"
   ]
  },
  {
   "cell_type": "code",
   "execution_count": 73,
   "id": "fd304136",
   "metadata": {},
   "outputs": [
    {
     "data": {
      "text/html": [
       "314"
      ],
      "text/latex": [
       "314"
      ],
      "text/markdown": [
       "314"
      ],
      "text/plain": [
       "[1] 314"
      ]
     },
     "metadata": {},
     "output_type": "display_data"
    },
    {
     "data": {
      "text/html": [
       "577"
      ],
      "text/latex": [
       "577"
      ],
      "text/markdown": [
       "577"
      ],
      "text/plain": [
       "[1] 577"
      ]
     },
     "metadata": {},
     "output_type": "display_data"
    }
   ],
   "source": [
    "# 여성과 남성의 인원 학인\n",
    "femaleCount <- sum(train_df$Sex == 'female'); femaleCount\n",
    "maleCount <- sum(train_df$Sex == 'male'); maleCount"
   ]
  },
  {
   "cell_type": "code",
   "execution_count": 74,
   "id": "0ea2678d",
   "metadata": {},
   "outputs": [
    {
     "data": {
      "text/html": [
       "81"
      ],
      "text/latex": [
       "81"
      ],
      "text/markdown": [
       "81"
      ],
      "text/plain": [
       "[1] 81"
      ]
     },
     "metadata": {},
     "output_type": "display_data"
    },
    {
     "data": {
      "text/html": [
       "233"
      ],
      "text/latex": [
       "233"
      ],
      "text/markdown": [
       "233"
      ],
      "text/plain": [
       "[1] 233"
      ]
     },
     "metadata": {},
     "output_type": "display_data"
    }
   ],
   "source": [
    "# 여성의 생존수와 사망수\n",
    "femaleDeathCount <- sum(train_df$Sex == 'female' & train_df$Survived == 0); femaleDeathCount\n",
    "femaleSurviveCount <- sum(train_df$Sex == 'female' & train_df$Survived == 1); femaleSurviveCount"
   ]
  },
  {
   "cell_type": "code",
   "execution_count": 75,
   "id": "23414eed",
   "metadata": {},
   "outputs": [
    {
     "data": {
      "text/html": [
       "468"
      ],
      "text/latex": [
       "468"
      ],
      "text/markdown": [
       "468"
      ],
      "text/plain": [
       "[1] 468"
      ]
     },
     "metadata": {},
     "output_type": "display_data"
    },
    {
     "data": {
      "text/html": [
       "109"
      ],
      "text/latex": [
       "109"
      ],
      "text/markdown": [
       "109"
      ],
      "text/plain": [
       "[1] 109"
      ]
     },
     "metadata": {},
     "output_type": "display_data"
    }
   ],
   "source": [
    "# 남성의 생존수와 사망수\n",
    "maleDeathCount <- sum(train_df$Sex == 'male' & train_df$Survived == 0); maleDeathCount\n",
    "maleSurviveCount <- sum(train_df$Sex == 'male' & train_df$Survived == 1); maleSurviveCount"
   ]
  },
  {
   "cell_type": "code",
   "execution_count": 76,
   "id": "a7284624",
   "metadata": {},
   "outputs": [
    {
     "name": "stdout",
     "output_type": "stream",
     "text": [
      "여성의 생존율 : 74.2 % \n",
      "여성의 사망율 : 25.8 % \n"
     ]
    }
   ],
   "source": [
    "# 여성의 생존율과 사망율\n",
    "cat(\"여성의 생존율 :\",round(femaleSurviveCount / femaleCount * 100, 2), \"%\", \"\\n\")\n",
    "cat(\"여성의 사망율 :\",round(femaleDeathCount / femaleCount * 100, 2), \"%\", \"\\n\")"
   ]
  },
  {
   "cell_type": "code",
   "execution_count": 77,
   "id": "120d96df",
   "metadata": {},
   "outputs": [
    {
     "name": "stdout",
     "output_type": "stream",
     "text": [
      "남성의 생존율 : 18.89 % \n",
      "남성의 사망율 : 81.11 % \n"
     ]
    }
   ],
   "source": [
    "# 남성의 생존율과 사망률\n",
    "cat(\"남성의 생존율 :\",round(maleSurviveCount / maleCount * 100, 2), \"%\", \"\\n\")\n",
    "cat(\"남성의 사망율 :\",round(maleDeathCount / maleCount * 100, 2), \"%\", \"\\n\")"
   ]
  },
  {
   "cell_type": "markdown",
   "id": "67031e8b",
   "metadata": {},
   "source": [
    "> Sex 컬럼은 Feature로 적합\n",
    "> [Survived] <- [Sex]"
   ]
  },
  {
   "cell_type": "code",
   "execution_count": 78,
   "id": "435d0916",
   "metadata": {},
   "outputs": [
    {
     "data": {
      "image/png": "[encoded data removed]",
      "text/plain": [
       "Plot with title \"타이타닉호 여성 생존율\""
      ]
     },
     "metadata": {},
     "output_type": "display_data"
    }
   ],
   "source": [
    "# 타이타닉호 여성 생존율\n",
    "par(family = \"AppleGothic\")\n",
    "options(warn = -1)\n",
    "\n",
    "ratio = c(round(femaleDeathCount / femaleCount * 100, 2), round(femaleSurviveCount / femaleCount * 100, 2))\n",
    "label = paste(c('사망', '생존'),\"\\n\", ratio, \"%\")\n",
    "\n",
    "pie3D(ratio,\n",
    "    main = \"타이타닉호 여성 생존율\",\n",
    "    labels = label,  \n",
    "    explode = 0.05,\n",
    "    labelcex = 1,\n",
    "   )"
   ]
  },
  {
   "cell_type": "code",
   "execution_count": 79,
   "id": "a6155e89",
   "metadata": {},
   "outputs": [
    {
     "data": {
      "image/png": "[encoded data removed]",
      "text/plain": [
       "Plot with title \"타이타닉호 남성 생존율\""
      ]
     },
     "metadata": {},
     "output_type": "display_data"
    }
   ],
   "source": [
    "# 타이타닉호 남성 생존율\n",
    "\n",
    "par(family = \"AppleGothic\")\n",
    "options(warn = -1)\n",
    "\n",
    "ratio = c(round(maleDeathCount / maleCount * 100, 2), round(maleSurviveCount / maleCount * 100, 2))\n",
    "label = paste(c('사망', '생존'),\"\\n\", ratio, \"%\")\n",
    "\n",
    "pie3D(ratio,\n",
    "    main = \"타이타닉호 남성 생존율\",\n",
    "    labels = label,  \n",
    "    explode = 0.05,\n",
    "    labelcex = 1,\n",
    "   )"
   ]
  },
  {
   "cell_type": "code",
   "execution_count": 80,
   "id": "11d2c48f",
   "metadata": {},
   "outputs": [
    {
     "data": {
      "image/png": "[encoded data removed]",
      "text/plain": [
       "Plot with title \"성별 승선 인원수\""
      ]
     },
     "metadata": {},
     "output_type": "display_data"
    }
   ],
   "source": [
    "# 성별 승선 인원수\n",
    "\n",
    "par(family = \"AppleGothic\")\n",
    "\n",
    "barplot(table(train_df$Sex),\n",
    "       col = c(\"red\", \"blue\"),\n",
    "       ylim = c(0, 600),\n",
    "       ylab = \"승선인원수\",\n",
    "       names = c(\"여성\", \"남성\"),\n",
    "       main = \"성별 승선 인원수\"\n",
    "       )"
   ]
  },
  {
   "cell_type": "code",
   "execution_count": 81,
   "id": "4e7db773",
   "metadata": {},
   "outputs": [
    {
     "data": {
      "image/png": "[encoded data removed]",
      "text/plain": [
       "Plot with title \"타이타닉호 남성 생존율\""
      ]
     },
     "metadata": {},
     "output_type": "display_data"
    }
   ],
   "source": [
    "par(mfrow = c(2,2)) \n",
    "par(family = \"AppleGothic\")\n",
    "\n",
    "barplot(table(train_df$Survived),\n",
    "       main = \"타이타닉호 생존수와 사망자수\",\n",
    "       ylab = \"인원수\",\n",
    "       xlab = \"생존여부\",\n",
    "       names = c(\"사망\", \"생존\"), \n",
    "       ylim = c(0, 650),\n",
    "       col = c(\"red\", \"blue\"),\n",
    "       )\n",
    "for(i in 1:2) {    \n",
    "    d <- (0.7 + 1.2*(i-1))\n",
    "    val <- table(train_df$Survived)[i]\n",
    "    val2 <- paste(round(val / nrow(train_df) * 100, 2), \"%\")\n",
    "    text(d, val+25, val, cex=0.8)\n",
    "    text(d, 200, val2, cex =0.8 )\n",
    "}\n",
    "\n",
    "\n",
    "barplot(table(train_df$Sex),\n",
    "       col = c(\"red\", \"blue\"),\n",
    "       ylim = c(0, 650),\n",
    "       ylab = \"승선인원수\",\n",
    "       names = c(\"여성\", \"남성\"),\n",
    "       main = \"성별 승선 인원수\"\n",
    "       )\n",
    "\n",
    "for(i in 1:2) {    \n",
    "    d <- (0.7 + 1.2*(i-1))\n",
    "    val <- table(train_df$Sex)[i]\n",
    "    val2 <- paste(round(val / nrow(train_df) * 100, 2), \"%\")\n",
    "    text(d, val+25, val, cex=0.8)\n",
    "    text(d, 200, val2, cex =0.8 )\n",
    "}\n",
    "\n",
    "\n",
    "ratio = c(round(femaleDeathCount / femaleCount * 100, 2), round(femaleSurviveCount / femaleCount * 100, 2))\n",
    "label = paste(c('사망', '생존'),\"\\n\", ratio, \"%\")\n",
    "\n",
    "pie3D(ratio,\n",
    "    main = \"타이타닉호 여성 생존율\",\n",
    "    labels = label,  \n",
    "    explode = 0.05,\n",
    "    labelcex = 0.7,\n",
    "   )\n",
    "\n",
    "ratio = c(round(maleDeathCount / maleCount * 100, 2), round(maleSurviveCount / maleCount * 100, 2))\n",
    "label = paste(c('사망', '생존'),\"\\n\", ratio, \"%\")\n",
    "\n",
    "pie3D(ratio,\n",
    "    main = \"타이타닉호 남성 생존율\",\n",
    "    labels = label,  \n",
    "    explode = 0.05,\n",
    "    labelcex = 0.7,\n",
    "   )"
   ]
  },
  {
   "cell_type": "code",
   "execution_count": 82,
   "id": "7b328e03",
   "metadata": {},
   "outputs": [
    {
     "data": {
      "text/html": [
       "<table>\n",
       "<thead><tr><th scope=col>X.U.FEFF.PassengerId</th><th scope=col>Survived</th><th scope=col>Pclass</th><th scope=col>Name</th><th scope=col>Sex</th><th scope=col>Age</th><th scope=col>SibSp</th><th scope=col>Parch</th><th scope=col>Ticket</th><th scope=col>Fare</th><th scope=col>Cabin</th><th scope=col>Embarked</th></tr></thead>\n",
       "<tbody>\n",
       "\t<tr><td> 1                            </td><td>0                             </td><td>3                             </td><td>Braund, Mr. Owen Harris       </td><td>male                          </td><td>22                            </td><td>1                             </td><td>0                             </td><td>A/5 21171                     </td><td> 7.2500                       </td><td>                              </td><td>S                             </td></tr>\n",
       "\t<tr><td> 5                            </td><td>0                             </td><td>3                             </td><td>Allen, Mr. William Henry      </td><td>male                          </td><td>35                            </td><td>0                             </td><td>0                             </td><td>373450                        </td><td> 8.0500                       </td><td>                              </td><td>S                             </td></tr>\n",
       "\t<tr><td> 6                            </td><td>0                             </td><td>3                             </td><td>Moran, Mr. James              </td><td>male                          </td><td>NA                            </td><td>0                             </td><td>0                             </td><td>330877                        </td><td> 8.4583                       </td><td>                              </td><td>Q                             </td></tr>\n",
       "\t<tr><td> 7                            </td><td>0                             </td><td>1                             </td><td>McCarthy, Mr. Timothy J       </td><td>male                          </td><td>54                            </td><td>0                             </td><td>0                             </td><td>17463                         </td><td>51.8625                       </td><td>E46                           </td><td>S                             </td></tr>\n",
       "\t<tr><td> 8                            </td><td>0                             </td><td>3                             </td><td>Palsson, Master. Gosta Leonard</td><td>male                          </td><td> 2                            </td><td>3                             </td><td>1                             </td><td>349909                        </td><td>21.0750                       </td><td>                              </td><td>S                             </td></tr>\n",
       "\t<tr><td>13                            </td><td>0                             </td><td>3                             </td><td>Saundercock, Mr. William Henry</td><td>male                          </td><td>20                            </td><td>0                             </td><td>0                             </td><td>A/5. 2151                     </td><td> 8.0500                       </td><td>                              </td><td>S                             </td></tr>\n",
       "</tbody>\n",
       "</table>\n"
      ],
      "text/latex": [
       "\\begin{tabular}{r|llllllllllll}\n",
       " X.U.FEFF.PassengerId & Survived & Pclass & Name & Sex & Age & SibSp & Parch & Ticket & Fare & Cabin & Embarked\\\\\n",
       "\\hline\n",
       "\t  1                             & 0                              & 3                              & Braund, Mr. Owen Harris        & male                           & 22                             & 1                              & 0                              & A/5 21171                      &  7.2500                        &                                & S                             \\\\\n",
       "\t  5                             & 0                              & 3                              & Allen, Mr. William Henry       & male                           & 35                             & 0                              & 0                              & 373450                         &  8.0500                        &                                & S                             \\\\\n",
       "\t  6                             & 0                              & 3                              & Moran, Mr. James               & male                           & NA                             & 0                              & 0                              & 330877                         &  8.4583                        &                                & Q                             \\\\\n",
       "\t  7                             & 0                              & 1                              & McCarthy, Mr. Timothy J        & male                           & 54                             & 0                              & 0                              & 17463                          & 51.8625                        & E46                            & S                             \\\\\n",
       "\t  8                             & 0                              & 3                              & Palsson, Master. Gosta Leonard & male                           &  2                             & 3                              & 1                              & 349909                         & 21.0750                        &                                & S                             \\\\\n",
       "\t 13                             & 0                              & 3                              & Saundercock, Mr. William Henry & male                           & 20                             & 0                              & 0                              & A/5. 2151                      &  8.0500                        &                                & S                             \\\\\n",
       "\\end{tabular}\n"
      ],
      "text/markdown": [
       "\n",
       "| X.U.FEFF.PassengerId | Survived | Pclass | Name | Sex | Age | SibSp | Parch | Ticket | Fare | Cabin | Embarked |\n",
       "|---|---|---|---|---|---|---|---|---|---|---|---|\n",
       "|  1                             | 0                              | 3                              | Braund, Mr. Owen Harris        | male                           | 22                             | 1                              | 0                              | A/5 21171                      |  7.2500                        |                                | S                              |\n",
       "|  5                             | 0                              | 3                              | Allen, Mr. William Henry       | male                           | 35                             | 0                              | 0                              | 373450                         |  8.0500                        |                                | S                              |\n",
       "|  6                             | 0                              | 3                              | Moran, Mr. James               | male                           | NA                             | 0                              | 0                              | 330877                         |  8.4583                        |                                | Q                              |\n",
       "|  7                             | 0                              | 1                              | McCarthy, Mr. Timothy J        | male                           | 54                             | 0                              | 0                              | 17463                          | 51.8625                        | E46                            | S                              |\n",
       "|  8                             | 0                              | 3                              | Palsson, Master. Gosta Leonard | male                           |  2                             | 3                              | 1                              | 349909                         | 21.0750                        |                                | S                              |\n",
       "| 13                             | 0                              | 3                              | Saundercock, Mr. William Henry | male                           | 20                             | 0                              | 0                              | A/5. 2151                      |  8.0500                        |                                | S                              |\n",
       "\n"
      ],
      "text/plain": [
       "  X.U.FEFF.PassengerId Survived Pclass Name                           Sex  Age\n",
       "1  1                   0        3      Braund, Mr. Owen Harris        male 22 \n",
       "2  5                   0        3      Allen, Mr. William Henry       male 35 \n",
       "3  6                   0        3      Moran, Mr. James               male NA \n",
       "4  7                   0        1      McCarthy, Mr. Timothy J        male 54 \n",
       "5  8                   0        3      Palsson, Master. Gosta Leonard male  2 \n",
       "6 13                   0        3      Saundercock, Mr. William Henry male 20 \n",
       "  SibSp Parch Ticket    Fare    Cabin Embarked\n",
       "1 1     0     A/5 21171  7.2500       S       \n",
       "2 0     0     373450     8.0500       S       \n",
       "3 0     0     330877     8.4583       Q       \n",
       "4 0     0     17463     51.8625 E46   S       \n",
       "5 3     1     349909    21.0750       S       \n",
       "6 0     0     A/5. 2151  8.0500       S       "
      ]
     },
     "metadata": {},
     "output_type": "display_data"
    }
   ],
   "source": [
    "head(train_df)"
   ]
  },
  {
   "cell_type": "markdown",
   "id": "e160c038",
   "metadata": {},
   "source": [
    "## 티켓 등급 분석"
   ]
  },
  {
   "cell_type": "code",
   "execution_count": 83,
   "id": "18242aae",
   "metadata": {},
   "outputs": [
    {
     "data": {
      "text/plain": [
       "\n",
       "  1   2   3 \n",
       "216 184 491 "
      ]
     },
     "metadata": {},
     "output_type": "display_data"
    }
   ],
   "source": [
    "table(train_df$Pclass)"
   ]
  },
  {
   "cell_type": "code",
   "execution_count": 84,
   "id": "0b14d322",
   "metadata": {},
   "outputs": [
    {
     "name": "stdout",
     "output_type": "stream",
     "text": [
      "1등 객실의 여성 생존율은  91 / 94 , 96.81 %"
     ]
    }
   ],
   "source": [
    "# 1등 객실의 여성 생존율\n",
    "\n",
    "firstFemaleSurvive <- nrow(subset(train_df, Sex == 'female' & Pclass == 1 & Survived == 1))\n",
    "firstFemaleSDeath <- nrow(subset(train_df, Sex == 'female' & Pclass == 1 & Survived == 0))\n",
    "firstFemale <- firstFemaleSurvive + firstFemaleSDeath\n",
    "\n",
    "cat(\"1등 객실의 여성 생존율은 \", firstFemaleSurvive, \"/\",firstFemale, \",\", round(firstFemaleSurvive/firstFemale * 100, 2), \"%\")"
   ]
  },
  {
   "cell_type": "code",
   "execution_count": 85,
   "id": "9b9127b6",
   "metadata": {},
   "outputs": [
    {
     "name": "stdout",
     "output_type": "stream",
     "text": [
      "1 등 객실의 여성 생존율은 91 /94 , 96.81 % \n",
      "2 등 객실의 여성 생존율은 70 /76 , 92.11 % \n",
      "3 등 객실의 여성 생존율은 72 /144 , 50 % \n",
      "--------------------------------------------\n",
      "1 등 객실의 남성 생존율은 45 /122 , 36.89 % \n",
      "2 등 객실의 남성 생존율은 17 /108 , 15.74 % \n",
      "3 등 객실의 남성 생존율은 47 /347 , 13.54 % \n",
      "--------------------------------------------\n"
     ]
    }
   ],
   "source": [
    "sex <- c(\"female\", \"male\")\n",
    "sex2 <- c(\"여성\", \"남성\")\n",
    "surv <- c()\n",
    "for(j in 1:2) {\n",
    "    for(i  in 1:3) {\n",
    "        cat(i, \"등 객실의\",sex2[j], \"생존율은 \")\n",
    "        cat(sum(train_df$Pclass == i & train_df$Survived == 1 & train_df$Sex == sex[j]), \"/\")\n",
    "        cat(sum(train_df$Pclass == i & train_df$Sex == sex[j]), \", \")\n",
    "        cat(round(sum(train_df$Pclass == i & train_df$Survived == 1 & train_df$Sex == sex[j]) /\n",
    "              sum(train_df$Pclass == i & train_df$Sex == sex[j]) * 100, 2), \"%\", \"\\n\")\n",
    "        surv = append(surv, round(sum(train_df$Pclass == i & train_df$Survived == 1 & train_df$Sex == sex[j]) /\n",
    "              sum(train_df$Pclass == i & train_df$Sex == sex[j]) * 100, 2))\n",
    "\n",
    "    }\n",
    "    cat('--------------------------------------------\\n')\n",
    "}"
   ]
  },
  {
   "cell_type": "code",
   "execution_count": 86,
   "id": "0a37d8b8",
   "metadata": {},
   "outputs": [
    {
     "data": {
      "image/png": "[encoded data removed]",
      "text/plain": [
       "Plot with title \"객실 등급별 생존률\""
      ]
     },
     "metadata": {},
     "output_type": "display_data"
    }
   ],
   "source": [
    "# 객실 등급별 생존율\n",
    "\n",
    "par(family = \"AppleGothic\")\n",
    "\n",
    "barplot(surv,\n",
    "       ylim = c(0,100),\n",
    "       ylab = \"생존율\",\n",
    "       main = \"객실 등급별 생존률\",\n",
    "       border = c(rep('red', 3), rep('blue', 3)),\n",
    "       density = c(rep(10, 3), rep(100, 3)),\n",
    "       xlab = \"객실 등급\",\n",
    "       names = c(\"1객실(여)\",\"\",\"3객실(여)\", \"\", \"2객실(남)\", \"\")\n",
    "       )\n",
    "\n",
    "\n",
    "for(i in 1:length(surv)) {    \n",
    "    d <- (0.7 + 1.2*(i-1))\n",
    "    height <- surv[i] - 3\n",
    "    val <- paste(surv[i], \"%\")\n",
    "    text(d, height, val, cex=0.8)\n",
    "}"
   ]
  },
  {
   "cell_type": "markdown",
   "id": "9b4ae135",
   "metadata": {},
   "source": [
    "> [Survived] <- [Sex, Pclass]"
   ]
  },
  {
   "cell_type": "code",
   "execution_count": 87,
   "id": "ece47732",
   "metadata": {},
   "outputs": [
    {
     "data": {
      "text/html": [
       "<table>\n",
       "<thead><tr><th scope=col>X.U.FEFF.PassengerId</th><th scope=col>Survived</th><th scope=col>Pclass</th><th scope=col>Name</th><th scope=col>Sex</th><th scope=col>Age</th><th scope=col>SibSp</th><th scope=col>Parch</th><th scope=col>Ticket</th><th scope=col>Fare</th><th scope=col>Cabin</th><th scope=col>Embarked</th></tr></thead>\n",
       "<tbody>\n",
       "\t<tr><td> 1                            </td><td>0                             </td><td>3                             </td><td>Braund, Mr. Owen Harris       </td><td>male                          </td><td>22                            </td><td>1                             </td><td>0                             </td><td>A/5 21171                     </td><td> 7.2500                       </td><td>                              </td><td>S                             </td></tr>\n",
       "\t<tr><td> 5                            </td><td>0                             </td><td>3                             </td><td>Allen, Mr. William Henry      </td><td>male                          </td><td>35                            </td><td>0                             </td><td>0                             </td><td>373450                        </td><td> 8.0500                       </td><td>                              </td><td>S                             </td></tr>\n",
       "\t<tr><td> 6                            </td><td>0                             </td><td>3                             </td><td>Moran, Mr. James              </td><td>male                          </td><td>NA                            </td><td>0                             </td><td>0                             </td><td>330877                        </td><td> 8.4583                       </td><td>                              </td><td>Q                             </td></tr>\n",
       "\t<tr><td> 7                            </td><td>0                             </td><td>1                             </td><td>McCarthy, Mr. Timothy J       </td><td>male                          </td><td>54                            </td><td>0                             </td><td>0                             </td><td>17463                         </td><td>51.8625                       </td><td>E46                           </td><td>S                             </td></tr>\n",
       "\t<tr><td> 8                            </td><td>0                             </td><td>3                             </td><td>Palsson, Master. Gosta Leonard</td><td>male                          </td><td> 2                            </td><td>3                             </td><td>1                             </td><td>349909                        </td><td>21.0750                       </td><td>                              </td><td>S                             </td></tr>\n",
       "\t<tr><td>13                            </td><td>0                             </td><td>3                             </td><td>Saundercock, Mr. William Henry</td><td>male                          </td><td>20                            </td><td>0                             </td><td>0                             </td><td>A/5. 2151                     </td><td> 8.0500                       </td><td>                              </td><td>S                             </td></tr>\n",
       "</tbody>\n",
       "</table>\n"
      ],
      "text/latex": [
       "\\begin{tabular}{r|llllllllllll}\n",
       " X.U.FEFF.PassengerId & Survived & Pclass & Name & Sex & Age & SibSp & Parch & Ticket & Fare & Cabin & Embarked\\\\\n",
       "\\hline\n",
       "\t  1                             & 0                              & 3                              & Braund, Mr. Owen Harris        & male                           & 22                             & 1                              & 0                              & A/5 21171                      &  7.2500                        &                                & S                             \\\\\n",
       "\t  5                             & 0                              & 3                              & Allen, Mr. William Henry       & male                           & 35                             & 0                              & 0                              & 373450                         &  8.0500                        &                                & S                             \\\\\n",
       "\t  6                             & 0                              & 3                              & Moran, Mr. James               & male                           & NA                             & 0                              & 0                              & 330877                         &  8.4583                        &                                & Q                             \\\\\n",
       "\t  7                             & 0                              & 1                              & McCarthy, Mr. Timothy J        & male                           & 54                             & 0                              & 0                              & 17463                          & 51.8625                        & E46                            & S                             \\\\\n",
       "\t  8                             & 0                              & 3                              & Palsson, Master. Gosta Leonard & male                           &  2                             & 3                              & 1                              & 349909                         & 21.0750                        &                                & S                             \\\\\n",
       "\t 13                             & 0                              & 3                              & Saundercock, Mr. William Henry & male                           & 20                             & 0                              & 0                              & A/5. 2151                      &  8.0500                        &                                & S                             \\\\\n",
       "\\end{tabular}\n"
      ],
      "text/markdown": [
       "\n",
       "| X.U.FEFF.PassengerId | Survived | Pclass | Name | Sex | Age | SibSp | Parch | Ticket | Fare | Cabin | Embarked |\n",
       "|---|---|---|---|---|---|---|---|---|---|---|---|\n",
       "|  1                             | 0                              | 3                              | Braund, Mr. Owen Harris        | male                           | 22                             | 1                              | 0                              | A/5 21171                      |  7.2500                        |                                | S                              |\n",
       "|  5                             | 0                              | 3                              | Allen, Mr. William Henry       | male                           | 35                             | 0                              | 0                              | 373450                         |  8.0500                        |                                | S                              |\n",
       "|  6                             | 0                              | 3                              | Moran, Mr. James               | male                           | NA                             | 0                              | 0                              | 330877                         |  8.4583                        |                                | Q                              |\n",
       "|  7                             | 0                              | 1                              | McCarthy, Mr. Timothy J        | male                           | 54                             | 0                              | 0                              | 17463                          | 51.8625                        | E46                            | S                              |\n",
       "|  8                             | 0                              | 3                              | Palsson, Master. Gosta Leonard | male                           |  2                             | 3                              | 1                              | 349909                         | 21.0750                        |                                | S                              |\n",
       "| 13                             | 0                              | 3                              | Saundercock, Mr. William Henry | male                           | 20                             | 0                              | 0                              | A/5. 2151                      |  8.0500                        |                                | S                              |\n",
       "\n"
      ],
      "text/plain": [
       "  X.U.FEFF.PassengerId Survived Pclass Name                           Sex  Age\n",
       "1  1                   0        3      Braund, Mr. Owen Harris        male 22 \n",
       "2  5                   0        3      Allen, Mr. William Henry       male 35 \n",
       "3  6                   0        3      Moran, Mr. James               male NA \n",
       "4  7                   0        1      McCarthy, Mr. Timothy J        male 54 \n",
       "5  8                   0        3      Palsson, Master. Gosta Leonard male  2 \n",
       "6 13                   0        3      Saundercock, Mr. William Henry male 20 \n",
       "  SibSp Parch Ticket    Fare    Cabin Embarked\n",
       "1 1     0     A/5 21171  7.2500       S       \n",
       "2 0     0     373450     8.0500       S       \n",
       "3 0     0     330877     8.4583       Q       \n",
       "4 0     0     17463     51.8625 E46   S       \n",
       "5 3     1     349909    21.0750       S       \n",
       "6 0     0     A/5. 2151  8.0500       S       "
      ]
     },
     "metadata": {},
     "output_type": "display_data"
    }
   ],
   "source": [
    "head(train_df)"
   ]
  },
  {
   "cell_type": "markdown",
   "id": "e5061e7c",
   "metadata": {},
   "source": [
    "---\n",
    "### Embarked(항구의 위치)"
   ]
  },
  {
   "cell_type": "code",
   "execution_count": 88,
   "id": "32521ff4",
   "metadata": {},
   "outputs": [
    {
     "name": "stdout",
     "output_type": "stream",
     "text": [
      "'data.frame':\t891 obs. of  12 variables:\n",
      " $ X.U.FEFF.PassengerId: int  1 5 6 7 8 13 14 15 17 19 ...\n",
      " $ Survived            : int  0 0 0 0 0 0 0 0 0 0 ...\n",
      " $ Pclass              : int  3 3 3 1 3 3 3 3 3 3 ...\n",
      " $ Name                : Factor w/ 891 levels \"Abbing, Mr. Anthony\",..: 109 16 559 520 629 734 29 847 687 846 ...\n",
      " $ Sex                 : Factor w/ 2 levels \"female\",\"male\": 2 2 2 2 2 2 2 1 2 1 ...\n",
      " $ Age                 : num  22 35 NA 54 2 20 39 14 2 31 ...\n",
      " $ SibSp               : int  1 0 0 0 3 0 1 0 4 1 ...\n",
      " $ Parch               : int  0 0 0 0 1 0 5 0 1 0 ...\n",
      " $ Ticket              : Factor w/ 681 levels \"110152\",\"110413\",..: 524 473 276 86 396 536 334 414 481 302 ...\n",
      " $ Fare                : num  7.25 8.05 8.46 51.86 21.07 ...\n",
      " $ Cabin               : Factor w/ 148 levels \"\",\"A10\",\"A14\",..: 1 1 1 131 1 1 1 1 1 1 ...\n",
      " $ Embarked            : Factor w/ 4 levels \"\",\"C\",\"Q\",\"S\": 4 4 3 4 4 4 4 4 3 4 ...\n"
     ]
    }
   ],
   "source": [
    "str(train_df)"
   ]
  },
  {
   "cell_type": "code",
   "execution_count": 89,
   "id": "a0078dcc",
   "metadata": {},
   "outputs": [
    {
     "data": {
      "text/plain": [
       "\n",
       "      C   Q   S \n",
       "  2 168  77 644 "
      ]
     },
     "metadata": {},
     "output_type": "display_data"
    }
   ],
   "source": [
    "table(train_df$Embarked)"
   ]
  },
  {
   "cell_type": "code",
   "execution_count": 90,
   "id": "51b1dcfa",
   "metadata": {},
   "outputs": [
    {
     "data": {
      "text/html": [
       "<ol class=list-inline>\n",
       "\t<li>S</li>\n",
       "\t<li>Q</li>\n",
       "\t<li>C</li>\n",
       "\t<li></li>\n",
       "</ol>\n",
       "\n",
       "<details>\n",
       "\t<summary style=display:list-item;cursor:pointer>\n",
       "\t\t<strong>Levels</strong>:\n",
       "\t</summary>\n",
       "\t<ol class=list-inline>\n",
       "\t\t<li>''</li>\n",
       "\t\t<li>'C'</li>\n",
       "\t\t<li>'Q'</li>\n",
       "\t\t<li>'S'</li>\n",
       "\t</ol>\n",
       "</details>"
      ],
      "text/latex": [
       "\\begin{enumerate*}\n",
       "\\item S\n",
       "\\item Q\n",
       "\\item C\n",
       "\\item \n",
       "\\end{enumerate*}\n",
       "\n",
       "\\emph{Levels}: \\begin{enumerate*}\n",
       "\\item ''\n",
       "\\item 'C'\n",
       "\\item 'Q'\n",
       "\\item 'S'\n",
       "\\end{enumerate*}\n"
      ],
      "text/markdown": [
       "1. S\n",
       "2. Q\n",
       "3. C\n",
       "4. \n",
       "\n",
       "\n",
       "\n",
       "**Levels**: 1. ''\n",
       "2. 'C'\n",
       "3. 'Q'\n",
       "4. 'S'\n",
       "\n",
       "\n"
      ],
      "text/plain": [
       "[1] S Q C  \n",
       "Levels:  C Q S"
      ]
     },
     "metadata": {},
     "output_type": "display_data"
    }
   ],
   "source": [
    "unique(train_df$Embarked)"
   ]
  },
  {
   "cell_type": "code",
   "execution_count": 91,
   "id": "8e6de0d8",
   "metadata": {},
   "outputs": [
    {
     "data": {
      "text/html": [
       "<table>\n",
       "<thead><tr><th></th><th scope=col>X.U.FEFF.PassengerId</th><th scope=col>Survived</th><th scope=col>Pclass</th><th scope=col>Name</th><th scope=col>Sex</th><th scope=col>Age</th><th scope=col>SibSp</th><th scope=col>Parch</th><th scope=col>Ticket</th><th scope=col>Fare</th><th scope=col>Cabin</th><th scope=col>Embarked</th></tr></thead>\n",
       "<tbody>\n",
       "\t<tr><th scope=row>577</th><td> 62                                      </td><td>1                                        </td><td>1                                        </td><td>Icard, Miss. Amelie                      </td><td>female                                   </td><td>38                                       </td><td>0                                        </td><td>0                                        </td><td>113572                                   </td><td>80                                       </td><td>B28                                      </td><td>                                         </td></tr>\n",
       "\t<tr><th scope=row>868</th><td>830                                      </td><td>1                                        </td><td>1                                        </td><td>Stone, Mrs. George Nelson (Martha Evelyn)</td><td>female                                   </td><td>62                                       </td><td>0                                        </td><td>0                                        </td><td>113572                                   </td><td>80                                       </td><td>B28                                      </td><td>                                         </td></tr>\n",
       "</tbody>\n",
       "</table>\n"
      ],
      "text/latex": [
       "\\begin{tabular}{r|llllllllllll}\n",
       "  & X.U.FEFF.PassengerId & Survived & Pclass & Name & Sex & Age & SibSp & Parch & Ticket & Fare & Cabin & Embarked\\\\\n",
       "\\hline\n",
       "\t577 &  62                                       & 1                                         & 1                                         & Icard, Miss. Amelie                       & female                                    & 38                                        & 0                                         & 0                                         & 113572                                    & 80                                        & B28                                       &                                          \\\\\n",
       "\t868 & 830                                       & 1                                         & 1                                         & Stone, Mrs. George Nelson (Martha Evelyn) & female                                    & 62                                        & 0                                         & 0                                         & 113572                                    & 80                                        & B28                                       &                                          \\\\\n",
       "\\end{tabular}\n"
      ],
      "text/markdown": [
       "\n",
       "| <!--/--> | X.U.FEFF.PassengerId | Survived | Pclass | Name | Sex | Age | SibSp | Parch | Ticket | Fare | Cabin | Embarked |\n",
       "|---|---|---|---|---|---|---|---|---|---|---|---|---|\n",
       "| 577 |  62                                       | 1                                         | 1                                         | Icard, Miss. Amelie                       | female                                    | 38                                        | 0                                         | 0                                         | 113572                                    | 80                                        | B28                                       |                                           |\n",
       "| 868 | 830                                       | 1                                         | 1                                         | Stone, Mrs. George Nelson (Martha Evelyn) | female                                    | 62                                        | 0                                         | 0                                         | 113572                                    | 80                                        | B28                                       |                                           |\n",
       "\n"
      ],
      "text/plain": [
       "    X.U.FEFF.PassengerId Survived Pclass\n",
       "577  62                  1        1     \n",
       "868 830                  1        1     \n",
       "    Name                                      Sex    Age SibSp Parch Ticket\n",
       "577 Icard, Miss. Amelie                       female 38  0     0     113572\n",
       "868 Stone, Mrs. George Nelson (Martha Evelyn) female 62  0     0     113572\n",
       "    Fare Cabin Embarked\n",
       "577 80   B28           \n",
       "868 80   B28           "
      ]
     },
     "metadata": {},
     "output_type": "display_data"
    }
   ],
   "source": [
    "# 빈칸의 데이터 찾기\n",
    "subset(train_df, Embarked == \"\")"
   ]
  },
  {
   "cell_type": "code",
   "execution_count": 92,
   "id": "5ee141e4",
   "metadata": {},
   "outputs": [
    {
     "data": {
      "text/html": [
       "<table>\n",
       "<thead><tr><th></th><th scope=col>X.U.FEFF.PassengerId</th><th scope=col>Survived</th><th scope=col>Pclass</th><th scope=col>Name</th><th scope=col>Sex</th><th scope=col>Age</th><th scope=col>SibSp</th><th scope=col>Parch</th><th scope=col>Ticket</th><th scope=col>Fare</th><th scope=col>Cabin</th><th scope=col>Embarked</th></tr></thead>\n",
       "<tbody>\n",
       "\t<tr><th scope=row>639</th><td>259                               </td><td>1                                 </td><td>1                                 </td><td>Ward, Miss. Anna                  </td><td>female                            </td><td>35                                </td><td>0                                 </td><td>0                                 </td><td>PC 17755                          </td><td>512.3292                          </td><td>                                  </td><td>C                                 </td></tr>\n",
       "\t<tr><th scope=row>814</th><td>680                               </td><td>1                                 </td><td>1                                 </td><td>Cardeza, Mr. Thomas Drake Martinez</td><td>male                              </td><td>36                                </td><td>0                                 </td><td>1                                 </td><td>PC 17755                          </td><td>512.3292                          </td><td>B51 B53 B55                       </td><td>C                                 </td></tr>\n",
       "\t<tr><th scope=row>836</th><td>738                               </td><td>1                                 </td><td>1                                 </td><td>Lesurer, Mr. Gustave J            </td><td>male                              </td><td>35                                </td><td>0                                 </td><td>0                                 </td><td>PC 17755                          </td><td>512.3292                          </td><td>B101                              </td><td>C                                 </td></tr>\n",
       "</tbody>\n",
       "</table>\n"
      ],
      "text/latex": [
       "\\begin{tabular}{r|llllllllllll}\n",
       "  & X.U.FEFF.PassengerId & Survived & Pclass & Name & Sex & Age & SibSp & Parch & Ticket & Fare & Cabin & Embarked\\\\\n",
       "\\hline\n",
       "\t639 & 259                                & 1                                  & 1                                  & Ward, Miss. Anna                   & female                             & 35                                 & 0                                  & 0                                  & PC 17755                           & 512.3292                           &                                    & C                                 \\\\\n",
       "\t814 & 680                                & 1                                  & 1                                  & Cardeza, Mr. Thomas Drake Martinez & male                               & 36                                 & 0                                  & 1                                  & PC 17755                           & 512.3292                           & B51 B53 B55                        & C                                 \\\\\n",
       "\t836 & 738                                & 1                                  & 1                                  & Lesurer, Mr. Gustave J             & male                               & 35                                 & 0                                  & 0                                  & PC 17755                           & 512.3292                           & B101                               & C                                 \\\\\n",
       "\\end{tabular}\n"
      ],
      "text/markdown": [
       "\n",
       "| <!--/--> | X.U.FEFF.PassengerId | Survived | Pclass | Name | Sex | Age | SibSp | Parch | Ticket | Fare | Cabin | Embarked |\n",
       "|---|---|---|---|---|---|---|---|---|---|---|---|---|\n",
       "| 639 | 259                                | 1                                  | 1                                  | Ward, Miss. Anna                   | female                             | 35                                 | 0                                  | 0                                  | PC 17755                           | 512.3292                           |                                    | C                                  |\n",
       "| 814 | 680                                | 1                                  | 1                                  | Cardeza, Mr. Thomas Drake Martinez | male                               | 36                                 | 0                                  | 1                                  | PC 17755                           | 512.3292                           | B51 B53 B55                        | C                                  |\n",
       "| 836 | 738                                | 1                                  | 1                                  | Lesurer, Mr. Gustave J             | male                               | 35                                 | 0                                  | 0                                  | PC 17755                           | 512.3292                           | B101                               | C                                  |\n",
       "\n"
      ],
      "text/plain": [
       "    X.U.FEFF.PassengerId Survived Pclass Name                              \n",
       "639 259                  1        1      Ward, Miss. Anna                  \n",
       "814 680                  1        1      Cardeza, Mr. Thomas Drake Martinez\n",
       "836 738                  1        1      Lesurer, Mr. Gustave J            \n",
       "    Sex    Age SibSp Parch Ticket   Fare     Cabin       Embarked\n",
       "639 female 35  0     0     PC 17755 512.3292             C       \n",
       "814 male   36  0     1     PC 17755 512.3292 B51 B53 B55 C       \n",
       "836 male   35  0     0     PC 17755 512.3292 B101        C       "
      ]
     },
     "metadata": {},
     "output_type": "display_data"
    }
   ],
   "source": [
    "# 제일 많은 운임을 지불한 사람\n",
    "subset(train_df, Fare == max(train_df$Fare))"
   ]
  },
  {
   "cell_type": "code",
   "execution_count": 93,
   "id": "42abb815",
   "metadata": {},
   "outputs": [
    {
     "data": {
      "text/html": [
       "32.2042079685746"
      ],
      "text/latex": [
       "32.2042079685746"
      ],
      "text/markdown": [
       "32.2042079685746"
      ],
      "text/plain": [
       "[1] 32.20421"
      ]
     },
     "metadata": {},
     "output_type": "display_data"
    }
   ],
   "source": [
    "mean(train_df$Fare)"
   ]
  },
  {
   "cell_type": "code",
   "execution_count": 94,
   "id": "94c1c9b7",
   "metadata": {},
   "outputs": [
    {
     "data": {
      "text/html": [
       "644"
      ],
      "text/latex": [
       "644"
      ],
      "text/markdown": [
       "644"
      ],
      "text/plain": [
       "[1] 644"
      ]
     },
     "metadata": {},
     "output_type": "display_data"
    },
    {
     "data": {
      "text/html": [
       "168"
      ],
      "text/latex": [
       "168"
      ],
      "text/markdown": [
       "168"
      ],
      "text/plain": [
       "[1] 168"
      ]
     },
     "metadata": {},
     "output_type": "display_data"
    },
    {
     "data": {
      "text/html": [
       "77"
      ],
      "text/latex": [
       "77"
      ],
      "text/markdown": [
       "77"
      ],
      "text/plain": [
       "[1] 77"
      ]
     },
     "metadata": {},
     "output_type": "display_data"
    },
    {
     "data": {
      "text/plain": [
       "\n",
       "      C   Q   S \n",
       "  2 168  77 644 "
      ]
     },
     "metadata": {},
     "output_type": "display_data"
    }
   ],
   "source": [
    "# 항구별 탑습인원을 구하여 가장 많은 탑승인원의 항구로 결정\n",
    "\n",
    "# S항구 탑습인원\n",
    "sum(train_df$Embarked == 'S')\n",
    "\n",
    "# C항구 탑습인원\n",
    "sum(train_df$Embarked == 'C')\n",
    "\n",
    "# Q항구 탑습인원\n",
    "sum(train_df$Embarked == 'Q')\n",
    "\n",
    "table(train_df$Embarked)"
   ]
  },
  {
   "cell_type": "markdown",
   "id": "89081224",
   "metadata": {},
   "source": [
    "> 빈값 항구를 S항구로 변경"
   ]
  },
  {
   "cell_type": "code",
   "execution_count": 95,
   "id": "336cb192",
   "metadata": {},
   "outputs": [],
   "source": [
    "# 연습을 위한 데이터셋 복제\n",
    "train_df_T <- train_df"
   ]
  },
  {
   "cell_type": "code",
   "execution_count": 96,
   "id": "c3bbe21c",
   "metadata": {},
   "outputs": [
    {
     "data": {
      "text/html": [
       "<table>\n",
       "<thead><tr><th></th><th scope=col>X.U.FEFF.PassengerId</th><th scope=col>Survived</th><th scope=col>Pclass</th><th scope=col>Name</th><th scope=col>Sex</th><th scope=col>Age</th><th scope=col>SibSp</th><th scope=col>Parch</th><th scope=col>Ticket</th><th scope=col>Fare</th><th scope=col>Cabin</th><th scope=col>Embarked</th></tr></thead>\n",
       "<tbody>\n",
       "\t<tr><th scope=row>577</th><td> 62                                      </td><td>1                                        </td><td>1                                        </td><td>Icard, Miss. Amelie                      </td><td>female                                   </td><td>38                                       </td><td>0                                        </td><td>0                                        </td><td>113572                                   </td><td>80                                       </td><td>B28                                      </td><td>                                         </td></tr>\n",
       "\t<tr><th scope=row>868</th><td>830                                      </td><td>1                                        </td><td>1                                        </td><td>Stone, Mrs. George Nelson (Martha Evelyn)</td><td>female                                   </td><td>62                                       </td><td>0                                        </td><td>0                                        </td><td>113572                                   </td><td>80                                       </td><td>B28                                      </td><td>                                         </td></tr>\n",
       "</tbody>\n",
       "</table>\n"
      ],
      "text/latex": [
       "\\begin{tabular}{r|llllllllllll}\n",
       "  & X.U.FEFF.PassengerId & Survived & Pclass & Name & Sex & Age & SibSp & Parch & Ticket & Fare & Cabin & Embarked\\\\\n",
       "\\hline\n",
       "\t577 &  62                                       & 1                                         & 1                                         & Icard, Miss. Amelie                       & female                                    & 38                                        & 0                                         & 0                                         & 113572                                    & 80                                        & B28                                       &                                          \\\\\n",
       "\t868 & 830                                       & 1                                         & 1                                         & Stone, Mrs. George Nelson (Martha Evelyn) & female                                    & 62                                        & 0                                         & 0                                         & 113572                                    & 80                                        & B28                                       &                                          \\\\\n",
       "\\end{tabular}\n"
      ],
      "text/markdown": [
       "\n",
       "| <!--/--> | X.U.FEFF.PassengerId | Survived | Pclass | Name | Sex | Age | SibSp | Parch | Ticket | Fare | Cabin | Embarked |\n",
       "|---|---|---|---|---|---|---|---|---|---|---|---|---|\n",
       "| 577 |  62                                       | 1                                         | 1                                         | Icard, Miss. Amelie                       | female                                    | 38                                        | 0                                         | 0                                         | 113572                                    | 80                                        | B28                                       |                                           |\n",
       "| 868 | 830                                       | 1                                         | 1                                         | Stone, Mrs. George Nelson (Martha Evelyn) | female                                    | 62                                        | 0                                         | 0                                         | 113572                                    | 80                                        | B28                                       |                                           |\n",
       "\n"
      ],
      "text/plain": [
       "    X.U.FEFF.PassengerId Survived Pclass\n",
       "577  62                  1        1     \n",
       "868 830                  1        1     \n",
       "    Name                                      Sex    Age SibSp Parch Ticket\n",
       "577 Icard, Miss. Amelie                       female 38  0     0     113572\n",
       "868 Stone, Mrs. George Nelson (Martha Evelyn) female 62  0     0     113572\n",
       "    Fare Cabin Embarked\n",
       "577 80   B28           \n",
       "868 80   B28           "
      ]
     },
     "metadata": {},
     "output_type": "display_data"
    }
   ],
   "source": [
    "# 빈칸 항구 찾기 - 1\n",
    "subset(train_df_T, Embarked == \"\")"
   ]
  },
  {
   "cell_type": "code",
   "execution_count": 97,
   "id": "19695760",
   "metadata": {},
   "outputs": [
    {
     "data": {
      "text/html": [
       "<table>\n",
       "<thead><tr><th></th><th scope=col>X.U.FEFF.PassengerId</th><th scope=col>Survived</th><th scope=col>Pclass</th><th scope=col>Name</th><th scope=col>Sex</th><th scope=col>Age</th><th scope=col>SibSp</th><th scope=col>Parch</th><th scope=col>Ticket</th><th scope=col>Fare</th><th scope=col>Cabin</th><th scope=col>Embarked</th></tr></thead>\n",
       "<tbody>\n",
       "\t<tr><th scope=row>577</th><td> 62                                      </td><td>1                                        </td><td>1                                        </td><td>Icard, Miss. Amelie                      </td><td>female                                   </td><td>38                                       </td><td>0                                        </td><td>0                                        </td><td>113572                                   </td><td>80                                       </td><td>B28                                      </td><td>                                         </td></tr>\n",
       "\t<tr><th scope=row>868</th><td>830                                      </td><td>1                                        </td><td>1                                        </td><td>Stone, Mrs. George Nelson (Martha Evelyn)</td><td>female                                   </td><td>62                                       </td><td>0                                        </td><td>0                                        </td><td>113572                                   </td><td>80                                       </td><td>B28                                      </td><td>                                         </td></tr>\n",
       "</tbody>\n",
       "</table>\n"
      ],
      "text/latex": [
       "\\begin{tabular}{r|llllllllllll}\n",
       "  & X.U.FEFF.PassengerId & Survived & Pclass & Name & Sex & Age & SibSp & Parch & Ticket & Fare & Cabin & Embarked\\\\\n",
       "\\hline\n",
       "\t577 &  62                                       & 1                                         & 1                                         & Icard, Miss. Amelie                       & female                                    & 38                                        & 0                                         & 0                                         & 113572                                    & 80                                        & B28                                       &                                          \\\\\n",
       "\t868 & 830                                       & 1                                         & 1                                         & Stone, Mrs. George Nelson (Martha Evelyn) & female                                    & 62                                        & 0                                         & 0                                         & 113572                                    & 80                                        & B28                                       &                                          \\\\\n",
       "\\end{tabular}\n"
      ],
      "text/markdown": [
       "\n",
       "| <!--/--> | X.U.FEFF.PassengerId | Survived | Pclass | Name | Sex | Age | SibSp | Parch | Ticket | Fare | Cabin | Embarked |\n",
       "|---|---|---|---|---|---|---|---|---|---|---|---|---|\n",
       "| 577 |  62                                       | 1                                         | 1                                         | Icard, Miss. Amelie                       | female                                    | 38                                        | 0                                         | 0                                         | 113572                                    | 80                                        | B28                                       |                                           |\n",
       "| 868 | 830                                       | 1                                         | 1                                         | Stone, Mrs. George Nelson (Martha Evelyn) | female                                    | 62                                        | 0                                         | 0                                         | 113572                                    | 80                                        | B28                                       |                                           |\n",
       "\n"
      ],
      "text/plain": [
       "    X.U.FEFF.PassengerId Survived Pclass\n",
       "577  62                  1        1     \n",
       "868 830                  1        1     \n",
       "    Name                                      Sex    Age SibSp Parch Ticket\n",
       "577 Icard, Miss. Amelie                       female 38  0     0     113572\n",
       "868 Stone, Mrs. George Nelson (Martha Evelyn) female 62  0     0     113572\n",
       "    Fare Cabin Embarked\n",
       "577 80   B28           \n",
       "868 80   B28           "
      ]
     },
     "metadata": {},
     "output_type": "display_data"
    }
   ],
   "source": [
    "# 빈칸 항구 찾기 - 2\n",
    "train_df_T[train_df_T$Embarked == \"\",]"
   ]
  },
  {
   "cell_type": "code",
   "execution_count": 98,
   "id": "06502e8c",
   "metadata": {},
   "outputs": [],
   "source": [
    "# 빈칸 항구를 S항구로 변경 - 1\n",
    "train_df_T$Embarked <- ifelse(train_df_T$Embarked == \"\", 'S', train_df_T$Embarked) \n",
    "# subset으로 \"\"을 얻고 바로 넣을 수는 없다"
   ]
  },
  {
   "cell_type": "code",
   "execution_count": 99,
   "id": "c759d0db",
   "metadata": {},
   "outputs": [
    {
     "data": {
      "text/plain": [
       "\n",
       "      C   Q   S \n",
       "  2 168  77 644 "
      ]
     },
     "metadata": {},
     "output_type": "display_data"
    }
   ],
   "source": [
    "# 빈칸 항구를 S항구로 변경 - 2\n",
    "train_df_T <- train_df\n",
    "table(train_df_T$Embarked)"
   ]
  },
  {
   "cell_type": "code",
   "execution_count": 100,
   "id": "9e1b7087",
   "metadata": {},
   "outputs": [],
   "source": [
    "train_df_T[train_df_T$Embarked == \"\",]$Embarked <- \"S\" # [행렬위치, ]$Embarked"
   ]
  },
  {
   "cell_type": "code",
   "execution_count": 101,
   "id": "10aa1a7d",
   "metadata": {},
   "outputs": [],
   "source": [
    "# 빈칸 항구를 S항구로 변경 - 3\n",
    "train_df_T <- train_df"
   ]
  },
  {
   "cell_type": "code",
   "execution_count": 102,
   "id": "90fb1736",
   "metadata": {},
   "outputs": [],
   "source": [
    "train_df_T$Embarked[train_df_T$Embarked == \"\"] <- \"S\"   # $Embarked[조건위치]"
   ]
  },
  {
   "cell_type": "code",
   "execution_count": 103,
   "id": "6055dde3",
   "metadata": {},
   "outputs": [
    {
     "data": {
      "text/plain": [
       "\n",
       "      C   Q   S \n",
       "  0 168  77 646 "
      ]
     },
     "metadata": {},
     "output_type": "display_data"
    }
   ],
   "source": [
    "table(train_df_T$Embarked)"
   ]
  },
  {
   "cell_type": "code",
   "execution_count": 104,
   "id": "bfe67c1e",
   "metadata": {},
   "outputs": [],
   "source": [
    "train_df$Embarked <- ifelse(train_df$Embarked == \"\", 'S', train_df$Embarked)"
   ]
  },
  {
   "cell_type": "code",
   "execution_count": 105,
   "id": "26f17d15",
   "metadata": {},
   "outputs": [
    {
     "name": "stdout",
     "output_type": "stream",
     "text": [
      "'data.frame':\t891 obs. of  12 variables:\n",
      " $ X.U.FEFF.PassengerId: int  1 5 6 7 8 13 14 15 17 19 ...\n",
      " $ Survived            : int  0 0 0 0 0 0 0 0 0 0 ...\n",
      " $ Pclass              : int  3 3 3 1 3 3 3 3 3 3 ...\n",
      " $ Name                : Factor w/ 891 levels \"Abbing, Mr. Anthony\",..: 109 16 559 520 629 734 29 847 687 846 ...\n",
      " $ Sex                 : Factor w/ 2 levels \"female\",\"male\": 2 2 2 2 2 2 2 1 2 1 ...\n",
      " $ Age                 : num  22 35 NA 54 2 20 39 14 2 31 ...\n",
      " $ SibSp               : int  1 0 0 0 3 0 1 0 4 1 ...\n",
      " $ Parch               : int  0 0 0 0 1 0 5 0 1 0 ...\n",
      " $ Ticket              : Factor w/ 681 levels \"110152\",\"110413\",..: 524 473 276 86 396 536 334 414 481 302 ...\n",
      " $ Fare                : num  7.25 8.05 8.46 51.86 21.07 ...\n",
      " $ Cabin               : Factor w/ 148 levels \"\",\"A10\",\"A14\",..: 1 1 1 131 1 1 1 1 1 1 ...\n",
      " $ Embarked            : Factor w/ 3 levels \"C\",\"Q\",\"S\": 3 3 2 3 3 3 3 3 2 3 ...\n"
     ]
    }
   ],
   "source": [
    "train_df$Embarked <- factor(train_df_T$Embarked)\n",
    "str(train_df)"
   ]
  },
  {
   "cell_type": "code",
   "execution_count": 106,
   "id": "78962139",
   "metadata": {},
   "outputs": [
    {
     "data": {
      "image/png": "[encoded data removed]",
      "text/plain": [
       "Plot with title \"항구별 승선 인원수\""
      ]
     },
     "metadata": {},
     "output_type": "display_data"
    }
   ],
   "source": [
    "# 항구별 승선 인원\n",
    "\n",
    "par(family = \"AppleGothic\")\n",
    "\n",
    "barplot(table(train_df$Embarked),\n",
    "       col = c(\"blue\", \"red\", \"yellow\"),\n",
    "       xlab = \"항구별\",\n",
    "       ylab = \"인원수\",\n",
    "       main = \"항구별 승선 인원수\",\n",
    "       ylim = c(0, 700),\n",
    "       lengend.text = T\n",
    "       \n",
    "       )\n",
    "\n"
   ]
  },
  {
   "cell_type": "code",
   "execution_count": 107,
   "id": "fab143d7",
   "metadata": {},
   "outputs": [
    {
     "data": {
      "image/png": "[encoded data removed]",
      "text/plain": [
       "Plot with title \"항구별 성별 승선 인원\""
      ]
     },
     "metadata": {},
     "output_type": "display_data"
    }
   ],
   "source": [
    "# 항구별 성별 승선 인원\n",
    "\n",
    "par(family = \"AppleGothic\")\n",
    "\n",
    "\n",
    "barplot(t(table(train_df$Embarked, train_df$Sex)), # table에 ,로 연결하여 조건생성\n",
    "       beside = T,\n",
    "       col = c(\"red\", \"blue\"),\n",
    "       ylim = c(0, 500),\n",
    "       ylab = \"인원수\",\n",
    "       xlab = \"항구별/성별\",\n",
    "       main = \"항구별 성별 승선 인원\",\n",
    "       \n",
    "       )\n",
    "\n",
    "legend(1, 450,   # x, y 좌료\n",
    "      c(\"female\", \"male\"),\n",
    "      fill = c(\"red\", \"blue\"),      \n",
    "      )\n"
   ]
  },
  {
   "cell_type": "code",
   "execution_count": 108,
   "id": "8a004d49",
   "metadata": {},
   "outputs": [
    {
     "data": {
      "text/plain": [
       "        \n",
       "           C   Q   S\n",
       "  female  73  36 205\n",
       "  male    95  41 441"
      ]
     },
     "metadata": {},
     "output_type": "display_data"
    }
   ],
   "source": [
    "t(table(train_df$Embarked, train_df$Sex))"
   ]
  },
  {
   "cell_type": "code",
   "execution_count": 109,
   "id": "8ec3f4c4",
   "metadata": {},
   "outputs": [
    {
     "data": {
      "image/png": "[encoded data removed]",
      "text/plain": [
       "Plot with title \"항구별 생존 인원\""
      ]
     },
     "metadata": {},
     "output_type": "display_data"
    }
   ],
   "source": [
    "# 항구별 생존 인원\n",
    "par(family = \"AppleGothic\")\n",
    "\n",
    "barplot(t(table(train_df$Embarked, train_df$Survived)),\n",
    "        beside = T,\n",
    "        col = c(\"red\", \"blue\"),\n",
    "        ylim = c(0, 500),\n",
    "        main = \"항구별 생존 인원\",\n",
    "        ylab = \"인원수\"\n",
    "       )\n",
    "\n",
    "\n",
    "\n",
    "legend(1, 450,   # x, y 좌료\n",
    "      c(\"death\", \"survive\"),\n",
    "      fill = c(\"red\", \"blue\"),      \n",
    "      )\n"
   ]
  },
  {
   "cell_type": "code",
   "execution_count": 110,
   "id": "4d472e4d",
   "metadata": {},
   "outputs": [
    {
     "data": {
      "image/png": "[encoded data removed]",
      "text/plain": [
       "Plot with title \"항구별 객실 등급별 인원\""
      ]
     },
     "metadata": {},
     "output_type": "display_data"
    }
   ],
   "source": [
    "# 항구별 객실 등급별 인원\n",
    "\n",
    "par(family = \"AppleGothic\")\n",
    "barplot(t(table(train_df$Embarked, train_df$Pclass)),\n",
    "        beside = T,\n",
    "        col = c(\"red\", \"blue\", \"yellow\"),\n",
    "        main = \"항구별 객실 등급별 인원\",\n",
    "        ylim = c(0, 500),\n",
    "        ylab = \"인원수\",\n",
    "        xlab = \"항구별 / 객실등급\"\n",
    "       )\n",
    "\n",
    "\n",
    "legend(1, 450,   # x, y 좌료\n",
    "      c(1:3),\n",
    "      fill = c(\"red\", \"blue\", \"yellow\"),      \n",
    "      )\n"
   ]
  },
  {
   "cell_type": "code",
   "execution_count": 111,
   "id": "933de7f2",
   "metadata": {},
   "outputs": [],
   "source": [
    "# 그래프 한눈에 보기"
   ]
  },
  {
   "cell_type": "code",
   "execution_count": 112,
   "id": "ea537e0a",
   "metadata": {},
   "outputs": [
    {
     "data": {
      "image/png": "[encoded data removed]",
      "text/plain": [
       "Plot with title \"항구별 객실 등급별 인원\""
      ]
     },
     "metadata": {},
     "output_type": "display_data"
    }
   ],
   "source": [
    "par(mfrow = c(2,2)) \n",
    "par(family = \"AppleGothic\")\n",
    "\n",
    "\n",
    "barplot(table(train_df$Embarked),\n",
    "       col = c(\"blue\", \"red\", \"yellow\"),\n",
    "       xlab = \"항구별\",\n",
    "       ylab = \"인원수\",\n",
    "       main = \"항구별 승선 인원수\",\n",
    "       ylim = c(0, 700),\n",
    "       lengend.text = T\n",
    "       \n",
    "       )\n",
    "\n",
    "\n",
    "barplot(t(table(train_df$Embarked, train_df$Sex)), # table에 ,로 연결하여 조건생성\n",
    "       beside = T,\n",
    "       col = c(\"red\", \"blue\"),\n",
    "       ylim = c(0, 500),\n",
    "       ylab = \"인원수\",\n",
    "       xlab = \"항구별 / 성별\",\n",
    "       main = \"항구별 성별 승선 인원\",\n",
    "       \n",
    "       )\n",
    "\n",
    "legend(1, 450,   # x, y 좌료\n",
    "      c(\"female\", \"male\"),\n",
    "      fill = c(\"red\", \"blue\"),      \n",
    "      )\n",
    "\n",
    "barplot(t(table(train_df$Embarked, train_df$Survived)),\n",
    "        beside = T,\n",
    "        col = c(\"red\", \"blue\"),\n",
    "        ylim = c(0, 500),\n",
    "        main = \"항구별 생존 인원\",\n",
    "        ylab = \"인원수\",\n",
    "        xlab = \"항구별\"\n",
    "       )\n",
    "\n",
    "legend(1, 450,   # x, y 좌료\n",
    "      c(\"death\", \"survive\"),\n",
    "      fill = c(\"red\", \"blue\"),      \n",
    "      )\n",
    "\n",
    "\n",
    "\n",
    "barplot(t(table(train_df$Embarked, train_df$Pclass)),\n",
    "        beside = T,\n",
    "        col = c(\"red\", \"blue\", \"yellow\"),\n",
    "        main = \"항구별 객실 등급별 인원\",\n",
    "        ylim = c(0, 500),\n",
    "        ylab = \"인원수\",\n",
    "        xlab = \"항구별 / 객실등급\"\n",
    "       )\n",
    "\n",
    "\n",
    "legend(1, 450,   # x, y 좌료\n",
    "      c(1:3),\n",
    "      fill = c(\"red\", \"blue\", \"yellow\"),      \n",
    "      )\n"
   ]
  },
  {
   "cell_type": "markdown",
   "id": "690c1732",
   "metadata": {},
   "source": [
    "---\n",
    "# RandomForest로 예측모델 생성"
   ]
  },
  {
   "cell_type": "code",
   "execution_count": 113,
   "id": "3f9b27c1",
   "metadata": {},
   "outputs": [],
   "source": [
    "# 복사본\n",
    "train_df_T <- train_df"
   ]
  },
  {
   "cell_type": "code",
   "execution_count": 114,
   "id": "329bbf67",
   "metadata": {},
   "outputs": [
    {
     "data": {
      "text/html": [
       "<table>\n",
       "<thead><tr><th scope=col>Survived</th><th scope=col>Sex</th><th scope=col>Pclass</th><th scope=col>Embarked</th></tr></thead>\n",
       "<tbody>\n",
       "\t<tr><td>0   </td><td>male</td><td>3   </td><td>S   </td></tr>\n",
       "\t<tr><td>0   </td><td>male</td><td>3   </td><td>S   </td></tr>\n",
       "\t<tr><td>0   </td><td>male</td><td>3   </td><td>Q   </td></tr>\n",
       "\t<tr><td>0   </td><td>male</td><td>1   </td><td>S   </td></tr>\n",
       "\t<tr><td>0   </td><td>male</td><td>3   </td><td>S   </td></tr>\n",
       "\t<tr><td>0   </td><td>male</td><td>3   </td><td>S   </td></tr>\n",
       "</tbody>\n",
       "</table>\n"
      ],
      "text/latex": [
       "\\begin{tabular}{r|llll}\n",
       " Survived & Sex & Pclass & Embarked\\\\\n",
       "\\hline\n",
       "\t 0    & male & 3    & S   \\\\\n",
       "\t 0    & male & 3    & S   \\\\\n",
       "\t 0    & male & 3    & Q   \\\\\n",
       "\t 0    & male & 1    & S   \\\\\n",
       "\t 0    & male & 3    & S   \\\\\n",
       "\t 0    & male & 3    & S   \\\\\n",
       "\\end{tabular}\n"
      ],
      "text/markdown": [
       "\n",
       "| Survived | Sex | Pclass | Embarked |\n",
       "|---|---|---|---|\n",
       "| 0    | male | 3    | S    |\n",
       "| 0    | male | 3    | S    |\n",
       "| 0    | male | 3    | Q    |\n",
       "| 0    | male | 1    | S    |\n",
       "| 0    | male | 3    | S    |\n",
       "| 0    | male | 3    | S    |\n",
       "\n"
      ],
      "text/plain": [
       "  Survived Sex  Pclass Embarked\n",
       "1 0        male 3      S       \n",
       "2 0        male 3      S       \n",
       "3 0        male 3      Q       \n",
       "4 0        male 1      S       \n",
       "5 0        male 3      S       \n",
       "6 0        male 3      S       "
      ]
     },
     "metadata": {},
     "output_type": "display_data"
    }
   ],
   "source": [
    "# 예측을 위한 컬럼 확인\n",
    "target_col <- c(\"Survived\", \"Sex\", \"Pclass\", \"Embarked\") # 데이터 취합방식 확인\n",
    "head(train_df_T[, target_col]) "
   ]
  },
  {
   "cell_type": "code",
   "execution_count": 115,
   "id": "28ffac91",
   "metadata": {},
   "outputs": [],
   "source": [
    "# Sex 칼럼을 숫자로 전환\n",
    "train_df_T$SexCode[train_df_T$Sex == 'male'] <- 0\n",
    "train_df_T$SexCode[train_df_T$Sex == 'female'] <- 1"
   ]
  },
  {
   "cell_type": "code",
   "execution_count": 116,
   "id": "9afeebe0",
   "metadata": {},
   "outputs": [
    {
     "data": {
      "text/html": [
       "<table>\n",
       "<thead><tr><th></th><th scope=col>X.U.FEFF.PassengerId</th><th scope=col>Survived</th><th scope=col>Pclass</th><th scope=col>Name</th><th scope=col>Sex</th><th scope=col>Age</th><th scope=col>SibSp</th><th scope=col>Parch</th><th scope=col>Ticket</th><th scope=col>Fare</th><th scope=col>Cabin</th><th scope=col>Embarked</th><th scope=col>SexCode</th></tr></thead>\n",
       "<tbody>\n",
       "\t<tr><th scope=row>886</th><td>875                                          </td><td>1                                            </td><td>2                                            </td><td>Abelson, Mrs. Samuel (Hannah Wizosky)        </td><td>female                                       </td><td>28                                           </td><td>1                                            </td><td>0                                            </td><td>P/PP 3381                                    </td><td>24.0000                                      </td><td>                                             </td><td>C                                            </td><td>1                                            </td></tr>\n",
       "\t<tr><th scope=row>887</th><td>876                                          </td><td>1                                            </td><td>3                                            </td><td>Najib, Miss. Adele Kiamie \"Jane\"             </td><td>female                                       </td><td>15                                           </td><td>0                                            </td><td>0                                            </td><td>2667                                         </td><td> 7.2250                                      </td><td>                                             </td><td>C                                            </td><td>1                                            </td></tr>\n",
       "\t<tr><th scope=row>888</th><td>880                                          </td><td>1                                            </td><td>1                                            </td><td>Potter, Mrs. Thomas Jr (Lily Alexenia Wilson)</td><td>female                                       </td><td>56                                           </td><td>0                                            </td><td>1                                            </td><td>11767                                        </td><td>83.1583                                      </td><td>C50                                          </td><td>C                                            </td><td>1                                            </td></tr>\n",
       "\t<tr><th scope=row>889</th><td>881                                          </td><td>1                                            </td><td>2                                            </td><td>Shelley, Mrs. William (Imanita Parrish Hall) </td><td>female                                       </td><td>25                                           </td><td>0                                            </td><td>1                                            </td><td>230433                                       </td><td>26.0000                                      </td><td>                                             </td><td>S                                            </td><td>1                                            </td></tr>\n",
       "\t<tr><th scope=row>890</th><td>888                                          </td><td>1                                            </td><td>1                                            </td><td>Graham, Miss. Margaret Edith                 </td><td>female                                       </td><td>19                                           </td><td>0                                            </td><td>0                                            </td><td>112053                                       </td><td>30.0000                                      </td><td>B42                                          </td><td>S                                            </td><td>1                                            </td></tr>\n",
       "\t<tr><th scope=row>891</th><td>890                                          </td><td>1                                            </td><td>1                                            </td><td>Behr, Mr. Karl Howell                        </td><td>male                                         </td><td>26                                           </td><td>0                                            </td><td>0                                            </td><td>111369                                       </td><td>30.0000                                      </td><td>C148                                         </td><td>C                                            </td><td>0                                            </td></tr>\n",
       "</tbody>\n",
       "</table>\n"
      ],
      "text/latex": [
       "\\begin{tabular}{r|lllllllllllll}\n",
       "  & X.U.FEFF.PassengerId & Survived & Pclass & Name & Sex & Age & SibSp & Parch & Ticket & Fare & Cabin & Embarked & SexCode\\\\\n",
       "\\hline\n",
       "\t886 & 875                                           & 1                                             & 2                                             & Abelson, Mrs. Samuel (Hannah Wizosky)         & female                                        & 28                                            & 1                                             & 0                                             & P/PP 3381                                     & 24.0000                                       &                                               & C                                             & 1                                            \\\\\n",
       "\t887 & 876                                           & 1                                             & 3                                             & Najib, Miss. Adele Kiamie \"Jane\"              & female                                        & 15                                            & 0                                             & 0                                             & 2667                                          &  7.2250                                       &                                               & C                                             & 1                                            \\\\\n",
       "\t888 & 880                                           & 1                                             & 1                                             & Potter, Mrs. Thomas Jr (Lily Alexenia Wilson) & female                                        & 56                                            & 0                                             & 1                                             & 11767                                         & 83.1583                                       & C50                                           & C                                             & 1                                            \\\\\n",
       "\t889 & 881                                           & 1                                             & 2                                             & Shelley, Mrs. William (Imanita Parrish Hall)  & female                                        & 25                                            & 0                                             & 1                                             & 230433                                        & 26.0000                                       &                                               & S                                             & 1                                            \\\\\n",
       "\t890 & 888                                           & 1                                             & 1                                             & Graham, Miss. Margaret Edith                  & female                                        & 19                                            & 0                                             & 0                                             & 112053                                        & 30.0000                                       & B42                                           & S                                             & 1                                            \\\\\n",
       "\t891 & 890                                           & 1                                             & 1                                             & Behr, Mr. Karl Howell                         & male                                          & 26                                            & 0                                             & 0                                             & 111369                                        & 30.0000                                       & C148                                          & C                                             & 0                                            \\\\\n",
       "\\end{tabular}\n"
      ],
      "text/markdown": [
       "\n",
       "| <!--/--> | X.U.FEFF.PassengerId | Survived | Pclass | Name | Sex | Age | SibSp | Parch | Ticket | Fare | Cabin | Embarked | SexCode |\n",
       "|---|---|---|---|---|---|---|---|---|---|---|---|---|---|\n",
       "| 886 | 875                                           | 1                                             | 2                                             | Abelson, Mrs. Samuel (Hannah Wizosky)         | female                                        | 28                                            | 1                                             | 0                                             | P/PP 3381                                     | 24.0000                                       |                                               | C                                             | 1                                             |\n",
       "| 887 | 876                                           | 1                                             | 3                                             | Najib, Miss. Adele Kiamie \"Jane\"              | female                                        | 15                                            | 0                                             | 0                                             | 2667                                          |  7.2250                                       |                                               | C                                             | 1                                             |\n",
       "| 888 | 880                                           | 1                                             | 1                                             | Potter, Mrs. Thomas Jr (Lily Alexenia Wilson) | female                                        | 56                                            | 0                                             | 1                                             | 11767                                         | 83.1583                                       | C50                                           | C                                             | 1                                             |\n",
       "| 889 | 881                                           | 1                                             | 2                                             | Shelley, Mrs. William (Imanita Parrish Hall)  | female                                        | 25                                            | 0                                             | 1                                             | 230433                                        | 26.0000                                       |                                               | S                                             | 1                                             |\n",
       "| 890 | 888                                           | 1                                             | 1                                             | Graham, Miss. Margaret Edith                  | female                                        | 19                                            | 0                                             | 0                                             | 112053                                        | 30.0000                                       | B42                                           | S                                             | 1                                             |\n",
       "| 891 | 890                                           | 1                                             | 1                                             | Behr, Mr. Karl Howell                         | male                                          | 26                                            | 0                                             | 0                                             | 111369                                        | 30.0000                                       | C148                                          | C                                             | 0                                             |\n",
       "\n"
      ],
      "text/plain": [
       "    X.U.FEFF.PassengerId Survived Pclass\n",
       "886 875                  1        2     \n",
       "887 876                  1        3     \n",
       "888 880                  1        1     \n",
       "889 881                  1        2     \n",
       "890 888                  1        1     \n",
       "891 890                  1        1     \n",
       "    Name                                          Sex    Age SibSp Parch\n",
       "886 Abelson, Mrs. Samuel (Hannah Wizosky)         female 28  1     0    \n",
       "887 Najib, Miss. Adele Kiamie \"Jane\"              female 15  0     0    \n",
       "888 Potter, Mrs. Thomas Jr (Lily Alexenia Wilson) female 56  0     1    \n",
       "889 Shelley, Mrs. William (Imanita Parrish Hall)  female 25  0     1    \n",
       "890 Graham, Miss. Margaret Edith                  female 19  0     0    \n",
       "891 Behr, Mr. Karl Howell                         male   26  0     0    \n",
       "    Ticket    Fare    Cabin Embarked SexCode\n",
       "886 P/PP 3381 24.0000       C        1      \n",
       "887 2667       7.2250       C        1      \n",
       "888 11767     83.1583 C50   C        1      \n",
       "889 230433    26.0000       S        1      \n",
       "890 112053    30.0000 B42   S        1      \n",
       "891 111369    30.0000 C148  C        0      "
      ]
     },
     "metadata": {},
     "output_type": "display_data"
    }
   ],
   "source": [
    "tail(train_df_T)"
   ]
  },
  {
   "cell_type": "code",
   "execution_count": 117,
   "id": "9bf89968",
   "metadata": {},
   "outputs": [],
   "source": [
    "# Sex컬럼 삭제\n",
    "train_df_T <- subset(train_df_T, select = -Sex)"
   ]
  },
  {
   "cell_type": "code",
   "execution_count": 118,
   "id": "75351326",
   "metadata": {},
   "outputs": [
    {
     "data": {
      "text/html": [
       "<table>\n",
       "<thead><tr><th scope=col>X.U.FEFF.PassengerId</th><th scope=col>Survived</th><th scope=col>Pclass</th><th scope=col>Name</th><th scope=col>Age</th><th scope=col>SibSp</th><th scope=col>Parch</th><th scope=col>Ticket</th><th scope=col>Fare</th><th scope=col>Cabin</th><th scope=col>Embarked</th><th scope=col>SexCode</th></tr></thead>\n",
       "<tbody>\n",
       "\t<tr><td> 1                            </td><td>0                             </td><td>3                             </td><td>Braund, Mr. Owen Harris       </td><td>22                            </td><td>1                             </td><td>0                             </td><td>A/5 21171                     </td><td> 7.2500                       </td><td>                              </td><td>S                             </td><td>0                             </td></tr>\n",
       "\t<tr><td> 5                            </td><td>0                             </td><td>3                             </td><td>Allen, Mr. William Henry      </td><td>35                            </td><td>0                             </td><td>0                             </td><td>373450                        </td><td> 8.0500                       </td><td>                              </td><td>S                             </td><td>0                             </td></tr>\n",
       "\t<tr><td> 6                            </td><td>0                             </td><td>3                             </td><td>Moran, Mr. James              </td><td>NA                            </td><td>0                             </td><td>0                             </td><td>330877                        </td><td> 8.4583                       </td><td>                              </td><td>Q                             </td><td>0                             </td></tr>\n",
       "\t<tr><td> 7                            </td><td>0                             </td><td>1                             </td><td>McCarthy, Mr. Timothy J       </td><td>54                            </td><td>0                             </td><td>0                             </td><td>17463                         </td><td>51.8625                       </td><td>E46                           </td><td>S                             </td><td>0                             </td></tr>\n",
       "\t<tr><td> 8                            </td><td>0                             </td><td>3                             </td><td>Palsson, Master. Gosta Leonard</td><td> 2                            </td><td>3                             </td><td>1                             </td><td>349909                        </td><td>21.0750                       </td><td>                              </td><td>S                             </td><td>0                             </td></tr>\n",
       "\t<tr><td>13                            </td><td>0                             </td><td>3                             </td><td>Saundercock, Mr. William Henry</td><td>20                            </td><td>0                             </td><td>0                             </td><td>A/5. 2151                     </td><td> 8.0500                       </td><td>                              </td><td>S                             </td><td>0                             </td></tr>\n",
       "</tbody>\n",
       "</table>\n"
      ],
      "text/latex": [
       "\\begin{tabular}{r|llllllllllll}\n",
       " X.U.FEFF.PassengerId & Survived & Pclass & Name & Age & SibSp & Parch & Ticket & Fare & Cabin & Embarked & SexCode\\\\\n",
       "\\hline\n",
       "\t  1                             & 0                              & 3                              & Braund, Mr. Owen Harris        & 22                             & 1                              & 0                              & A/5 21171                      &  7.2500                        &                                & S                              & 0                             \\\\\n",
       "\t  5                             & 0                              & 3                              & Allen, Mr. William Henry       & 35                             & 0                              & 0                              & 373450                         &  8.0500                        &                                & S                              & 0                             \\\\\n",
       "\t  6                             & 0                              & 3                              & Moran, Mr. James               & NA                             & 0                              & 0                              & 330877                         &  8.4583                        &                                & Q                              & 0                             \\\\\n",
       "\t  7                             & 0                              & 1                              & McCarthy, Mr. Timothy J        & 54                             & 0                              & 0                              & 17463                          & 51.8625                        & E46                            & S                              & 0                             \\\\\n",
       "\t  8                             & 0                              & 3                              & Palsson, Master. Gosta Leonard &  2                             & 3                              & 1                              & 349909                         & 21.0750                        &                                & S                              & 0                             \\\\\n",
       "\t 13                             & 0                              & 3                              & Saundercock, Mr. William Henry & 20                             & 0                              & 0                              & A/5. 2151                      &  8.0500                        &                                & S                              & 0                             \\\\\n",
       "\\end{tabular}\n"
      ],
      "text/markdown": [
       "\n",
       "| X.U.FEFF.PassengerId | Survived | Pclass | Name | Age | SibSp | Parch | Ticket | Fare | Cabin | Embarked | SexCode |\n",
       "|---|---|---|---|---|---|---|---|---|---|---|---|\n",
       "|  1                             | 0                              | 3                              | Braund, Mr. Owen Harris        | 22                             | 1                              | 0                              | A/5 21171                      |  7.2500                        |                                | S                              | 0                              |\n",
       "|  5                             | 0                              | 3                              | Allen, Mr. William Henry       | 35                             | 0                              | 0                              | 373450                         |  8.0500                        |                                | S                              | 0                              |\n",
       "|  6                             | 0                              | 3                              | Moran, Mr. James               | NA                             | 0                              | 0                              | 330877                         |  8.4583                        |                                | Q                              | 0                              |\n",
       "|  7                             | 0                              | 1                              | McCarthy, Mr. Timothy J        | 54                             | 0                              | 0                              | 17463                          | 51.8625                        | E46                            | S                              | 0                              |\n",
       "|  8                             | 0                              | 3                              | Palsson, Master. Gosta Leonard |  2                             | 3                              | 1                              | 349909                         | 21.0750                        |                                | S                              | 0                              |\n",
       "| 13                             | 0                              | 3                              | Saundercock, Mr. William Henry | 20                             | 0                              | 0                              | A/5. 2151                      |  8.0500                        |                                | S                              | 0                              |\n",
       "\n"
      ],
      "text/plain": [
       "  X.U.FEFF.PassengerId Survived Pclass Name                           Age SibSp\n",
       "1  1                   0        3      Braund, Mr. Owen Harris        22  1    \n",
       "2  5                   0        3      Allen, Mr. William Henry       35  0    \n",
       "3  6                   0        3      Moran, Mr. James               NA  0    \n",
       "4  7                   0        1      McCarthy, Mr. Timothy J        54  0    \n",
       "5  8                   0        3      Palsson, Master. Gosta Leonard  2  3    \n",
       "6 13                   0        3      Saundercock, Mr. William Henry 20  0    \n",
       "  Parch Ticket    Fare    Cabin Embarked SexCode\n",
       "1 0     A/5 21171  7.2500       S        0      \n",
       "2 0     373450     8.0500       S        0      \n",
       "3 0     330877     8.4583       Q        0      \n",
       "4 0     17463     51.8625 E46   S        0      \n",
       "5 1     349909    21.0750       S        0      \n",
       "6 0     A/5. 2151  8.0500       S        0      "
      ]
     },
     "metadata": {},
     "output_type": "display_data"
    }
   ],
   "source": [
    "head(train_df_T)"
   ]
  },
  {
   "cell_type": "code",
   "execution_count": 119,
   "id": "cf172bbc",
   "metadata": {},
   "outputs": [
    {
     "data": {
      "text/html": [
       "<table>\n",
       "<thead><tr><th scope=col>Survived</th><th scope=col>SexCode</th><th scope=col>Pclass</th><th scope=col>Embarked</th></tr></thead>\n",
       "<tbody>\n",
       "\t<tr><td>0</td><td>0</td><td>3</td><td>S</td></tr>\n",
       "\t<tr><td>0</td><td>0</td><td>3</td><td>S</td></tr>\n",
       "\t<tr><td>0</td><td>0</td><td>3</td><td>Q</td></tr>\n",
       "\t<tr><td>0</td><td>0</td><td>1</td><td>S</td></tr>\n",
       "\t<tr><td>0</td><td>0</td><td>3</td><td>S</td></tr>\n",
       "\t<tr><td>0</td><td>0</td><td>3</td><td>S</td></tr>\n",
       "</tbody>\n",
       "</table>\n"
      ],
      "text/latex": [
       "\\begin{tabular}{r|llll}\n",
       " Survived & SexCode & Pclass & Embarked\\\\\n",
       "\\hline\n",
       "\t 0 & 0 & 3 & S\\\\\n",
       "\t 0 & 0 & 3 & S\\\\\n",
       "\t 0 & 0 & 3 & Q\\\\\n",
       "\t 0 & 0 & 1 & S\\\\\n",
       "\t 0 & 0 & 3 & S\\\\\n",
       "\t 0 & 0 & 3 & S\\\\\n",
       "\\end{tabular}\n"
      ],
      "text/markdown": [
       "\n",
       "| Survived | SexCode | Pclass | Embarked |\n",
       "|---|---|---|---|\n",
       "| 0 | 0 | 3 | S |\n",
       "| 0 | 0 | 3 | S |\n",
       "| 0 | 0 | 3 | Q |\n",
       "| 0 | 0 | 1 | S |\n",
       "| 0 | 0 | 3 | S |\n",
       "| 0 | 0 | 3 | S |\n",
       "\n"
      ],
      "text/plain": [
       "  Survived SexCode Pclass Embarked\n",
       "1 0        0       3      S       \n",
       "2 0        0       3      S       \n",
       "3 0        0       3      Q       \n",
       "4 0        0       1      S       \n",
       "5 0        0       3      S       \n",
       "6 0        0       3      S       "
      ]
     },
     "metadata": {},
     "output_type": "display_data"
    }
   ],
   "source": [
    "target_col <- c(\"Survived\", \"SexCode\", \"Pclass\", \"Embarked\")\n",
    "head(train_df_T[, target_col])"
   ]
  },
  {
   "cell_type": "markdown",
   "id": "abeb10ed",
   "metadata": {},
   "source": [
    "# Emabarked를 숫자로 전환\n",
    "C=0, S=1, Q=2 -> 맞긴 맞지만 좋은 생각이 아니다    \n",
    "2 * S = Q ?   \n",
    "S + S = Q ?   \n",
    "\n",
    "### One-Hot Encoding방법\n",
    "C == [1,0,0]   \n",
    "S == [0,1,0]   \n",
    "Q == [0,0,1]   \n",
    "처럼 행렬로 만들면 덧셈과 뺄셈에 대해 각각 계산에 굉장히 안전해 진다.\n",
    "R은 내부적으로 1은 True, 0은 False"
   ]
  },
  {
   "cell_type": "code",
   "execution_count": 120,
   "id": "3de20286",
   "metadata": {},
   "outputs": [
    {
     "data": {
      "text/html": [
       "<table>\n",
       "<thead><tr><th scope=col>Embarked</th><th scope=col>Embarked_C</th><th scope=col>Embarked_S</th><th scope=col>Embarked_Q</th></tr></thead>\n",
       "<tbody>\n",
       "\t<tr><td>S    </td><td>FALSE</td><td> TRUE</td><td>FALSE</td></tr>\n",
       "\t<tr><td>S    </td><td>FALSE</td><td> TRUE</td><td>FALSE</td></tr>\n",
       "\t<tr><td>Q    </td><td>FALSE</td><td>FALSE</td><td> TRUE</td></tr>\n",
       "\t<tr><td>S    </td><td>FALSE</td><td> TRUE</td><td>FALSE</td></tr>\n",
       "\t<tr><td>S    </td><td>FALSE</td><td> TRUE</td><td>FALSE</td></tr>\n",
       "\t<tr><td>S    </td><td>FALSE</td><td> TRUE</td><td>FALSE</td></tr>\n",
       "</tbody>\n",
       "</table>\n"
      ],
      "text/latex": [
       "\\begin{tabular}{r|llll}\n",
       " Embarked & Embarked\\_C & Embarked\\_S & Embarked\\_Q\\\\\n",
       "\\hline\n",
       "\t S     & FALSE &  TRUE & FALSE\\\\\n",
       "\t S     & FALSE &  TRUE & FALSE\\\\\n",
       "\t Q     & FALSE & FALSE &  TRUE\\\\\n",
       "\t S     & FALSE &  TRUE & FALSE\\\\\n",
       "\t S     & FALSE &  TRUE & FALSE\\\\\n",
       "\t S     & FALSE &  TRUE & FALSE\\\\\n",
       "\\end{tabular}\n"
      ],
      "text/markdown": [
       "\n",
       "| Embarked | Embarked_C | Embarked_S | Embarked_Q |\n",
       "|---|---|---|---|\n",
       "| S     | FALSE |  TRUE | FALSE |\n",
       "| S     | FALSE |  TRUE | FALSE |\n",
       "| Q     | FALSE | FALSE |  TRUE |\n",
       "| S     | FALSE |  TRUE | FALSE |\n",
       "| S     | FALSE |  TRUE | FALSE |\n",
       "| S     | FALSE |  TRUE | FALSE |\n",
       "\n"
      ],
      "text/plain": [
       "  Embarked Embarked_C Embarked_S Embarked_Q\n",
       "1 S        FALSE       TRUE      FALSE     \n",
       "2 S        FALSE       TRUE      FALSE     \n",
       "3 Q        FALSE      FALSE       TRUE     \n",
       "4 S        FALSE       TRUE      FALSE     \n",
       "5 S        FALSE       TRUE      FALSE     \n",
       "6 S        FALSE       TRUE      FALSE     "
      ]
     },
     "metadata": {},
     "output_type": "display_data"
    }
   ],
   "source": [
    "train_df_T$Embarked_C = train_df_T$Embarked == \"C\"\n",
    "train_df_T$Embarked_S = train_df_T$Embarked == \"S\"\n",
    "train_df_T$Embarked_Q = train_df_T$Embarked == \"Q\"\n",
    "\n",
    "\n",
    "head(train_df_T[c('Embarked', 'Embarked_C', 'Embarked_S', 'Embarked_Q')])"
   ]
  },
  {
   "cell_type": "code",
   "execution_count": 121,
   "id": "4ac9f570",
   "metadata": {},
   "outputs": [
    {
     "data": {
      "text/html": [
       "<table>\n",
       "<thead><tr><th scope=col>Survived</th><th scope=col>Pclass</th><th scope=col>SexCode</th><th scope=col>Embarked_C</th><th scope=col>Embarked_S</th><th scope=col>Embarked_Q</th></tr></thead>\n",
       "<tbody>\n",
       "\t<tr><td>0    </td><td>3    </td><td>0    </td><td>FALSE</td><td> TRUE</td><td>FALSE</td></tr>\n",
       "\t<tr><td>0    </td><td>3    </td><td>0    </td><td>FALSE</td><td> TRUE</td><td>FALSE</td></tr>\n",
       "\t<tr><td>0    </td><td>3    </td><td>0    </td><td>FALSE</td><td>FALSE</td><td> TRUE</td></tr>\n",
       "\t<tr><td>0    </td><td>1    </td><td>0    </td><td>FALSE</td><td> TRUE</td><td>FALSE</td></tr>\n",
       "\t<tr><td>0    </td><td>3    </td><td>0    </td><td>FALSE</td><td> TRUE</td><td>FALSE</td></tr>\n",
       "\t<tr><td>0    </td><td>3    </td><td>0    </td><td>FALSE</td><td> TRUE</td><td>FALSE</td></tr>\n",
       "</tbody>\n",
       "</table>\n"
      ],
      "text/latex": [
       "\\begin{tabular}{r|llllll}\n",
       " Survived & Pclass & SexCode & Embarked\\_C & Embarked\\_S & Embarked\\_Q\\\\\n",
       "\\hline\n",
       "\t 0     & 3     & 0     & FALSE &  TRUE & FALSE\\\\\n",
       "\t 0     & 3     & 0     & FALSE &  TRUE & FALSE\\\\\n",
       "\t 0     & 3     & 0     & FALSE & FALSE &  TRUE\\\\\n",
       "\t 0     & 1     & 0     & FALSE &  TRUE & FALSE\\\\\n",
       "\t 0     & 3     & 0     & FALSE &  TRUE & FALSE\\\\\n",
       "\t 0     & 3     & 0     & FALSE &  TRUE & FALSE\\\\\n",
       "\\end{tabular}\n"
      ],
      "text/markdown": [
       "\n",
       "| Survived | Pclass | SexCode | Embarked_C | Embarked_S | Embarked_Q |\n",
       "|---|---|---|---|---|---|\n",
       "| 0     | 3     | 0     | FALSE |  TRUE | FALSE |\n",
       "| 0     | 3     | 0     | FALSE |  TRUE | FALSE |\n",
       "| 0     | 3     | 0     | FALSE | FALSE |  TRUE |\n",
       "| 0     | 1     | 0     | FALSE |  TRUE | FALSE |\n",
       "| 0     | 3     | 0     | FALSE |  TRUE | FALSE |\n",
       "| 0     | 3     | 0     | FALSE |  TRUE | FALSE |\n",
       "\n"
      ],
      "text/plain": [
       "  Survived Pclass SexCode Embarked_C Embarked_S Embarked_Q\n",
       "1 0        3      0       FALSE       TRUE      FALSE     \n",
       "2 0        3      0       FALSE       TRUE      FALSE     \n",
       "3 0        3      0       FALSE      FALSE       TRUE     \n",
       "4 0        1      0       FALSE       TRUE      FALSE     \n",
       "5 0        3      0       FALSE       TRUE      FALSE     \n",
       "6 0        3      0       FALSE       TRUE      FALSE     "
      ]
     },
     "metadata": {},
     "output_type": "display_data"
    }
   ],
   "source": [
    "target_col = c(\"Survived\", \"Pclass\" ,\"SexCode\", \"Embarked_C\", \"Embarked_S\", \"Embarked_Q\")  # 데이터 취합방식 확인\n",
    "head(train_df_T[, target_col])"
   ]
  },
  {
   "cell_type": "code",
   "execution_count": 122,
   "id": "fc25fb2d",
   "metadata": {},
   "outputs": [],
   "source": [
    "train_data <- train_df_T[, target_col]"
   ]
  },
  {
   "cell_type": "code",
   "execution_count": 123,
   "id": "b04c8e74",
   "metadata": {},
   "outputs": [
    {
     "data": {
      "text/html": [
       "<table>\n",
       "<thead><tr><th scope=col>Survived</th><th scope=col>Pclass</th><th scope=col>SexCode</th><th scope=col>Embarked_C</th><th scope=col>Embarked_S</th><th scope=col>Embarked_Q</th></tr></thead>\n",
       "<tbody>\n",
       "\t<tr><td>0    </td><td>3    </td><td>0    </td><td>FALSE</td><td> TRUE</td><td>FALSE</td></tr>\n",
       "\t<tr><td>0    </td><td>3    </td><td>0    </td><td>FALSE</td><td> TRUE</td><td>FALSE</td></tr>\n",
       "\t<tr><td>0    </td><td>3    </td><td>0    </td><td>FALSE</td><td>FALSE</td><td> TRUE</td></tr>\n",
       "\t<tr><td>0    </td><td>1    </td><td>0    </td><td>FALSE</td><td> TRUE</td><td>FALSE</td></tr>\n",
       "\t<tr><td>0    </td><td>3    </td><td>0    </td><td>FALSE</td><td> TRUE</td><td>FALSE</td></tr>\n",
       "\t<tr><td>0    </td><td>3    </td><td>0    </td><td>FALSE</td><td> TRUE</td><td>FALSE</td></tr>\n",
       "</tbody>\n",
       "</table>\n"
      ],
      "text/latex": [
       "\\begin{tabular}{r|llllll}\n",
       " Survived & Pclass & SexCode & Embarked\\_C & Embarked\\_S & Embarked\\_Q\\\\\n",
       "\\hline\n",
       "\t 0     & 3     & 0     & FALSE &  TRUE & FALSE\\\\\n",
       "\t 0     & 3     & 0     & FALSE &  TRUE & FALSE\\\\\n",
       "\t 0     & 3     & 0     & FALSE & FALSE &  TRUE\\\\\n",
       "\t 0     & 1     & 0     & FALSE &  TRUE & FALSE\\\\\n",
       "\t 0     & 3     & 0     & FALSE &  TRUE & FALSE\\\\\n",
       "\t 0     & 3     & 0     & FALSE &  TRUE & FALSE\\\\\n",
       "\\end{tabular}\n"
      ],
      "text/markdown": [
       "\n",
       "| Survived | Pclass | SexCode | Embarked_C | Embarked_S | Embarked_Q |\n",
       "|---|---|---|---|---|---|\n",
       "| 0     | 3     | 0     | FALSE |  TRUE | FALSE |\n",
       "| 0     | 3     | 0     | FALSE |  TRUE | FALSE |\n",
       "| 0     | 3     | 0     | FALSE | FALSE |  TRUE |\n",
       "| 0     | 1     | 0     | FALSE |  TRUE | FALSE |\n",
       "| 0     | 3     | 0     | FALSE |  TRUE | FALSE |\n",
       "| 0     | 3     | 0     | FALSE |  TRUE | FALSE |\n",
       "\n"
      ],
      "text/plain": [
       "  Survived Pclass SexCode Embarked_C Embarked_S Embarked_Q\n",
       "1 0        3      0       FALSE       TRUE      FALSE     \n",
       "2 0        3      0       FALSE       TRUE      FALSE     \n",
       "3 0        3      0       FALSE      FALSE       TRUE     \n",
       "4 0        1      0       FALSE       TRUE      FALSE     \n",
       "5 0        3      0       FALSE       TRUE      FALSE     \n",
       "6 0        3      0       FALSE       TRUE      FALSE     "
      ]
     },
     "metadata": {},
     "output_type": "display_data"
    }
   ],
   "source": [
    "head(train_data)"
   ]
  },
  {
   "cell_type": "code",
   "execution_count": 124,
   "id": "f71870e7",
   "metadata": {},
   "outputs": [
    {
     "name": "stdout",
     "output_type": "stream",
     "text": [
      "'data.frame':\t891 obs. of  6 variables:\n",
      " $ Survived  : int  0 0 0 0 0 0 0 0 0 0 ...\n",
      " $ Pclass    : int  3 3 3 1 3 3 3 3 3 3 ...\n",
      " $ SexCode   : num  0 0 0 0 0 0 0 1 0 1 ...\n",
      " $ Embarked_C: logi  FALSE FALSE FALSE FALSE FALSE FALSE ...\n",
      " $ Embarked_S: logi  TRUE TRUE FALSE TRUE TRUE TRUE ...\n",
      " $ Embarked_Q: logi  FALSE FALSE TRUE FALSE FALSE FALSE ...\n"
     ]
    }
   ],
   "source": [
    "str(train_data)"
   ]
  },
  {
   "cell_type": "code",
   "execution_count": 127,
   "id": "0a7588aa",
   "metadata": {},
   "outputs": [],
   "source": [
    "# Sampling\n",
    "library(caret)\n",
    "set.seed(1234)\n",
    "samp <- createDataPartition(train_data$Survived, p=0.7, list=F)"
   ]
  },
  {
   "cell_type": "code",
   "execution_count": 128,
   "id": "c918afb7",
   "metadata": {},
   "outputs": [],
   "source": [
    "# 학습용\n",
    "data.train <- train_data[samp,]"
   ]
  },
  {
   "cell_type": "code",
   "execution_count": 129,
   "id": "dce05dd2",
   "metadata": {},
   "outputs": [],
   "source": [
    "# 검증용\n",
    "data.test <- train_data[-samp,]"
   ]
  },
  {
   "cell_type": "code",
   "execution_count": 130,
   "id": "31b9b038",
   "metadata": {},
   "outputs": [],
   "source": [
    "# 문제 및 정답\n",
    "x <- subset(data.test, select = -Survived)\n",
    "y <- data.test$Survived"
   ]
  },
  {
   "cell_type": "code",
   "execution_count": 132,
   "id": "1b27df29",
   "metadata": {},
   "outputs": [],
   "source": [
    "# 학습시키기\n",
    "library(randomForest)\n",
    "rf <- randomForest(Survived ~., data = data.train, ntree=100)"
   ]
  },
  {
   "cell_type": "code",
   "execution_count": 133,
   "id": "4e4e0426",
   "metadata": {},
   "outputs": [
    {
     "data": {
      "text/html": [
       "<dl class=dl-horizontal>\n",
       "\t<dt>5</dt>\n",
       "\t\t<dd>0.213486285696719</dd>\n",
       "\t<dt>6</dt>\n",
       "\t\t<dd>0.213486285696719</dd>\n",
       "\t<dt>7</dt>\n",
       "\t\t<dd>0.213486285696719</dd>\n",
       "\t<dt>8</dt>\n",
       "\t\t<dd>0.41581493087734</dd>\n",
       "\t<dt>9</dt>\n",
       "\t\t<dd>0.247300575948957</dd>\n",
       "\t<dt>16</dt>\n",
       "\t\t<dd>0.472558346614318</dd>\n",
       "</dl>\n"
      ],
      "text/latex": [
       "\\begin{description*}\n",
       "\\item[5] 0.213486285696719\n",
       "\\item[6] 0.213486285696719\n",
       "\\item[7] 0.213486285696719\n",
       "\\item[8] 0.41581493087734\n",
       "\\item[9] 0.247300575948957\n",
       "\\item[16] 0.472558346614318\n",
       "\\end{description*}\n"
      ],
      "text/markdown": [
       "5\n",
       ":   0.2134862856967196\n",
       ":   0.2134862856967197\n",
       ":   0.2134862856967198\n",
       ":   0.415814930877349\n",
       ":   0.24730057594895716\n",
       ":   0.472558346614318\n",
       "\n"
      ],
      "text/plain": [
       "        5         6         7         8         9        16 \n",
       "0.2134863 0.2134863 0.2134863 0.4158149 0.2473006 0.4725583 "
      ]
     },
     "metadata": {},
     "output_type": "display_data"
    },
    {
     "data": {
      "text/html": [
       "<ol class=list-inline>\n",
       "\t<li>0</li>\n",
       "\t<li>0</li>\n",
       "\t<li>0</li>\n",
       "\t<li>0</li>\n",
       "\t<li>0</li>\n",
       "\t<li>0</li>\n",
       "</ol>\n"
      ],
      "text/latex": [
       "\\begin{enumerate*}\n",
       "\\item 0\n",
       "\\item 0\n",
       "\\item 0\n",
       "\\item 0\n",
       "\\item 0\n",
       "\\item 0\n",
       "\\end{enumerate*}\n"
      ],
      "text/markdown": [
       "1. 0\n",
       "2. 0\n",
       "3. 0\n",
       "4. 0\n",
       "5. 0\n",
       "6. 0\n",
       "\n",
       "\n"
      ],
      "text/plain": [
       "[1] 0 0 0 0 0 0"
      ]
     },
     "metadata": {},
     "output_type": "display_data"
    }
   ],
   "source": [
    "# 검증하기\n",
    "pred <- predict(rf, x)\n",
    "head(pred)\n",
    "head(y)"
   ]
  },
  {
   "cell_type": "code",
   "execution_count": 134,
   "id": "ee4d0f04",
   "metadata": {},
   "outputs": [],
   "source": [
    "pred[pred <= 0.5] <- 0\n",
    "pred[pred > 0.5] <- 1"
   ]
  },
  {
   "cell_type": "code",
   "execution_count": 135,
   "id": "04a1f125",
   "metadata": {},
   "outputs": [
    {
     "data": {
      "text/html": [
       "0.779026217228464"
      ],
      "text/latex": [
       "0.779026217228464"
      ],
      "text/markdown": [
       "0.779026217228464"
      ],
      "text/plain": [
       "[1] 0.7790262"
      ]
     },
     "metadata": {},
     "output_type": "display_data"
    }
   ],
   "source": [
    "mean(pred == y)"
   ]
  },
  {
   "cell_type": "markdown",
   "id": "e9c92131",
   "metadata": {},
   "source": [
    "--- \n",
    "### Survived를 factor로 변환후에 RandomForest 실행"
   ]
  },
  {
   "cell_type": "code",
   "execution_count": 136,
   "id": "104ee901",
   "metadata": {},
   "outputs": [
    {
     "name": "stdout",
     "output_type": "stream",
     "text": [
      "'data.frame':\t624 obs. of  6 variables:\n",
      " $ Survived  : Factor w/ 2 levels \"0\",\"1\": 1 1 1 1 1 1 1 1 1 1 ...\n",
      " $ Pclass    : int  3 3 3 1 3 2 3 3 1 3 ...\n",
      " $ SexCode   : num  0 0 0 0 1 0 1 0 0 0 ...\n",
      " $ Embarked_C: logi  FALSE FALSE FALSE FALSE FALSE FALSE ...\n",
      " $ Embarked_S: logi  TRUE TRUE FALSE TRUE TRUE TRUE ...\n",
      " $ Embarked_Q: logi  FALSE FALSE TRUE FALSE FALSE FALSE ...\n"
     ]
    }
   ],
   "source": [
    "data.train$Survived <- as.factor(data.train$Survived)\n",
    "data.test$Survived <- as.factor(data.test$Survived)\n",
    "str(data.train)"
   ]
  },
  {
   "cell_type": "code",
   "execution_count": 137,
   "id": "c1028cc4",
   "metadata": {},
   "outputs": [],
   "source": [
    "rf <- randomForest(Survived ~., data = data.train, ntree=100)"
   ]
  },
  {
   "cell_type": "code",
   "execution_count": 138,
   "id": "07e0025e",
   "metadata": {},
   "outputs": [],
   "source": [
    "x <- subset(data.test, select = -Survived)\n",
    "y <- data.test$Survived"
   ]
  },
  {
   "cell_type": "code",
   "execution_count": 139,
   "id": "a7d7f9ef",
   "metadata": {},
   "outputs": [
    {
     "data": {
      "text/html": [
       "<dl class=dl-horizontal>\n",
       "\t<dt>5</dt>\n",
       "\t\t<dd>0</dd>\n",
       "\t<dt>6</dt>\n",
       "\t\t<dd>0</dd>\n",
       "\t<dt>7</dt>\n",
       "\t\t<dd>0</dd>\n",
       "\t<dt>8</dt>\n",
       "\t\t<dd>0</dd>\n",
       "\t<dt>9</dt>\n",
       "\t\t<dd>0</dd>\n",
       "\t<dt>16</dt>\n",
       "\t\t<dd>0</dd>\n",
       "</dl>\n",
       "\n",
       "<details>\n",
       "\t<summary style=display:list-item;cursor:pointer>\n",
       "\t\t<strong>Levels</strong>:\n",
       "\t</summary>\n",
       "\t<ol class=list-inline>\n",
       "\t\t<li>'0'</li>\n",
       "\t\t<li>'1'</li>\n",
       "\t</ol>\n",
       "</details>"
      ],
      "text/latex": [
       "\\begin{description*}\n",
       "\\item[5] 0\n",
       "\\item[6] 0\n",
       "\\item[7] 0\n",
       "\\item[8] 0\n",
       "\\item[9] 0\n",
       "\\item[16] 0\n",
       "\\end{description*}\n",
       "\n",
       "\\emph{Levels}: \\begin{enumerate*}\n",
       "\\item '0'\n",
       "\\item '1'\n",
       "\\end{enumerate*}\n"
      ],
      "text/markdown": [
       "5\n",
       ":   06\n",
       ":   07\n",
       ":   08\n",
       ":   09\n",
       ":   016\n",
       ":   0\n",
       "\n",
       "\n",
       "**Levels**: 1. '0'\n",
       "2. '1'\n",
       "\n",
       "\n"
      ],
      "text/plain": [
       " 5  6  7  8  9 16 \n",
       " 0  0  0  0  0  0 \n",
       "Levels: 0 1"
      ]
     },
     "metadata": {},
     "output_type": "display_data"
    }
   ],
   "source": [
    "pred <- predict(rf, x)\n",
    "head(pred)"
   ]
  },
  {
   "cell_type": "code",
   "execution_count": 140,
   "id": "bf6b7573",
   "metadata": {},
   "outputs": [
    {
     "data": {
      "text/html": [
       "0.779026217228464"
      ],
      "text/latex": [
       "0.779026217228464"
      ],
      "text/markdown": [
       "0.779026217228464"
      ],
      "text/plain": [
       "[1] 0.7790262"
      ]
     },
     "metadata": {},
     "output_type": "display_data"
    },
    {
     "data": {
      "text/plain": [
       "    y\n",
       "pred   0   1\n",
       "   0 156  49\n",
       "   1  10  52"
      ]
     },
     "metadata": {},
     "output_type": "display_data"
    }
   ],
   "source": [
    "mean(pred == y)\n",
    "table(pred, y)"
   ]
  },
  {
   "cell_type": "code",
   "execution_count": 141,
   "id": "d8dd7d4d",
   "metadata": {},
   "outputs": [],
   "source": [
    "## Feature 추가를 위한 확인"
   ]
  },
  {
   "cell_type": "code",
   "execution_count": 142,
   "id": "846d0579",
   "metadata": {},
   "outputs": [],
   "source": [
    "train_df_T$Age2 <- (train_df_T$Age %/% 10) * 10"
   ]
  },
  {
   "cell_type": "code",
   "execution_count": 143,
   "id": "fdedd92f",
   "metadata": {},
   "outputs": [
    {
     "data": {
      "text/html": [
       "<table>\n",
       "<thead><tr><th scope=col>X.U.FEFF.PassengerId</th><th scope=col>Survived</th><th scope=col>Pclass</th><th scope=col>Name</th><th scope=col>Age</th><th scope=col>SibSp</th><th scope=col>Parch</th><th scope=col>Ticket</th><th scope=col>Fare</th><th scope=col>Cabin</th><th scope=col>Embarked</th><th scope=col>SexCode</th><th scope=col>Embarked_C</th><th scope=col>Embarked_S</th><th scope=col>Embarked_Q</th><th scope=col>Age2</th></tr></thead>\n",
       "<tbody>\n",
       "\t<tr><td> 1                            </td><td>0                             </td><td>3                             </td><td>Braund, Mr. Owen Harris       </td><td>22                            </td><td>1                             </td><td>0                             </td><td>A/5 21171                     </td><td> 7.2500                       </td><td>                              </td><td>S                             </td><td>0                             </td><td>FALSE                         </td><td> TRUE                         </td><td>FALSE                         </td><td>20                            </td></tr>\n",
       "\t<tr><td> 5                            </td><td>0                             </td><td>3                             </td><td>Allen, Mr. William Henry      </td><td>35                            </td><td>0                             </td><td>0                             </td><td>373450                        </td><td> 8.0500                       </td><td>                              </td><td>S                             </td><td>0                             </td><td>FALSE                         </td><td> TRUE                         </td><td>FALSE                         </td><td>30                            </td></tr>\n",
       "\t<tr><td> 6                            </td><td>0                             </td><td>3                             </td><td>Moran, Mr. James              </td><td>NA                            </td><td>0                             </td><td>0                             </td><td>330877                        </td><td> 8.4583                       </td><td>                              </td><td>Q                             </td><td>0                             </td><td>FALSE                         </td><td>FALSE                         </td><td> TRUE                         </td><td>NA                            </td></tr>\n",
       "\t<tr><td> 7                            </td><td>0                             </td><td>1                             </td><td>McCarthy, Mr. Timothy J       </td><td>54                            </td><td>0                             </td><td>0                             </td><td>17463                         </td><td>51.8625                       </td><td>E46                           </td><td>S                             </td><td>0                             </td><td>FALSE                         </td><td> TRUE                         </td><td>FALSE                         </td><td>50                            </td></tr>\n",
       "\t<tr><td> 8                            </td><td>0                             </td><td>3                             </td><td>Palsson, Master. Gosta Leonard</td><td> 2                            </td><td>3                             </td><td>1                             </td><td>349909                        </td><td>21.0750                       </td><td>                              </td><td>S                             </td><td>0                             </td><td>FALSE                         </td><td> TRUE                         </td><td>FALSE                         </td><td> 0                            </td></tr>\n",
       "\t<tr><td>13                            </td><td>0                             </td><td>3                             </td><td>Saundercock, Mr. William Henry</td><td>20                            </td><td>0                             </td><td>0                             </td><td>A/5. 2151                     </td><td> 8.0500                       </td><td>                              </td><td>S                             </td><td>0                             </td><td>FALSE                         </td><td> TRUE                         </td><td>FALSE                         </td><td>20                            </td></tr>\n",
       "</tbody>\n",
       "</table>\n"
      ],
      "text/latex": [
       "\\begin{tabular}{r|llllllllllllllll}\n",
       " X.U.FEFF.PassengerId & Survived & Pclass & Name & Age & SibSp & Parch & Ticket & Fare & Cabin & Embarked & SexCode & Embarked\\_C & Embarked\\_S & Embarked\\_Q & Age2\\\\\n",
       "\\hline\n",
       "\t  1                             & 0                              & 3                              & Braund, Mr. Owen Harris        & 22                             & 1                              & 0                              & A/5 21171                      &  7.2500                        &                                & S                              & 0                              & FALSE                          &  TRUE                          & FALSE                          & 20                            \\\\\n",
       "\t  5                             & 0                              & 3                              & Allen, Mr. William Henry       & 35                             & 0                              & 0                              & 373450                         &  8.0500                        &                                & S                              & 0                              & FALSE                          &  TRUE                          & FALSE                          & 30                            \\\\\n",
       "\t  6                             & 0                              & 3                              & Moran, Mr. James               & NA                             & 0                              & 0                              & 330877                         &  8.4583                        &                                & Q                              & 0                              & FALSE                          & FALSE                          &  TRUE                          & NA                            \\\\\n",
       "\t  7                             & 0                              & 1                              & McCarthy, Mr. Timothy J        & 54                             & 0                              & 0                              & 17463                          & 51.8625                        & E46                            & S                              & 0                              & FALSE                          &  TRUE                          & FALSE                          & 50                            \\\\\n",
       "\t  8                             & 0                              & 3                              & Palsson, Master. Gosta Leonard &  2                             & 3                              & 1                              & 349909                         & 21.0750                        &                                & S                              & 0                              & FALSE                          &  TRUE                          & FALSE                          &  0                            \\\\\n",
       "\t 13                             & 0                              & 3                              & Saundercock, Mr. William Henry & 20                             & 0                              & 0                              & A/5. 2151                      &  8.0500                        &                                & S                              & 0                              & FALSE                          &  TRUE                          & FALSE                          & 20                            \\\\\n",
       "\\end{tabular}\n"
      ],
      "text/markdown": [
       "\n",
       "| X.U.FEFF.PassengerId | Survived | Pclass | Name | Age | SibSp | Parch | Ticket | Fare | Cabin | Embarked | SexCode | Embarked_C | Embarked_S | Embarked_Q | Age2 |\n",
       "|---|---|---|---|---|---|---|---|---|---|---|---|---|---|---|---|\n",
       "|  1                             | 0                              | 3                              | Braund, Mr. Owen Harris        | 22                             | 1                              | 0                              | A/5 21171                      |  7.2500                        |                                | S                              | 0                              | FALSE                          |  TRUE                          | FALSE                          | 20                             |\n",
       "|  5                             | 0                              | 3                              | Allen, Mr. William Henry       | 35                             | 0                              | 0                              | 373450                         |  8.0500                        |                                | S                              | 0                              | FALSE                          |  TRUE                          | FALSE                          | 30                             |\n",
       "|  6                             | 0                              | 3                              | Moran, Mr. James               | NA                             | 0                              | 0                              | 330877                         |  8.4583                        |                                | Q                              | 0                              | FALSE                          | FALSE                          |  TRUE                          | NA                             |\n",
       "|  7                             | 0                              | 1                              | McCarthy, Mr. Timothy J        | 54                             | 0                              | 0                              | 17463                          | 51.8625                        | E46                            | S                              | 0                              | FALSE                          |  TRUE                          | FALSE                          | 50                             |\n",
       "|  8                             | 0                              | 3                              | Palsson, Master. Gosta Leonard |  2                             | 3                              | 1                              | 349909                         | 21.0750                        |                                | S                              | 0                              | FALSE                          |  TRUE                          | FALSE                          |  0                             |\n",
       "| 13                             | 0                              | 3                              | Saundercock, Mr. William Henry | 20                             | 0                              | 0                              | A/5. 2151                      |  8.0500                        |                                | S                              | 0                              | FALSE                          |  TRUE                          | FALSE                          | 20                             |\n",
       "\n"
      ],
      "text/plain": [
       "  X.U.FEFF.PassengerId Survived Pclass Name                           Age SibSp\n",
       "1  1                   0        3      Braund, Mr. Owen Harris        22  1    \n",
       "2  5                   0        3      Allen, Mr. William Henry       35  0    \n",
       "3  6                   0        3      Moran, Mr. James               NA  0    \n",
       "4  7                   0        1      McCarthy, Mr. Timothy J        54  0    \n",
       "5  8                   0        3      Palsson, Master. Gosta Leonard  2  3    \n",
       "6 13                   0        3      Saundercock, Mr. William Henry 20  0    \n",
       "  Parch Ticket    Fare    Cabin Embarked SexCode Embarked_C Embarked_S\n",
       "1 0     A/5 21171  7.2500       S        0       FALSE       TRUE     \n",
       "2 0     373450     8.0500       S        0       FALSE       TRUE     \n",
       "3 0     330877     8.4583       Q        0       FALSE      FALSE     \n",
       "4 0     17463     51.8625 E46   S        0       FALSE       TRUE     \n",
       "5 1     349909    21.0750       S        0       FALSE       TRUE     \n",
       "6 0     A/5. 2151  8.0500       S        0       FALSE       TRUE     \n",
       "  Embarked_Q Age2\n",
       "1 FALSE      20  \n",
       "2 FALSE      30  \n",
       "3  TRUE      NA  \n",
       "4 FALSE      50  \n",
       "5 FALSE       0  \n",
       "6 FALSE      20  "
      ]
     },
     "metadata": {},
     "output_type": "display_data"
    }
   ],
   "source": [
    "head(train_df_T)"
   ]
  },
  {
   "cell_type": "code",
   "execution_count": 144,
   "id": "207d0428",
   "metadata": {},
   "outputs": [
    {
     "data": {
      "image/png": "[encoded data removed]",
      "text/plain": [
       "Plot with title \"연령대별 생존수\""
      ]
     },
     "metadata": {},
     "output_type": "display_data"
    }
   ],
   "source": [
    "# 나이별 생존\n",
    "par(family = \"AppleGothic\")\n",
    "\n",
    "barplot(t(table(train_df_T$Age2, train_df_T$Survived)),\n",
    "        beside = T,\n",
    "        col = c(\"red\", \"blue\"),\n",
    "        xlab = \"연령대\",\n",
    "        ylab = \"생존수\",\n",
    "        ylim = c(0, 180),\n",
    "        main = \"연령대별 생존수\"\n",
    "       \n",
    "       )\n",
    "\n",
    "legend(1, 170,   # x, y 좌료\n",
    "      c(\"사망\", \"생존\"),\n",
    "      fill = c(\"red\", \"blue\"),      \n",
    "      )\n"
   ]
  },
  {
   "cell_type": "code",
   "execution_count": 145,
   "id": "ff7c45c4",
   "metadata": {},
   "outputs": [
    {
     "data": {
      "image/png": "[encoded data removed]",
      "text/plain": [
       "plot without title"
      ]
     },
     "metadata": {},
     "output_type": "display_data"
    }
   ],
   "source": [
    "# 항구별 나이\n",
    "par(family = \"AppleGothic\")\n",
    "\n",
    "barplot(t(table(train_df_T$Age2, train_df_T$Embarked)),\n",
    "        beside = T,\n",
    "        col = c(\"red\", \"blue\", \"yellow\"),\n",
    "        ylim = c(0, 200)\n",
    "       )\n",
    "\n",
    "legend(1, 170,   # x, y 좌료\n",
    "      c(\"C\", \"Q\", \"S\"),\n",
    "      fill = c(\"red\", \"blue\", \"yellow\"),      \n",
    "      )\n"
   ]
  },
  {
   "cell_type": "code",
   "execution_count": 154,
   "id": "b8380fde",
   "metadata": {},
   "outputs": [
    {
     "data": {
      "image/png": "[encoded data removed]",
      "text/plain": [
       "plot without title"
      ]
     },
     "metadata": {},
     "output_type": "display_data"
    }
   ],
   "source": [
    "barplot(t(table(train_df_T$Age2, train_df_T$Pclass)),\n",
    "        beside = T,\n",
    "        col = c(\"red\", \"blue\", \"yellow\"),\n",
    "        ylim = c(0, 150),        \n",
    "       \n",
    "       )\n",
    "\n",
    "\n",
    "legend(1, 100,   # x, y 좌료\n",
    "      c(\"1\", \"2\", \"3\"),\n",
    "      fill = c(\"red\", \"blue\", \"yellow\"),      \n",
    "      )\n"
   ]
  },
  {
   "cell_type": "code",
   "execution_count": 155,
   "id": "e04f4281",
   "metadata": {},
   "outputs": [
    {
     "data": {
      "image/png": "[encoded data removed]",
      "text/plain": [
       "Plot with title “연령대별 남성 / 여성”"
      ]
     },
     "metadata": {},
     "output_type": "display_data"
    }
   ],
   "source": [
    "\n",
    "par(family = \"AppleGothic\")\n",
    "barplot(t(table(train_df_T$Age2, train_df_T$SexCode)),\n",
    "        beside = T,\n",
    "        col = c(\"red\", \"blue\"),\n",
    "        ylim = c(0, 180),\n",
    "        main = \"연령대별 남성 / 여성\",\n",
    "        ylab = \"인구수\",\n",
    "        xlab = \"연령대\"\n",
    "        \n",
    "       )\n",
    "\n",
    "legend(1, 130,   # x, y 좌료\n",
    "      c(\"남성\", \"여성\"),\n",
    "      fill = c(\"red\", \"blue\"),      \n",
    "      )"
   ]
  },
  {
   "cell_type": "code",
   "execution_count": 156,
   "id": "0fbd84ff",
   "metadata": {},
   "outputs": [
    {
     "data": {
      "image/png": "[encoded data removed]",
      "text/plain": [
       "Plot with title “연령대별 남성 / 여성”"
      ]
     },
     "metadata": {},
     "output_type": "display_data"
    }
   ],
   "source": [
    "par(mfrow = c(2,2)) \n",
    "par(family = \"AppleGothic\")\n",
    "\n",
    "barplot(t(table(train_df_T$Age2, train_df_T$Survived)),\n",
    "        beside = T,\n",
    "        col = c(\"red\", \"blue\"),\n",
    "        xlab = \"연령대\",\n",
    "        ylab = \"생존수\",\n",
    "        ylim = c(0, 180),\n",
    "        main = \"연령대별 생존수\"\n",
    "       \n",
    "       )\n",
    "\n",
    "legend(11, 170,   # x, y 좌료\n",
    "      c(\"사망\", \"생존\"),\n",
    "      fill = c(\"red\", \"blue\"),      \n",
    "      )\n",
    "\n",
    "barplot(t(table(train_df_T$Age2, train_df_T$Embarked)),\n",
    "        beside = T,\n",
    "        col = c(\"red\", \"blue\", \"yellow\"),\n",
    "        ylim = c(0, 200),\n",
    "        main = \"항구별 연령대\",\n",
    "        xlab = \"연령대\",\n",
    "        ylab = \"인구수\"\n",
    "       )\n",
    "\n",
    "legend(1, 170,   # x, y 좌료\n",
    "      c(\"C\", \"Q\", \"S\"),\n",
    "      fill = c(\"red\", \"blue\", \"yellow\"),      \n",
    "      )\n",
    "\n",
    "\n",
    "barplot(t(table(train_df_T$Age2, train_df_T$Pclass)),\n",
    "        beside = T,\n",
    "        col = c(\"red\", \"blue\", \"yellow\"),\n",
    "        ylim = c(0, 150),  \n",
    "        main = \"등급별 연령대\",\n",
    "        xlab = \"연령대\",\n",
    "        ylab = \"인구수\",\n",
    "       \n",
    "       )\n",
    "\n",
    "\n",
    "legend(20, 120,   # x, y 좌료\n",
    "      c(\"1\", \"2\", \"3\"),\n",
    "      fill = c(\"red\", \"blue\", \"yellow\"),      \n",
    "      )\n",
    "\n",
    "\n",
    "barplot(t(table(train_df_T$Age2, train_df_T$SexCode)),\n",
    "        beside = T,\n",
    "        col = c(\"red\", \"blue\"),\n",
    "        ylim = c(0, 180),\n",
    "        main = \"연령대별 남성 / 여성\",\n",
    "        ylab = \"인구수\",\n",
    "        xlab = \"연령대\"\n",
    "        \n",
    "       )\n",
    "\n",
    "legend(20, 130,   # x, y 좌료\n",
    "      c(\"남성\", \"여성\"),\n",
    "      fill = c(\"red\", \"blue\"),      \n",
    "      )"
   ]
  },
  {
   "cell_type": "code",
   "execution_count": 157,
   "id": "632d76a6",
   "metadata": {},
   "outputs": [
    {
     "data": {
      "text/html": [
       "<table>\n",
       "<thead><tr><th scope=col>PassengerId</th><th scope=col>Survived</th><th scope=col>Pclass</th><th scope=col>Name</th><th scope=col>Age</th><th scope=col>SibSp</th><th scope=col>Parch</th><th scope=col>Ticket</th><th scope=col>Fare</th><th scope=col>Cabin</th><th scope=col>Embarked</th><th scope=col>SexCode</th><th scope=col>Embarked_C</th><th scope=col>Embarked_S</th><th scope=col>Embarked_Q</th><th scope=col>Age2</th></tr></thead>\n",
       "<tbody>\n",
       "\t<tr><td> 1                            </td><td>0                             </td><td>3                             </td><td>Braund, Mr. Owen Harris       </td><td>22                            </td><td>1                             </td><td>0                             </td><td>A/5 21171                     </td><td> 7.2500                       </td><td>                              </td><td>S                             </td><td>0                             </td><td>FALSE                         </td><td> TRUE                         </td><td>FALSE                         </td><td>20                            </td></tr>\n",
       "\t<tr><td> 5                            </td><td>0                             </td><td>3                             </td><td>Allen, Mr. William Henry      </td><td>35                            </td><td>0                             </td><td>0                             </td><td>373450                        </td><td> 8.0500                       </td><td>                              </td><td>S                             </td><td>0                             </td><td>FALSE                         </td><td> TRUE                         </td><td>FALSE                         </td><td>30                            </td></tr>\n",
       "\t<tr><td> 6                            </td><td>0                             </td><td>3                             </td><td>Moran, Mr. James              </td><td>NA                            </td><td>0                             </td><td>0                             </td><td>330877                        </td><td> 8.4583                       </td><td>                              </td><td>Q                             </td><td>0                             </td><td>FALSE                         </td><td>FALSE                         </td><td> TRUE                         </td><td>NA                            </td></tr>\n",
       "\t<tr><td> 7                            </td><td>0                             </td><td>1                             </td><td>McCarthy, Mr. Timothy J       </td><td>54                            </td><td>0                             </td><td>0                             </td><td>17463                         </td><td>51.8625                       </td><td>E46                           </td><td>S                             </td><td>0                             </td><td>FALSE                         </td><td> TRUE                         </td><td>FALSE                         </td><td>50                            </td></tr>\n",
       "\t<tr><td> 8                            </td><td>0                             </td><td>3                             </td><td>Palsson, Master. Gosta Leonard</td><td> 2                            </td><td>3                             </td><td>1                             </td><td>349909                        </td><td>21.0750                       </td><td>                              </td><td>S                             </td><td>0                             </td><td>FALSE                         </td><td> TRUE                         </td><td>FALSE                         </td><td> 0                            </td></tr>\n",
       "\t<tr><td>13                            </td><td>0                             </td><td>3                             </td><td>Saundercock, Mr. William Henry</td><td>20                            </td><td>0                             </td><td>0                             </td><td>A/5. 2151                     </td><td> 8.0500                       </td><td>                              </td><td>S                             </td><td>0                             </td><td>FALSE                         </td><td> TRUE                         </td><td>FALSE                         </td><td>20                            </td></tr>\n",
       "</tbody>\n",
       "</table>\n"
      ],
      "text/latex": [
       "\\begin{tabular}{r|llllllllllllllll}\n",
       " PassengerId & Survived & Pclass & Name & Age & SibSp & Parch & Ticket & Fare & Cabin & Embarked & SexCode & Embarked\\_C & Embarked\\_S & Embarked\\_Q & Age2\\\\\n",
       "\\hline\n",
       "\t  1                             & 0                              & 3                              & Braund, Mr. Owen Harris        & 22                             & 1                              & 0                              & A/5 21171                      &  7.2500                        &                                & S                              & 0                              & FALSE                          &  TRUE                          & FALSE                          & 20                            \\\\\n",
       "\t  5                             & 0                              & 3                              & Allen, Mr. William Henry       & 35                             & 0                              & 0                              & 373450                         &  8.0500                        &                                & S                              & 0                              & FALSE                          &  TRUE                          & FALSE                          & 30                            \\\\\n",
       "\t  6                             & 0                              & 3                              & Moran, Mr. James               & NA                             & 0                              & 0                              & 330877                         &  8.4583                        &                                & Q                              & 0                              & FALSE                          & FALSE                          &  TRUE                          & NA                            \\\\\n",
       "\t  7                             & 0                              & 1                              & McCarthy, Mr. Timothy J        & 54                             & 0                              & 0                              & 17463                          & 51.8625                        & E46                            & S                              & 0                              & FALSE                          &  TRUE                          & FALSE                          & 50                            \\\\\n",
       "\t  8                             & 0                              & 3                              & Palsson, Master. Gosta Leonard &  2                             & 3                              & 1                              & 349909                         & 21.0750                        &                                & S                              & 0                              & FALSE                          &  TRUE                          & FALSE                          &  0                            \\\\\n",
       "\t 13                             & 0                              & 3                              & Saundercock, Mr. William Henry & 20                             & 0                              & 0                              & A/5. 2151                      &  8.0500                        &                                & S                              & 0                              & FALSE                          &  TRUE                          & FALSE                          & 20                            \\\\\n",
       "\\end{tabular}\n"
      ],
      "text/markdown": [
       "\n",
       "| PassengerId | Survived | Pclass | Name | Age | SibSp | Parch | Ticket | Fare | Cabin | Embarked | SexCode | Embarked_C | Embarked_S | Embarked_Q | Age2 |\n",
       "|---|---|---|---|---|---|---|---|---|---|---|---|---|---|---|---|\n",
       "|  1                             | 0                              | 3                              | Braund, Mr. Owen Harris        | 22                             | 1                              | 0                              | A/5 21171                      |  7.2500                        |                                | S                              | 0                              | FALSE                          |  TRUE                          | FALSE                          | 20                             |\n",
       "|  5                             | 0                              | 3                              | Allen, Mr. William Henry       | 35                             | 0                              | 0                              | 373450                         |  8.0500                        |                                | S                              | 0                              | FALSE                          |  TRUE                          | FALSE                          | 30                             |\n",
       "|  6                             | 0                              | 3                              | Moran, Mr. James               | NA                             | 0                              | 0                              | 330877                         |  8.4583                        |                                | Q                              | 0                              | FALSE                          | FALSE                          |  TRUE                          | NA                             |\n",
       "|  7                             | 0                              | 1                              | McCarthy, Mr. Timothy J        | 54                             | 0                              | 0                              | 17463                          | 51.8625                        | E46                            | S                              | 0                              | FALSE                          |  TRUE                          | FALSE                          | 50                             |\n",
       "|  8                             | 0                              | 3                              | Palsson, Master. Gosta Leonard |  2                             | 3                              | 1                              | 349909                         | 21.0750                        |                                | S                              | 0                              | FALSE                          |  TRUE                          | FALSE                          |  0                             |\n",
       "| 13                             | 0                              | 3                              | Saundercock, Mr. William Henry | 20                             | 0                              | 0                              | A/5. 2151                      |  8.0500                        |                                | S                              | 0                              | FALSE                          |  TRUE                          | FALSE                          | 20                             |\n",
       "\n"
      ],
      "text/plain": [
       "  PassengerId Survived Pclass Name                           Age SibSp Parch\n",
       "1  1          0        3      Braund, Mr. Owen Harris        22  1     0    \n",
       "2  5          0        3      Allen, Mr. William Henry       35  0     0    \n",
       "3  6          0        3      Moran, Mr. James               NA  0     0    \n",
       "4  7          0        1      McCarthy, Mr. Timothy J        54  0     0    \n",
       "5  8          0        3      Palsson, Master. Gosta Leonard  2  3     1    \n",
       "6 13          0        3      Saundercock, Mr. William Henry 20  0     0    \n",
       "  Ticket    Fare    Cabin Embarked SexCode Embarked_C Embarked_S Embarked_Q\n",
       "1 A/5 21171  7.2500       S        0       FALSE       TRUE      FALSE     \n",
       "2 373450     8.0500       S        0       FALSE       TRUE      FALSE     \n",
       "3 330877     8.4583       Q        0       FALSE      FALSE       TRUE     \n",
       "4 17463     51.8625 E46   S        0       FALSE       TRUE      FALSE     \n",
       "5 349909    21.0750       S        0       FALSE       TRUE      FALSE     \n",
       "6 A/5. 2151  8.0500       S        0       FALSE       TRUE      FALSE     \n",
       "  Age2\n",
       "1 20  \n",
       "2 30  \n",
       "3 NA  \n",
       "4 50  \n",
       "5  0  \n",
       "6 20  "
      ]
     },
     "metadata": {},
     "output_type": "display_data"
    }
   ],
   "source": [
    "# 항구별 생존, 사망 연령대\n",
    "head(train_df_T)"
   ]
  },
  {
   "cell_type": "code",
   "execution_count": 169,
   "id": "a7e0b673",
   "metadata": {},
   "outputs": [
    {
     "data": {
      "image/png": "[encoded data removed]",
      "text/plain": [
       "Plot with title “C항구 연령대별 생존”"
      ]
     },
     "metadata": {},
     "output_type": "display_data"
    }
   ],
   "source": [
    "CC <- subset(train_df_T, Embarked_C == TRUE)\n",
    "par(family = \"AppleGothic\")\n",
    "barplot(t(table(CC$Age2, CC$Survived)),\n",
    "        beside = T,\n",
    "        col = c(\"red\", \"blue\"),\n",
    "        xlab = \"연령대\",\n",
    "        ylim = c(0, 40),\n",
    "        main = \"C항구 연령대별 생존\"\n",
    "       \n",
    "       \n",
    "       )"
   ]
  },
  {
   "cell_type": "code",
   "execution_count": 175,
   "id": "980fbd0e",
   "metadata": {},
   "outputs": [
    {
     "data": {
      "image/png": "[encoded data removed]",
      "text/plain": [
       "Plot with title “S항구 연령대별 생존”"
      ]
     },
     "metadata": {},
     "output_type": "display_data"
    }
   ],
   "source": [
    "par(mfrow = c(2,2)) \n",
    "par(family = \"AppleGothic\")\n",
    "\n",
    "\n",
    "CC <- subset(train_df_T, Embarked_C == TRUE)\n",
    "par(family = \"AppleGothic\")\n",
    "barplot(t(table(CC$Age2, CC$Survived)),\n",
    "        beside = T,\n",
    "        col = c(\"red\", \"blue\"),\n",
    "        xlab = \"연령대\",\n",
    "        ylim = c(0, 40),\n",
    "        main = \"C항구 연령대별 생존\"      \n",
    "       \n",
    "       )\n",
    "\n",
    "\n",
    "QQ <- subset(train_df_T, Embarked_Q == TRUE)\n",
    "par(family = \"AppleGothic\")\n",
    "barplot(t(table(QQ$Age2, QQ$Survived)),\n",
    "        beside = T,\n",
    "        col = c(\"red\", \"blue\"),\n",
    "        xlab = \"연령대\",\n",
    "        ylim = c(0, 40),\n",
    "        main = \"Q항구 연령대별 생존\"      \n",
    "       \n",
    "       )\n",
    "\n",
    "\n",
    "\n",
    "SS <- subset(train_df_T, Embarked_S == TRUE)\n",
    "par(family = \"AppleGothic\")\n",
    "barplot(t(table(SS$Age2, SS$Survived)),\n",
    "        beside = T,\n",
    "        col = c(\"red\", \"blue\"),\n",
    "        xlab = \"연령대\",\n",
    "        ylim = c(0, 150),\n",
    "        main = \"S항구 연령대별 생존\"      \n",
    "       \n",
    "       )"
   ]
  },
  {
   "cell_type": "code",
   "execution_count": 182,
   "id": "cbaf5301",
   "metadata": {},
   "outputs": [
    {
     "data": {
      "image/png": "[encoded data removed]",
      "text/plain": [
       "Plot with title “C항구 1등석 연령대별 생존”"
      ]
     },
     "metadata": {},
     "output_type": "display_data"
    }
   ],
   "source": [
    "# 항구별 등급별 생존/사망\n",
    "# C 항구\n",
    "\n",
    "CC <- subset(train_df_T, Embarked_C == TRUE)\n",
    "par(mfrow = c(2,2)) \n",
    "par(family = \"AppleGothic\")\n",
    "\n",
    "CC1 <- subset(CC, Pclass == 1)\n",
    "\n",
    "par(family = \"AppleGothic\")\n",
    "barplot(t(table(CC1$Age2, CC1$Survived)),\n",
    "        beside = T,\n",
    "        col = c(\"red\", \"blue\"),\n",
    "        xlab = \"연령대\",\n",
    "        ylim = c(0, 20),\n",
    "        main = \"C항구 1등석 연령대별 생존\"   \n",
    "       )\n",
    "\n",
    "\n",
    "CC2 <- subset(CC, Pclass == 2)\n",
    "\n",
    "par(family = \"AppleGothic\")\n",
    "barplot(t(table(CC2$Age2, CC2$Survived)),\n",
    "        beside = T,\n",
    "        col = c(\"red\", \"blue\"),\n",
    "        xlab = \"연령대\",\n",
    "        ylim = c(0, 20),\n",
    "        main = \"C항구 2등석 연령대별 생존\"      \n",
    "       )\n",
    "\n",
    "CC3 <- subset(CC, Pclass == 3)\n",
    "\n",
    "par(family = \"AppleGothic\")\n",
    "barplot(t(table(CC3$Age2, CC3$Survived)),\n",
    "        beside = T,\n",
    "        col = c(\"red\", \"blue\"),\n",
    "        xlab = \"연령대\",\n",
    "        ylim = c(0, 20),\n",
    "        main = \"C항구 1등석 연령대별 생존\"      \n",
    "       )"
   ]
  },
  {
   "cell_type": "code",
   "execution_count": 183,
   "id": "6d9ddca6",
   "metadata": {},
   "outputs": [
    {
     "data": {
      "image/png": "[encoded data removed]",
      "text/plain": [
       "Plot with title “C항구 3등석 연령대별 생존”"
      ]
     },
     "metadata": {},
     "output_type": "display_data"
    }
   ],
   "source": [
    "# 항구별 등급별 생존/사망\n",
    "# C 항구\n",
    "\n",
    "QQ <- subset(train_df_T, Embarked_Q == TRUE)\n",
    "par(mfrow = c(2,2)) \n",
    "par(family = \"AppleGothic\")\n",
    "\n",
    "QQ1 <- subset(QQ, Pclass == 1)\n",
    "\n",
    "par(family = \"AppleGothic\")\n",
    "barplot(t(table(QQ1$Age2, QQ1$Survived)),\n",
    "        beside = T,\n",
    "        col = c(\"red\", \"blue\"),\n",
    "        xlab = \"연령대\",\n",
    "        ylim = c(0, 20),\n",
    "        main = \"Q항구 1등석 연령대별 생존\"   \n",
    "       )\n",
    "\n",
    "\n",
    "QQ2 <- subset(QQ, Pclass == 2)\n",
    "\n",
    "par(family = \"AppleGothic\")\n",
    "barplot(t(table(QQ2$Age2, QQ2$Survived)),\n",
    "        beside = T,\n",
    "        col = c(\"red\", \"blue\"),\n",
    "        xlab = \"연령대\",\n",
    "        ylim = c(0, 20),\n",
    "        main = \"C항구 2등석 연령대별 생존\"      \n",
    "       )\n",
    "\n",
    "QQ3 <- subset(QQ, Pclass == 3)\n",
    "\n",
    "par(family = \"AppleGothic\")\n",
    "barplot(t(table(QQ3$Age2, QQ3$Survived)),\n",
    "        beside = T,\n",
    "        col = c(\"red\", \"blue\"),\n",
    "        xlab = \"연령대\",\n",
    "        ylim = c(0, 20),\n",
    "        main = \"C항구 3등석 연령대별 생존\"      \n",
    "       )"
   ]
  },
  {
   "cell_type": "code",
   "execution_count": 189,
   "id": "6f328d12",
   "metadata": {},
   "outputs": [
    {
     "data": {
      "image/png": "[encoded data removed]",
      "text/plain": [
       "Plot with title “S항구 3등석 연령대별 생존”"
      ]
     },
     "metadata": {},
     "output_type": "display_data"
    }
   ],
   "source": [
    "# 항구별 등급별 생존/사망\n",
    "# S 항구\n",
    "\n",
    "SS <- subset(train_df_T, Embarked_S == TRUE)\n",
    "par(mfrow = c(2,2)) \n",
    "par(family = \"AppleGothic\")\n",
    "\n",
    "SS1 <- subset(SS, Pclass == 1)\n",
    "\n",
    "par(family = \"AppleGothic\")\n",
    "barplot(t(table(SS1$Age2, SS1$Survived)),\n",
    "        beside = T,\n",
    "        col = c(\"red\", \"blue\"),\n",
    "        xlab = \"연령대\",\n",
    "        ylim = c(0, 40),\n",
    "        main = \"S항구 1등석 연령대별 생존\"   \n",
    "       )\n",
    "\n",
    "\n",
    "SS2 <- subset(SS, Pclass == 2)\n",
    "\n",
    "par(family = \"AppleGothic\")\n",
    "barplot(t(table(SS2$Age2, SS2$Survived)),\n",
    "        beside = T,\n",
    "        col = c(\"red\", \"blue\"),\n",
    "        xlab = \"연령대\",\n",
    "        ylim = c(0, 40),\n",
    "        main = \"S항구 2등석 연령대별 생존\"      \n",
    "       )\n",
    "\n",
    "SS3 <- subset(QQ, Pclass == 3)\n",
    "\n",
    "par(family = \"AppleGothic\")\n",
    "barplot(t(table(SS3$Age2, SS3$Survived)),\n",
    "        beside = T,\n",
    "        col = c(\"red\", \"blue\"),\n",
    "        xlab = \"연령대\",\n",
    "        ylim = c(0, 40),\n",
    "        main = \"S항구 3등석 연령대별 생존\"      \n",
    "       )"
   ]
  },
  {
   "cell_type": "code",
   "execution_count": 186,
   "id": "12852a6d",
   "metadata": {},
   "outputs": [],
   "source": []
  },
  {
   "cell_type": "code",
   "execution_count": null,
   "id": "822008db",
   "metadata": {},
   "outputs": [],
   "source": []
  },
  {
   "cell_type": "code",
   "execution_count": null,
   "id": "df139c76",
   "metadata": {},
   "outputs": [],
   "source": []
  }
 ],
 "metadata": {
  "kernelspec": {
   "display_name": "R",
   "language": "R",
   "name": "ir"
  },
  "language_info": {
   "codemirror_mode": "r",
   "file_extension": ".r",
   "mimetype": "text/x-r-source",
   "name": "R",
   "pygments_lexer": "r",
   "version": "3.6.1"
  }
 },
 "nbformat": 4,
 "nbformat_minor": 5
}
