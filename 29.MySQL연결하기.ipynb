{
 "cells": [
  {
   "cell_type": "markdown",
   "id": "6e7f56a8",
   "metadata": {},
   "source": [
    "- Database Name : RSQL\n",
    "- Table Name : score\n",
    "- id, korean, english, mathmatics"
   ]
  },
  {
   "cell_type": "markdown",
   "id": "9049f2c8",
   "metadata": {},
   "source": [
    "- Anaconda Navigator\n",
    "- rJava, RMySQL 설치하기"
   ]
  },
  {
   "cell_type": "code",
   "execution_count": 3,
   "id": "ae0997b4",
   "metadata": {},
   "outputs": [
    {
     "name": "stderr",
     "output_type": "stream",
     "text": [
      "Loading required package: DBI\n"
     ]
    }
   ],
   "source": [
    "library(RMySQL)"
   ]
  },
  {
   "cell_type": "code",
   "execution_count": 4,
   "id": "fbef05eb",
   "metadata": {},
   "outputs": [],
   "source": [
    "# DB Connection\n",
    "\n",
    "conn <- dbConnect(MySQL(),\n",
    "                  dbname = 'RSQL',\n",
    "                  user = 'root',\n",
    "                  password = 'qwer1234',\n",
    "                  host = '127.0.0.1'                 \n",
    "                 )"
   ]
  },
  {
   "cell_type": "code",
   "execution_count": 5,
   "id": "cc424609",
   "metadata": {},
   "outputs": [
    {
     "data": {
      "text/html": [
       "'score'"
      ],
      "text/latex": [
       "'score'"
      ],
      "text/markdown": [
       "'score'"
      ],
      "text/plain": [
       "[1] \"score\""
      ]
     },
     "metadata": {},
     "output_type": "display_data"
    }
   ],
   "source": [
    "# 테이블 목록\n",
    "dbListTables(conn)"
   ]
  },
  {
   "cell_type": "code",
   "execution_count": 6,
   "id": "ddc6a628",
   "metadata": {},
   "outputs": [
    {
     "data": {
      "text/html": [
       "<ol class=list-inline>\n",
       "\t<li>'id'</li>\n",
       "\t<li>'korean'</li>\n",
       "\t<li>'english'</li>\n",
       "\t<li>'mathmatics'</li>\n",
       "</ol>\n"
      ],
      "text/latex": [
       "\\begin{enumerate*}\n",
       "\\item 'id'\n",
       "\\item 'korean'\n",
       "\\item 'english'\n",
       "\\item 'mathmatics'\n",
       "\\end{enumerate*}\n"
      ],
      "text/markdown": [
       "1. 'id'\n",
       "2. 'korean'\n",
       "3. 'english'\n",
       "4. 'mathmatics'\n",
       "\n",
       "\n"
      ],
      "text/plain": [
       "[1] \"id\"         \"korean\"     \"english\"    \"mathmatics\""
      ]
     },
     "metadata": {},
     "output_type": "display_data"
    }
   ],
   "source": [
    "# 테이블의 컬럼 목록\n",
    "dbListFields(conn, 'score')"
   ]
  },
  {
   "cell_type": "code",
   "execution_count": 7,
   "id": "bc299af4",
   "metadata": {},
   "outputs": [
    {
     "data": {
      "text/html": [
       "<table>\n",
       "<thead><tr><th scope=col>count(*)</th></tr></thead>\n",
       "<tbody>\n",
       "\t<tr><td>0</td></tr>\n",
       "</tbody>\n",
       "</table>\n"
      ],
      "text/latex": [
       "\\begin{tabular}{r|l}\n",
       " count(*)\\\\\n",
       "\\hline\n",
       "\t 0\\\\\n",
       "\\end{tabular}\n"
      ],
      "text/markdown": [
       "\n",
       "| count(*) |\n",
       "|---|\n",
       "| 0 |\n",
       "\n"
      ],
      "text/plain": [
       "  count(*)\n",
       "1 0       "
      ]
     },
     "metadata": {},
     "output_type": "display_data"
    }
   ],
   "source": [
    "# Select\n",
    "dbGetQuery(conn, 'select count(*) from score')"
   ]
  },
  {
   "cell_type": "code",
   "execution_count": 8,
   "id": "2951c54e",
   "metadata": {},
   "outputs": [
    {
     "data": {
      "text/html": [
       "<table>\n",
       "<thead><tr><th scope=col>id</th><th scope=col>korean</th><th scope=col>english</th><th scope=col>mathmatics</th></tr></thead>\n",
       "<tbody>\n",
       "</tbody>\n",
       "</table>\n"
      ],
      "text/latex": [
       "\\begin{tabular}{r|llll}\n",
       " id & korean & english & mathmatics\\\\\n",
       "\\hline\n",
       "\\end{tabular}\n"
      ],
      "text/markdown": [
       "\n",
       "| id | korean | english | mathmatics |\n",
       "|---|---|---|---|\n",
       "\n"
      ],
      "text/plain": [
       "     id korean english mathmatics"
      ]
     },
     "metadata": {},
     "output_type": "display_data"
    }
   ],
   "source": [
    "dbGetQuery(conn, 'select * from score')"
   ]
  },
  {
   "cell_type": "code",
   "execution_count": 17,
   "id": "046d787b",
   "metadata": {},
   "outputs": [
    {
     "data": {
      "text/plain": [
       "<MySQLResult:696320224,0,11>"
      ]
     },
     "metadata": {},
     "output_type": "display_data"
    },
    {
     "data": {
      "text/html": [
       "<table>\n",
       "<thead><tr><th scope=col>id</th><th scope=col>korean</th><th scope=col>english</th><th scope=col>mathmatics</th></tr></thead>\n",
       "<tbody>\n",
       "\t<tr><td>1  </td><td>100</td><td>100</td><td>100</td></tr>\n",
       "\t<tr><td>2  </td><td>100</td><td>100</td><td>100</td></tr>\n",
       "</tbody>\n",
       "</table>\n"
      ],
      "text/latex": [
       "\\begin{tabular}{r|llll}\n",
       " id & korean & english & mathmatics\\\\\n",
       "\\hline\n",
       "\t 1   & 100 & 100 & 100\\\\\n",
       "\t 2   & 100 & 100 & 100\\\\\n",
       "\\end{tabular}\n"
      ],
      "text/markdown": [
       "\n",
       "| id | korean | english | mathmatics |\n",
       "|---|---|---|---|\n",
       "| 1   | 100 | 100 | 100 |\n",
       "| 2   | 100 | 100 | 100 |\n",
       "\n"
      ],
      "text/plain": [
       "  id korean english mathmatics\n",
       "1 1  100    100     100       \n",
       "2 2  100    100     100       "
      ]
     },
     "metadata": {},
     "output_type": "display_data"
    }
   ],
   "source": [
    "# inster\n",
    "dbSendQuery(conn, 'insert into score values (1, 100, 100, 100)')\n",
    "\n",
    "result = dbGetQuery(conn, 'select * from score')\n",
    "result"
   ]
  },
  {
   "cell_type": "code",
   "execution_count": 20,
   "id": "07d2c9af",
   "metadata": {},
   "outputs": [
    {
     "data": {
      "text/plain": [
       "<MySQLResult:699158344,0,13>"
      ]
     },
     "metadata": {},
     "output_type": "display_data"
    },
    {
     "data": {
      "text/html": [
       "<table>\n",
       "<thead><tr><th scope=col>id</th><th scope=col>korean</th><th scope=col>english</th><th scope=col>mathmatics</th></tr></thead>\n",
       "<tbody>\n",
       "\t<tr><td>1  </td><td>100</td><td>100</td><td>100</td></tr>\n",
       "\t<tr><td>2  </td><td>90 </td><td>80 </td><td>70 </td></tr>\n",
       "</tbody>\n",
       "</table>\n"
      ],
      "text/latex": [
       "\\begin{tabular}{r|llll}\n",
       " id & korean & english & mathmatics\\\\\n",
       "\\hline\n",
       "\t 1   & 100 & 100 & 100\\\\\n",
       "\t 2   & 90  & 80  & 70 \\\\\n",
       "\\end{tabular}\n"
      ],
      "text/markdown": [
       "\n",
       "| id | korean | english | mathmatics |\n",
       "|---|---|---|---|\n",
       "| 1   | 100 | 100 | 100 |\n",
       "| 2   | 90  | 80  | 70  |\n",
       "\n"
      ],
      "text/plain": [
       "  id korean english mathmatics\n",
       "1 1  100    100     100       \n",
       "2 2  90     80      70        "
      ]
     },
     "metadata": {},
     "output_type": "display_data"
    }
   ],
   "source": [
    "# update\n",
    "dbSendQuery(conn, 'update score set korean=90, english=80, mathmatics=70 where id=2')\n",
    "\n",
    "result = dbGetQuery(conn, 'select * from score')\n",
    "result"
   ]
  },
  {
   "cell_type": "code",
   "execution_count": 23,
   "id": "2247e891",
   "metadata": {},
   "outputs": [
    {
     "data": {
      "text/plain": [
       "<MySQLResult:721461192,0,19>"
      ]
     },
     "metadata": {},
     "output_type": "display_data"
    },
    {
     "data": {
      "text/html": [
       "<table>\n",
       "<thead><tr><th scope=col>id</th><th scope=col>korean</th><th scope=col>english</th><th scope=col>mathmatics</th></tr></thead>\n",
       "<tbody>\n",
       "</tbody>\n",
       "</table>\n"
      ],
      "text/latex": [
       "\\begin{tabular}{r|llll}\n",
       " id & korean & english & mathmatics\\\\\n",
       "\\hline\n",
       "\\end{tabular}\n"
      ],
      "text/markdown": [
       "\n",
       "| id | korean | english | mathmatics |\n",
       "|---|---|---|---|\n",
       "\n"
      ],
      "text/plain": [
       "     id korean english mathmatics"
      ]
     },
     "metadata": {},
     "output_type": "display_data"
    }
   ],
   "source": [
    "# delete\n",
    "dbSendQuery(conn, 'delete from score')\n",
    "\n",
    "result = dbGetQuery(conn, 'select * from score')\n",
    "result"
   ]
  },
  {
   "cell_type": "code",
   "execution_count": null,
   "id": "d6216526",
   "metadata": {},
   "outputs": [],
   "source": [
    "# Database에 대용량 파일 넣을때 \n",
    "# SHOW VARIABLES LIKE 'local_infile';   \n",
    "# SET GLOBAL local_infile = 1;"
   ]
  },
  {
   "cell_type": "code",
   "execution_count": 24,
   "id": "5b95189c",
   "metadata": {},
   "outputs": [
    {
     "data": {
      "text/html": [
       "<table>\n",
       "<thead><tr><th scope=col>id</th><th scope=col>korean</th><th scope=col>english</th><th scope=col>mathematics</th></tr></thead>\n",
       "<tbody>\n",
       "\t<tr><td> 1 </td><td> 90</td><td> 80</td><td> 70</td></tr>\n",
       "\t<tr><td> 2 </td><td> 90</td><td> 88</td><td> 70</td></tr>\n",
       "\t<tr><td> 3 </td><td> 90</td><td> 89</td><td> 70</td></tr>\n",
       "\t<tr><td> 4 </td><td> 90</td><td> 87</td><td> 70</td></tr>\n",
       "\t<tr><td> 5 </td><td> 90</td><td> 60</td><td> 70</td></tr>\n",
       "\t<tr><td> 6 </td><td>100</td><td>100</td><td>100</td></tr>\n",
       "\t<tr><td> 7 </td><td>100</td><td>100</td><td>100</td></tr>\n",
       "\t<tr><td> 8 </td><td>100</td><td>100</td><td>100</td></tr>\n",
       "\t<tr><td> 9 </td><td>100</td><td>100</td><td>100</td></tr>\n",
       "\t<tr><td>10 </td><td>100</td><td>100</td><td>100</td></tr>\n",
       "</tbody>\n",
       "</table>\n"
      ],
      "text/latex": [
       "\\begin{tabular}{r|llll}\n",
       " id & korean & english & mathematics\\\\\n",
       "\\hline\n",
       "\t  1  &  90 &  80 &  70\\\\\n",
       "\t  2  &  90 &  88 &  70\\\\\n",
       "\t  3  &  90 &  89 &  70\\\\\n",
       "\t  4  &  90 &  87 &  70\\\\\n",
       "\t  5  &  90 &  60 &  70\\\\\n",
       "\t  6  & 100 & 100 & 100\\\\\n",
       "\t  7  & 100 & 100 & 100\\\\\n",
       "\t  8  & 100 & 100 & 100\\\\\n",
       "\t  9  & 100 & 100 & 100\\\\\n",
       "\t 10  & 100 & 100 & 100\\\\\n",
       "\\end{tabular}\n"
      ],
      "text/markdown": [
       "\n",
       "| id | korean | english | mathematics |\n",
       "|---|---|---|---|\n",
       "|  1  |  90 |  80 |  70 |\n",
       "|  2  |  90 |  88 |  70 |\n",
       "|  3  |  90 |  89 |  70 |\n",
       "|  4  |  90 |  87 |  70 |\n",
       "|  5  |  90 |  60 |  70 |\n",
       "|  6  | 100 | 100 | 100 |\n",
       "|  7  | 100 | 100 | 100 |\n",
       "|  8  | 100 | 100 | 100 |\n",
       "|  9  | 100 | 100 | 100 |\n",
       "| 10  | 100 | 100 | 100 |\n",
       "\n"
      ],
      "text/plain": [
       "   id korean english mathematics\n",
       "1   1  90     80      70        \n",
       "2   2  90     88      70        \n",
       "3   3  90     89      70        \n",
       "4   4  90     87      70        \n",
       "5   5  90     60      70        \n",
       "6   6 100    100     100        \n",
       "7   7 100    100     100        \n",
       "8   8 100    100     100        \n",
       "9   9 100    100     100        \n",
       "10 10 100    100     100        "
      ]
     },
     "metadata": {},
     "output_type": "display_data"
    }
   ],
   "source": [
    "# CVS file을 읽어서 MySQL에 넣기\n",
    "data <- read.csv(\"../Data/score.csv\", header = F)\n",
    "colnames(data) <- c('id', 'korean', 'english', 'mathematics')\n",
    "data"
   ]
  },
  {
   "cell_type": "code",
   "execution_count": 25,
   "id": "4a6dac5c",
   "metadata": {},
   "outputs": [
    {
     "data": {
      "text/html": [
       "TRUE"
      ],
      "text/latex": [
       "TRUE"
      ],
      "text/markdown": [
       "TRUE"
      ],
      "text/plain": [
       "[1] TRUE"
      ]
     },
     "metadata": {},
     "output_type": "display_data"
    }
   ],
   "source": [
    "dbWriteTable(conn, \"score\", data, overwrite=T, row.names=F) # append = T 이어서 붙일때"
   ]
  },
  {
   "cell_type": "code",
   "execution_count": 27,
   "id": "0c1b39e4",
   "metadata": {},
   "outputs": [
    {
     "data": {
      "text/html": [
       "<table>\n",
       "<thead><tr><th scope=col>id</th><th scope=col>korean</th><th scope=col>english</th><th scope=col>mathematics</th></tr></thead>\n",
       "<tbody>\n",
       "\t<tr><td> 1 </td><td> 90</td><td> 80</td><td> 70</td></tr>\n",
       "\t<tr><td> 2 </td><td> 90</td><td> 88</td><td> 70</td></tr>\n",
       "\t<tr><td> 3 </td><td> 90</td><td> 89</td><td> 70</td></tr>\n",
       "\t<tr><td> 4 </td><td> 90</td><td> 87</td><td> 70</td></tr>\n",
       "\t<tr><td> 5 </td><td> 90</td><td> 60</td><td> 70</td></tr>\n",
       "\t<tr><td> 6 </td><td>100</td><td>100</td><td>100</td></tr>\n",
       "\t<tr><td> 7 </td><td>100</td><td>100</td><td>100</td></tr>\n",
       "\t<tr><td> 8 </td><td>100</td><td>100</td><td>100</td></tr>\n",
       "\t<tr><td> 9 </td><td>100</td><td>100</td><td>100</td></tr>\n",
       "\t<tr><td>10 </td><td>100</td><td>100</td><td>100</td></tr>\n",
       "</tbody>\n",
       "</table>\n"
      ],
      "text/latex": [
       "\\begin{tabular}{r|llll}\n",
       " id & korean & english & mathematics\\\\\n",
       "\\hline\n",
       "\t  1  &  90 &  80 &  70\\\\\n",
       "\t  2  &  90 &  88 &  70\\\\\n",
       "\t  3  &  90 &  89 &  70\\\\\n",
       "\t  4  &  90 &  87 &  70\\\\\n",
       "\t  5  &  90 &  60 &  70\\\\\n",
       "\t  6  & 100 & 100 & 100\\\\\n",
       "\t  7  & 100 & 100 & 100\\\\\n",
       "\t  8  & 100 & 100 & 100\\\\\n",
       "\t  9  & 100 & 100 & 100\\\\\n",
       "\t 10  & 100 & 100 & 100\\\\\n",
       "\\end{tabular}\n"
      ],
      "text/markdown": [
       "\n",
       "| id | korean | english | mathematics |\n",
       "|---|---|---|---|\n",
       "|  1  |  90 |  80 |  70 |\n",
       "|  2  |  90 |  88 |  70 |\n",
       "|  3  |  90 |  89 |  70 |\n",
       "|  4  |  90 |  87 |  70 |\n",
       "|  5  |  90 |  60 |  70 |\n",
       "|  6  | 100 | 100 | 100 |\n",
       "|  7  | 100 | 100 | 100 |\n",
       "|  8  | 100 | 100 | 100 |\n",
       "|  9  | 100 | 100 | 100 |\n",
       "| 10  | 100 | 100 | 100 |\n",
       "\n"
      ],
      "text/plain": [
       "   id korean english mathematics\n",
       "1   1  90     80      70        \n",
       "2   2  90     88      70        \n",
       "3   3  90     89      70        \n",
       "4   4  90     87      70        \n",
       "5   5  90     60      70        \n",
       "6   6 100    100     100        \n",
       "7   7 100    100     100        \n",
       "8   8 100    100     100        \n",
       "9   9 100    100     100        \n",
       "10 10 100    100     100        "
      ]
     },
     "metadata": {},
     "output_type": "display_data"
    }
   ],
   "source": [
    "result = dbGetQuery(conn, 'select * from score')\n",
    "result"
   ]
  },
  {
   "cell_type": "code",
   "execution_count": 28,
   "id": "1ce4c06d",
   "metadata": {},
   "outputs": [
    {
     "name": "stdout",
     "output_type": "stream",
     "text": [
      "'data.frame':\t10 obs. of  4 variables:\n",
      " $ id         : num  1 2 3 4 5 6 7 8 9 10\n",
      " $ korean     : num  90 90 90 90 90 100 100 100 100 100\n",
      " $ english    : num  80 88 89 87 60 100 100 100 100 100\n",
      " $ mathematics: num  70 70 70 70 70 100 100 100 100 100\n"
     ]
    }
   ],
   "source": [
    "str(result)"
   ]
  },
  {
   "cell_type": "code",
   "execution_count": 33,
   "id": "bfa155c7",
   "metadata": {},
   "outputs": [
    {
     "data": {
      "text/html": [
       "<table>\n",
       "<thead><tr><th scope=col>id</th><th scope=col>korean</th><th scope=col>english</th><th scope=col>mathematics</th></tr></thead>\n",
       "<tbody>\n",
       "\t<tr><td>11</td><td>90</td><td>80</td><td>70</td></tr>\n",
       "\t<tr><td>12</td><td>90</td><td>88</td><td>70</td></tr>\n",
       "</tbody>\n",
       "</table>\n"
      ],
      "text/latex": [
       "\\begin{tabular}{r|llll}\n",
       " id & korean & english & mathematics\\\\\n",
       "\\hline\n",
       "\t 11 & 90 & 80 & 70\\\\\n",
       "\t 12 & 90 & 88 & 70\\\\\n",
       "\\end{tabular}\n"
      ],
      "text/markdown": [
       "\n",
       "| id | korean | english | mathematics |\n",
       "|---|---|---|---|\n",
       "| 11 | 90 | 80 | 70 |\n",
       "| 12 | 90 | 88 | 70 |\n",
       "\n"
      ],
      "text/plain": [
       "  id korean english mathematics\n",
       "1 11 90     80      70         \n",
       "2 12 90     88      70         "
      ]
     },
     "metadata": {},
     "output_type": "display_data"
    }
   ],
   "source": [
    "data2 <- read.csv(\"../Data/score2.csv\", header = F)\n",
    "colnames(data2) <- c('id', 'korean', 'english', 'mathematics')\n",
    "data2"
   ]
  },
  {
   "cell_type": "code",
   "execution_count": 34,
   "id": "a340573b",
   "metadata": {},
   "outputs": [
    {
     "data": {
      "text/html": [
       "TRUE"
      ],
      "text/latex": [
       "TRUE"
      ],
      "text/markdown": [
       "TRUE"
      ],
      "text/plain": [
       "[1] TRUE"
      ]
     },
     "metadata": {},
     "output_type": "display_data"
    }
   ],
   "source": [
    "dbWriteTable(conn, \"score\", data2, overwrite=F, append=T, row.names=F)  # overwrite 막고 append"
   ]
  },
  {
   "cell_type": "code",
   "execution_count": 37,
   "id": "f8d4b732",
   "metadata": {},
   "outputs": [
    {
     "data": {
      "text/html": [
       "<table>\n",
       "<thead><tr><th scope=col>id</th><th scope=col>korean</th><th scope=col>english</th><th scope=col>mathematics</th></tr></thead>\n",
       "<tbody>\n",
       "\t<tr><td> 1 </td><td> 90</td><td> 80</td><td> 70</td></tr>\n",
       "\t<tr><td> 2 </td><td> 90</td><td> 88</td><td> 70</td></tr>\n",
       "\t<tr><td> 3 </td><td> 90</td><td> 89</td><td> 70</td></tr>\n",
       "\t<tr><td> 4 </td><td> 90</td><td> 87</td><td> 70</td></tr>\n",
       "\t<tr><td> 5 </td><td> 90</td><td> 60</td><td> 70</td></tr>\n",
       "\t<tr><td> 6 </td><td>100</td><td>100</td><td>100</td></tr>\n",
       "\t<tr><td> 7 </td><td>100</td><td>100</td><td>100</td></tr>\n",
       "\t<tr><td> 8 </td><td>100</td><td>100</td><td>100</td></tr>\n",
       "\t<tr><td> 9 </td><td>100</td><td>100</td><td>100</td></tr>\n",
       "\t<tr><td>10 </td><td>100</td><td>100</td><td>100</td></tr>\n",
       "\t<tr><td>11 </td><td> 90</td><td> 80</td><td> 70</td></tr>\n",
       "\t<tr><td>12 </td><td> 90</td><td> 88</td><td> 70</td></tr>\n",
       "</tbody>\n",
       "</table>\n"
      ],
      "text/latex": [
       "\\begin{tabular}{r|llll}\n",
       " id & korean & english & mathematics\\\\\n",
       "\\hline\n",
       "\t  1  &  90 &  80 &  70\\\\\n",
       "\t  2  &  90 &  88 &  70\\\\\n",
       "\t  3  &  90 &  89 &  70\\\\\n",
       "\t  4  &  90 &  87 &  70\\\\\n",
       "\t  5  &  90 &  60 &  70\\\\\n",
       "\t  6  & 100 & 100 & 100\\\\\n",
       "\t  7  & 100 & 100 & 100\\\\\n",
       "\t  8  & 100 & 100 & 100\\\\\n",
       "\t  9  & 100 & 100 & 100\\\\\n",
       "\t 10  & 100 & 100 & 100\\\\\n",
       "\t 11  &  90 &  80 &  70\\\\\n",
       "\t 12  &  90 &  88 &  70\\\\\n",
       "\\end{tabular}\n"
      ],
      "text/markdown": [
       "\n",
       "| id | korean | english | mathematics |\n",
       "|---|---|---|---|\n",
       "|  1  |  90 |  80 |  70 |\n",
       "|  2  |  90 |  88 |  70 |\n",
       "|  3  |  90 |  89 |  70 |\n",
       "|  4  |  90 |  87 |  70 |\n",
       "|  5  |  90 |  60 |  70 |\n",
       "|  6  | 100 | 100 | 100 |\n",
       "|  7  | 100 | 100 | 100 |\n",
       "|  8  | 100 | 100 | 100 |\n",
       "|  9  | 100 | 100 | 100 |\n",
       "| 10  | 100 | 100 | 100 |\n",
       "| 11  |  90 |  80 |  70 |\n",
       "| 12  |  90 |  88 |  70 |\n",
       "\n"
      ],
      "text/plain": [
       "   id korean english mathematics\n",
       "1   1  90     80      70        \n",
       "2   2  90     88      70        \n",
       "3   3  90     89      70        \n",
       "4   4  90     87      70        \n",
       "5   5  90     60      70        \n",
       "6   6 100    100     100        \n",
       "7   7 100    100     100        \n",
       "8   8 100    100     100        \n",
       "9   9 100    100     100        \n",
       "10 10 100    100     100        \n",
       "11 11  90     80      70        \n",
       "12 12  90     88      70        "
      ]
     },
     "metadata": {},
     "output_type": "display_data"
    }
   ],
   "source": [
    "result <- dbGetQuery(conn, 'select * from score')\n",
    "result"
   ]
  },
  {
   "cell_type": "code",
   "execution_count": 38,
   "id": "5d48b819",
   "metadata": {},
   "outputs": [
    {
     "data": {
      "text/html": [
       "TRUE"
      ],
      "text/latex": [
       "TRUE"
      ],
      "text/markdown": [
       "TRUE"
      ],
      "text/plain": [
       "[1] TRUE"
      ]
     },
     "metadata": {},
     "output_type": "display_data"
    }
   ],
   "source": [
    "# Disconnect\n",
    "dbDisconnect(conn)"
   ]
  },
  {
   "cell_type": "code",
   "execution_count": null,
   "id": "419cadbb",
   "metadata": {},
   "outputs": [],
   "source": []
  }
 ],
 "metadata": {
  "kernelspec": {
   "display_name": "R",
   "language": "R",
   "name": "ir"
  },
  "language_info": {
   "codemirror_mode": "r",
   "file_extension": ".r",
   "mimetype": "text/x-r-source",
   "name": "R",
   "pygments_lexer": "r",
   "version": "3.6.1"
  }
 },
 "nbformat": 4,
 "nbformat_minor": 5
}
