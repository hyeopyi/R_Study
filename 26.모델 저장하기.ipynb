{
 "cells": [
  {
   "cell_type": "code",
   "execution_count": 1,
   "id": "9fee3fd4",
   "metadata": {},
   "outputs": [
    {
     "name": "stderr",
     "output_type": "stream",
     "text": [
      "randomForest 4.6-14\n",
      "Type rfNews() to see new features/changes/bug fixes.\n"
     ]
    }
   ],
   "source": [
    "library(randomForest)"
   ]
  },
  {
   "cell_type": "code",
   "execution_count": 3,
   "id": "e43eafc2",
   "metadata": {},
   "outputs": [],
   "source": [
    "samp <- c(sample(1:50, 35), sample(51:100, 35), sample(101:150, 35))\n",
    "iris.tr <- iris[samp,]\n",
    "iris.test <- iris[-samp,]"
   ]
  },
  {
   "cell_type": "code",
   "execution_count": 4,
   "id": "511405ec",
   "metadata": {},
   "outputs": [],
   "source": [
    "rf <- randomForest(Species ~., data=iris.tr, ntree=100)"
   ]
  },
  {
   "cell_type": "code",
   "execution_count": 5,
   "id": "8403e9cd",
   "metadata": {},
   "outputs": [],
   "source": [
    "x <- subset(iris.test, select=-Species)\n",
    "y <- iris.test$Species"
   ]
  },
  {
   "cell_type": "code",
   "execution_count": 7,
   "id": "420cb768",
   "metadata": {},
   "outputs": [],
   "source": [
    "pred <- predict(rf, x)"
   ]
  },
  {
   "cell_type": "code",
   "execution_count": 8,
   "id": "4458cc6d",
   "metadata": {},
   "outputs": [
    {
     "data": {
      "text/html": [
       "0.911111111111111"
      ],
      "text/latex": [
       "0.911111111111111"
      ],
      "text/markdown": [
       "0.911111111111111"
      ],
      "text/plain": [
       "[1] 0.9111111"
      ]
     },
     "metadata": {},
     "output_type": "display_data"
    },
    {
     "data": {
      "text/plain": [
       "            y\n",
       "pred         setosa versicolor virginica\n",
       "  setosa         15          0         0\n",
       "  versicolor      0         12         1\n",
       "  virginica       0          3        14"
      ]
     },
     "metadata": {},
     "output_type": "display_data"
    }
   ],
   "source": [
    "mean(pred == y)\n",
    "table(pred, y)"
   ]
  },
  {
   "cell_type": "code",
   "execution_count": 9,
   "id": "5d7fed97",
   "metadata": {},
   "outputs": [],
   "source": [
    "# 모델 저장하기\n",
    "saveRDS(rf, \"../Data/randomForest_iris.rds\")"
   ]
  },
  {
   "cell_type": "code",
   "execution_count": null,
   "id": "b15bed71",
   "metadata": {},
   "outputs": [],
   "source": []
  }
 ],
 "metadata": {
  "kernelspec": {
   "display_name": "R",
   "language": "R",
   "name": "ir"
  },
  "language_info": {
   "codemirror_mode": "r",
   "file_extension": ".r",
   "mimetype": "text/x-r-source",
   "name": "R",
   "pygments_lexer": "r",
   "version": "3.6.1"
  }
 },
 "nbformat": 4,
 "nbformat_minor": 5
}
