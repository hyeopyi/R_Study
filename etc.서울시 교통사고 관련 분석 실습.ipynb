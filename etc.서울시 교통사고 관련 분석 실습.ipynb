{
 "cells": [
  {
   "cell_type": "code",
   "execution_count": 1,
   "id": "cbdf2b01",
   "metadata": {},
   "outputs": [
    {
     "data": {
      "text/html": [
       "<table>\n",
       "<thead><tr><th scope=col>년도</th><th scope=col>월</th><th scope=col>자치구명</th><th scope=col>발생건수</th><th scope=col>사망자수</th><th scope=col>부상자수</th></tr></thead>\n",
       "<tbody>\n",
       "\t<tr><td>2011  </td><td>1     </td><td>종로구</td><td>115   </td><td>2     </td><td>165   </td></tr>\n",
       "\t<tr><td>2011  </td><td>2     </td><td>종로구</td><td> 99   </td><td>0     </td><td>134   </td></tr>\n",
       "\t<tr><td>2011  </td><td>3     </td><td>종로구</td><td>116   </td><td>0     </td><td>162   </td></tr>\n",
       "\t<tr><td>2011  </td><td>4     </td><td>종로구</td><td>110   </td><td>1     </td><td>153   </td></tr>\n",
       "\t<tr><td>2011  </td><td>5     </td><td>종로구</td><td>122   </td><td>0     </td><td>157   </td></tr>\n",
       "\t<tr><td>2011  </td><td>6     </td><td>종로구</td><td>116   </td><td>3     </td><td>163   </td></tr>\n",
       "</tbody>\n",
       "</table>\n"
      ],
      "text/latex": [
       "\\begin{tabular}{r|llllll}\n",
       " 년도 & 월 & 자치구명 & 발생건수 & 사망자수 & 부상자수\\\\\n",
       "\\hline\n",
       "\t 2011   & 1      & 종로구 & 115    & 2      & 165   \\\\\n",
       "\t 2011   & 2      & 종로구 &  99    & 0      & 134   \\\\\n",
       "\t 2011   & 3      & 종로구 & 116    & 0      & 162   \\\\\n",
       "\t 2011   & 4      & 종로구 & 110    & 1      & 153   \\\\\n",
       "\t 2011   & 5      & 종로구 & 122    & 0      & 157   \\\\\n",
       "\t 2011   & 6      & 종로구 & 116    & 3      & 163   \\\\\n",
       "\\end{tabular}\n"
      ],
      "text/markdown": [
       "\n",
       "| 년도 | 월 | 자치구명 | 발생건수 | 사망자수 | 부상자수 |\n",
       "|---|---|---|---|---|---|\n",
       "| 2011   | 1      | 종로구 | 115    | 2      | 165    |\n",
       "| 2011   | 2      | 종로구 |  99    | 0      | 134    |\n",
       "| 2011   | 3      | 종로구 | 116    | 0      | 162    |\n",
       "| 2011   | 4      | 종로구 | 110    | 1      | 153    |\n",
       "| 2011   | 5      | 종로구 | 122    | 0      | 157    |\n",
       "| 2011   | 6      | 종로구 | 116    | 3      | 163    |\n",
       "\n"
      ],
      "text/plain": [
       "  년도 월 자치구명 발생건수 사망자수 부상자수\n",
       "1 2011 1  종로구   115      2        165     \n",
       "2 2011 2  종로구    99      0        134     \n",
       "3 2011 3  종로구   116      0        162     \n",
       "4 2011 4  종로구   110      1        153     \n",
       "5 2011 5  종로구   122      0        157     \n",
       "6 2011 6  종로구   116      3        163     "
      ]
     },
     "metadata": {},
     "output_type": "display_data"
    }
   ],
   "source": [
    "# 데이터셋을 불러와서 seoul이라는 변수에 넣기\n",
    "seoul <- read.csv(\"../Data//newSeoul2019.csv\")\n",
    "head(seoul)"
   ]
  },
  {
   "cell_type": "code",
   "execution_count": 2,
   "id": "4216bc90",
   "metadata": {},
   "outputs": [],
   "source": [
    "gangnam = c('강서구', '양천구', '영등포구', '구로구', '금천구', '동작구', '관악구', '서초구', '강남구', '송파구', '강동구')"
   ]
  },
  {
   "cell_type": "code",
   "execution_count": 3,
   "id": "6be56b84",
   "metadata": {},
   "outputs": [
    {
     "data": {
      "text/html": [
       "1"
      ],
      "text/latex": [
       "1"
      ],
      "text/markdown": [
       "1"
      ],
      "text/plain": [
       "[1] 1"
      ]
     },
     "metadata": {},
     "output_type": "display_data"
    }
   ],
   "source": [
    "sum(ifelse('금천구'==gangnam,TRUE, FALSE))"
   ]
  },
  {
   "cell_type": "code",
   "execution_count": 4,
   "id": "f4472565",
   "metadata": {},
   "outputs": [],
   "source": [
    "riverdivide <- function(s) {\n",
    "    gangnam = c('강서구', '양천구', '영등포구', '구로구', '금천구', '동작구', '관악구', '서초구', '강남구', '송파구', '강동구')\n",
    "    pos = c();\n",
    "    for(i in 1: length(s)) {\n",
    "       if(sum(ifelse(s[i]== gangnam, TRUE, FALSE)) >0){\n",
    "           pos = append(pos, '강남')\n",
    "       }else {\n",
    "           pos = append(pos, '강북')\n",
    "       }\n",
    "    }\n",
    "    return(pos)\n",
    "}"
   ]
  },
  {
   "cell_type": "code",
   "execution_count": 5,
   "id": "a0d8f003",
   "metadata": {},
   "outputs": [
    {
     "data": {
      "text/html": [
       "<table>\n",
       "<thead><tr><th scope=col>년도</th><th scope=col>월</th><th scope=col>자치구명</th><th scope=col>발생건수</th><th scope=col>사망자수</th><th scope=col>부상자수</th><th scope=col>권역</th></tr></thead>\n",
       "<tbody>\n",
       "\t<tr><td>2011  </td><td>1     </td><td>종로구</td><td>115   </td><td>2     </td><td>165   </td><td>강북  </td></tr>\n",
       "\t<tr><td>2011  </td><td>2     </td><td>종로구</td><td> 99   </td><td>0     </td><td>134   </td><td>강북  </td></tr>\n",
       "\t<tr><td>2011  </td><td>3     </td><td>종로구</td><td>116   </td><td>0     </td><td>162   </td><td>강북  </td></tr>\n",
       "\t<tr><td>2011  </td><td>4     </td><td>종로구</td><td>110   </td><td>1     </td><td>153   </td><td>강북  </td></tr>\n",
       "\t<tr><td>2011  </td><td>5     </td><td>종로구</td><td>122   </td><td>0     </td><td>157   </td><td>강북  </td></tr>\n",
       "\t<tr><td>2011  </td><td>6     </td><td>종로구</td><td>116   </td><td>3     </td><td>163   </td><td>강북  </td></tr>\n",
       "</tbody>\n",
       "</table>\n"
      ],
      "text/latex": [
       "\\begin{tabular}{r|lllllll}\n",
       " 년도 & 월 & 자치구명 & 발생건수 & 사망자수 & 부상자수 & 권역\\\\\n",
       "\\hline\n",
       "\t 2011   & 1      & 종로구 & 115    & 2      & 165    & 강북  \\\\\n",
       "\t 2011   & 2      & 종로구 &  99    & 0      & 134    & 강북  \\\\\n",
       "\t 2011   & 3      & 종로구 & 116    & 0      & 162    & 강북  \\\\\n",
       "\t 2011   & 4      & 종로구 & 110    & 1      & 153    & 강북  \\\\\n",
       "\t 2011   & 5      & 종로구 & 122    & 0      & 157    & 강북  \\\\\n",
       "\t 2011   & 6      & 종로구 & 116    & 3      & 163    & 강북  \\\\\n",
       "\\end{tabular}\n"
      ],
      "text/markdown": [
       "\n",
       "| 년도 | 월 | 자치구명 | 발생건수 | 사망자수 | 부상자수 | 권역 |\n",
       "|---|---|---|---|---|---|---|\n",
       "| 2011   | 1      | 종로구 | 115    | 2      | 165    | 강북   |\n",
       "| 2011   | 2      | 종로구 |  99    | 0      | 134    | 강북   |\n",
       "| 2011   | 3      | 종로구 | 116    | 0      | 162    | 강북   |\n",
       "| 2011   | 4      | 종로구 | 110    | 1      | 153    | 강북   |\n",
       "| 2011   | 5      | 종로구 | 122    | 0      | 157    | 강북   |\n",
       "| 2011   | 6      | 종로구 | 116    | 3      | 163    | 강북   |\n",
       "\n"
      ],
      "text/plain": [
       "  년도 월 자치구명 발생건수 사망자수 부상자수 권역\n",
       "1 2011 1  종로구   115      2        165      강북\n",
       "2 2011 2  종로구    99      0        134      강북\n",
       "3 2011 3  종로구   116      0        162      강북\n",
       "4 2011 4  종로구   110      1        153      강북\n",
       "5 2011 5  종로구   122      0        157      강북\n",
       "6 2011 6  종로구   116      3        163      강북"
      ]
     },
     "metadata": {},
     "output_type": "display_data"
    },
    {
     "data": {
      "text/html": [
       "<table>\n",
       "<thead><tr><th></th><th scope=col>년도</th><th scope=col>월</th><th scope=col>자치구명</th><th scope=col>발생건수</th><th scope=col>사망자수</th><th scope=col>부상자수</th><th scope=col>권역</th></tr></thead>\n",
       "<tbody>\n",
       "\t<tr><th scope=row>2695</th><td>2019  </td><td> 7    </td><td>강동구</td><td>146   </td><td>2     </td><td>189   </td><td>강남  </td></tr>\n",
       "\t<tr><th scope=row>2696</th><td>2019  </td><td> 8    </td><td>강동구</td><td>127   </td><td>2     </td><td>175   </td><td>강남  </td></tr>\n",
       "\t<tr><th scope=row>2697</th><td>2019  </td><td> 9    </td><td>강동구</td><td> 98   </td><td>2     </td><td>137   </td><td>강남  </td></tr>\n",
       "\t<tr><th scope=row>2698</th><td>2019  </td><td>10    </td><td>강동구</td><td>108   </td><td>1     </td><td>144   </td><td>강남  </td></tr>\n",
       "\t<tr><th scope=row>2699</th><td>2019  </td><td>11    </td><td>강동구</td><td>146   </td><td>0     </td><td>199   </td><td>강남  </td></tr>\n",
       "\t<tr><th scope=row>2700</th><td>2019  </td><td>12    </td><td>강동구</td><td>108   </td><td>1     </td><td>131   </td><td>강남  </td></tr>\n",
       "</tbody>\n",
       "</table>\n"
      ],
      "text/latex": [
       "\\begin{tabular}{r|lllllll}\n",
       "  & 년도 & 월 & 자치구명 & 발생건수 & 사망자수 & 부상자수 & 권역\\\\\n",
       "\\hline\n",
       "\t2695 & 2019   &  7     & 강동구 & 146    & 2      & 189    & 강남  \\\\\n",
       "\t2696 & 2019   &  8     & 강동구 & 127    & 2      & 175    & 강남  \\\\\n",
       "\t2697 & 2019   &  9     & 강동구 &  98    & 2      & 137    & 강남  \\\\\n",
       "\t2698 & 2019   & 10     & 강동구 & 108    & 1      & 144    & 강남  \\\\\n",
       "\t2699 & 2019   & 11     & 강동구 & 146    & 0      & 199    & 강남  \\\\\n",
       "\t2700 & 2019   & 12     & 강동구 & 108    & 1      & 131    & 강남  \\\\\n",
       "\\end{tabular}\n"
      ],
      "text/markdown": [
       "\n",
       "| <!--/--> | 년도 | 월 | 자치구명 | 발생건수 | 사망자수 | 부상자수 | 권역 |\n",
       "|---|---|---|---|---|---|---|---|\n",
       "| 2695 | 2019   |  7     | 강동구 | 146    | 2      | 189    | 강남   |\n",
       "| 2696 | 2019   |  8     | 강동구 | 127    | 2      | 175    | 강남   |\n",
       "| 2697 | 2019   |  9     | 강동구 |  98    | 2      | 137    | 강남   |\n",
       "| 2698 | 2019   | 10     | 강동구 | 108    | 1      | 144    | 강남   |\n",
       "| 2699 | 2019   | 11     | 강동구 | 146    | 0      | 199    | 강남   |\n",
       "| 2700 | 2019   | 12     | 강동구 | 108    | 1      | 131    | 강남   |\n",
       "\n"
      ],
      "text/plain": [
       "     년도 월 자치구명 발생건수 사망자수 부상자수 권역\n",
       "2695 2019  7 강동구   146      2        189      강남\n",
       "2696 2019  8 강동구   127      2        175      강남\n",
       "2697 2019  9 강동구    98      2        137      강남\n",
       "2698 2019 10 강동구   108      1        144      강남\n",
       "2699 2019 11 강동구   146      0        199      강남\n",
       "2700 2019 12 강동구   108      1        131      강남"
      ]
     },
     "metadata": {},
     "output_type": "display_data"
    }
   ],
   "source": [
    "# 강남, 강북 지역구분\n",
    "seoul$권역 <- riverdivide(seoul$자치구명)\n",
    "seoul$권역 <- as.factor(seoul$권역)\n",
    "head(seoul)\n",
    "tail(seoul)"
   ]
  },
  {
   "cell_type": "code",
   "execution_count": 6,
   "id": "f6f5573a",
   "metadata": {},
   "outputs": [
    {
     "data": {
      "text/html": [
       "<table>\n",
       "<thead><tr><th scope=col>권역</th><th scope=col>발생건수</th></tr></thead>\n",
       "<tbody>\n",
       "\t<tr><td>강남    </td><td>158.4335</td></tr>\n",
       "\t<tr><td>강북    </td><td>113.5410</td></tr>\n",
       "</tbody>\n",
       "</table>\n"
      ],
      "text/latex": [
       "\\begin{tabular}{r|ll}\n",
       " 권역 & 발생건수\\\\\n",
       "\\hline\n",
       "\t 강남     & 158.4335\\\\\n",
       "\t 강북     & 113.5410\\\\\n",
       "\\end{tabular}\n"
      ],
      "text/markdown": [
       "\n",
       "| 권역 | 발생건수 |\n",
       "|---|---|\n",
       "| 강남     | 158.4335 |\n",
       "| 강북     | 113.5410 |\n",
       "\n"
      ],
      "text/plain": [
       "  권역 발생건수\n",
       "1 강남 158.4335\n",
       "2 강북 113.5410"
      ]
     },
     "metadata": {},
     "output_type": "display_data"
    },
    {
     "data": {
      "text/html": [
       "<table>\n",
       "<thead><tr><th scope=col>권역</th><th scope=col>변동계수</th></tr></thead>\n",
       "<tbody>\n",
       "\t<tr><td>강남     </td><td>0.4132939</td></tr>\n",
       "\t<tr><td>강북     </td><td>0.2408429</td></tr>\n",
       "</tbody>\n",
       "</table>\n"
      ],
      "text/latex": [
       "\\begin{tabular}{r|ll}\n",
       " 권역 & 변동계수\\\\\n",
       "\\hline\n",
       "\t 강남      & 0.4132939\\\\\n",
       "\t 강북      & 0.2408429\\\\\n",
       "\\end{tabular}\n"
      ],
      "text/markdown": [
       "\n",
       "| 권역 | 변동계수 |\n",
       "|---|---|\n",
       "| 강남      | 0.4132939 |\n",
       "| 강북      | 0.2408429 |\n",
       "\n"
      ],
      "text/plain": [
       "  권역 변동계수 \n",
       "1 강남 0.4132939\n",
       "2 강북 0.2408429"
      ]
     },
     "metadata": {},
     "output_type": "display_data"
    }
   ],
   "source": [
    "# 강남, 강북에 대한 교통사고 발생건수에 대한 변동계수\n",
    "seoulAcc.mean <- aggregate(발생건수 ~ 권역, seoul, mean)\n",
    "seoulAcc.sd <- aggregate(발생건수 ~ 권역, seoul, sd)\n",
    "seoulAcc.cv <- seoulAcc.sd$발생건수 / seoulAcc.mean$발생건수\n",
    "seoulAcc <- data.frame(권역=c('강남','강북'), 변동계수=seoulAcc.cv)\n",
    "seoulAcc.mean\n",
    "seoulAcc"
   ]
  },
  {
   "cell_type": "code",
   "execution_count": 7,
   "id": "bd305952",
   "metadata": {},
   "outputs": [
    {
     "data": {
      "text/html": [
       "<table>\n",
       "<thead><tr><th scope=col>권역</th><th scope=col>부상자수</th></tr></thead>\n",
       "<tbody>\n",
       "\t<tr><td>강남    </td><td>226.1557</td></tr>\n",
       "\t<tr><td>강북    </td><td>157.0311</td></tr>\n",
       "</tbody>\n",
       "</table>\n"
      ],
      "text/latex": [
       "\\begin{tabular}{r|ll}\n",
       " 권역 & 부상자수\\\\\n",
       "\\hline\n",
       "\t 강남     & 226.1557\\\\\n",
       "\t 강북     & 157.0311\\\\\n",
       "\\end{tabular}\n"
      ],
      "text/markdown": [
       "\n",
       "| 권역 | 부상자수 |\n",
       "|---|---|\n",
       "| 강남     | 226.1557 |\n",
       "| 강북     | 157.0311 |\n",
       "\n"
      ],
      "text/plain": [
       "  권역 부상자수\n",
       "1 강남 226.1557\n",
       "2 강북 157.0311"
      ]
     },
     "metadata": {},
     "output_type": "display_data"
    },
    {
     "data": {
      "text/html": [
       "<table>\n",
       "<thead><tr><th scope=col>권역</th><th scope=col>변동계수</th></tr></thead>\n",
       "<tbody>\n",
       "\t<tr><td>강남     </td><td>0.4259380</td></tr>\n",
       "\t<tr><td>강북     </td><td>0.2505126</td></tr>\n",
       "</tbody>\n",
       "</table>\n"
      ],
      "text/latex": [
       "\\begin{tabular}{r|ll}\n",
       " 권역 & 변동계수\\\\\n",
       "\\hline\n",
       "\t 강남      & 0.4259380\\\\\n",
       "\t 강북      & 0.2505126\\\\\n",
       "\\end{tabular}\n"
      ],
      "text/markdown": [
       "\n",
       "| 권역 | 변동계수 |\n",
       "|---|---|\n",
       "| 강남      | 0.4259380 |\n",
       "| 강북      | 0.2505126 |\n",
       "\n"
      ],
      "text/plain": [
       "  권역 변동계수 \n",
       "1 강남 0.4259380\n",
       "2 강북 0.2505126"
      ]
     },
     "metadata": {},
     "output_type": "display_data"
    }
   ],
   "source": [
    "# 강남, 강북에 대한 교통사고 부상건수에 대한 변동계수\n",
    "seoulInjure.mean <- aggregate(부상자수 ~ 권역, seoul, mean)\n",
    "seoulInjure.sd <- aggregate(부상자수 ~ 권역, seoul, sd)\n",
    "seoulInjure.cv <- seoulInjure.sd$부상자수 / seoulInjure.mean$부상자수\n",
    "seoulInjure <- data.frame(권역=c('강남','강북'), 변동계수=seoulInjure.cv)\n",
    "seoulInjure.mean\n",
    "seoulInjure"
   ]
  },
  {
   "cell_type": "code",
   "execution_count": 8,
   "id": "8d28f36a",
   "metadata": {},
   "outputs": [
    {
     "data": {
      "text/html": [
       "<table>\n",
       "<thead><tr><th scope=col>권역</th><th scope=col>사망자수</th></tr></thead>\n",
       "<tbody>\n",
       "\t<tr><td>강남    </td><td>1.411616</td></tr>\n",
       "\t<tr><td>강북    </td><td>1.045635</td></tr>\n",
       "</tbody>\n",
       "</table>\n"
      ],
      "text/latex": [
       "\\begin{tabular}{r|ll}\n",
       " 권역 & 사망자수\\\\\n",
       "\\hline\n",
       "\t 강남     & 1.411616\\\\\n",
       "\t 강북     & 1.045635\\\\\n",
       "\\end{tabular}\n"
      ],
      "text/markdown": [
       "\n",
       "| 권역 | 사망자수 |\n",
       "|---|---|\n",
       "| 강남     | 1.411616 |\n",
       "| 강북     | 1.045635 |\n",
       "\n"
      ],
      "text/plain": [
       "  권역 사망자수\n",
       "1 강남 1.411616\n",
       "2 강북 1.045635"
      ]
     },
     "metadata": {},
     "output_type": "display_data"
    },
    {
     "data": {
      "text/html": [
       "<table>\n",
       "<thead><tr><th scope=col>권역</th><th scope=col>변동계수</th></tr></thead>\n",
       "<tbody>\n",
       "\t<tr><td>강남     </td><td>0.8966672</td></tr>\n",
       "\t<tr><td>강북     </td><td>1.0256377</td></tr>\n",
       "</tbody>\n",
       "</table>\n"
      ],
      "text/latex": [
       "\\begin{tabular}{r|ll}\n",
       " 권역 & 변동계수\\\\\n",
       "\\hline\n",
       "\t 강남      & 0.8966672\\\\\n",
       "\t 강북      & 1.0256377\\\\\n",
       "\\end{tabular}\n"
      ],
      "text/markdown": [
       "\n",
       "| 권역 | 변동계수 |\n",
       "|---|---|\n",
       "| 강남      | 0.8966672 |\n",
       "| 강북      | 1.0256377 |\n",
       "\n"
      ],
      "text/plain": [
       "  권역 변동계수 \n",
       "1 강남 0.8966672\n",
       "2 강북 1.0256377"
      ]
     },
     "metadata": {},
     "output_type": "display_data"
    }
   ],
   "source": [
    "# 강남, 강북에 대한 교통하고 사망자수에 대한 변동계수\n",
    "seoulDeath.mean <- aggregate(사망자수 ~ 권역, seoul, mean)\n",
    "seoulDeath.sd <- aggregate(사망자수 ~ 권역, seoul, sd)\n",
    "seoulDeath.cv <- seoulDeath.sd$사망자수 / seoulDeath.mean$사망자수\n",
    "seoulDeath <- data.frame(권역=c('강남','강북'), 변동계수=seoulDeath.cv)\n",
    "seoulDeath.mean\n",
    "seoulDeath"
   ]
  },
  {
   "cell_type": "code",
   "execution_count": 9,
   "id": "1f425756",
   "metadata": {},
   "outputs": [
    {
     "data": {
      "text/html": [
       "<table>\n",
       "<thead><tr><th scope=col>권역</th><th scope=col>발생건수</th></tr></thead>\n",
       "<tbody>\n",
       "\t<tr><td>강남    </td><td>157.7424</td></tr>\n",
       "\t<tr><td>강북    </td><td>116.8393</td></tr>\n",
       "</tbody>\n",
       "</table>\n"
      ],
      "text/latex": [
       "\\begin{tabular}{r|ll}\n",
       " 권역 & 발생건수\\\\\n",
       "\\hline\n",
       "\t 강남     & 157.7424\\\\\n",
       "\t 강북     & 116.8393\\\\\n",
       "\\end{tabular}\n"
      ],
      "text/markdown": [
       "\n",
       "| 권역 | 발생건수 |\n",
       "|---|---|\n",
       "| 강남     | 157.7424 |\n",
       "| 강북     | 116.8393 |\n",
       "\n"
      ],
      "text/plain": [
       "  권역 발생건수\n",
       "1 강남 157.7424\n",
       "2 강북 116.8393"
      ]
     },
     "metadata": {},
     "output_type": "display_data"
    },
    {
     "data": {
      "text/html": [
       "<table>\n",
       "<thead><tr><th scope=col>권역</th><th scope=col>변동계수</th></tr></thead>\n",
       "<tbody>\n",
       "\t<tr><td>강남     </td><td>0.3875520</td></tr>\n",
       "\t<tr><td>강북     </td><td>0.2205108</td></tr>\n",
       "</tbody>\n",
       "</table>\n"
      ],
      "text/latex": [
       "\\begin{tabular}{r|ll}\n",
       " 권역 & 변동계수\\\\\n",
       "\\hline\n",
       "\t 강남      & 0.3875520\\\\\n",
       "\t 강북      & 0.2205108\\\\\n",
       "\\end{tabular}\n"
      ],
      "text/markdown": [
       "\n",
       "| 권역 | 변동계수 |\n",
       "|---|---|\n",
       "| 강남      | 0.3875520 |\n",
       "| 강북      | 0.2205108 |\n",
       "\n"
      ],
      "text/plain": [
       "  권역 변동계수 \n",
       "1 강남 0.3875520\n",
       "2 강북 0.2205108"
      ]
     },
     "metadata": {},
     "output_type": "display_data"
    }
   ],
   "source": [
    "# 강남, 강북 연도별 교통사고 발생건수에 대한 변동계수 2011년\n",
    "seoulAcc2011.mean <- aggregate(발생건수 ~ 권역, subset(seoul, 년도==2011), mean)\n",
    "seoulAcc2011.sd <- aggregate(발생건수 ~ 권역, subset(seoul, 년도==2011), sd)\n",
    "seoulAcc2011.cv <- seoulAcc2011.sd$발생건수 / seoulAcc2011.mean$발생건수\n",
    "seoulAcc2011 <- data.frame(권역=c('강남','강북'), 변동계수=seoulAcc2011.cv)\n",
    "seoulAcc2011.mean\n",
    "seoulAcc2011"
   ]
  },
  {
   "cell_type": "code",
   "execution_count": 10,
   "id": "8c7f0092",
   "metadata": {},
   "outputs": [
    {
     "data": {
      "text/html": [
       "<table>\n",
       "<thead><tr><th scope=col>권역</th><th scope=col>발생건수</th></tr></thead>\n",
       "<tbody>\n",
       "\t<tr><td>강남    </td><td>160.3712</td></tr>\n",
       "\t<tr><td>강북    </td><td>117.0238</td></tr>\n",
       "</tbody>\n",
       "</table>\n"
      ],
      "text/latex": [
       "\\begin{tabular}{r|ll}\n",
       " 권역 & 발생건수\\\\\n",
       "\\hline\n",
       "\t 강남     & 160.3712\\\\\n",
       "\t 강북     & 117.0238\\\\\n",
       "\\end{tabular}\n"
      ],
      "text/markdown": [
       "\n",
       "| 권역 | 발생건수 |\n",
       "|---|---|\n",
       "| 강남     | 160.3712 |\n",
       "| 강북     | 117.0238 |\n",
       "\n"
      ],
      "text/plain": [
       "  권역 발생건수\n",
       "1 강남 160.3712\n",
       "2 강북 117.0238"
      ]
     },
     "metadata": {},
     "output_type": "display_data"
    },
    {
     "data": {
      "text/html": [
       "<table>\n",
       "<thead><tr><th scope=col>권역</th><th scope=col>변동계수</th></tr></thead>\n",
       "<tbody>\n",
       "\t<tr><td>강남     </td><td>0.4150872</td></tr>\n",
       "\t<tr><td>강북     </td><td>0.2272863</td></tr>\n",
       "</tbody>\n",
       "</table>\n"
      ],
      "text/latex": [
       "\\begin{tabular}{r|ll}\n",
       " 권역 & 변동계수\\\\\n",
       "\\hline\n",
       "\t 강남      & 0.4150872\\\\\n",
       "\t 강북      & 0.2272863\\\\\n",
       "\\end{tabular}\n"
      ],
      "text/markdown": [
       "\n",
       "| 권역 | 변동계수 |\n",
       "|---|---|\n",
       "| 강남      | 0.4150872 |\n",
       "| 강북      | 0.2272863 |\n",
       "\n"
      ],
      "text/plain": [
       "  권역 변동계수 \n",
       "1 강남 0.4150872\n",
       "2 강북 0.2272863"
      ]
     },
     "metadata": {},
     "output_type": "display_data"
    }
   ],
   "source": [
    "# 강남, 강북 연도별 교통사고 발생건수에 대한 변동계수 2012년\n",
    "seoulAcc2012.mean <- aggregate(발생건수 ~ 권역, subset(seoul, 년도==2012), mean)\n",
    "seoulAcc2012.sd <- aggregate(발생건수 ~ 권역, subset(seoul, 년도==2012), sd)\n",
    "seoulAcc2012.cv <- seoulAcc2012.sd$발생건수 / seoulAcc2012.mean$발생건수\n",
    "seoulAcc2012 <- data.frame(권역=c('강남','강북'), 변동계수=seoulAcc2012.cv)\n",
    "seoulAcc2012.mean\n",
    "seoulAcc2012"
   ]
  },
  {
   "cell_type": "code",
   "execution_count": 11,
   "id": "b424fcd5",
   "metadata": {},
   "outputs": [
    {
     "data": {
      "text/html": [
       "<table>\n",
       "<thead><tr><th scope=col>권역</th><th scope=col>발생건수</th></tr></thead>\n",
       "<tbody>\n",
       "\t<tr><td>강남    </td><td>157.6818</td></tr>\n",
       "\t<tr><td>강북    </td><td>107.0298</td></tr>\n",
       "</tbody>\n",
       "</table>\n"
      ],
      "text/latex": [
       "\\begin{tabular}{r|ll}\n",
       " 권역 & 발생건수\\\\\n",
       "\\hline\n",
       "\t 강남     & 157.6818\\\\\n",
       "\t 강북     & 107.0298\\\\\n",
       "\\end{tabular}\n"
      ],
      "text/markdown": [
       "\n",
       "| 권역 | 발생건수 |\n",
       "|---|---|\n",
       "| 강남     | 157.6818 |\n",
       "| 강북     | 107.0298 |\n",
       "\n"
      ],
      "text/plain": [
       "  권역 발생건수\n",
       "1 강남 157.6818\n",
       "2 강북 107.0298"
      ]
     },
     "metadata": {},
     "output_type": "display_data"
    },
    {
     "data": {
      "text/html": [
       "<table>\n",
       "<thead><tr><th scope=col>권역</th><th scope=col>변동계수</th></tr></thead>\n",
       "<tbody>\n",
       "\t<tr><td>강남     </td><td>0.4146329</td></tr>\n",
       "\t<tr><td>강북     </td><td>0.2227736</td></tr>\n",
       "</tbody>\n",
       "</table>\n"
      ],
      "text/latex": [
       "\\begin{tabular}{r|ll}\n",
       " 권역 & 변동계수\\\\\n",
       "\\hline\n",
       "\t 강남      & 0.4146329\\\\\n",
       "\t 강북      & 0.2227736\\\\\n",
       "\\end{tabular}\n"
      ],
      "text/markdown": [
       "\n",
       "| 권역 | 변동계수 |\n",
       "|---|---|\n",
       "| 강남      | 0.4146329 |\n",
       "| 강북      | 0.2227736 |\n",
       "\n"
      ],
      "text/plain": [
       "  권역 변동계수 \n",
       "1 강남 0.4146329\n",
       "2 강북 0.2227736"
      ]
     },
     "metadata": {},
     "output_type": "display_data"
    }
   ],
   "source": [
    "# 강남, 강북 연도별 교통사고 발생건수에 대한 변동계수 2018년\n",
    "seoulAcc2018.mean <- aggregate(발생건수 ~ 권역, subset(seoul, 년도==2018), mean)\n",
    "seoulAcc2018.sd <- aggregate(발생건수 ~ 권역, subset(seoul, 년도==2018), sd)\n",
    "seoulAcc2018.cv <- seoulAcc2018.sd$발생건수 / seoulAcc2018.mean$발생건수\n",
    "seoulAcc2018 <- data.frame(권역=c('강남','강북'), 변동계수=seoulAcc2018.cv)\n",
    "seoulAcc2018.mean\n",
    "seoulAcc2018"
   ]
  },
  {
   "cell_type": "code",
   "execution_count": 12,
   "id": "6783ef5b",
   "metadata": {},
   "outputs": [
    {
     "data": {
      "text/html": [
       "<table>\n",
       "<thead><tr><th scope=col>권역</th><th scope=col>발생건수</th></tr></thead>\n",
       "<tbody>\n",
       "\t<tr><td>강남    </td><td>162.4091</td></tr>\n",
       "\t<tr><td>강북    </td><td>106.0714</td></tr>\n",
       "</tbody>\n",
       "</table>\n"
      ],
      "text/latex": [
       "\\begin{tabular}{r|ll}\n",
       " 권역 & 발생건수\\\\\n",
       "\\hline\n",
       "\t 강남     & 162.4091\\\\\n",
       "\t 강북     & 106.0714\\\\\n",
       "\\end{tabular}\n"
      ],
      "text/markdown": [
       "\n",
       "| 권역 | 발생건수 |\n",
       "|---|---|\n",
       "| 강남     | 162.4091 |\n",
       "| 강북     | 106.0714 |\n",
       "\n"
      ],
      "text/plain": [
       "  권역 발생건수\n",
       "1 강남 162.4091\n",
       "2 강북 106.0714"
      ]
     },
     "metadata": {},
     "output_type": "display_data"
    },
    {
     "data": {
      "text/html": [
       "<table>\n",
       "<thead><tr><th scope=col>권역</th><th scope=col>변동계수</th></tr></thead>\n",
       "<tbody>\n",
       "\t<tr><td>강남     </td><td>0.4280606</td></tr>\n",
       "\t<tr><td>강북     </td><td>0.2392094</td></tr>\n",
       "</tbody>\n",
       "</table>\n"
      ],
      "text/latex": [
       "\\begin{tabular}{r|ll}\n",
       " 권역 & 변동계수\\\\\n",
       "\\hline\n",
       "\t 강남      & 0.4280606\\\\\n",
       "\t 강북      & 0.2392094\\\\\n",
       "\\end{tabular}\n"
      ],
      "text/markdown": [
       "\n",
       "| 권역 | 변동계수 |\n",
       "|---|---|\n",
       "| 강남      | 0.4280606 |\n",
       "| 강북      | 0.2392094 |\n",
       "\n"
      ],
      "text/plain": [
       "  권역 변동계수 \n",
       "1 강남 0.4280606\n",
       "2 강북 0.2392094"
      ]
     },
     "metadata": {},
     "output_type": "display_data"
    }
   ],
   "source": [
    "# 강남, 강북 연도별 교통사고 발생건수에 대한 변동계수 2019년\n",
    "seoulAcc2019.mean <- aggregate(발생건수 ~ 권역, subset(seoul, 년도==2019), mean)\n",
    "seoulAcc2019.sd <- aggregate(발생건수 ~ 권역, subset(seoul, 년도==2019), sd)\n",
    "seoulAcc2019.cv <- seoulAcc2019.sd$발생건수 / seoulAcc2019.mean$발생건수\n",
    "seoulAcc2019 <- data.frame(권역=c('강남','강북'), 변동계수=seoulAcc2019.cv)\n",
    "seoulAcc2019.mean\n",
    "seoulAcc2019"
   ]
  },
  {
   "cell_type": "code",
   "execution_count": 13,
   "id": "4d1a2d9c",
   "metadata": {},
   "outputs": [
    {
     "name": "stdout",
     "output_type": "stream",
     "text": [
      "'data.frame':\t25 obs. of  3 variables:\n",
      " $ 구분    : Factor w/ 26 levels \"강남구\",\"강동구\",..: 23 24 21 16 6 11 25 17 3 10 ...\n",
      " $ 교통단속: Factor w/ 26 levels \"117\",\"118\",\"121\",..: 1 12 9 15 23 6 21 8 26 24 ...\n",
      " $ 권역    : Factor w/ 2 levels \"강남\",\"강북\": 2 2 2 2 2 2 2 2 2 2 ...\n"
     ]
    },
    {
     "data": {
      "text/html": [
       "<table>\n",
       "<thead><tr><th scope=col>구분</th><th scope=col>교통단속</th><th scope=col>권역</th></tr></thead>\n",
       "<tbody>\n",
       "\t<tr><td>종로구  </td><td>117     </td><td>강북    </td></tr>\n",
       "\t<tr><td>중구    </td><td>298     </td><td>강북    </td></tr>\n",
       "\t<tr><td>용산구  </td><td>252     </td><td>강북    </td></tr>\n",
       "\t<tr><td>성동구  </td><td>354     </td><td>강북    </td></tr>\n",
       "\t<tr><td>광진구  </td><td>74      </td><td>강북    </td></tr>\n",
       "\t<tr><td>동대문구</td><td>142     </td><td>강북    </td></tr>\n",
       "\t<tr><td>중랑구  </td><td>66      </td><td>강북    </td></tr>\n",
       "\t<tr><td>성북구  </td><td>208     </td><td>강북    </td></tr>\n",
       "\t<tr><td>강북구  </td><td>93      </td><td>강북    </td></tr>\n",
       "\t<tr><td>도봉구  </td><td>87      </td><td>강북    </td></tr>\n",
       "\t<tr><td>노원구  </td><td>144     </td><td>강북    </td></tr>\n",
       "\t<tr><td>은평구  </td><td>125     </td><td>강북    </td></tr>\n",
       "\t<tr><td>서대문구</td><td>317     </td><td>강북    </td></tr>\n",
       "\t<tr><td>마포구  </td><td>121     </td><td>강북    </td></tr>\n",
       "\t<tr><td>양천구  </td><td>133     </td><td>강남    </td></tr>\n",
       "\t<tr><td>강서구  </td><td>91      </td><td>강남    </td></tr>\n",
       "\t<tr><td>구로구  </td><td>257     </td><td>강남    </td></tr>\n",
       "\t<tr><td>금천구  </td><td>118     </td><td>강남    </td></tr>\n",
       "\t<tr><td>영등포  </td><td>520     </td><td>강북    </td></tr>\n",
       "\t<tr><td>동작구  </td><td>43      </td><td>강남    </td></tr>\n",
       "\t<tr><td>관악구  </td><td>638     </td><td>강남    </td></tr>\n",
       "\t<tr><td>서초구  </td><td>327     </td><td>강남    </td></tr>\n",
       "\t<tr><td>강남구  </td><td>596     </td><td>강남    </td></tr>\n",
       "\t<tr><td>송파구  </td><td>294     </td><td>강남    </td></tr>\n",
       "\t<tr><td>강동구  </td><td>72      </td><td>강남    </td></tr>\n",
       "</tbody>\n",
       "</table>\n"
      ],
      "text/latex": [
       "\\begin{tabular}{r|lll}\n",
       " 구분 & 교통단속 & 권역\\\\\n",
       "\\hline\n",
       "\t 종로구   & 117      & 강북    \\\\\n",
       "\t 중구     & 298      & 강북    \\\\\n",
       "\t 용산구   & 252      & 강북    \\\\\n",
       "\t 성동구   & 354      & 강북    \\\\\n",
       "\t 광진구   & 74       & 강북    \\\\\n",
       "\t 동대문구 & 142      & 강북    \\\\\n",
       "\t 중랑구   & 66       & 강북    \\\\\n",
       "\t 성북구   & 208      & 강북    \\\\\n",
       "\t 강북구   & 93       & 강북    \\\\\n",
       "\t 도봉구   & 87       & 강북    \\\\\n",
       "\t 노원구   & 144      & 강북    \\\\\n",
       "\t 은평구   & 125      & 강북    \\\\\n",
       "\t 서대문구 & 317      & 강북    \\\\\n",
       "\t 마포구   & 121      & 강북    \\\\\n",
       "\t 양천구   & 133      & 강남    \\\\\n",
       "\t 강서구   & 91       & 강남    \\\\\n",
       "\t 구로구   & 257      & 강남    \\\\\n",
       "\t 금천구   & 118      & 강남    \\\\\n",
       "\t 영등포   & 520      & 강북    \\\\\n",
       "\t 동작구   & 43       & 강남    \\\\\n",
       "\t 관악구   & 638      & 강남    \\\\\n",
       "\t 서초구   & 327      & 강남    \\\\\n",
       "\t 강남구   & 596      & 강남    \\\\\n",
       "\t 송파구   & 294      & 강남    \\\\\n",
       "\t 강동구   & 72       & 강남    \\\\\n",
       "\\end{tabular}\n"
      ],
      "text/markdown": [
       "\n",
       "| 구분 | 교통단속 | 권역 |\n",
       "|---|---|---|\n",
       "| 종로구   | 117      | 강북     |\n",
       "| 중구     | 298      | 강북     |\n",
       "| 용산구   | 252      | 강북     |\n",
       "| 성동구   | 354      | 강북     |\n",
       "| 광진구   | 74       | 강북     |\n",
       "| 동대문구 | 142      | 강북     |\n",
       "| 중랑구   | 66       | 강북     |\n",
       "| 성북구   | 208      | 강북     |\n",
       "| 강북구   | 93       | 강북     |\n",
       "| 도봉구   | 87       | 강북     |\n",
       "| 노원구   | 144      | 강북     |\n",
       "| 은평구   | 125      | 강북     |\n",
       "| 서대문구 | 317      | 강북     |\n",
       "| 마포구   | 121      | 강북     |\n",
       "| 양천구   | 133      | 강남     |\n",
       "| 강서구   | 91       | 강남     |\n",
       "| 구로구   | 257      | 강남     |\n",
       "| 금천구   | 118      | 강남     |\n",
       "| 영등포   | 520      | 강북     |\n",
       "| 동작구   | 43       | 강남     |\n",
       "| 관악구   | 638      | 강남     |\n",
       "| 서초구   | 327      | 강남     |\n",
       "| 강남구   | 596      | 강남     |\n",
       "| 송파구   | 294      | 강남     |\n",
       "| 강동구   | 72       | 강남     |\n",
       "\n"
      ],
      "text/plain": [
       "   구분     교통단속 권역\n",
       "1  종로구   117      강북\n",
       "2  중구     298      강북\n",
       "3  용산구   252      강북\n",
       "4  성동구   354      강북\n",
       "5  광진구   74       강북\n",
       "6  동대문구 142      강북\n",
       "7  중랑구   66       강북\n",
       "8  성북구   208      강북\n",
       "9  강북구   93       강북\n",
       "10 도봉구   87       강북\n",
       "11 노원구   144      강북\n",
       "12 은평구   125      강북\n",
       "13 서대문구 317      강북\n",
       "14 마포구   121      강북\n",
       "15 양천구   133      강남\n",
       "16 강서구   91       강남\n",
       "17 구로구   257      강남\n",
       "18 금천구   118      강남\n",
       "19 영등포   520      강북\n",
       "20 동작구   43       강남\n",
       "21 관악구   638      강남\n",
       "22 서초구   327      강남\n",
       "23 강남구   596      강남\n",
       "24 송파구   294      강남\n",
       "25 강동구   72       강남"
      ]
     },
     "metadata": {},
     "output_type": "display_data"
    }
   ],
   "source": [
    "# 서울시 자치구별 CCTV 설치현황\n",
    "cctv <- read.csv(\"../Data/CCTV.csv\", fileEncoding = \"euc-kr\")\n",
    "cctv <- cctv[-1,c(1,8)]\n",
    "rownames(cctv) <- c()\n",
    "cctv$권역 <- as.factor(riverdivide(cctv$구분))\n",
    "str(cctv)\n",
    "cctv"
   ]
  },
  {
   "cell_type": "code",
   "execution_count": 14,
   "id": "bba6e1b3",
   "metadata": {},
   "outputs": [],
   "source": [
    "# 강남, 강북 CCTV 설치현황\n",
    "cctv$교통단속 <- as.numeric(cctv$교통단속)\n",
    "rownames(cctv) <- c()\n",
    "cctv.sum = aggregate(교통단속 ~ 권역, cctv, sum)"
   ]
  },
  {
   "cell_type": "code",
   "execution_count": 15,
   "id": "eb70fcf5",
   "metadata": {},
   "outputs": [
    {
     "data": {
      "text/html": [
       "<table>\n",
       "<thead><tr><th scope=col>기간</th><th scope=col>자치구</th><th scope=col>도로연장</th><th scope=col>도로면적</th><th scope=col>도로율</th><th scope=col>길이면적비</th><th scope=col>권역</th></tr></thead>\n",
       "<tbody>\n",
       "\t<tr><td>2021     </td><td>종로구   </td><td>276      </td><td>2.70     </td><td>21.44    </td><td>102.22222</td><td>강북     </td></tr>\n",
       "\t<tr><td>2021     </td><td>중구     </td><td>114      </td><td>1.88     </td><td>18.82    </td><td> 60.63830</td><td>강북     </td></tr>\n",
       "\t<tr><td>2021     </td><td>용산구   </td><td>281      </td><td>3.15     </td><td>22.19    </td><td> 89.20635</td><td>강북     </td></tr>\n",
       "\t<tr><td>2021     </td><td>성동구   </td><td>408      </td><td>3.02     </td><td>23.09    </td><td>135.09934</td><td>강북     </td></tr>\n",
       "\t<tr><td>2021     </td><td>광진구   </td><td>325      </td><td>3.44     </td><td>28.83    </td><td> 94.47674</td><td>강북     </td></tr>\n",
       "\t<tr><td>2021     </td><td>동대문구 </td><td>328      </td><td>3.15     </td><td>22.16    </td><td>104.12698</td><td>강북     </td></tr>\n",
       "\t<tr><td>2021     </td><td>중랑구   </td><td>331      </td><td>2.86     </td><td>26.01    </td><td>115.73427</td><td>강북     </td></tr>\n",
       "\t<tr><td>2021     </td><td>성북구   </td><td>633      </td><td>4.23     </td><td>23.59    </td><td>149.64539</td><td>강북     </td></tr>\n",
       "\t<tr><td>2021     </td><td>강북구   </td><td>228      </td><td>1.98     </td><td>20.93    </td><td>115.15152</td><td>강북     </td></tr>\n",
       "\t<tr><td>2021     </td><td>도봉구   </td><td>258      </td><td>2.35     </td><td>19.02    </td><td>109.78723</td><td>강북     </td></tr>\n",
       "\t<tr><td>2021     </td><td>노원구   </td><td>293      </td><td>3.70     </td><td>23.71    </td><td> 79.18919</td><td>강북     </td></tr>\n",
       "\t<tr><td>2021     </td><td>은평구   </td><td>359      </td><td>3.52     </td><td>22.08    </td><td>101.98864</td><td>강북     </td></tr>\n",
       "\t<tr><td>2021     </td><td>서대문구 </td><td>311      </td><td>2.74     </td><td>17.25    </td><td>113.50365</td><td>강북     </td></tr>\n",
       "\t<tr><td>2021     </td><td>마포구   </td><td>422      </td><td>4.11     </td><td>28.61    </td><td>102.67640</td><td>강북     </td></tr>\n",
       "\t<tr><td>2021     </td><td>양천구   </td><td>412      </td><td>3.70     </td><td>27.88    </td><td>111.35135</td><td>강남     </td></tr>\n",
       "\t<tr><td>2021     </td><td>강서구   </td><td>409      </td><td>4.97     </td><td>26.99    </td><td> 82.29376</td><td>강남     </td></tr>\n",
       "\t<tr><td>2021     </td><td>구로구   </td><td>297      </td><td>3.23     </td><td>22.06    </td><td> 91.95046</td><td>강남     </td></tr>\n",
       "\t<tr><td>2021     </td><td>금천구   </td><td>191      </td><td>2.26     </td><td>21.38    </td><td> 84.51327</td><td>강남     </td></tr>\n",
       "\t<tr><td>2021     </td><td>영등포구 </td><td>397      </td><td>4.57     </td><td>24.23    </td><td> 86.87090</td><td>강남     </td></tr>\n",
       "\t<tr><td>2021     </td><td>동작구   </td><td>250      </td><td>2.75     </td><td>17.29    </td><td> 90.90909</td><td>강남     </td></tr>\n",
       "\t<tr><td>2021     </td><td>관악구   </td><td>322      </td><td>3.03     </td><td>25.41    </td><td>106.27063</td><td>강남     </td></tr>\n",
       "\t<tr><td>2021     </td><td>서초구   </td><td>391      </td><td>5.56     </td><td>26.35    </td><td> 70.32374</td><td>강남     </td></tr>\n",
       "\t<tr><td>2021     </td><td>강남구   </td><td>442      </td><td>5.80     </td><td>24.06    </td><td> 76.20690</td><td>강남     </td></tr>\n",
       "\t<tr><td>2021     </td><td>송파구   </td><td>366      </td><td>4.78     </td><td>20.68    </td><td> 76.56904</td><td>강남     </td></tr>\n",
       "\t<tr><td>2021     </td><td>강동구   </td><td>286      </td><td>3.38     </td><td>24.32    </td><td> 84.61538</td><td>강남     </td></tr>\n",
       "</tbody>\n",
       "</table>\n"
      ],
      "text/latex": [
       "\\begin{tabular}{r|lllllll}\n",
       " 기간 & 자치구 & 도로연장 & 도로면적 & 도로율 & 길이면적비 & 권역\\\\\n",
       "\\hline\n",
       "\t 2021      & 종로구    & 276       & 2.70      & 21.44     & 102.22222 & 강북     \\\\\n",
       "\t 2021      & 중구      & 114       & 1.88      & 18.82     &  60.63830 & 강북     \\\\\n",
       "\t 2021      & 용산구    & 281       & 3.15      & 22.19     &  89.20635 & 강북     \\\\\n",
       "\t 2021      & 성동구    & 408       & 3.02      & 23.09     & 135.09934 & 강북     \\\\\n",
       "\t 2021      & 광진구    & 325       & 3.44      & 28.83     &  94.47674 & 강북     \\\\\n",
       "\t 2021      & 동대문구  & 328       & 3.15      & 22.16     & 104.12698 & 강북     \\\\\n",
       "\t 2021      & 중랑구    & 331       & 2.86      & 26.01     & 115.73427 & 강북     \\\\\n",
       "\t 2021      & 성북구    & 633       & 4.23      & 23.59     & 149.64539 & 강북     \\\\\n",
       "\t 2021      & 강북구    & 228       & 1.98      & 20.93     & 115.15152 & 강북     \\\\\n",
       "\t 2021      & 도봉구    & 258       & 2.35      & 19.02     & 109.78723 & 강북     \\\\\n",
       "\t 2021      & 노원구    & 293       & 3.70      & 23.71     &  79.18919 & 강북     \\\\\n",
       "\t 2021      & 은평구    & 359       & 3.52      & 22.08     & 101.98864 & 강북     \\\\\n",
       "\t 2021      & 서대문구  & 311       & 2.74      & 17.25     & 113.50365 & 강북     \\\\\n",
       "\t 2021      & 마포구    & 422       & 4.11      & 28.61     & 102.67640 & 강북     \\\\\n",
       "\t 2021      & 양천구    & 412       & 3.70      & 27.88     & 111.35135 & 강남     \\\\\n",
       "\t 2021      & 강서구    & 409       & 4.97      & 26.99     &  82.29376 & 강남     \\\\\n",
       "\t 2021      & 구로구    & 297       & 3.23      & 22.06     &  91.95046 & 강남     \\\\\n",
       "\t 2021      & 금천구    & 191       & 2.26      & 21.38     &  84.51327 & 강남     \\\\\n",
       "\t 2021      & 영등포구  & 397       & 4.57      & 24.23     &  86.87090 & 강남     \\\\\n",
       "\t 2021      & 동작구    & 250       & 2.75      & 17.29     &  90.90909 & 강남     \\\\\n",
       "\t 2021      & 관악구    & 322       & 3.03      & 25.41     & 106.27063 & 강남     \\\\\n",
       "\t 2021      & 서초구    & 391       & 5.56      & 26.35     &  70.32374 & 강남     \\\\\n",
       "\t 2021      & 강남구    & 442       & 5.80      & 24.06     &  76.20690 & 강남     \\\\\n",
       "\t 2021      & 송파구    & 366       & 4.78      & 20.68     &  76.56904 & 강남     \\\\\n",
       "\t 2021      & 강동구    & 286       & 3.38      & 24.32     &  84.61538 & 강남     \\\\\n",
       "\\end{tabular}\n"
      ],
      "text/markdown": [
       "\n",
       "| 기간 | 자치구 | 도로연장 | 도로면적 | 도로율 | 길이면적비 | 권역 |\n",
       "|---|---|---|---|---|---|---|\n",
       "| 2021      | 종로구    | 276       | 2.70      | 21.44     | 102.22222 | 강북      |\n",
       "| 2021      | 중구      | 114       | 1.88      | 18.82     |  60.63830 | 강북      |\n",
       "| 2021      | 용산구    | 281       | 3.15      | 22.19     |  89.20635 | 강북      |\n",
       "| 2021      | 성동구    | 408       | 3.02      | 23.09     | 135.09934 | 강북      |\n",
       "| 2021      | 광진구    | 325       | 3.44      | 28.83     |  94.47674 | 강북      |\n",
       "| 2021      | 동대문구  | 328       | 3.15      | 22.16     | 104.12698 | 강북      |\n",
       "| 2021      | 중랑구    | 331       | 2.86      | 26.01     | 115.73427 | 강북      |\n",
       "| 2021      | 성북구    | 633       | 4.23      | 23.59     | 149.64539 | 강북      |\n",
       "| 2021      | 강북구    | 228       | 1.98      | 20.93     | 115.15152 | 강북      |\n",
       "| 2021      | 도봉구    | 258       | 2.35      | 19.02     | 109.78723 | 강북      |\n",
       "| 2021      | 노원구    | 293       | 3.70      | 23.71     |  79.18919 | 강북      |\n",
       "| 2021      | 은평구    | 359       | 3.52      | 22.08     | 101.98864 | 강북      |\n",
       "| 2021      | 서대문구  | 311       | 2.74      | 17.25     | 113.50365 | 강북      |\n",
       "| 2021      | 마포구    | 422       | 4.11      | 28.61     | 102.67640 | 강북      |\n",
       "| 2021      | 양천구    | 412       | 3.70      | 27.88     | 111.35135 | 강남      |\n",
       "| 2021      | 강서구    | 409       | 4.97      | 26.99     |  82.29376 | 강남      |\n",
       "| 2021      | 구로구    | 297       | 3.23      | 22.06     |  91.95046 | 강남      |\n",
       "| 2021      | 금천구    | 191       | 2.26      | 21.38     |  84.51327 | 강남      |\n",
       "| 2021      | 영등포구  | 397       | 4.57      | 24.23     |  86.87090 | 강남      |\n",
       "| 2021      | 동작구    | 250       | 2.75      | 17.29     |  90.90909 | 강남      |\n",
       "| 2021      | 관악구    | 322       | 3.03      | 25.41     | 106.27063 | 강남      |\n",
       "| 2021      | 서초구    | 391       | 5.56      | 26.35     |  70.32374 | 강남      |\n",
       "| 2021      | 강남구    | 442       | 5.80      | 24.06     |  76.20690 | 강남      |\n",
       "| 2021      | 송파구    | 366       | 4.78      | 20.68     |  76.56904 | 강남      |\n",
       "| 2021      | 강동구    | 286       | 3.38      | 24.32     |  84.61538 | 강남      |\n",
       "\n"
      ],
      "text/plain": [
       "   기간 자치구   도로연장 도로면적 도로율 길이면적비 권역\n",
       "1  2021 종로구   276      2.70     21.44  102.22222  강북\n",
       "2  2021 중구     114      1.88     18.82   60.63830  강북\n",
       "3  2021 용산구   281      3.15     22.19   89.20635  강북\n",
       "4  2021 성동구   408      3.02     23.09  135.09934  강북\n",
       "5  2021 광진구   325      3.44     28.83   94.47674  강북\n",
       "6  2021 동대문구 328      3.15     22.16  104.12698  강북\n",
       "7  2021 중랑구   331      2.86     26.01  115.73427  강북\n",
       "8  2021 성북구   633      4.23     23.59  149.64539  강북\n",
       "9  2021 강북구   228      1.98     20.93  115.15152  강북\n",
       "10 2021 도봉구   258      2.35     19.02  109.78723  강북\n",
       "11 2021 노원구   293      3.70     23.71   79.18919  강북\n",
       "12 2021 은평구   359      3.52     22.08  101.98864  강북\n",
       "13 2021 서대문구 311      2.74     17.25  113.50365  강북\n",
       "14 2021 마포구   422      4.11     28.61  102.67640  강북\n",
       "15 2021 양천구   412      3.70     27.88  111.35135  강남\n",
       "16 2021 강서구   409      4.97     26.99   82.29376  강남\n",
       "17 2021 구로구   297      3.23     22.06   91.95046  강남\n",
       "18 2021 금천구   191      2.26     21.38   84.51327  강남\n",
       "19 2021 영등포구 397      4.57     24.23   86.87090  강남\n",
       "20 2021 동작구   250      2.75     17.29   90.90909  강남\n",
       "21 2021 관악구   322      3.03     25.41  106.27063  강남\n",
       "22 2021 서초구   391      5.56     26.35   70.32374  강남\n",
       "23 2021 강남구   442      5.80     24.06   76.20690  강남\n",
       "24 2021 송파구   366      4.78     20.68   76.56904  강남\n",
       "25 2021 강동구   286      3.38     24.32   84.61538  강남"
      ]
     },
     "metadata": {},
     "output_type": "display_data"
    }
   ],
   "source": [
    "# 서울 자치구별 도로현황\n",
    "road <- read.csv(\"../Data/도로면적.txt\", sep=\"\\t\")\n",
    "road$길이면적비 <- road$도로연장 / road$도로면적\n",
    "road$권역 <- riverdivide(road$자치구)\n",
    "road"
   ]
  },
  {
   "cell_type": "code",
   "execution_count": 16,
   "id": "49640fe5",
   "metadata": {},
   "outputs": [
    {
     "data": {
      "text/html": [
       "<table>\n",
       "<thead><tr><th scope=col>권역</th><th scope=col>도로면적</th></tr></thead>\n",
       "<tbody>\n",
       "\t<tr><td>강남    </td><td>4.002727</td></tr>\n",
       "\t<tr><td>강북    </td><td>3.059286</td></tr>\n",
       "</tbody>\n",
       "</table>\n"
      ],
      "text/latex": [
       "\\begin{tabular}{r|ll}\n",
       " 권역 & 도로면적\\\\\n",
       "\\hline\n",
       "\t 강남     & 4.002727\\\\\n",
       "\t 강북     & 3.059286\\\\\n",
       "\\end{tabular}\n"
      ],
      "text/markdown": [
       "\n",
       "| 권역 | 도로면적 |\n",
       "|---|---|\n",
       "| 강남     | 4.002727 |\n",
       "| 강북     | 3.059286 |\n",
       "\n"
      ],
      "text/plain": [
       "  권역 도로면적\n",
       "1 강남 4.002727\n",
       "2 강북 3.059286"
      ]
     },
     "metadata": {},
     "output_type": "display_data"
    },
    {
     "data": {
      "text/html": [
       "<table>\n",
       "<thead><tr><th scope=col>권역</th><th scope=col>도로율</th></tr></thead>\n",
       "<tbody>\n",
       "\t<tr><td>강남    </td><td>23.69545</td></tr>\n",
       "\t<tr><td>강북    </td><td>22.69500</td></tr>\n",
       "</tbody>\n",
       "</table>\n"
      ],
      "text/latex": [
       "\\begin{tabular}{r|ll}\n",
       " 권역 & 도로율\\\\\n",
       "\\hline\n",
       "\t 강남     & 23.69545\\\\\n",
       "\t 강북     & 22.69500\\\\\n",
       "\\end{tabular}\n"
      ],
      "text/markdown": [
       "\n",
       "| 권역 | 도로율 |\n",
       "|---|---|\n",
       "| 강남     | 23.69545 |\n",
       "| 강북     | 22.69500 |\n",
       "\n"
      ],
      "text/plain": [
       "  권역 도로율  \n",
       "1 강남 23.69545\n",
       "2 강북 22.69500"
      ]
     },
     "metadata": {},
     "output_type": "display_data"
    },
    {
     "data": {
      "text/html": [
       "<table>\n",
       "<thead><tr><th scope=col>권역</th><th scope=col>도로연장</th></tr></thead>\n",
       "<tbody>\n",
       "\t<tr><td>강남    </td><td>342.0909</td></tr>\n",
       "\t<tr><td>강북    </td><td>326.2143</td></tr>\n",
       "</tbody>\n",
       "</table>\n"
      ],
      "text/latex": [
       "\\begin{tabular}{r|ll}\n",
       " 권역 & 도로연장\\\\\n",
       "\\hline\n",
       "\t 강남     & 342.0909\\\\\n",
       "\t 강북     & 326.2143\\\\\n",
       "\\end{tabular}\n"
      ],
      "text/markdown": [
       "\n",
       "| 권역 | 도로연장 |\n",
       "|---|---|\n",
       "| 강남     | 342.0909 |\n",
       "| 강북     | 326.2143 |\n",
       "\n"
      ],
      "text/plain": [
       "  권역 도로연장\n",
       "1 강남 342.0909\n",
       "2 강북 326.2143"
      ]
     },
     "metadata": {},
     "output_type": "display_data"
    },
    {
     "data": {
      "text/html": [
       "<table>\n",
       "<thead><tr><th scope=col>권역</th><th scope=col>길이면적비</th></tr></thead>\n",
       "<tbody>\n",
       "\t<tr><td>강남     </td><td> 87.44314</td></tr>\n",
       "\t<tr><td>강북     </td><td>105.24616</td></tr>\n",
       "</tbody>\n",
       "</table>\n"
      ],
      "text/latex": [
       "\\begin{tabular}{r|ll}\n",
       " 권역 & 길이면적비\\\\\n",
       "\\hline\n",
       "\t 강남      &  87.44314\\\\\n",
       "\t 강북      & 105.24616\\\\\n",
       "\\end{tabular}\n"
      ],
      "text/markdown": [
       "\n",
       "| 권역 | 길이면적비 |\n",
       "|---|---|\n",
       "| 강남      |  87.44314 |\n",
       "| 강북      | 105.24616 |\n",
       "\n"
      ],
      "text/plain": [
       "  권역 길이면적비\n",
       "1 강남  87.44314 \n",
       "2 강북 105.24616 "
      ]
     },
     "metadata": {},
     "output_type": "display_data"
    }
   ],
   "source": [
    "# 강남, 강북 평균 도로면적, 평균 도로연장, 평균 도로율, 평균 길이면적비\n",
    "road_도로면적 <- aggregate(도로면적 ~ 권역, road, mean); road_도로면적\n",
    "road_도로율 <- aggregate(도로율 ~ 권역, road, mean); road_도로율\n",
    "road_도로연장 <- aggregate(도로연장 ~ 권역, road, mean); road_도로연장\n",
    "road_길이면적비 <- aggregate(길이면적비 ~ 권역, road, mean); road_길이면적비"
   ]
  },
  {
   "cell_type": "code",
   "execution_count": 17,
   "id": "ac5961e1",
   "metadata": {},
   "outputs": [],
   "source": [
    "acc <- read.table(\"../Data/사고현황.txt\", header = T)[-c(1:3), 1:4]\n",
    "rownames(acc) <- c()\n",
    "acc$기간 <- as.factor(acc$기간)\n",
    "acc$권역 <- riverdivide(acc$자치구)"
   ]
  },
  {
   "cell_type": "code",
   "execution_count": 18,
   "id": "7cd4babc",
   "metadata": {},
   "outputs": [
    {
     "data": {
      "text/html": [
       "<table>\n",
       "<thead><tr><th scope=col>권역</th><th scope=col>합계</th></tr></thead>\n",
       "<tbody>\n",
       "\t<tr><td>강남</td><td>310 </td></tr>\n",
       "\t<tr><td>강북</td><td>499 </td></tr>\n",
       "</tbody>\n",
       "</table>\n"
      ],
      "text/latex": [
       "\\begin{tabular}{r|ll}\n",
       " 권역 & 합계\\\\\n",
       "\\hline\n",
       "\t 강남 & 310 \\\\\n",
       "\t 강북 & 499 \\\\\n",
       "\\end{tabular}\n"
      ],
      "text/markdown": [
       "\n",
       "| 권역 | 합계 |\n",
       "|---|---|\n",
       "| 강남 | 310  |\n",
       "| 강북 | 499  |\n",
       "\n"
      ],
      "text/plain": [
       "  권역 합계\n",
       "1 강남 310 \n",
       "2 강북 499 "
      ]
     },
     "metadata": {},
     "output_type": "display_data"
    }
   ],
   "source": [
    "acc$구분 <- as.character(acc$구분)\n",
    "accSub <- subset(acc, 구분=='발생건수')\n",
    "rownames(accSub) <- c()\n",
    "accSub$합계 <- as.numeric(accSub$합계)\n",
    "accSum <- aggregate(합계 ~ 권역, accSub, sum)\n",
    "accSum"
   ]
  },
  {
   "cell_type": "code",
   "execution_count": 25,
   "id": "21bc49c4",
   "metadata": {},
   "outputs": [
    {
     "data": {
      "text/html": [
       "0.819339657333105"
      ],
      "text/latex": [
       "0.819339657333105"
      ],
      "text/markdown": [
       "0.819339657333105"
      ],
      "text/plain": [
       "[1] 0.8193397"
      ]
     },
     "metadata": {},
     "output_type": "display_data"
    },
    {
     "data": {
      "image/png": "[encoded data removed]",
      "text/plain": [
       "plot without title"
      ]
     },
     "metadata": {},
     "output_type": "display_data"
    },
    {
     "data": {
      "image/png": "[encoded data removed]",
      "text/plain": [
       "plot without title"
      ]
     },
     "metadata": {},
     "output_type": "display_data"
    }
   ],
   "source": [
    "# 도로정보는 2021년 이나 2019년과 크게 차이나지 않는다는 가정으로 시작, 길이면적비 도로길이/도로면적 \n",
    "options(warn = -1)\n",
    "par(family = \"AppleGothic\")\n",
    "seoul2019 <- aggregate(발생건수 ~ 자치구명, subset(seoul, 년도==2019), sum)\n",
    "acc2019 <- merge(x=seoul2019, y=road, by.x='자치구명', by.y='자치구')\n",
    "acc2019 <- acc2019[, -3]\n",
    "cor(acc2019$발생건수, acc2019$도로면적)\n",
    "plot(acc2019$발생건수, acc2019$도로면적)\n",
    "plot(acc2019$발생건수, acc2019$도로연장)"
   ]
  },
  {
   "cell_type": "code",
   "execution_count": null,
   "id": "68a54f88",
   "metadata": {},
   "outputs": [],
   "source": []
  },
  {
   "cell_type": "code",
   "execution_count": null,
   "id": "305398c9",
   "metadata": {},
   "outputs": [],
   "source": []
  }
 ],
 "metadata": {
  "kernelspec": {
   "display_name": "R",
   "language": "R",
   "name": "ir"
  },
  "language_info": {
   "codemirror_mode": "r",
   "file_extension": ".r",
   "mimetype": "text/x-r-source",
   "name": "R",
   "pygments_lexer": "r",
   "version": "3.6.1"
  }
 },
 "nbformat": 4,
 "nbformat_minor": 5
}
