{
 "cells": [
  {
   "cell_type": "code",
   "execution_count": 1,
   "id": "fd23383a",
   "metadata": {},
   "outputs": [
    {
     "name": "stderr",
     "output_type": "stream",
     "text": [
      "Loading required package: lattice\n",
      "Loading required package: ggplot2\n",
      "Registered S3 methods overwritten by 'ggplot2':\n",
      "  method         from \n",
      "  [.quosures     rlang\n",
      "  c.quosures     rlang\n",
      "  print.quosures rlang\n"
     ]
    }
   ],
   "source": [
    "# Sampling\n",
    "library(caret)\n",
    "set.seed(1234)\n",
    "iris2 <- scale(iris[, -5])\n",
    "iris2 <- as.data.frame(iris2)\n",
    "iris2$Species <- iris$Species\n",
    "\n",
    "samp <- createDataPartition(iris2$Species, p=0.7, list=F)\n",
    "\n",
    "# 학습용\n",
    "data.tr <- iris2[samp,]\n",
    "\n",
    "# 검증용\n",
    "data.test <- iris2[-samp,]\n",
    "\n",
    "# 문제 및 정답\n",
    "x <- subset(data.test, select = -Species)\n",
    "y <- data.test$Species"
   ]
  },
  {
   "cell_type": "code",
   "execution_count": 4,
   "id": "33263fc4",
   "metadata": {},
   "outputs": [],
   "source": [
    "compareIrisML <- function(Species, data.tr, x, y) {\n",
    "    # Library\n",
    "    library(nnet)\n",
    "    library(party)\n",
    "    library(randomForest)\n",
    "    library(e1071)\n",
    "    \n",
    "    a <- c()\n",
    "    \n",
    "    # 인공신경망\n",
    "    model.nnet <- nnet(Species ~ ., data=data.tr, size = 3) \n",
    "    pred <- predict(model.nnet, x, type = 'class')\n",
    "    model.nnet.result <- round(mean(pred == y), 7)\n",
    "    \n",
    "    # 의사결정나무\n",
    "    model.ctree <- ctree(Species ~., data=data.tr)\n",
    "    pred <- predict(model.ctree, x)\n",
    "    model.ctree.result <- round(mean(pred == y), 7)\n",
    "    \n",
    "    # RandomForest\n",
    "    for(i in 1:5){\n",
    "        model.rf <- randomForest(Species ~., data = data.tr, ntree=100)\n",
    "        pred <- predict(model.rf, x)\n",
    "        a <- append(a, round(mean(pred == y), 7))\n",
    "    }\n",
    "    model.rf.result = mean(a)\n",
    "    \n",
    "    # SVM\n",
    "    model.svm <- svm(Species ~., data=data.tr)\n",
    "    pred <- predict(model.svm, x)\n",
    "    model.svm.result <- round(mean(pred == y), 7)\n",
    "   \n",
    "    # 로지스틱회귀분석\n",
    "    model.lrg <- multinom(Species ~ ., data=data.tr)\n",
    "    pred <- predict(model.lrg, x)\n",
    "    model.lrg.result <- round(mean(pred == y), 7)\n",
    "    \n",
    "    \n",
    "    cat(paste(\"예측력\", \"\\n\", \n",
    "              \"인공신경망 \", model.nnet.result, \"\\n\", \n",
    "              \"의사결정나무 \", model.ctree.result, \"\\n\",\n",
    "              \"RandomForest \", model.rf.result, \"\\n\", \n",
    "              \"SVM \",model.svm.result, \"\\n\",\n",
    "              \"로지스틱회귀분석 \", model.lrg.result, sep=\"\"))    \n",
    "}"
   ]
  },
  {
   "cell_type": "code",
   "execution_count": 5,
   "id": "fb08bb37",
   "metadata": {},
   "outputs": [
    {
     "name": "stdout",
     "output_type": "stream",
     "text": [
      "# weights:  27\n",
      "initial  value 124.913043 \n",
      "iter  10 value 6.777899\n",
      "iter  20 value 0.018147\n",
      "final  value 0.000081 \n",
      "converged\n",
      "# weights:  18 (10 variable)\n",
      "initial  value 115.354290 \n",
      "iter  10 value 7.556637\n",
      "iter  20 value 0.042347\n",
      "iter  30 value 0.009210\n",
      "iter  40 value 0.006761\n",
      "iter  50 value 0.003904\n",
      "iter  60 value 0.003512\n",
      "iter  70 value 0.003095\n",
      "iter  80 value 0.002826\n",
      "iter  90 value 0.002781\n",
      "iter 100 value 0.002705\n",
      "final  value 0.002705 \n",
      "stopped after 100 iterations\n",
      "예측력\n",
      "인공신경망 0.9333333\n",
      "의사결정나무 0.8888889\n",
      "RandomForest 0.92444442\n",
      "SVM 0.9333333\n",
      "로지스틱회귀분석 0.9333333"
     ]
    }
   ],
   "source": [
    "compareIrisML(iris2$Species, data.tr, x, y)"
   ]
  },
  {
   "cell_type": "code",
   "execution_count": null,
   "id": "5f7f2a51",
   "metadata": {},
   "outputs": [],
   "source": []
  },
  {
   "cell_type": "code",
   "execution_count": null,
   "id": "5a410071",
   "metadata": {},
   "outputs": [],
   "source": []
  },
  {
   "cell_type": "code",
   "execution_count": null,
   "id": "8a9f1e0a",
   "metadata": {},
   "outputs": [],
   "source": []
  },
  {
   "cell_type": "code",
   "execution_count": null,
   "id": "1545bea9",
   "metadata": {},
   "outputs": [],
   "source": []
  },
  {
   "cell_type": "code",
   "execution_count": null,
   "id": "7bfae6e0",
   "metadata": {},
   "outputs": [],
   "source": []
  }
 ],
 "metadata": {
  "kernelspec": {
   "display_name": "R",
   "language": "R",
   "name": "ir"
  },
  "language_info": {
   "codemirror_mode": "r",
   "file_extension": ".r",
   "mimetype": "text/x-r-source",
   "name": "R",
   "pygments_lexer": "r",
   "version": "3.6.1"
  }
 },
 "nbformat": 4,
 "nbformat_minor": 5
}
